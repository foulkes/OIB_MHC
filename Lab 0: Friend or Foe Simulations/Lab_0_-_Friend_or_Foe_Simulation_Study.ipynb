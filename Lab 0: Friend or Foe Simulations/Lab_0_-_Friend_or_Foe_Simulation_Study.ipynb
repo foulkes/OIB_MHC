{
 "cells": [
  {
   "attachments": {
    "step-forward.png": {
     "image/png": "[encoded data removed]"
    }
   },
   "cell_type": "markdown",
   "metadata": {},
   "source": [
    "## Repeating the experiment once\n",
    "\n",
    "The following command simulates the random process of 16 infants making this toy choice, still assuming the null model that infants have no real preference and so are equally likely to choose either toy.  To run this command, click in the grey box with the code, and click the \"Run cell\" button in the tool bar above: ![step-forward.png](attachment:step-forward.png)\n",
    "(It looks like an arrow pointing to the right and a vertical line)."
   ]
  },
  {
   "cell_type": "code",
   "execution_count": null,
   "metadata": {},
   "outputs": [],
   "source": [
    "experiment_results <- rbinom(n = 1, size = 16, prob = 0.5)\n",
    "experiment_results"
   ]
  },
  {
   "cell_type": "markdown",
   "metadata": {},
   "source": [
    "If you run the command multiple times, you'll get different results from different random simulations.  Give it a try!  (Each time you run it, you'll have to re-select that cell before clicking the \"Run cell\" button.)\n",
    "\n",
    "For today, it's not important that you understand how this code works (we'll get there later!).  But in case you're curious, here's a break-down:\n",
    "\n",
    " * The `rbinom` *function* simulates flipping a coin 16 times and counts the number of heads that came up.  The name of this function describes the fact that it **r**andomly generates values from a **binom**ial distribution.  The binomial distribution is just the name statisticians have given to describe how often different numbers of heads come up when you flip a coin a certain number of times.  We'll talk about this distribution more later in the class.\n",
    " \n",
    " * The `rbinom` function has three *arguments*, describing how the coin flipping should be done:\n",
    "   1. `n` tells `R` how many times to repeat the experiment (how many times we ask 16 babies to choose a toy -- just once for now)\n",
    "   2. `size` tells `R` how many babies are included in each run of the experiment -- 16\n",
    "   3. `prob` tells `R` how likely each baby is to choose the friendly toy -- we set this to 0.5 because we're working under the null model where babies are equally likely to choose either toy.\n",
    "\n",
    " * We store the results of this simulation in a *variable* called `experiment_results`.  The `<-` (a less than symbol followed by a minus sign) is called the *assignment operator*.  It tells `R`, \"take the result of the computation on the right and store it in the variable on the left\".\n",
    "\n",
    " * All of that happened in just the first line of code!  In the second line we look at the results of the experiment by seeing what was stored in the `experiment_results` variable.\n",
    "\n",
    "## Repeating the experiment 1000 times\n",
    "\n",
    "The whole point of using `R` was to make it easy to repeat the simulation many times.  In the next code cell, I have modified the code you ran above to perform 1000 simulations of the experiment, all under the null model that infants have no preference for either toy.  Go ahead and run the code in the next cell:"
   ]
  },
  {
   "cell_type": "code",
   "execution_count": null,
   "metadata": {},
   "outputs": [],
   "source": [
    "experiment_results <- rbinom(n = 1000, size = 16, prob = 0.5)\n",
    "experiment_results"
   ]
  },
  {
   "cell_type": "markdown",
   "metadata": {},
   "source": [
    "It's not too helpful to just look at the list of simulated numbers.  You can use the commands below to calculate the number of hypothetical experiments resulting in a certain number of babies choosing the friendly toy, and make a histogram of the simulated experimental results:"
   ]
  },
  {
   "cell_type": "code",
   "execution_count": null,
   "metadata": {},
   "outputs": [],
   "source": [
    "table(experiment_results)\n",
    "\n",
    "library(ggplot2)\n",
    "ggplot() +\n",
    "  geom_histogram(aes(x = experiment_results), binwidth = 1)"
   ]
  },
  {
   "cell_type": "markdown",
   "metadata": {},
   "source": [
    "We'll talk about making plots in R in much more detail starting in a couple of days, so don't worry too much about the details of this command.  In case you're curious, here's a brief description (but you can also feel free to skip over this description for now):\n",
    "\n",
    " * We're using the `ggplot2` package to make plots.  (The `gg` stands for `g`rammar of `g`raphics; this is a way of thinking about building up plots in a structured way... but we'll get to that more next class).  The first thing we have to do is load the `ggplot2` package into R so that all of the plotting capabilities it provides are available to use.  We do that with the `library(ggplot2)` line.\n",
    " \n",
    " * You begin a new plot with the `ggplot()` function.\n",
    " \n",
    " * You then *add* layers to the plot with different types of `geom`etry.  In this plot, there is only one layer, and its `geom`etry type is a `histogram`.\n",
    " \n",
    " * `aes(x = experiment_results)` specifies that we're going to use the `experiment_results` variable for the `x` (horizontal) axis of the plot.  `aes` stands for `aes`thethics: this function lets us specify how variables get used for different `aes`thetic attributes of the plot.  Again, we'll discuss this in much more detail next class!\n",
    " \n",
    " * `binwidth = 1` specifies that the horizontal axis bins used to create the histogram have width 1.\n",
    "\n",
    "**OK, you're done with using R for now!  Keep this window open and go back to the lab print-out; you'll use these results to answer some more questions there.**"
   ]
  }
 ],
 "metadata": {
  "kernelspec": {
   "display_name": "R",
   "language": "R",
   "name": "ir"
  },
  "language_info": {
   "codemirror_mode": "r",
   "file_extension": ".r",
   "mimetype": "text/x-r-source",
   "name": "R",
   "pygments_lexer": "r",
   "version": "3.4.3"
  }
 },
 "nbformat": 4,
 "nbformat_minor": 2
}
