{
 "cells": [
  {
   "cell_type": "markdown",
   "metadata": {},
   "source": [
    "## <span style=\"color:darkblue\"> Problem Set 6: Hypothesis Testing\n",
    "\n",
    "Stat140-02: Introduction to the Ideas and Applications of Statistics \n",
    "\n",
    "Due: Friday, April 6 @11am"
   ]
  },
  {
   "cell_type": "markdown",
   "metadata": {},
   "source": [
    "**Problem set policies:** Please provide concise, clear answers for each question. Note that only writing the result of a calculation (e.g., \"SD = 3.3\") without explanation is not sufficient. For problems involving `R`, include the code in your solution, along with any plots.\n",
    "\t\t\n",
    "Each problem set is due by 11:00am on the due date; please submit your problem set via gyrd\n",
    "\t\t\n",
    "*You are encouraged to discuss problems with other students (and, of course, with the course head and the TAs), but you must write your final answer in your own words. Solutions prepared \"in committee\" are not acceptable. If you do collaborate with classmates on a problem, please list your collaborators on your solution.*\n"
   ]
  },
  {
   "cell_type": "markdown",
   "metadata": {},
   "source": [
    "#### Problem 1.\n",
    "\n",
    "The typical weight of a baby at birth for the US population is 3,250 grams. Suppose an investigator takes a random sample of 50 birth weights from several teaching hospitals located in an inner-city neighborhood. The birth weights are stored in `birth_weights.Rdata` and can be loaded into R using the `load()` function. \n",
    "\n",
    "The investigator suspects that the birth weights of babies in these teaching hospitals is larger than 3,250 grams, because of obesity prevalence in mothers giving birth at these hospitals. Overweight and obese women have higher risk of preterm birth. The results of this analysis will inform whether an educational program for pregnant women that promotes exercise and healthy eating should be started at the neighborhood community center.\n",
    "\n",
    "Carry out a formal hypothesis test to test the null hypothesis that mean birth weight for babies in these teaching hospitals is equal to 3,250 grams. Justify your choice of alternative hypothesis, in addition to your choice of $\\alpha$. \n"
   ]
  },
  {
   "cell_type": "code",
   "execution_count": null,
   "metadata": {},
   "outputs": [],
   "source": [
    "load(\"birth_weights.Rdata\")"
   ]
  },
  {
   "cell_type": "markdown",
   "metadata": {},
   "source": [
    "#### Solution:\n",
    "\n",
    "1. $H_0$: $\\mu = 3,250$ grams. $H_A$: $\\mu > 3,250$ grams. Given the problem context, is reasonable to expect that if the average weight of babies born in these hospitals is different from 3,250 g, it will be higher. A one-sided alternative is also appropriate since the test conclusions of \"not different than $\\mu$\" and \"less than $\\mu$\" result in the same decision - the educational program should not be started in both cases. \n",
    "\n",
    "2. Let $\\alpha = 0.10$. Choosing a higher $\\alpha$ reduces the chances of failing to reject the null hypothesis when the null is false (Type II error); starting the educational program when it is not needed is less harmful than not starting the program when it is needed. An argument for choosing a small significance level like $\\alpha = 0.01$ could also be reasonable; resources are limited, and perhaps a city can only afford to start educational programs in neighborhoods where the observed difference in birthweights from $\\mu$ is very extreme.\n",
    "\n",
    "3. The $t$-statistic is 1.87.\n",
    "\n",
    "4. The one-sided $p$-value is 0.03."
   ]
  },
  {
   "cell_type": "code",
   "execution_count": 1,
   "metadata": {},
   "outputs": [
    {
     "data": {
      "text/plain": [
       "\n",
       "\tOne Sample t-test\n",
       "\n",
       "data:  birth.weights\n",
       "t = 1.874, df = 49, p-value = 0.03345\n",
       "alternative hypothesis: true mean is greater than 3250\n",
       "95 percent confidence interval:\n",
       " 3257.44     Inf\n",
       "sample estimates:\n",
       "mean of x \n",
       " 3320.622 \n"
      ]
     },
     "metadata": {},
     "output_type": "display_data"
    }
   ],
   "source": [
    "#load the data\n",
    "load(\"birth_weights.Rdata\")\n",
    "\n",
    "#conduct the test\n",
    "t.test(birth.weights, mu = 3250, alternative = \"greater\")\n"
   ]
  },
  {
   "cell_type": "markdown",
   "metadata": {},
   "source": [
    "<span>5.</span>  Since $p < \\alpha$, there is statistically significant evidence to reject $H_0$ and accept $H_A$. The data suggest that the average birthweight for the babies in these hospitals is higher than the US mean of 3,250 grams, and that the observed difference between the means is unlikely to be due to random chance. An educational program for pregnant women that promotes exercise and healthy eating should be started at the neighborhood community center."
   ]
  },
  {
   "cell_type": "markdown",
   "metadata": {},
   "source": [
    "#### Problem 2:\n",
    "\n",
    "In each of the following scenarios, determine whether the data are paired or independent.\n",
    "\n",
    "a) Does salary differ by gender for full professors at American universities? Draw a random sample of 50 female full professors and 50 male full professors, and compare their salaries.\n",
    "\n",
    "b) Does Vitamin E increase artery thickness? Measure artery thickness for a group of patients before they start taking Vitamin E regularly for two years. Compare initial artery thickness to artery thickness at the end of the study.\n",
    "\n",
    "c) Is a Mediterranean diet effective for weight loss? Compare the weights of individuals before and after going on the diet regimen.\n",
    "\n",
    "d) Do Intel's stock and Southwest Airlines' stock have similar rates of return? Take a random sample of 60 days, and compare Intel's and Southwest's stock on those days.\n",
    "\n"
   ]
  },
  {
   "cell_type": "markdown",
   "metadata": {},
   "source": [
    "#### Solution:\n",
    "\n",
    "a) Independent. \n",
    "\t\n",
    "b) Paired. \n",
    "\t\n",
    "c) Paired.\n",
    "\t\n",
    "d) Paired. \n"
   ]
  },
  {
   "cell_type": "markdown",
   "metadata": {},
   "source": [
    "#### Problem 3.\n",
    "\n",
    "(FB $7^{th}$ ed. 8.41-8.44, Pulmonary Disease) A possible important environmental determinant of lung function in children is amount of cigarette smoking in the home. Suppose this question is studied by selecting two groups: Group 1 consists of 23 nonsmoking children 5-9 years of age with two parents who smoke, and have mean forced expiratory volume (FEV) of 2.1 L and a standard deviation of 0.7 L; group 2 consists of 20 nonsmoking children of comparable age, with two parents who do not smoke, and have mean FEV of 2.3 L and a standard deviation of 0.4 L.\n",
    "\n",
    "  a) Do the children of two parents who smoke have mean FEV different from the children of two parents who do not smoke? Conduct a hypothesis test. Use the min($n_1 - 1$, $n_2 - 1$) approximation for the degrees of freedom.\n",
    "  \n",
    "  b) Summarize your findings in language that someone who has not taken a statistics course would understand.\n"
   ]
  },
  {
   "cell_type": "markdown",
   "metadata": {},
   "source": [
    "#### Solution:\n",
    "\n",
    "a) Conduct a two-sample $t$-test for independent data. Let $\\mu_1$ equal the population mean FEV for children whose parents do not smoke, and $\\mu_2$ equal the population mean FEV for children whose parents do smoke.\n",
    "\t\n",
    "1. $H_0: \\mu_1 = \\mu_2$; $H_A: \\mu_1 \\neq \\mu_2$ \n",
    "\t\t\n",
    "2. $\\alpha = 0.05$\n",
    "\t\t\n",
    "3. Calculate the $t$-statistic:\n",
    "\t\t\n",
    "\t$$t = \\dfrac{(\\overline{X}_1 - \\overline{X}_2) - (\\mu_1 - \\mu_2)}{\\sqrt{(s_{1}^2 / n_1) + (s_{2}^2/n_2)}} = \\dfrac{2.3 - 2.1}{\\sqrt{(0.4^{2} / 20) + (0.7^{2} / 23)}} = 1.17 $$"
   ]
  },
  {
   "cell_type": "code",
   "execution_count": 3,
   "metadata": {},
   "outputs": [
    {
     "data": {
      "text/html": [
       "1.16832579497533"
      ],
      "text/latex": [
       "1.16832579497533"
      ],
      "text/markdown": [
       "1.16832579497533"
      ],
      "text/plain": [
       "[1] 1.168326"
      ]
     },
     "metadata": {},
     "output_type": "display_data"
    }
   ],
   "source": [
    "#use r as a calculator\n",
    "x.bar.1 = 2.3\n",
    "s.1 = 0.4\n",
    "n.1 = 20\n",
    "x.bar.2 = 2.1\n",
    "s.2 = 0.7\n",
    "n.2 = 23\n",
    "\n",
    "#hypothesis test\n",
    "t.num = x.bar.1 - x.bar.2\n",
    "t.den = sqrt((s.1^2 / n.1) + (s.2^2 / n.2))\n",
    "t.stat = t.num/t.den\n",
    "t.stat"
   ]
  },
  {
   "cell_type": "markdown",
   "metadata": {},
   "source": [
    "<span>4.</span> Calculate the $p$-value. Since $df$ can be approximated as $n-1$ for the smaller of the two groups, $df = 19$."
   ]
  },
  {
   "cell_type": "code",
   "execution_count": 2,
   "metadata": {},
   "outputs": [
    {
     "data": {
      "text/html": [
       "0.256468502993686"
      ],
      "text/latex": [
       "0.256468502993686"
      ],
      "text/markdown": [
       "0.256468502993686"
      ],
      "text/plain": [
       "[1] 0.2564685"
      ]
     },
     "metadata": {},
     "output_type": "display_data"
    }
   ],
   "source": [
    "2*pt(1.17, 19, lower.tail=FALSE)"
   ]
  },
  {
   "cell_type": "markdown",
   "metadata": {},
   "source": [
    "Since $p > \\alpha$, there is insufficient evidence to reject $H_0$ at the 0.05 significance level."
   ]
  },
  {
   "cell_type": "markdown",
   "metadata": {},
   "source": [
    "<span>5.</span> We fail to reject the null hypothesis that the population mean FEV for children whose parents do smoke is the same as the population mean FEV for children whose parents do smoke. The observed difference between mean FEV in the two groups may be due to random chance."
   ]
  },
  {
   "cell_type": "markdown",
   "metadata": {},
   "source": [
    "b) An analysis was done to investigate whether the mean forced expiratory volume (FEV) for children of two parents who smoke is different from mean FEV for children of two parents who do not smoke. When a random sample of 23 children whose parents do smoke were measured, their average FEV was 2.1 L; the mean FEV for a random sample of 20 children with nonsmoking parents was 2.3 L. There is about a 26\\% chance of observing a difference of 0.2 L between the two groups if there is actually no difference in FEV between children of smoking versus nonsmoking parents. Thus, from this data, it is not possible to conclude that exposure to cigarette smoke in the home affects lung function in children."
   ]
  },
  {
   "cell_type": "markdown",
   "metadata": {},
   "source": [
    "#### Problem 4:\n",
    "\n",
    "In recent years, widespread outbreaks of avian influenza have posed a global threat to both poultry production and human health. One strategy being explored by researchers involves developing chickens that are genetically resistant to infection. In 2011, a team of investigators reported in \\textit{Science} that they had successfully generated transgenic chickens expressing a short-hairpin RNA that interferes with virus propagation. As a part of assessing whether the genetic modification might be hazardous to the health of the chickens, hatch weights between transgenic (`tg`) and non-transgenic (`non.tg`) birds were collected; the data are in `gm.chicks.Rdata`. (Data from Lyall J, et al. Suppression of avian influenza transmission in genetically modified chickens. Science 2011; 331; 223-226.) Determine whether the data suggests that there is a difference in hatch weights between transgenic and non-transgenic chickens. \n",
    "\n"
   ]
  },
  {
   "cell_type": "code",
   "execution_count": null,
   "metadata": {},
   "outputs": [],
   "source": [
    "load(\"gm_chicks.Rdata\")\n",
    "head(gm.chicks)"
   ]
  },
  {
   "cell_type": "markdown",
   "metadata": {},
   "source": [
    "#### Solution:\n",
    "\n",
    "Let $\\mu_1$ equal the population mean hatch weight for transgenic chickens and $\\mu_2$ equal the population mean hatch weight for non-transgenic chickens.\n",
    "\n",
    "1. $H_{0}: \\mu_{1} = \\mu_{2}$; $H_1: \\mu_{1} \\neq \\mu_{2}$\n",
    "\t\n",
    "2. $\\alpha = 0.05$\n",
    "\t\n",
    "3. Use \\textsf{R} to calculate the $t$-statistic and $p$-value.\n"
   ]
  },
  {
   "cell_type": "code",
   "execution_count": 4,
   "metadata": {},
   "outputs": [
    {
     "data": {
      "text/plain": [
       "\n",
       "\tWelch Two Sample t-test\n",
       "\n",
       "data:  gm.chicks$tg and gm.chicks$non.tg\n",
       "t = 0.19065, df = 95.354, p-value = 0.8492\n",
       "alternative hypothesis: true difference in means is not equal to 0\n",
       "95 percent confidence interval:\n",
       " -1.425813  1.728776\n",
       "sample estimates:\n",
       "mean of x mean of y \n",
       " 45.14222  44.99074 \n"
      ]
     },
     "metadata": {},
     "output_type": "display_data"
    }
   ],
   "source": [
    "load(\"gm_chicks.Rdata\")\n",
    "t.test(gm.chicks$tg, gm.chicks$non.tg, alternative=\"two.sided\")\n"
   ]
  },
  {
   "cell_type": "markdown",
   "metadata": {},
   "source": [
    "<span>4.</span>  Since $p > \\alpha$, there is insufficient evidence to reject $H_0$.\n",
    "\t\n",
    "<span>5.</span>  We fail to reject the null hypothesis that hatch weights differ between transgenic and non-transgenic chickens. The observed difference between hatch weights is likely due to chance. Evidence suggests that the transgenic chicks are phenotypically normal in regards to weight."
   ]
  },
  {
   "cell_type": "markdown",
   "metadata": {},
   "source": [
    "#### Problem 5:\n",
    "\n",
    "In vertebrates, sweet and savory (\"umami\") tastes are sensed by receptors termed T1Rs. Most vertebrates have three T1Rs, with T1R2 and T1R3 receptors working together to detect sugars (carbohydrates) and artificial sweeteners, while the T1R1-T1R3 heterodimer mediates umami taste. However, even though birds lack T1R2 genes, several avian species display high behavioral affinity for nectar or sweet fruit. Receptor expression studies in hummingbirds revealed that the ancestral umami receptor (T1R1-T1R3) has been repurposed to detect sugars. (Baldwin, et al. Evolution of sweet taste perception in hummingbirds by transformation of the ancestral umami receptor. Science 2014; 345: 929-933.)\n",
    "\n",
    "Researchers investigated whether T1R1-T1R3 function would dictate hummingbird taste behavior. In a series of field tests, hummingbirds were presented simultaneously with two filled containers, one containing test stimuli and a second containing sucrose. The test stimuli included aspartame, erythritol, water, and sucrose. Data on how long a hummingbird drank from a particular container for a given trial, measured in seconds, is in the file `hummingbirds.Rdata`. Variable names ending in `1` correspond to the test stimuli, while names ending in `2` correspond to sucrose. For example, in the first field test comparing aspartame and sucrose, a hummingbird drank from the aspartame container for 0.54 seconds and from the sucrose container for 3.21 seconds.\n",
    "\n",
    "Do the data suggest that T1R1-T1R3 plays a role in hummingbird taste behavior?\n",
    "\n",
    "Conduct hypothesis tests at the 0.05 significance level for each set of trials: aspartame versus sucrose, erythritol versus sucrose, water versus sucrose, and sucrose versus sucrose.  Aspartame is an artificial sweetener that tastes sweet to humans, but is not detected by hummingbird T1R1-T1R3, while erythritol is an artificial sweetener that is known to activate T1R1-T1R3. Specify the null and alternative hypotheses for each test, run the tests, and then write a conclusion summarizing and interpreting your results, referencing numerical results (such as $p$-values) where appropriate. "
   ]
  },
  {
   "cell_type": "code",
   "execution_count": null,
   "metadata": {},
   "outputs": [],
   "source": [
    "load(\"hummingbirds.Rdata\")\n",
    "head(hummingbirds)"
   ]
  },
  {
   "cell_type": "markdown",
   "metadata": {},
   "source": [
    "#### Solution:\n",
    "\n",
    "These data are paired, with a single trial involving one bird being exposed to both solutions (test stimuli and sucrose). For each test, the null hypothesis is that the true difference between mean drinking time for the test stimuli versus sucrose is 0 ($H_0: \\delta = 0)$. The alternative hypothesis is that the true difference is not equal to 0, and that mean drinking time differs between the test stimuli and sucrose ($H_A: \\delta \\neq 0)$. For each trial, the differences are calculated as `(test stimuli - sucrose)`."
   ]
  },
  {
   "cell_type": "code",
   "execution_count": 5,
   "metadata": {},
   "outputs": [
    {
     "data": {
      "text/plain": [
       "\n",
       "\tPaired t-test\n",
       "\n",
       "data:  hummingbirds$asp.vs.sucr.1 and hummingbirds$asp.vs.sucr.2\n",
       "t = -7.807, df = 10, p-value = 1.457e-05\n",
       "alternative hypothesis: true difference in means is not equal to 0\n",
       "95 percent confidence interval:\n",
       " -2.341773 -1.301864\n",
       "sample estimates:\n",
       "mean of the differences \n",
       "              -1.821818 \n"
      ]
     },
     "metadata": {},
     "output_type": "display_data"
    },
    {
     "data": {
      "text/plain": [
       "\n",
       "\tPaired t-test\n",
       "\n",
       "data:  hummingbirds$ery.vs.sucr.1 and hummingbirds$ery.vs.sucr.2\n",
       "t = 0.098689, df = 24, p-value = 0.9222\n",
       "alternative hypothesis: true difference in means is not equal to 0\n",
       "95 percent confidence interval:\n",
       " -0.4221594  0.4645594\n",
       "sample estimates:\n",
       "mean of the differences \n",
       "                 0.0212 \n"
      ]
     },
     "metadata": {},
     "output_type": "display_data"
    },
    {
     "data": {
      "text/plain": [
       "\n",
       "\tPaired t-test\n",
       "\n",
       "data:  hummingbirds$wat.vs.sucr.1 and hummingbirds$wat.vs.sucr.2\n",
       "t = -6.1123, df = 20, p-value = 5.665e-06\n",
       "alternative hypothesis: true difference in means is not equal to 0\n",
       "95 percent confidence interval:\n",
       " -2.876708 -1.412816\n",
       "sample estimates:\n",
       "mean of the differences \n",
       "              -2.144762 \n"
      ]
     },
     "metadata": {},
     "output_type": "display_data"
    },
    {
     "data": {
      "text/plain": [
       "\n",
       "\tPaired t-test\n",
       "\n",
       "data:  hummingbirds$sucr.vs.sucr.1 and hummingbirds$sucr.vs.sucr.2\n",
       "t = -0.083575, df = 38, p-value = 0.9338\n",
       "alternative hypothesis: true difference in means is not equal to 0\n",
       "95 percent confidence interval:\n",
       " -0.6797136  0.6258161\n",
       "sample estimates:\n",
       "mean of the differences \n",
       "            -0.02694872 \n"
      ]
     },
     "metadata": {},
     "output_type": "display_data"
    }
   ],
   "source": [
    "load(\"hummingbirds.Rdata\")\n",
    "\n",
    "t.test(hummingbirds$asp.vs.sucr.1, hummingbirds$asp.vs.sucr.2,\n",
    "\talternative=\"two.sided\", paired=TRUE)\n",
    "\n",
    "t.test(hummingbirds$ery.vs.sucr.1, hummingbirds$ery.vs.sucr.2,\n",
    "\talternative=\"two.sided\", paired=TRUE)\n",
    "\n",
    "t.test(hummingbirds$wat.vs.sucr.1, hummingbirds$wat.vs.sucr.2,\n",
    "\talternative=\"two.sided\", paired=TRUE)\n",
    "\n",
    "t.test(hummingbirds$sucr.vs.sucr.1, hummingbirds$sucr.vs.sucr.2,\n",
    "\talternative=\"two.sided\", paired=TRUE)\n"
   ]
  },
  {
   "cell_type": "markdown",
   "metadata": {},
   "source": [
    "The aspartame versus sucrose trial data show a $p$-value of $1.46 \\times 10^{-5}$; coupled with the negative $t$-statistic, there is evidence to suggest that hummingbirds exhibit a preference for sucrose over aspartame. This is consistent with the idea that T1R1-T1R3 is responsible for detection of sweet taste in hummingbirds; since aspartame does not activate T1R1-T1R3, we would not expect it to attract hummingbirds. In contrast, erythritol is known to activate T1R1-T1R3, causing hummingbirds to find it sweet-tasting. For the erythritol versus sucrose data, we fail to reject the null hypothesis that the true mean difference in drinking length for erythritol and sucrose is 0 ($p$ = 0.92). As expected, hummingbirds displayed strong behavioral affinity for sucrose over water, with the data showing a $p$-value of $5.67 \\times 10^{-6}$. Data from the control trial, in which both containers held sucrose, showed that the observed difference in mean drinking time was likely due to random chance ($p$ = 0.94). The data does suggest that T1R1-T1R3 plays a role in hummingbird taste behavior."
   ]
  }
 ],
 "metadata": {
  "kernelspec": {
   "display_name": "R",
   "language": "R",
   "name": "ir"
  },
  "language_info": {
   "codemirror_mode": "r",
   "file_extension": ".r",
   "mimetype": "text/x-r-source",
   "name": "R",
   "pygments_lexer": "r",
   "version": "3.4.3"
  }
 },
 "nbformat": 4,
 "nbformat_minor": 2
}
