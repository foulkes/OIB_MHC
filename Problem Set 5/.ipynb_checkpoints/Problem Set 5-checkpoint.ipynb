{
 "cells": [
  {
   "cell_type": "markdown",
   "metadata": {},
   "source": [
    "## <span style=\"color:darkblue\"> Problem Set 5: Sampling and confidence intervals\n",
    "\n",
    "Stat140-02: Introduction to the Ideas and Applications of Statistics \n",
    "\n",
    "Due: Friday, March 30 @11am"
   ]
  },
  {
   "cell_type": "markdown",
   "metadata": {},
   "source": [
    "**Problem set policies:** Please provide concise, clear answers for each question. Note that only writing the result of a calculation (e.g., \"SD = 3.3\") without explanation is not sufficient. For problems involving `R`, include the code in your solution, along with any plots.\n",
    "\t\t\n",
    "Each problem set is due by 11:00am on the due date; please submit your problem set via gyrd\n",
    "\t\t\n",
    "*You are encouraged to discuss problems with other students (and, of course, with the course head and the TAs), but you must write your final answer in your own words. Solutions prepared \"in committee\" are not acceptable. If you do collaborate with classmates on a problem, please list your collaborators on your solution.*\n"
   ]
  },
  {
   "cell_type": "markdown",
   "metadata": {},
   "source": [
    "#### Problem 1:\n",
    "\n",
    "Consider the standard normal distribution with mean $\\mu=0$ and standard deviation $\\sigma= 1$. \n",
    "\n",
    "a) What is the probability that an outcome $z$ is greater than 2.60?\n",
    "\t\n",
    "b) What is the probability that $z$ is less than 1.35?\n",
    "\t\n",
    "c) What is the probability that $z$ is between -1.70 and 3.10?\n",
    "\t\n",
    "d) What value of $z$ cuts off the upper 15% of the standard normal distribution?\n",
    "\t\n",
    "e) What value of $z$ marks off the lower 20% of the distribution?\n"
   ]
  },
  {
   "cell_type": "markdown",
   "metadata": {},
   "source": [
    "#### Problem 2:\n",
    "\n",
    "The World Health Organization defines osteoporosis in young adults as a measured bone mineral density 2.5 or more standard deviations below the mean for young adults. Assume that bone mineral density follows a normal distribution in young adults. What percentage of young adults suffer from osteoporosis according to this criterion?\n",
    "\n"
   ]
  },
  {
   "cell_type": "markdown",
   "metadata": {},
   "source": [
    "#### Problem 3:\n",
    "\n",
    "Arsenic blood concentration is normally distributed with mean $\\mu = 3.2$ $\\mu$g/dl and standard deviation $\\sigma = 1.5$ $\\mu$g/dl. What range of arsenic blood concentration defines the middle 95\\% of this distribution? \n",
    "\n"
   ]
  },
  {
   "cell_type": "markdown",
   "metadata": {},
   "source": [
    "#### Problem 4:\n",
    "\n",
    "(Problem 1.136 in IPS, $6^{th}$ edition.) High blood cholesterol levels increase the risk of heart disease. Young women are generally less afflicted with high\n",
    "cholesterol than other groups. The cholesterol levels for women aged 20 to 34 follow an approximately normal distribution with mean 185 milligrams per deciliter (mg/dl) and standard deviation 39 mg/dl.\n",
    "\n",
    "a) Cholesterol levels above 240 mg/dl demand medical\n",
    "\tattention. What percent of young women have levels above 240 mg/dl?\n",
    "\t\n",
    "b) Levels above 200 mg/dl are considered borderline high. What percent of young women have blood cholesterol between 200 and 240 mg/dl?\n"
   ]
  },
  {
   "cell_type": "markdown",
   "metadata": {},
   "source": [
    "#### Problem 5:   \n",
    "\n",
    "The General Social Survey (GSS) is a sociological survey used to collect data on demographic characteristics and attitudes of residents of the United States. In 2010, the survey collected responses from 1,154 US residents. The survey is conducted face-to-face with an in-person interview of a randomly selected sample of adults. One of the questions on the survey is \"After an average workday, about how many hours do you have to relax or pursue activities that you enjoy?\" A 95% confidence interval from the 2010 GSS survey for the collected answers is 3.53 to 3.83 hours.\n",
    "\n",
    "Identify each of the following statements as true or false. Justify your answers.\n",
    "\n",
    "  a) If the researchers wanted to report a confidence interval with a smaller margin of error based on the same sample of 1,154 Americans, the confidence interval would be larger.\n",
    "  \n",
    "  b) We can be 95% confident that the interval (3.53, 3.83) hours contains the mean hours that the sampled adults have for leisure time have an average workday.\n",
    "\n",
    "  c) Suppose the researchers think that a 90% confidence level would be more appropriate. Assuming that the standard deviation remains constant, this new interval will be smaller than the 95% confidence interval.\n",
    "  \n",
    "  d) The confidence interval of (3.53, 3.83) contains the mean hours that U.S. adults have for leisure time after an average workday.\n",
    "  \n",
    "  e) The survey provides statistically significant evidence at the $\\alpha = 0.05$ significance level that the mean hours U.S. adults have for leisure time after the average workday is not 3.4 hours.\n"
   ]
  },
  {
   "cell_type": "markdown",
   "metadata": {},
   "source": [
    "#### Problem 6:\n",
    "\n",
    "A hospital administrator hoping to improve wait times decides to estimate the average emergency room waiting time at her hospital. She collects a simple random sample of 64 patients and determines the time between when they checked in to the ER until they were first seen by a doctor. The average time is 137.5 minutes and the standard deviation is 39 minutes. She is getting grief from her supervisor on the basis that the wait times in the ER has increased greatly from last year's average of 127 minutes. However, she claims that the increase is probably just due to chance.\n",
    "\n",
    "a) Calculate a 95% confidence interval. Is the change in wait times statistically significant at the $\\alpha = 0.05$ level?\n",
    "\t\n",
    "b) Would the conclusion in part a) change if the significance level were changed to $\\alpha = 0.01$?\n",
    "\t\n",
    "c) Is the supervisor justified in criticizing the hospital administrator regarding the change in ER wait times? How might you present an argument in favor of the administrator?\n",
    "\n"
   ]
  }
 ],
 "metadata": {
  "kernelspec": {
   "display_name": "R",
   "language": "R",
   "name": "ir"
  },
  "language_info": {
   "codemirror_mode": "r",
   "file_extension": ".r",
   "mimetype": "text/x-r-source",
   "name": "R",
   "pygments_lexer": "r",
   "version": "3.4.3"
  }
 },
 "nbformat": 4,
 "nbformat_minor": 2
}
