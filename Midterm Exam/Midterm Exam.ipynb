{
 "cells": [
  {
   "cell_type": "markdown",
   "metadata": {},
   "source": [
    "## <span style=\"color:darkblue\"> Midterm Exam\n",
    "\n",
    "Stat140-02: Introduction to the Ideas and Applications of Statistics \n",
    "\n",
    "Due: Wednesday, March 7 @11am"
   ]
  },
  {
   "cell_type": "markdown",
   "metadata": {},
   "source": [
    "*Under no circumstancs should a student discuss the content of this exam with other students or the TAs. All students are expected to follow the Honor Code: “I will honor myself, my fellow students, and Mount Holyoke College by acting responsibly, honestly, and respectfully in both my words and deeds.” Students are encouraged to speak with the instructor if unclear about what constitutes an Honor Code violation. Violations of the Honor Code may result in failure of this course.* "
   ]
  },
  {
   "cell_type": "markdown",
   "metadata": {},
   "source": [
    "**Problem 1 (40 points)**\n",
    "\n",
    "The human gastrointestinal system is home to a vast number of microbial cells; the term \"human microbiome\" refers specifically to the full collection of genes of all microbes in this community. Gut microbial communities are known to influence host health or disease susceptibility.\n",
    "\n",
    "In this problem, you will examine data adapted from a study investigating the role of the microbiome in the development of colon cancer (Kostic, Aleksandar D., et al., 2012, Genomic analysis identifies association of *Fusobacterium* with colorectal carcinoma. Genome Research 22: 292-298.) The data are read into `R` using the code below.\n",
    "\n",
    "The original study examined cancer tissue and adjacent normal tissue collected from colon cancer patients living in Spain, Vietnam, and the United States. Recorded measurements include information about the patient (e.g. age, gender) and about the microbes found in the colon. When the bacteria are measured in this setting, the data for each species (i.e., for each \"bug\") are recorded as the frequency of that species detected divided by the total number of bacteria from all species. Thus, the values represent the proportion of bacteria present belonging to that particular species; this type of data is often referred to as relative abundance data, or abundance data. \n",
    "\n",
    "*Among these 100 bacteria, which seem to have unexpectedly large or small levels of mean relative abundance? In other words, which bacteria have a mean relative abundance that is an outlier?*\n",
    "\n",
    "The data you will work with includes abundance data for only the cancer tissue samples from each patient. The dataset pheno.abundance includes the following information for each patient:\n",
    "\n",
    "  - `Age`: age at diagnosis, in years\n",
    "  - `Gender`: gender, coded as Male or Female\n",
    "  - `Stage`: coded 1-4.  Larger values of Stage indicate cancer that is harder to treat\n",
    "  - `bug1` to `bug100`: relative abundance for each bacteria (i.e., \"bug\") identified in the tumor samples. The numbers represent the proportion of the total number of bacteria per sample that were identified as a particular type; for example, a value of 0.05 in `bug1` for a patient indicates that 5% of the gut bacteria in that patient were of type `bug1`.(DNA sequencing was used to identify the species of each bug type, but for simplicity, we have not included that information.) "
   ]
  },
  {
   "cell_type": "code",
   "execution_count": 12,
   "metadata": {},
   "outputs": [
    {
     "data": {
      "text/html": [
       "<table>\n",
       "<thead><tr><th></th><th scope=col>Age</th><th scope=col>Gender</th><th scope=col>Stage</th><th scope=col>bug1</th><th scope=col>bug2</th><th scope=col>bug3</th><th scope=col>bug4</th><th scope=col>bug5</th><th scope=col>bug6</th><th scope=col>bug7</th><th scope=col>⋯</th><th scope=col>bug91</th><th scope=col>bug92</th><th scope=col>bug93</th><th scope=col>bug94</th><th scope=col>bug95</th><th scope=col>bug96</th><th scope=col>bug97</th><th scope=col>bug98</th><th scope=col>bug99</th><th scope=col>bug100</th></tr></thead>\n",
       "<tbody>\n",
       "\t<tr><th scope=row>1</th><td>71          </td><td>Female      </td><td>2           </td><td>0.0255190311</td><td>0.09212803  </td><td>0.5240051903</td><td>0.00000000  </td><td>0.0000000000</td><td>0           </td><td>0.0000000   </td><td>⋯           </td><td>0.000216263 </td><td>0           </td><td>0.00000000  </td><td>0.0000000000</td><td>0.0000000000</td><td>0.00000000  </td><td>0.0000000000</td><td>0.000000000 </td><td>0.000000000 </td><td>0.0000000   </td></tr>\n",
       "\t<tr><th scope=row>3</th><td>53          </td><td>Female      </td><td>4           </td><td>0.1600400936</td><td>0.08419646  </td><td>0.0755095222</td><td>0.00000000  </td><td>0.0006682259</td><td>0           </td><td>0.0000000   </td><td>⋯           </td><td>0.022385566 </td><td>0           </td><td>0.00000000  </td><td>0.0006682259</td><td>0.0000000000</td><td>0.00000000  </td><td>0.0000000000</td><td>0.000000000 </td><td>0.000000000 </td><td>0.0000000   </td></tr>\n",
       "\t<tr><th scope=row>5</th><td>55          </td><td>Female      </td><td>2           </td><td>0.0008966599</td><td>0.01053575  </td><td>0.3120376597</td><td>0.00000000  </td><td>0.0000000000</td><td>0           </td><td>0.0000000   </td><td>⋯           </td><td>0.000224165 </td><td>0           </td><td>0.00000000  </td><td>0.0000000000</td><td>0.0000000000</td><td>0.01770903  </td><td>0.0000000000</td><td>0.000000000 </td><td>0.000000000 </td><td>0.1259807   </td></tr>\n",
       "\t<tr><th scope=row>7</th><td>44          </td><td>Male        </td><td>2           </td><td>0.1072625698</td><td>0.13798883  </td><td>0.0005586592</td><td>0.07150838  </td><td>0.0525139665</td><td>0           </td><td>0.1307263   </td><td>⋯           </td><td>0.000000000 </td><td>0           </td><td>0.02122905  </td><td>0.0000000000</td><td>0.0000000000</td><td>0.00000000  </td><td>0.0067039106</td><td>0.000000000 </td><td>0.006703911 </td><td>0.0000000   </td></tr>\n",
       "\t<tr><th scope=row>9</th><td>83          </td><td>Female      </td><td>1           </td><td>0.2434544744</td><td>0.08010942  </td><td>0.0000000000</td><td>0.02461899  </td><td>0.0027354435</td><td>0           </td><td>0.0000000   </td><td>⋯           </td><td>0.000000000 </td><td>0           </td><td>0.00000000  </td><td>0.0000000000</td><td>0.0000000000</td><td>0.00000000  </td><td>0.0003907776</td><td>0.002344666 </td><td>0.000000000 </td><td>0.0000000   </td></tr>\n",
       "\t<tr><th scope=row>11</th><td>52          </td><td>Male        </td><td>3           </td><td>0.0015105740</td><td>0.02658610  </td><td>0.2000000000</td><td>0.04894260  </td><td>0.0036253776</td><td>0           </td><td>0.1456193   </td><td>⋯           </td><td>0.026283988 </td><td>0           </td><td>0.00000000  </td><td>0.0006042296</td><td>0.0006042296</td><td>0.00000000  </td><td>0.0000000000</td><td>0.000000000 </td><td>0.003021148 </td><td>0.0000000   </td></tr>\n",
       "</tbody>\n",
       "</table>\n"
      ],
      "text/latex": [
       "\\begin{tabular}{r|lllllllllllllllllllllllllllllllllllllllllllllllllllllllllllllllllllllllllllllllllllllllllllllllllllllll}\n",
       "  & Age & Gender & Stage & bug1 & bug2 & bug3 & bug4 & bug5 & bug6 & bug7 & ⋯ & bug91 & bug92 & bug93 & bug94 & bug95 & bug96 & bug97 & bug98 & bug99 & bug100\\\\\n",
       "\\hline\n",
       "\t1 & 71           & Female       & 2            & 0.0255190311 & 0.09212803   & 0.5240051903 & 0.00000000   & 0.0000000000 & 0            & 0.0000000    & ⋯            & 0.000216263  & 0            & 0.00000000   & 0.0000000000 & 0.0000000000 & 0.00000000   & 0.0000000000 & 0.000000000  & 0.000000000  & 0.0000000   \\\\\n",
       "\t3 & 53           & Female       & 4            & 0.1600400936 & 0.08419646   & 0.0755095222 & 0.00000000   & 0.0006682259 & 0            & 0.0000000    & ⋯            & 0.022385566  & 0            & 0.00000000   & 0.0006682259 & 0.0000000000 & 0.00000000   & 0.0000000000 & 0.000000000  & 0.000000000  & 0.0000000   \\\\\n",
       "\t5 & 55           & Female       & 2            & 0.0008966599 & 0.01053575   & 0.3120376597 & 0.00000000   & 0.0000000000 & 0            & 0.0000000    & ⋯            & 0.000224165  & 0            & 0.00000000   & 0.0000000000 & 0.0000000000 & 0.01770903   & 0.0000000000 & 0.000000000  & 0.000000000  & 0.1259807   \\\\\n",
       "\t7 & 44           & Male         & 2            & 0.1072625698 & 0.13798883   & 0.0005586592 & 0.07150838   & 0.0525139665 & 0            & 0.1307263    & ⋯            & 0.000000000  & 0            & 0.02122905   & 0.0000000000 & 0.0000000000 & 0.00000000   & 0.0067039106 & 0.000000000  & 0.006703911  & 0.0000000   \\\\\n",
       "\t9 & 83           & Female       & 1            & 0.2434544744 & 0.08010942   & 0.0000000000 & 0.02461899   & 0.0027354435 & 0            & 0.0000000    & ⋯            & 0.000000000  & 0            & 0.00000000   & 0.0000000000 & 0.0000000000 & 0.00000000   & 0.0003907776 & 0.002344666  & 0.000000000  & 0.0000000   \\\\\n",
       "\t11 & 52           & Male         & 3            & 0.0015105740 & 0.02658610   & 0.2000000000 & 0.04894260   & 0.0036253776 & 0            & 0.1456193    & ⋯            & 0.026283988  & 0            & 0.00000000   & 0.0006042296 & 0.0006042296 & 0.00000000   & 0.0000000000 & 0.000000000  & 0.003021148  & 0.0000000   \\\\\n",
       "\\end{tabular}\n"
      ],
      "text/markdown": [
       "\n",
       "| <!--/--> | Age | Gender | Stage | bug1 | bug2 | bug3 | bug4 | bug5 | bug6 | bug7 | ⋯ | bug91 | bug92 | bug93 | bug94 | bug95 | bug96 | bug97 | bug98 | bug99 | bug100 | \n",
       "|---|---|---|---|---|---|\n",
       "| 1 | 71           | Female       | 2            | 0.0255190311 | 0.09212803   | 0.5240051903 | 0.00000000   | 0.0000000000 | 0            | 0.0000000    | ⋯            | 0.000216263  | 0            | 0.00000000   | 0.0000000000 | 0.0000000000 | 0.00000000   | 0.0000000000 | 0.000000000  | 0.000000000  | 0.0000000    | \n",
       "| 3 | 53           | Female       | 4            | 0.1600400936 | 0.08419646   | 0.0755095222 | 0.00000000   | 0.0006682259 | 0            | 0.0000000    | ⋯            | 0.022385566  | 0            | 0.00000000   | 0.0006682259 | 0.0000000000 | 0.00000000   | 0.0000000000 | 0.000000000  | 0.000000000  | 0.0000000    | \n",
       "| 5 | 55           | Female       | 2            | 0.0008966599 | 0.01053575   | 0.3120376597 | 0.00000000   | 0.0000000000 | 0            | 0.0000000    | ⋯            | 0.000224165  | 0            | 0.00000000   | 0.0000000000 | 0.0000000000 | 0.01770903   | 0.0000000000 | 0.000000000  | 0.000000000  | 0.1259807    | \n",
       "| 7 | 44           | Male         | 2            | 0.1072625698 | 0.13798883   | 0.0005586592 | 0.07150838   | 0.0525139665 | 0            | 0.1307263    | ⋯            | 0.000000000  | 0            | 0.02122905   | 0.0000000000 | 0.0000000000 | 0.00000000   | 0.0067039106 | 0.000000000  | 0.006703911  | 0.0000000    | \n",
       "| 9 | 83           | Female       | 1            | 0.2434544744 | 0.08010942   | 0.0000000000 | 0.02461899   | 0.0027354435 | 0            | 0.0000000    | ⋯            | 0.000000000  | 0            | 0.00000000   | 0.0000000000 | 0.0000000000 | 0.00000000   | 0.0003907776 | 0.002344666  | 0.000000000  | 0.0000000    | \n",
       "| 11 | 52           | Male         | 3            | 0.0015105740 | 0.02658610   | 0.2000000000 | 0.04894260   | 0.0036253776 | 0            | 0.1456193    | ⋯            | 0.026283988  | 0            | 0.00000000   | 0.0006042296 | 0.0006042296 | 0.00000000   | 0.0000000000 | 0.000000000  | 0.003021148  | 0.0000000    | \n",
       "\n",
       "\n"
      ],
      "text/plain": [
       "   Age Gender Stage bug1         bug2       bug3         bug4      \n",
       "1  71  Female 2     0.0255190311 0.09212803 0.5240051903 0.00000000\n",
       "3  53  Female 4     0.1600400936 0.08419646 0.0755095222 0.00000000\n",
       "5  55  Female 2     0.0008966599 0.01053575 0.3120376597 0.00000000\n",
       "7  44  Male   2     0.1072625698 0.13798883 0.0005586592 0.07150838\n",
       "9  83  Female 1     0.2434544744 0.08010942 0.0000000000 0.02461899\n",
       "11 52  Male   3     0.0015105740 0.02658610 0.2000000000 0.04894260\n",
       "   bug5         bug6 bug7      ⋯ bug91       bug92 bug93      bug94       \n",
       "1  0.0000000000 0    0.0000000 ⋯ 0.000216263 0     0.00000000 0.0000000000\n",
       "3  0.0006682259 0    0.0000000 ⋯ 0.022385566 0     0.00000000 0.0006682259\n",
       "5  0.0000000000 0    0.0000000 ⋯ 0.000224165 0     0.00000000 0.0000000000\n",
       "7  0.0525139665 0    0.1307263 ⋯ 0.000000000 0     0.02122905 0.0000000000\n",
       "9  0.0027354435 0    0.0000000 ⋯ 0.000000000 0     0.00000000 0.0000000000\n",
       "11 0.0036253776 0    0.1456193 ⋯ 0.026283988 0     0.00000000 0.0006042296\n",
       "   bug95        bug96      bug97        bug98       bug99       bug100   \n",
       "1  0.0000000000 0.00000000 0.0000000000 0.000000000 0.000000000 0.0000000\n",
       "3  0.0000000000 0.00000000 0.0000000000 0.000000000 0.000000000 0.0000000\n",
       "5  0.0000000000 0.01770903 0.0000000000 0.000000000 0.000000000 0.1259807\n",
       "7  0.0000000000 0.00000000 0.0067039106 0.000000000 0.006703911 0.0000000\n",
       "9  0.0000000000 0.00000000 0.0003907776 0.002344666 0.000000000 0.0000000\n",
       "11 0.0006042296 0.00000000 0.0000000000 0.000000000 0.003021148 0.0000000"
      ]
     },
     "metadata": {},
     "output_type": "display_data"
    }
   ],
   "source": [
    "load(\"pheno_abundance.Rdata\")\n",
    "head(pheno.abundance)"
   ]
  },
  {
   "cell_type": "markdown",
   "metadata": {},
   "source": [
    "a) We can calculate the median abundance for each bug across all patients using the following `R` code:   "
   ]
  },
  {
   "cell_type": "code",
   "execution_count": 2,
   "metadata": {},
   "outputs": [
    {
     "name": "stderr",
     "output_type": "stream",
     "text": [
      "\n",
      "Attaching package: ‘dplyr’\n",
      "\n",
      "The following objects are masked from ‘package:stats’:\n",
      "\n",
      "    filter, lag\n",
      "\n",
      "The following objects are masked from ‘package:base’:\n",
      "\n",
      "    intersect, setdiff, setequal, union\n",
      "\n"
     ]
    },
    {
     "data": {
      "text/html": [
       "<table>\n",
       "<thead><tr><th scope=col>bug1</th><th scope=col>bug2</th><th scope=col>bug3</th><th scope=col>bug4</th><th scope=col>bug5</th><th scope=col>bug6</th><th scope=col>bug7</th><th scope=col>bug8</th><th scope=col>bug9</th><th scope=col>bug10</th><th scope=col>⋯</th><th scope=col>bug91</th><th scope=col>bug92</th><th scope=col>bug93</th><th scope=col>bug94</th><th scope=col>bug95</th><th scope=col>bug96</th><th scope=col>bug97</th><th scope=col>bug98</th><th scope=col>bug99</th><th scope=col>bug100</th></tr></thead>\n",
       "<tbody>\n",
       "\t<tr><td>0.02621518  </td><td>0.06978119  </td><td>0.0646438   </td><td>0.02012651  </td><td>0.006583278 </td><td>0           </td><td>0           </td><td>0           </td><td>0           </td><td>0.005438066 </td><td>⋯           </td><td>0.000216263 </td><td>0           </td><td>0           </td><td>0           </td><td>0           </td><td>0           </td><td>0           </td><td>0.0001884659</td><td>0           </td><td>0           </td></tr>\n",
       "</tbody>\n",
       "</table>\n"
      ],
      "text/latex": [
       "\\begin{tabular}{r|llllllllllllllllllllllllllllllllllllllllllllllllllllllllllllllllllllllllllllllllllllllllllllllllllll}\n",
       " bug1 & bug2 & bug3 & bug4 & bug5 & bug6 & bug7 & bug8 & bug9 & bug10 & ⋯ & bug91 & bug92 & bug93 & bug94 & bug95 & bug96 & bug97 & bug98 & bug99 & bug100\\\\\n",
       "\\hline\n",
       "\t 0.02621518   & 0.06978119   & 0.0646438    & 0.02012651   & 0.006583278  & 0            & 0            & 0            & 0            & 0.005438066  & ⋯            & 0.000216263  & 0            & 0            & 0            & 0            & 0            & 0            & 0.0001884659 & 0            & 0           \\\\\n",
       "\\end{tabular}\n"
      ],
      "text/markdown": [
       "\n",
       "bug1 | bug2 | bug3 | bug4 | bug5 | bug6 | bug7 | bug8 | bug9 | bug10 | ⋯ | bug91 | bug92 | bug93 | bug94 | bug95 | bug96 | bug97 | bug98 | bug99 | bug100 | \n",
       "|---|\n",
       "| 0.02621518   | 0.06978119   | 0.0646438    | 0.02012651   | 0.006583278  | 0            | 0            | 0            | 0            | 0.005438066  | ⋯            | 0.000216263  | 0            | 0            | 0            | 0            | 0            | 0            | 0.0001884659 | 0            | 0            | \n",
       "\n",
       "\n"
      ],
      "text/plain": [
       "  bug1       bug2       bug3      bug4       bug5        bug6 bug7 bug8 bug9\n",
       "1 0.02621518 0.06978119 0.0646438 0.02012651 0.006583278 0    0    0    0   \n",
       "  bug10       ⋯ bug91       bug92 bug93 bug94 bug95 bug96 bug97 bug98       \n",
       "1 0.005438066 ⋯ 0.000216263 0     0     0     0     0     0     0.0001884659\n",
       "  bug99 bug100\n",
       "1 0     0     "
      ]
     },
     "metadata": {},
     "output_type": "display_data"
    }
   ],
   "source": [
    "library(dplyr)\n",
    "bugMedians = pheno.abundance[,4:103] %>% summarise_all(funs(median))\n",
    "bugMedians"
   ]
  },
  {
   "cell_type": "markdown",
   "metadata": {},
   "source": [
    "To create a new variable in a data frame, we use the following code:"
   ]
  },
  {
   "cell_type": "code",
   "execution_count": 3,
   "metadata": {},
   "outputs": [
    {
     "data": {
      "text/html": [
       "<table>\n",
       "<thead><tr><th scope=col>medianAbundance</th></tr></thead>\n",
       "<tbody>\n",
       "\t<tr><td>0.026215183</td></tr>\n",
       "\t<tr><td>0.069781195</td></tr>\n",
       "\t<tr><td>0.064643799</td></tr>\n",
       "\t<tr><td>0.020126509</td></tr>\n",
       "\t<tr><td>0.006583278</td></tr>\n",
       "\t<tr><td>0.000000000</td></tr>\n",
       "</tbody>\n",
       "</table>\n"
      ],
      "text/latex": [
       "\\begin{tabular}{r|l}\n",
       " medianAbundance\\\\\n",
       "\\hline\n",
       "\t 0.026215183\\\\\n",
       "\t 0.069781195\\\\\n",
       "\t 0.064643799\\\\\n",
       "\t 0.020126509\\\\\n",
       "\t 0.006583278\\\\\n",
       "\t 0.000000000\\\\\n",
       "\\end{tabular}\n"
      ],
      "text/markdown": [
       "\n",
       "medianAbundance | \n",
       "|---|---|---|---|---|---|\n",
       "| 0.026215183 | \n",
       "| 0.069781195 | \n",
       "| 0.064643799 | \n",
       "| 0.020126509 | \n",
       "| 0.006583278 | \n",
       "| 0.000000000 | \n",
       "\n",
       "\n"
      ],
      "text/plain": [
       "  medianAbundance\n",
       "1 0.026215183    \n",
       "2 0.069781195    \n",
       "3 0.064643799    \n",
       "4 0.020126509    \n",
       "5 0.006583278    \n",
       "6 0.000000000    "
      ]
     },
     "metadata": {},
     "output_type": "display_data"
    }
   ],
   "source": [
    "df = data.frame(medianAbundance = as.numeric(bugMedians))\n",
    "head(df)"
   ]
  },
  {
   "cell_type": "markdown",
   "metadata": {},
   "source": [
    "Create a new variable called `meanAbundance` that is equal to the **mean** abundance for each bug across all patients and explain in terms of the data what the values of this variable represent. "
   ]
  },
  {
   "cell_type": "markdown",
   "metadata": {},
   "source": [
    "b) Using both numerical and graphical summaries, describe the distribution of the mean abundance levels across all bugs."
   ]
  },
  {
   "cell_type": "markdown",
   "metadata": {},
   "source": [
    "c)  Identify the outliers in mean abundance level. Which outliers have mean relative abundances that qualify as outliers? "
   ]
  },
  {
   "cell_type": "markdown",
   "metadata": {},
   "source": [
    "d) Now considering just bug 3, use graphical and numerical summaries to describe the distribution of abundance levels across all patients for each stage of cancer. What can you conclude based on these summaries?"
   ]
  },
  {
   "cell_type": "code",
   "execution_count": 16,
   "metadata": {},
   "outputs": [
    {
     "data": {
      "text/html": [
       "<table>\n",
       "<thead><tr><th scope=col>mean</th><th scope=col>median</th><th scope=col>min</th><th scope=col>max</th><th scope=col>q1</th><th scope=col>q3</th><th scope=col>IQR</th><th scope=col>upper_whisker</th><th scope=col>lower_whisker</th></tr></thead>\n",
       "<tbody>\n",
       "\t<tr><td>0.1976714  </td><td>0.2577713  </td><td>0          </td><td>0.3672566  </td><td>0.005323194</td><td>0.358006   </td><td>0.3526828  </td><td>0.8870303  </td><td>-0.5237011 </td></tr>\n",
       "</tbody>\n",
       "</table>\n"
      ],
      "text/latex": [
       "\\begin{tabular}{r|lllllllll}\n",
       " mean & median & min & max & q1 & q3 & IQR & upper\\_whisker & lower\\_whisker\\\\\n",
       "\\hline\n",
       "\t 0.1976714   & 0.2577713   & 0           & 0.3672566   & 0.005323194 & 0.358006    & 0.3526828   & 0.8870303   & -0.5237011 \\\\\n",
       "\\end{tabular}\n"
      ],
      "text/markdown": [
       "\n",
       "mean | median | min | max | q1 | q3 | IQR | upper_whisker | lower_whisker | \n",
       "|---|\n",
       "| 0.1976714   | 0.2577713   | 0           | 0.3672566   | 0.005323194 | 0.358006    | 0.3526828   | 0.8870303   | -0.5237011  | \n",
       "\n",
       "\n"
      ],
      "text/plain": [
       "  mean      median    min max       q1          q3       IQR      \n",
       "1 0.1976714 0.2577713 0   0.3672566 0.005323194 0.358006 0.3526828\n",
       "  upper_whisker lower_whisker\n",
       "1 0.8870303     -0.5237011   "
      ]
     },
     "metadata": {},
     "output_type": "display_data"
    }
   ],
   "source": [
    "pheno.abundance%>%\n",
    "filter(Stage==1) %>%\n",
    "summarize(mean=mean(bug3),\n",
    "          median=median(bug3),\n",
    "          min=min(bug3),\n",
    "          max=max(bug3),\n",
    "          q1=quantile(bug3, p=.25),\n",
    "          q3=quantile(bug3, p=.75),\n",
    "          IQR=q3-q1,\n",
    "          upper_whisker=q3+1.5*IQR,\n",
    "          lower_whisker=q1-1.5*IQR)\n"
   ]
  },
  {
   "cell_type": "markdown",
   "metadata": {},
   "source": [
    "#### Problem 2 (30 points)\n",
    "\n",
    "In Eastern Europe there are epidemics of both tuberculosis and HIV/AIDS. There is some research which suggests that these diseases may not occur independently. Suppose that the table below shows the probability that a randomly chosen citizen of an Eastern European country has the disease status indicated in the table.\n",
    "\n",
    "| |  **HIV Status ** | |\n",
    "|--|--|--|--|\n",
    "| **Tuberculosis** | Positive (HIV$^+$) | Negative (HIV$^-$)| \n",
    "| Present |  0.15 |   0.15  | \n",
    "| Absent |  0.10 |  0.60  | \n",
    "\n",
    "\t"
   ]
  },
  {
   "cell_type": "markdown",
   "metadata": {},
   "source": [
    "a) What is the prevalence of Tuberculosis (TB)?"
   ]
  },
  {
   "cell_type": "markdown",
   "metadata": {},
   "source": [
    "b) Suppose $A$ is the event that a randomly chosen member of the population is HIV$^+$ and $B$ is the event that a randomly chosen person has TB. Are $A$ and $B$ independent? Justify your answer."
   ]
  },
  {
   "cell_type": "markdown",
   "metadata": {},
   "source": [
    "c) Based on the definitions of $A$ and $B$ in part (b), what is the conditional probability $P(A|B)$?"
   ]
  },
  {
   "cell_type": "markdown",
   "metadata": {},
   "source": [
    "d) Among HIV$^+$ individuals, what is the probability that someone has TB?"
   ]
  },
  {
   "cell_type": "markdown",
   "metadata": {},
   "source": [
    "#### Problem 3 (15 points)\n",
    "\n",
    "Suppose a 60-year-old man who has never smoked cigarettes presents to a physician with symptoms of a chronic cough and occasional breathlessness. The physician becomes concerned and orders the patient admitted to the hospital for a lung biopsy. Suppose the results of the biopsy are consistent either with lung cancer or sarcoidosis (a fairly common, nonfatal lung disease).\n",
    "\n",
    "Let $A = \\{\\text{chronic cough, results of lung biopsy}\\}$. Partition the patient's possible disease state into: $B_1 = \\text{normal}, B_2 = \\text{lung cancer}, B_3 = \\text{sarcoidosis}$. \n",
    "\n",
    "From clinical experience, the physician estimates $P(A|B_i)$: $P(A|B_1) = .001$, $P(A|B_2) = .9$, and $P(A|B_3) = .9$. Suppose that in 60-year-old, never-smoking men $P(B_1) = .99$, $P(B_2) = .001$, and $P(B_3) = .009$. \n",
    "\n",
    "Find the probabilities of the three disease states given the previous symptoms: $P(B_1|A)$, $P(B_2|A)$, and $P(B_3|A)$. Which is the most likely?\n"
   ]
  },
  {
   "cell_type": "markdown",
   "metadata": {},
   "source": [
    "#### Problem 4 (15 points)\n",
    "\n",
    "High blood cholesterol levels increase the risk of heart disease. Young women are generally less afflicted with high\n",
    "cholesterol than other groups. The cholesterol levels for women aged 20 to 34 follow an approximately normal distribution with mean 185 milligrams per deciliter (mg/dl) and standard deviation 39 mg/dl."
   ]
  },
  {
   "cell_type": "markdown",
   "metadata": {},
   "source": [
    "a) Cholesterol levels above 240 mg/dl demand medical attention. What percent of young women have levels above 240 mg/dl?"
   ]
  },
  {
   "cell_type": "markdown",
   "metadata": {},
   "source": [
    "b) Levels above 200 mg/dl are considered borderline high. What percent of young women have blood cholesterol between 200 and 240 mg/dl?"
   ]
  }
 ],
 "metadata": {
  "kernelspec": {
   "display_name": "R",
   "language": "R",
   "name": "ir"
  },
  "language_info": {
   "codemirror_mode": "r",
   "file_extension": ".r",
   "mimetype": "text/x-r-source",
   "name": "R",
   "pygments_lexer": "r",
   "version": "3.4.3"
  }
 },
 "nbformat": 4,
 "nbformat_minor": 2
}
