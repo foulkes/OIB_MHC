{
 "cells": [
  {
   "cell_type": "markdown",
   "metadata": {},
   "source": [
    "## <span style=\"color:darkblue\"> Midterm Exam\n",
    "\n",
    "Stat140-02: Introduction to the Ideas and Applications of Statistics \n",
    "\n",
    "Due: Wednesday, March 7 @11am"
   ]
  },
  {
   "cell_type": "markdown",
   "metadata": {},
   "source": [
    "*Under no circumstancs should a student discuss the content of this exam with other students or the TAs. All students are expected to follow the Honor Code: “I will honor myself, my fellow students, and Mount Holyoke College by acting responsibly, honestly, and respectfully in both my words and deeds.” Students are encouraged to speak with the instructor if unclear about what constitutes an Honor Code violation. Violations of the Honor Code may result in failure of this course.* "
   ]
  },
  {
   "cell_type": "markdown",
   "metadata": {},
   "source": [
    "**Problem 1 (40 points)**\n",
    "\n",
    "The human gastrointestinal system is home to a vast number of microbial cells; the term \"human microbiome\" refers specifically to the full collection of genes of all microbes in this community. Gut microbial communities are known to influence host health or disease susceptibility.\n",
    "\n",
    "In this problem, you will examine data adapted from a study investigating the role of the microbiome in the development of colon cancer (Kostic, Aleksandar D., et al., 2012, Genomic analysis identifies association of *Fusobacterium* with colorectal carcinoma. Genome Research 22: 292-298.) The data are read into `R` using the code below.\n",
    "\n",
    "The original study examined cancer tissue and adjacent normal tissue collected from colon cancer patients living in Spain, Vietnam, and the United States. Recorded measurements include information about the patient (e.g. age, gender) and about the microbes found in the colon. When the bacteria are measured in this setting, the data for each species (i.e., for each \"bug\") are recorded as the frequency of that species detected divided by the total number of bacteria from all species. Thus, the values represent the proportion of bacteria present belonging to that particular species; this type of data is often referred to as relative abundance data, or abundance data. \n",
    "\n",
    "*Among these 100 bacteria, which seem to have unexpectedly large or small levels of mean relative abundance? In other words, which bacteria have a mean relative abundance that is an outlier?*\n",
    "\n",
    "The data you will work with includes abundance data for only the cancer tissue samples from each patient. The dataset pheno.abundance includes the following information for each patient:\n",
    "\n",
    "  - `Age`: age at diagnosis, in years\n",
    "  - `Gender`: gender, coded as Male or Female\n",
    "  - `Stage`: coded 1-4.  Larger values of Stage indicate cancer that is harder to treat\n",
    "  - `bug1` to `bug100`: relative abundance for each bacteria (i.e., \"bug\") identified in the tumor samples. The numbers represent the proportion of the total number of bacteria per sample that were identified as a particular type; for example, a value of 0.05 in `bug1` for a patient indicates that 5% of the gut bacteria in that patient were of type `bug1`.(DNA sequencing was used to identify the species of each bug type, but for simplicity, we have not included that information.) "
   ]
  },
  {
   "cell_type": "code",
   "execution_count": null,
   "metadata": {},
   "outputs": [],
   "source": [
    "load(\"pheno_abundance.Rdata\")\n",
    "head(pheno.abundance)"
   ]
  },
  {
   "cell_type": "markdown",
   "metadata": {},
   "source": [
    "a) We can calculate the median abundance for each bug across all patients using the following `R` code:   "
   ]
  },
  {
   "cell_type": "code",
   "execution_count": null,
   "metadata": {},
   "outputs": [],
   "source": [
    "library(dplyr)\n",
    "bugMedians = pheno.abundance[,4:103] %>% summarise_all(funs(median))\n",
    "bugMedians"
   ]
  },
  {
   "cell_type": "markdown",
   "metadata": {},
   "source": [
    "To create a new variable in a data frame, we use the following code:"
   ]
  },
  {
   "cell_type": "code",
   "execution_count": null,
   "metadata": {},
   "outputs": [],
   "source": [
    "df = data.frame(medianAbundance = as.numeric(bugMedians))\n",
    "head(df)"
   ]
  },
  {
   "cell_type": "markdown",
   "metadata": {},
   "source": [
    "Create a new variable called `meanAbundance` that is equal to the **mean** abundance for each bug across all patients and explain in terms of the data what the values of this variable represent. "
   ]
  },
  {
   "cell_type": "markdown",
   "metadata": {},
   "source": [
    "b) Using both numerical and graphical summaries, describe the distribution of the mean abundance levels across all bugs."
   ]
  },
  {
   "cell_type": "markdown",
   "metadata": {},
   "source": [
    "c)  Identify the outliers in mean abundance level. Which outliers have mean relative abundances that qualify as outliers? "
   ]
  },
  {
   "cell_type": "markdown",
   "metadata": {},
   "source": [
    "d) Now considering just bug 3, use graphical and numerical summaries to describe the distribution of abundance levels across all patients for each stage of cancer. What can you conclude based on these summaries?"
   ]
  },
  {
   "cell_type": "markdown",
   "metadata": {},
   "source": [
    "#### Problem 2 (30 points)\n",
    "\n",
    "In Eastern Europe there are epidemics of both tuberculosis and HIV/AIDS. There is some research which suggests that these diseases may not occur independently. Suppose that the table below shows the probability that a randomly chosen citizen of an Eastern European country has the disease status indicated in the table.\n",
    "\n",
    "| |  **HIV Status ** | |\n",
    "|--|--|--|--|\n",
    "| **Tuberculosis** | Positive (HIV$^+$) | Negative (HIV$^-$)| \n",
    "| Present |  0.15 |   0.15  | \n",
    "| Absent |  0.10 |  0.60  | \n",
    "\n",
    "\t"
   ]
  },
  {
   "cell_type": "markdown",
   "metadata": {},
   "source": [
    "a) What is the prevalence of Tuberculosis (TB)?"
   ]
  },
  {
   "cell_type": "markdown",
   "metadata": {},
   "source": [
    "b) Suppose $A$ is the event that a randomly chosen member of the population is HIV$^+$ and $B$ is the event that a randomly chosen person has TB. Are $A$ and $B$ independent? Justify your answer."
   ]
  },
  {
   "cell_type": "markdown",
   "metadata": {},
   "source": [
    "c) Based on the definitions of $A$ and $B$ in part (b), what is the conditional probability $P(A|B)$?"
   ]
  },
  {
   "cell_type": "markdown",
   "metadata": {},
   "source": [
    "d) Among HIV$^+$ individuals, what is the probability that someone has TB?"
   ]
  },
  {
   "cell_type": "markdown",
   "metadata": {},
   "source": [
    "#### Problem 3 (15 points)\n",
    "\n",
    "Suppose a 60-year-old man who has never smoked cigarettes presents to a physician with symptoms of a chronic cough and occasional breathlessness. The physician becomes concerned and orders the patient admitted to the hospital for a lung biopsy. Suppose the results of the biopsy are consistent either with lung cancer or sarcoidosis (a fairly common, nonfatal lung disease).\n",
    "\n",
    "Let $A = \\{\\text{chronic cough, results of lung biopsy}\\}$. Partition the patient's possible disease state into: $B_1 = \\text{normal}, B_2 = \\text{lung cancer}, B_3 = \\text{sarcoidosis}$. \n",
    "\n",
    "From clinical experience, the physician estimates $P(A|B_i)$: $P(A|B_1) = .001$, $P(A|B_2) = .9$, and $P(A|B_3) = .9$. Suppose that in 60-year-old, never-smoking men $P(B_1) = .99$, $P(B_2) = .001$, and $P(B_3) = .009$. \n",
    "\n",
    "Find the probabilities of the three disease states given the previous symptoms: $P(B_1|A)$, $P(B_2|A)$, and $P(B_3|A)$. Which is the most likely?\n"
   ]
  },
  {
   "cell_type": "markdown",
   "metadata": {},
   "source": [
    "#### Problem 4 (15 points)\n",
    "\n",
    "High blood cholesterol levels increase the risk of heart disease. Young women are generally less afflicted with high\n",
    "cholesterol than other groups. The cholesterol levels for women aged 20 to 34 follow an approximately normal distribution with mean 185 milligrams per deciliter (mg/dl) and standard deviation 39 mg/dl."
   ]
  },
  {
   "cell_type": "markdown",
   "metadata": {},
   "source": [
    "a) Cholesterol levels above 240 mg/dl demand medical attention. What percent of young women have levels above 240 mg/dl?"
   ]
  },
  {
   "cell_type": "markdown",
   "metadata": {},
   "source": [
    "b) Levels above 200 mg/dl are considered borderline high. What percent of young women have blood cholesterol between 200 and 240 mg/dl?"
   ]
  }
 ],
 "metadata": {
  "kernelspec": {
   "display_name": "R",
   "language": "R",
   "name": "ir"
  },
  "language_info": {
   "codemirror_mode": "r",
   "file_extension": ".r",
   "mimetype": "text/x-r-source",
   "name": "R",
   "pygments_lexer": "r",
   "version": "3.4.3"
  }
 },
 "nbformat": 4,
 "nbformat_minor": 2
}
