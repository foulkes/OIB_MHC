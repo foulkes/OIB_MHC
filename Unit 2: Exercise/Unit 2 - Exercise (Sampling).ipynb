{
 "cells": [
  {
   "cell_type": "markdown",
   "metadata": {},
   "source": [
    "### Unit 2 - In-class exercise\n",
    "\n",
    "# Introduction\n",
    "\n",
    "Naturalists often want to estimate the sizes of populations that are difficult to measure directly.  The capture/recapture method (also referred to as mark/recapture) allows one to estimate, for example, the number of fish in a lake.\n",
    "\n",
    "## Objectives\n",
    "\n",
    "There are a few things I'd like you to learn from this lab:\n",
    "\n",
    " 1. What is the capture/recapture method?\n",
    "\n",
    " 2. What are some potential limitations of the method, and how do they relate to sampling?\n",
    "\n",
    " 3. How do methodological limitations of a sampling method affect estimates of quantities in the population we sampled from?\n",
    "\n",
    " 4. Simulation studies are a valuable tool for studying statistical methods.\n",
    "\n",
    "**Note**: In this lab, we will use a few R commands you haven't seen before.  I'd like you to try to work through and understand the R code used in this lab, but you won't be specifically responsible for knowing the new commands used in this lab for future work.  The main purpose is to use R as a tool for learning about the statistical ideas having to do with sampling in objective 3 above.\n",
    "\n",
    "## Outline\n",
    "\n",
    "We will explore the capture/recapture method in the context of estimating the total number of goldfish in a pond.  Our exploration will have four phases:\n",
    "\n",
    "1. Simulation of the method using goldfish crackers to make the ideas concrete.\n",
    "\n",
    "2. Simulation of the method using R.\n",
    "\n",
    "3. Modified simulations in R to explore how failures in the sampling process could affect the estimates of population size.\n",
    "\n",
    "4. (If time) Simulation in R to explore how the sample sizes drawn affect the estimates of population size.\n",
    "\n",
    "\n",
    "# Phase 1: A Physical Simulation \n",
    "\n",
    "#### Goal: Determine the number of \"goldfish\" in the \"pond\" \n",
    "\n",
    "#### 1. Set up\n",
    "\n",
    "You will be given a bag (the \"pond\") with an unknown number of cheddar goldfish.  This represents the population of fish in the pond.  The purpose of this excercise is to to estimate the size of this population (i.e. the number of fish in the pond).\n",
    "\n",
    "#### 2. Capture (or Mark)\n",
    "\n",
    "Draw a random sample of 30 fish from the lake.  These are the \"captured\" fish.  We're going to mark each of these fish with an identifying tag so that we will know we've captured this fish before if we see it again in the next step.  If these were real fish, we would use physical tags, but in this simulation we'll mark the fish by making them change color.  Replace each of the 30 fish you \"captured\" with a fish of the other flavor.  (The new goldfish replace the old ones -- don't put the old ones back into the pond!)\n",
    "\n",
    "#### 3. Recapture\n",
    "\n",
    "Stir the fish around in the pond so that the marked and unmarked fish are well mixed together.  Then draw a new random sample of 30 fish from the lake.  When you do this, close your eyes so that you don't introduce any bias into your sampling -- each fish should have an equal chance of being selected.  Count the number of fish in the new sample that are marked (call this number $m$).  Record this value below:"
   ]
  },
  {
   "cell_type": "markdown",
   "metadata": {},
   "source": []
  },
  {
   "cell_type": "markdown",
   "metadata": {},
   "source": [
    "#### 4. Estimate the proportion of fish in the pond that were captured in the Capture step\n",
    "\n",
    "If the fish were well mixed in between the Capture and Recapture steps, then it's reasonable to estimate the overall proportion of fish in the lake that have been marked by the proportion of fish sampled in the Recapture step that were marked.  Let's call the overall proportion of fish in the pond that were marked $p$.  Since $p$ is a number that describes (or summarizes) the entire population, it is a **population parameter**.  We sampled 30 fish in the Recapture step and $m$ of those were marked, so we could estimate the proportion of the population that was marked using the proportion of the sample that was marked:\n",
    "\n",
    "$$\\hat{p} = \\frac{m}{30}$$\n",
    "\n",
    "Since $\\hat{p}$ is calculated from the data in your sample, it is a **sample statistic**.\n",
    "\n",
    "Record your estimate below:"
   ]
  },
  {
   "cell_type": "markdown",
   "metadata": {},
   "source": []
  },
  {
   "cell_type": "markdown",
   "metadata": {},
   "source": [
    "#### 5. Estimate the total number of fish in the pond\n",
    "\n",
    "Denote the total number of fish by $N$; this is what we want to estimate ($N$ is also a population parameter).  We know that we marked 30 fish, because we captured 30 fish in the Capture step.  Therefore, the true proportion of fish that were marked is:\n",
    "\n",
    "$$p = \\frac{30}{N},$$\n",
    "\n",
    "or equvalently,\n",
    "\n",
    "$$N=\\frac{30}{p}.$$\n",
    "\n",
    "Replacing $p$ with its estimate from step 4, we can estimate $N$ by:\n",
    "\n",
    "$$\\widehat{N} = \\frac{30}{\\widehat{p}}$$\n",
    "\n",
    "Again, $\\widehat{N}$ is a sample statistic because it is calculated based on the data in our sample.\n",
    "\n",
    "Record your estimate of $N$ below:"
   ]
  },
  {
   "cell_type": "markdown",
   "metadata": {},
   "source": []
  },
  {
   "cell_type": "markdown",
   "metadata": {},
   "source": [
    "#### 6. Put your estimates of $p$ and $N$ on the board\n",
    "\n",
    "#### 7. Brainstorm some possible limitations of the Capture/Recapture method outlined here.  Think about the different sampling schemes and common sampling mistakes."
   ]
  },
  {
   "cell_type": "markdown",
   "metadata": {},
   "source": []
  },
  {
   "cell_type": "markdown",
   "metadata": {},
   "source": [
    "# Phase 2: Simulation in R\n",
    "\n",
    "## 2a: A single simulation in R\n",
    "\n",
    "In this section, we will see how you could do each step of the physical simulation from Phase 1 in R.  We will use the following packages:"
   ]
  },
  {
   "cell_type": "code",
   "execution_count": 56,
   "metadata": {},
   "outputs": [],
   "source": [
    "library(ggplot2)\n",
    "library(dplyr)\n",
    "library(mosaic)"
   ]
  },
  {
   "cell_type": "markdown",
   "metadata": {},
   "source": [
    "#### 1. Set up\n",
    "\n",
    "We first define three variables that will determine the total number of fish in the pond, how many fish we catch and mark in the Capture step, and how many we catch in the Recapture step.  Then we create a data frame called `pond_population` with two variables in it:\n",
    "\n",
    " 1. a unique `id` for each fish in the pond (the numbers 1 through N)\n",
    " 2. a variable called `marked`, which will be 0 if the fish has not been marked and 1 if the fish has been marked.  To start, all fish are unmarked.\n",
    "\n",
    "Run the code below, and then take a look at the `pond_population` data frame and make sure you understand what it represents."
   ]
  },
  {
   "cell_type": "code",
   "execution_count": 60,
   "metadata": {},
   "outputs": [
    {
     "data": {
      "text/html": [
       "<table>\n",
       "<thead><tr><th scope=col>fish_id</th><th scope=col>marked</th></tr></thead>\n",
       "<tbody>\n",
       "\t<tr><td> 1</td><td>0 </td></tr>\n",
       "\t<tr><td> 2</td><td>0 </td></tr>\n",
       "\t<tr><td> 3</td><td>0 </td></tr>\n",
       "\t<tr><td> 4</td><td>0 </td></tr>\n",
       "\t<tr><td> 5</td><td>0 </td></tr>\n",
       "\t<tr><td> 6</td><td>0 </td></tr>\n",
       "\t<tr><td> 7</td><td>0 </td></tr>\n",
       "\t<tr><td> 8</td><td>0 </td></tr>\n",
       "\t<tr><td> 9</td><td>0 </td></tr>\n",
       "\t<tr><td>10</td><td>0 </td></tr>\n",
       "\t<tr><td>11</td><td>0 </td></tr>\n",
       "\t<tr><td>12</td><td>0 </td></tr>\n",
       "\t<tr><td>13</td><td>0 </td></tr>\n",
       "\t<tr><td>14</td><td>0 </td></tr>\n",
       "\t<tr><td>15</td><td>0 </td></tr>\n",
       "\t<tr><td>16</td><td>0 </td></tr>\n",
       "\t<tr><td>17</td><td>0 </td></tr>\n",
       "\t<tr><td>18</td><td>0 </td></tr>\n",
       "\t<tr><td>19</td><td>0 </td></tr>\n",
       "\t<tr><td>20</td><td>0 </td></tr>\n",
       "\t<tr><td>21</td><td>0 </td></tr>\n",
       "\t<tr><td>22</td><td>0 </td></tr>\n",
       "\t<tr><td>23</td><td>0 </td></tr>\n",
       "\t<tr><td>24</td><td>0 </td></tr>\n",
       "\t<tr><td>25</td><td>0 </td></tr>\n",
       "\t<tr><td>26</td><td>0 </td></tr>\n",
       "\t<tr><td>27</td><td>0 </td></tr>\n",
       "\t<tr><td>28</td><td>0 </td></tr>\n",
       "\t<tr><td>29</td><td>0 </td></tr>\n",
       "\t<tr><td>30</td><td>0 </td></tr>\n",
       "\t<tr><td>⋮</td><td>⋮</td></tr>\n",
       "\t<tr><td> 71</td><td>0  </td></tr>\n",
       "\t<tr><td> 72</td><td>0  </td></tr>\n",
       "\t<tr><td> 73</td><td>0  </td></tr>\n",
       "\t<tr><td> 74</td><td>0  </td></tr>\n",
       "\t<tr><td> 75</td><td>0  </td></tr>\n",
       "\t<tr><td> 76</td><td>0  </td></tr>\n",
       "\t<tr><td> 77</td><td>0  </td></tr>\n",
       "\t<tr><td> 78</td><td>0  </td></tr>\n",
       "\t<tr><td> 79</td><td>0  </td></tr>\n",
       "\t<tr><td> 80</td><td>0  </td></tr>\n",
       "\t<tr><td> 81</td><td>0  </td></tr>\n",
       "\t<tr><td> 82</td><td>0  </td></tr>\n",
       "\t<tr><td> 83</td><td>0  </td></tr>\n",
       "\t<tr><td> 84</td><td>0  </td></tr>\n",
       "\t<tr><td> 85</td><td>0  </td></tr>\n",
       "\t<tr><td> 86</td><td>0  </td></tr>\n",
       "\t<tr><td> 87</td><td>0  </td></tr>\n",
       "\t<tr><td> 88</td><td>0  </td></tr>\n",
       "\t<tr><td> 89</td><td>0  </td></tr>\n",
       "\t<tr><td> 90</td><td>0  </td></tr>\n",
       "\t<tr><td> 91</td><td>0  </td></tr>\n",
       "\t<tr><td> 92</td><td>0  </td></tr>\n",
       "\t<tr><td> 93</td><td>0  </td></tr>\n",
       "\t<tr><td> 94</td><td>0  </td></tr>\n",
       "\t<tr><td> 95</td><td>0  </td></tr>\n",
       "\t<tr><td> 96</td><td>0  </td></tr>\n",
       "\t<tr><td> 97</td><td>0  </td></tr>\n",
       "\t<tr><td> 98</td><td>0  </td></tr>\n",
       "\t<tr><td> 99</td><td>0  </td></tr>\n",
       "\t<tr><td>100</td><td>0  </td></tr>\n",
       "</tbody>\n",
       "</table>\n"
      ],
      "text/latex": [
       "\\begin{tabular}{r|ll}\n",
       " fish\\_id & marked\\\\\n",
       "\\hline\n",
       "\t  1 & 0 \\\\\n",
       "\t  2 & 0 \\\\\n",
       "\t  3 & 0 \\\\\n",
       "\t  4 & 0 \\\\\n",
       "\t  5 & 0 \\\\\n",
       "\t  6 & 0 \\\\\n",
       "\t  7 & 0 \\\\\n",
       "\t  8 & 0 \\\\\n",
       "\t  9 & 0 \\\\\n",
       "\t 10 & 0 \\\\\n",
       "\t 11 & 0 \\\\\n",
       "\t 12 & 0 \\\\\n",
       "\t 13 & 0 \\\\\n",
       "\t 14 & 0 \\\\\n",
       "\t 15 & 0 \\\\\n",
       "\t 16 & 0 \\\\\n",
       "\t 17 & 0 \\\\\n",
       "\t 18 & 0 \\\\\n",
       "\t 19 & 0 \\\\\n",
       "\t 20 & 0 \\\\\n",
       "\t 21 & 0 \\\\\n",
       "\t 22 & 0 \\\\\n",
       "\t 23 & 0 \\\\\n",
       "\t 24 & 0 \\\\\n",
       "\t 25 & 0 \\\\\n",
       "\t 26 & 0 \\\\\n",
       "\t 27 & 0 \\\\\n",
       "\t 28 & 0 \\\\\n",
       "\t 29 & 0 \\\\\n",
       "\t 30 & 0 \\\\\n",
       "\t ⋮ & ⋮\\\\\n",
       "\t  71 & 0  \\\\\n",
       "\t  72 & 0  \\\\\n",
       "\t  73 & 0  \\\\\n",
       "\t  74 & 0  \\\\\n",
       "\t  75 & 0  \\\\\n",
       "\t  76 & 0  \\\\\n",
       "\t  77 & 0  \\\\\n",
       "\t  78 & 0  \\\\\n",
       "\t  79 & 0  \\\\\n",
       "\t  80 & 0  \\\\\n",
       "\t  81 & 0  \\\\\n",
       "\t  82 & 0  \\\\\n",
       "\t  83 & 0  \\\\\n",
       "\t  84 & 0  \\\\\n",
       "\t  85 & 0  \\\\\n",
       "\t  86 & 0  \\\\\n",
       "\t  87 & 0  \\\\\n",
       "\t  88 & 0  \\\\\n",
       "\t  89 & 0  \\\\\n",
       "\t  90 & 0  \\\\\n",
       "\t  91 & 0  \\\\\n",
       "\t  92 & 0  \\\\\n",
       "\t  93 & 0  \\\\\n",
       "\t  94 & 0  \\\\\n",
       "\t  95 & 0  \\\\\n",
       "\t  96 & 0  \\\\\n",
       "\t  97 & 0  \\\\\n",
       "\t  98 & 0  \\\\\n",
       "\t  99 & 0  \\\\\n",
       "\t 100 & 0  \\\\\n",
       "\\end{tabular}\n"
      ],
      "text/markdown": [
       "\n",
       "fish_id | marked | \n",
       "|---|---|---|---|---|---|---|---|---|---|---|---|---|---|---|---|---|---|---|---|---|---|---|---|---|---|---|---|---|---|---|---|---|---|---|---|---|---|---|---|---|---|---|---|---|---|---|---|---|---|---|---|---|---|---|---|---|---|---|---|---|\n",
       "|  1 | 0  | \n",
       "|  2 | 0  | \n",
       "|  3 | 0  | \n",
       "|  4 | 0  | \n",
       "|  5 | 0  | \n",
       "|  6 | 0  | \n",
       "|  7 | 0  | \n",
       "|  8 | 0  | \n",
       "|  9 | 0  | \n",
       "| 10 | 0  | \n",
       "| 11 | 0  | \n",
       "| 12 | 0  | \n",
       "| 13 | 0  | \n",
       "| 14 | 0  | \n",
       "| 15 | 0  | \n",
       "| 16 | 0  | \n",
       "| 17 | 0  | \n",
       "| 18 | 0  | \n",
       "| 19 | 0  | \n",
       "| 20 | 0  | \n",
       "| 21 | 0  | \n",
       "| 22 | 0  | \n",
       "| 23 | 0  | \n",
       "| 24 | 0  | \n",
       "| 25 | 0  | \n",
       "| 26 | 0  | \n",
       "| 27 | 0  | \n",
       "| 28 | 0  | \n",
       "| 29 | 0  | \n",
       "| 30 | 0  | \n",
       "| ⋮ | ⋮ | \n",
       "|  71 | 0   | \n",
       "|  72 | 0   | \n",
       "|  73 | 0   | \n",
       "|  74 | 0   | \n",
       "|  75 | 0   | \n",
       "|  76 | 0   | \n",
       "|  77 | 0   | \n",
       "|  78 | 0   | \n",
       "|  79 | 0   | \n",
       "|  80 | 0   | \n",
       "|  81 | 0   | \n",
       "|  82 | 0   | \n",
       "|  83 | 0   | \n",
       "|  84 | 0   | \n",
       "|  85 | 0   | \n",
       "|  86 | 0   | \n",
       "|  87 | 0   | \n",
       "|  88 | 0   | \n",
       "|  89 | 0   | \n",
       "|  90 | 0   | \n",
       "|  91 | 0   | \n",
       "|  92 | 0   | \n",
       "|  93 | 0   | \n",
       "|  94 | 0   | \n",
       "|  95 | 0   | \n",
       "|  96 | 0   | \n",
       "|  97 | 0   | \n",
       "|  98 | 0   | \n",
       "|  99 | 0   | \n",
       "| 100 | 0   | \n",
       "\n",
       "\n"
      ],
      "text/plain": [
       "    fish_id marked\n",
       "1    1      0     \n",
       "2    2      0     \n",
       "3    3      0     \n",
       "4    4      0     \n",
       "5    5      0     \n",
       "6    6      0     \n",
       "7    7      0     \n",
       "8    8      0     \n",
       "9    9      0     \n",
       "10  10      0     \n",
       "11  11      0     \n",
       "12  12      0     \n",
       "13  13      0     \n",
       "14  14      0     \n",
       "15  15      0     \n",
       "16  16      0     \n",
       "17  17      0     \n",
       "18  18      0     \n",
       "19  19      0     \n",
       "20  20      0     \n",
       "21  21      0     \n",
       "22  22      0     \n",
       "23  23      0     \n",
       "24  24      0     \n",
       "25  25      0     \n",
       "26  26      0     \n",
       "27  27      0     \n",
       "28  28      0     \n",
       "29  29      0     \n",
       "30  30      0     \n",
       "⋮   ⋮       ⋮     \n",
       "71   71     0     \n",
       "72   72     0     \n",
       "73   73     0     \n",
       "74   74     0     \n",
       "75   75     0     \n",
       "76   76     0     \n",
       "77   77     0     \n",
       "78   78     0     \n",
       "79   79     0     \n",
       "80   80     0     \n",
       "81   81     0     \n",
       "82   82     0     \n",
       "83   83     0     \n",
       "84   84     0     \n",
       "85   85     0     \n",
       "86   86     0     \n",
       "87   87     0     \n",
       "88   88     0     \n",
       "89   89     0     \n",
       "90   90     0     \n",
       "91   91     0     \n",
       "92   92     0     \n",
       "93   93     0     \n",
       "94   94     0     \n",
       "95   95     0     \n",
       "96   96     0     \n",
       "97   97     0     \n",
       "98   98     0     \n",
       "99   99     0     \n",
       "100 100     0     "
      ]
     },
     "metadata": {},
     "output_type": "display_data"
    }
   ],
   "source": [
    "N <- 100 # number of fish in the pond\n",
    "C <- 30 # number of fish to sample in the Capture step\n",
    "R <- 30 # number of fish to sample in the Recapture step\n",
    "\n",
    "# Make a data frame to represent the population of all fish in the pond.\n",
    "pond_population <- data.frame(\n",
    "  fish_id = seq(from = 1, to = N),\n",
    "  marked = rep(0, N)\n",
    ")\n",
    "\n",
    "pond_population"
   ]
  },
  {
   "cell_type": "markdown",
   "metadata": {},
   "source": [
    "#### 2. Capture (or Mark)\n",
    "\n",
    "In the capture step, we capture $C$ fish and mark them.\n",
    "\n",
    "In R, we simulate capturing the fish by randomly sampling $C$ of the fish ids.\n",
    "Then, we update the `marked` variable for those fish, setting it equal to 1.\n",
    "\n",
    "Run the R code below, then look at the output to see what's changed.  Specifically, compare the `captured_fish_ids` to which fish have been `marked` in the updated `pond_population`."
   ]
  },
  {
   "cell_type": "code",
   "execution_count": 61,
   "metadata": {
    "code_folding": []
   },
   "outputs": [
    {
     "data": {
      "text/html": [
       "<ol class=list-inline>\n",
       "\t<li>49</li>\n",
       "\t<li>72</li>\n",
       "\t<li>78</li>\n",
       "\t<li>48</li>\n",
       "\t<li>92</li>\n",
       "\t<li>25</li>\n",
       "\t<li>28</li>\n",
       "\t<li>26</li>\n",
       "\t<li>27</li>\n",
       "\t<li>66</li>\n",
       "\t<li>22</li>\n",
       "\t<li>67</li>\n",
       "\t<li>69</li>\n",
       "\t<li>82</li>\n",
       "\t<li>88</li>\n",
       "\t<li>7</li>\n",
       "\t<li>45</li>\n",
       "\t<li>86</li>\n",
       "\t<li>1</li>\n",
       "\t<li>12</li>\n",
       "\t<li>39</li>\n",
       "\t<li>51</li>\n",
       "\t<li>9</li>\n",
       "\t<li>4</li>\n",
       "\t<li>77</li>\n",
       "\t<li>31</li>\n",
       "\t<li>24</li>\n",
       "\t<li>89</li>\n",
       "\t<li>73</li>\n",
       "\t<li>42</li>\n",
       "</ol>\n"
      ],
      "text/latex": [
       "\\begin{enumerate*}\n",
       "\\item 49\n",
       "\\item 72\n",
       "\\item 78\n",
       "\\item 48\n",
       "\\item 92\n",
       "\\item 25\n",
       "\\item 28\n",
       "\\item 26\n",
       "\\item 27\n",
       "\\item 66\n",
       "\\item 22\n",
       "\\item 67\n",
       "\\item 69\n",
       "\\item 82\n",
       "\\item 88\n",
       "\\item 7\n",
       "\\item 45\n",
       "\\item 86\n",
       "\\item 1\n",
       "\\item 12\n",
       "\\item 39\n",
       "\\item 51\n",
       "\\item 9\n",
       "\\item 4\n",
       "\\item 77\n",
       "\\item 31\n",
       "\\item 24\n",
       "\\item 89\n",
       "\\item 73\n",
       "\\item 42\n",
       "\\end{enumerate*}\n"
      ],
      "text/markdown": [
       "1. 49\n",
       "2. 72\n",
       "3. 78\n",
       "4. 48\n",
       "5. 92\n",
       "6. 25\n",
       "7. 28\n",
       "8. 26\n",
       "9. 27\n",
       "10. 66\n",
       "11. 22\n",
       "12. 67\n",
       "13. 69\n",
       "14. 82\n",
       "15. 88\n",
       "16. 7\n",
       "17. 45\n",
       "18. 86\n",
       "19. 1\n",
       "20. 12\n",
       "21. 39\n",
       "22. 51\n",
       "23. 9\n",
       "24. 4\n",
       "25. 77\n",
       "26. 31\n",
       "27. 24\n",
       "28. 89\n",
       "29. 73\n",
       "30. 42\n",
       "\n",
       "\n"
      ],
      "text/plain": [
       " [1] 49 72 78 48 92 25 28 26 27 66 22 67 69 82 88  7 45 86  1 12 39 51  9  4 77\n",
       "[26] 31 24 89 73 42"
      ]
     },
     "metadata": {},
     "output_type": "display_data"
    },
    {
     "data": {
      "text/html": [
       "<table>\n",
       "<thead><tr><th scope=col>fish_id</th><th scope=col>marked</th></tr></thead>\n",
       "<tbody>\n",
       "\t<tr><td> 1</td><td>1 </td></tr>\n",
       "\t<tr><td> 2</td><td>0 </td></tr>\n",
       "\t<tr><td> 3</td><td>0 </td></tr>\n",
       "\t<tr><td> 4</td><td>1 </td></tr>\n",
       "\t<tr><td> 5</td><td>0 </td></tr>\n",
       "\t<tr><td> 6</td><td>0 </td></tr>\n",
       "\t<tr><td> 7</td><td>1 </td></tr>\n",
       "\t<tr><td> 8</td><td>0 </td></tr>\n",
       "\t<tr><td> 9</td><td>1 </td></tr>\n",
       "\t<tr><td>10</td><td>0 </td></tr>\n",
       "\t<tr><td>11</td><td>0 </td></tr>\n",
       "\t<tr><td>12</td><td>1 </td></tr>\n",
       "\t<tr><td>13</td><td>0 </td></tr>\n",
       "\t<tr><td>14</td><td>0 </td></tr>\n",
       "\t<tr><td>15</td><td>0 </td></tr>\n",
       "\t<tr><td>16</td><td>0 </td></tr>\n",
       "\t<tr><td>17</td><td>0 </td></tr>\n",
       "\t<tr><td>18</td><td>0 </td></tr>\n",
       "\t<tr><td>19</td><td>0 </td></tr>\n",
       "\t<tr><td>20</td><td>0 </td></tr>\n",
       "\t<tr><td>21</td><td>0 </td></tr>\n",
       "\t<tr><td>22</td><td>1 </td></tr>\n",
       "\t<tr><td>23</td><td>0 </td></tr>\n",
       "\t<tr><td>24</td><td>1 </td></tr>\n",
       "\t<tr><td>25</td><td>1 </td></tr>\n",
       "\t<tr><td>26</td><td>1 </td></tr>\n",
       "\t<tr><td>27</td><td>1 </td></tr>\n",
       "\t<tr><td>28</td><td>1 </td></tr>\n",
       "\t<tr><td>29</td><td>0 </td></tr>\n",
       "\t<tr><td>30</td><td>0 </td></tr>\n",
       "\t<tr><td>⋮</td><td>⋮</td></tr>\n",
       "\t<tr><td> 71</td><td>0  </td></tr>\n",
       "\t<tr><td> 72</td><td>1  </td></tr>\n",
       "\t<tr><td> 73</td><td>1  </td></tr>\n",
       "\t<tr><td> 74</td><td>0  </td></tr>\n",
       "\t<tr><td> 75</td><td>0  </td></tr>\n",
       "\t<tr><td> 76</td><td>0  </td></tr>\n",
       "\t<tr><td> 77</td><td>1  </td></tr>\n",
       "\t<tr><td> 78</td><td>1  </td></tr>\n",
       "\t<tr><td> 79</td><td>0  </td></tr>\n",
       "\t<tr><td> 80</td><td>0  </td></tr>\n",
       "\t<tr><td> 81</td><td>0  </td></tr>\n",
       "\t<tr><td> 82</td><td>1  </td></tr>\n",
       "\t<tr><td> 83</td><td>0  </td></tr>\n",
       "\t<tr><td> 84</td><td>0  </td></tr>\n",
       "\t<tr><td> 85</td><td>0  </td></tr>\n",
       "\t<tr><td> 86</td><td>1  </td></tr>\n",
       "\t<tr><td> 87</td><td>0  </td></tr>\n",
       "\t<tr><td> 88</td><td>1  </td></tr>\n",
       "\t<tr><td> 89</td><td>1  </td></tr>\n",
       "\t<tr><td> 90</td><td>0  </td></tr>\n",
       "\t<tr><td> 91</td><td>0  </td></tr>\n",
       "\t<tr><td> 92</td><td>1  </td></tr>\n",
       "\t<tr><td> 93</td><td>0  </td></tr>\n",
       "\t<tr><td> 94</td><td>0  </td></tr>\n",
       "\t<tr><td> 95</td><td>0  </td></tr>\n",
       "\t<tr><td> 96</td><td>0  </td></tr>\n",
       "\t<tr><td> 97</td><td>0  </td></tr>\n",
       "\t<tr><td> 98</td><td>0  </td></tr>\n",
       "\t<tr><td> 99</td><td>0  </td></tr>\n",
       "\t<tr><td>100</td><td>0  </td></tr>\n",
       "</tbody>\n",
       "</table>\n"
      ],
      "text/latex": [
       "\\begin{tabular}{r|ll}\n",
       " fish\\_id & marked\\\\\n",
       "\\hline\n",
       "\t  1 & 1 \\\\\n",
       "\t  2 & 0 \\\\\n",
       "\t  3 & 0 \\\\\n",
       "\t  4 & 1 \\\\\n",
       "\t  5 & 0 \\\\\n",
       "\t  6 & 0 \\\\\n",
       "\t  7 & 1 \\\\\n",
       "\t  8 & 0 \\\\\n",
       "\t  9 & 1 \\\\\n",
       "\t 10 & 0 \\\\\n",
       "\t 11 & 0 \\\\\n",
       "\t 12 & 1 \\\\\n",
       "\t 13 & 0 \\\\\n",
       "\t 14 & 0 \\\\\n",
       "\t 15 & 0 \\\\\n",
       "\t 16 & 0 \\\\\n",
       "\t 17 & 0 \\\\\n",
       "\t 18 & 0 \\\\\n",
       "\t 19 & 0 \\\\\n",
       "\t 20 & 0 \\\\\n",
       "\t 21 & 0 \\\\\n",
       "\t 22 & 1 \\\\\n",
       "\t 23 & 0 \\\\\n",
       "\t 24 & 1 \\\\\n",
       "\t 25 & 1 \\\\\n",
       "\t 26 & 1 \\\\\n",
       "\t 27 & 1 \\\\\n",
       "\t 28 & 1 \\\\\n",
       "\t 29 & 0 \\\\\n",
       "\t 30 & 0 \\\\\n",
       "\t ⋮ & ⋮\\\\\n",
       "\t  71 & 0  \\\\\n",
       "\t  72 & 1  \\\\\n",
       "\t  73 & 1  \\\\\n",
       "\t  74 & 0  \\\\\n",
       "\t  75 & 0  \\\\\n",
       "\t  76 & 0  \\\\\n",
       "\t  77 & 1  \\\\\n",
       "\t  78 & 1  \\\\\n",
       "\t  79 & 0  \\\\\n",
       "\t  80 & 0  \\\\\n",
       "\t  81 & 0  \\\\\n",
       "\t  82 & 1  \\\\\n",
       "\t  83 & 0  \\\\\n",
       "\t  84 & 0  \\\\\n",
       "\t  85 & 0  \\\\\n",
       "\t  86 & 1  \\\\\n",
       "\t  87 & 0  \\\\\n",
       "\t  88 & 1  \\\\\n",
       "\t  89 & 1  \\\\\n",
       "\t  90 & 0  \\\\\n",
       "\t  91 & 0  \\\\\n",
       "\t  92 & 1  \\\\\n",
       "\t  93 & 0  \\\\\n",
       "\t  94 & 0  \\\\\n",
       "\t  95 & 0  \\\\\n",
       "\t  96 & 0  \\\\\n",
       "\t  97 & 0  \\\\\n",
       "\t  98 & 0  \\\\\n",
       "\t  99 & 0  \\\\\n",
       "\t 100 & 0  \\\\\n",
       "\\end{tabular}\n"
      ],
      "text/markdown": [
       "\n",
       "fish_id | marked | \n",
       "|---|---|---|---|---|---|---|---|---|---|---|---|---|---|---|---|---|---|---|---|---|---|---|---|---|---|---|---|---|---|---|---|---|---|---|---|---|---|---|---|---|---|---|---|---|---|---|---|---|---|---|---|---|---|---|---|---|---|---|---|---|\n",
       "|  1 | 1  | \n",
       "|  2 | 0  | \n",
       "|  3 | 0  | \n",
       "|  4 | 1  | \n",
       "|  5 | 0  | \n",
       "|  6 | 0  | \n",
       "|  7 | 1  | \n",
       "|  8 | 0  | \n",
       "|  9 | 1  | \n",
       "| 10 | 0  | \n",
       "| 11 | 0  | \n",
       "| 12 | 1  | \n",
       "| 13 | 0  | \n",
       "| 14 | 0  | \n",
       "| 15 | 0  | \n",
       "| 16 | 0  | \n",
       "| 17 | 0  | \n",
       "| 18 | 0  | \n",
       "| 19 | 0  | \n",
       "| 20 | 0  | \n",
       "| 21 | 0  | \n",
       "| 22 | 1  | \n",
       "| 23 | 0  | \n",
       "| 24 | 1  | \n",
       "| 25 | 1  | \n",
       "| 26 | 1  | \n",
       "| 27 | 1  | \n",
       "| 28 | 1  | \n",
       "| 29 | 0  | \n",
       "| 30 | 0  | \n",
       "| ⋮ | ⋮ | \n",
       "|  71 | 0   | \n",
       "|  72 | 1   | \n",
       "|  73 | 1   | \n",
       "|  74 | 0   | \n",
       "|  75 | 0   | \n",
       "|  76 | 0   | \n",
       "|  77 | 1   | \n",
       "|  78 | 1   | \n",
       "|  79 | 0   | \n",
       "|  80 | 0   | \n",
       "|  81 | 0   | \n",
       "|  82 | 1   | \n",
       "|  83 | 0   | \n",
       "|  84 | 0   | \n",
       "|  85 | 0   | \n",
       "|  86 | 1   | \n",
       "|  87 | 0   | \n",
       "|  88 | 1   | \n",
       "|  89 | 1   | \n",
       "|  90 | 0   | \n",
       "|  91 | 0   | \n",
       "|  92 | 1   | \n",
       "|  93 | 0   | \n",
       "|  94 | 0   | \n",
       "|  95 | 0   | \n",
       "|  96 | 0   | \n",
       "|  97 | 0   | \n",
       "|  98 | 0   | \n",
       "|  99 | 0   | \n",
       "| 100 | 0   | \n",
       "\n",
       "\n"
      ],
      "text/plain": [
       "    fish_id marked\n",
       "1    1      1     \n",
       "2    2      0     \n",
       "3    3      0     \n",
       "4    4      1     \n",
       "5    5      0     \n",
       "6    6      0     \n",
       "7    7      1     \n",
       "8    8      0     \n",
       "9    9      1     \n",
       "10  10      0     \n",
       "11  11      0     \n",
       "12  12      1     \n",
       "13  13      0     \n",
       "14  14      0     \n",
       "15  15      0     \n",
       "16  16      0     \n",
       "17  17      0     \n",
       "18  18      0     \n",
       "19  19      0     \n",
       "20  20      0     \n",
       "21  21      0     \n",
       "22  22      1     \n",
       "23  23      0     \n",
       "24  24      1     \n",
       "25  25      1     \n",
       "26  26      1     \n",
       "27  27      1     \n",
       "28  28      1     \n",
       "29  29      0     \n",
       "30  30      0     \n",
       "⋮   ⋮       ⋮     \n",
       "71   71     0     \n",
       "72   72     1     \n",
       "73   73     1     \n",
       "74   74     0     \n",
       "75   75     0     \n",
       "76   76     0     \n",
       "77   77     1     \n",
       "78   78     1     \n",
       "79   79     0     \n",
       "80   80     0     \n",
       "81   81     0     \n",
       "82   82     1     \n",
       "83   83     0     \n",
       "84   84     0     \n",
       "85   85     0     \n",
       "86   86     1     \n",
       "87   87     0     \n",
       "88   88     1     \n",
       "89   89     1     \n",
       "90   90     0     \n",
       "91   91     0     \n",
       "92   92     1     \n",
       "93   93     0     \n",
       "94   94     0     \n",
       "95   95     0     \n",
       "96   96     0     \n",
       "97   97     0     \n",
       "98   98     0     \n",
       "99   99     0     \n",
       "100 100     0     "
      ]
     },
     "metadata": {},
     "output_type": "display_data"
    }
   ],
   "source": [
    "# Capture Step: capture C fish and mark them\n",
    "#captured_fish_ids <- sample_n(pond_population, size=C, replace = FALSE, weight = NULL)\n",
    "captured_fish_ids <- sample(pond_population$fish_id, size = C)\n",
    "pond_population$marked[captured_fish_ids] <- 1\n",
    "\n",
    "captured_fish_ids\n",
    "pond_population"
   ]
  },
  {
   "cell_type": "code",
   "execution_count": null,
   "metadata": {},
   "outputs": [],
   "source": []
  },
  {
   "cell_type": "markdown",
   "metadata": {},
   "source": [
    "#### 3. Recapture\n",
    "\n",
    "In the recapture step, we capture $R$ fish.  Among those $R$ fish, we count the number that were marked.\n",
    "\n",
    "In R, we again simulate capturing the fish by randomly sampling $R$ of the fish `id`s.\n",
    "Then, we count the number of those fish that were captured by adding up the values of the `marked` variable for those captured fish, and save that count in a variable called `m`.  Remember that in steps 1 and 2 above we set up the marked variable so that it is 0 for unmarked fish and 1 for marked fish.  That means that if I add up these values for the fish in my sample, I get a count of how many fish in the sample were `marked`.\n",
    "\n",
    "Run the R code below, then look at the `recaptured_fish_ids` and `m`."
   ]
  },
  {
   "cell_type": "code",
   "execution_count": 62,
   "metadata": {},
   "outputs": [
    {
     "data": {
      "text/html": [
       "<ol class=list-inline>\n",
       "\t<li>1</li>\n",
       "\t<li>0</li>\n",
       "\t<li>1</li>\n",
       "\t<li>1</li>\n",
       "\t<li>0</li>\n",
       "\t<li>0</li>\n",
       "\t<li>0</li>\n",
       "\t<li>0</li>\n",
       "\t<li>1</li>\n",
       "\t<li>0</li>\n",
       "\t<li>0</li>\n",
       "\t<li>0</li>\n",
       "\t<li>0</li>\n",
       "\t<li>0</li>\n",
       "\t<li>1</li>\n",
       "\t<li>1</li>\n",
       "\t<li>0</li>\n",
       "\t<li>0</li>\n",
       "\t<li>1</li>\n",
       "\t<li>1</li>\n",
       "\t<li>1</li>\n",
       "\t<li>0</li>\n",
       "\t<li>0</li>\n",
       "\t<li>0</li>\n",
       "\t<li>0</li>\n",
       "\t<li>0</li>\n",
       "\t<li>0</li>\n",
       "\t<li>0</li>\n",
       "\t<li>1</li>\n",
       "\t<li>0</li>\n",
       "</ol>\n"
      ],
      "text/latex": [
       "\\begin{enumerate*}\n",
       "\\item 1\n",
       "\\item 0\n",
       "\\item 1\n",
       "\\item 1\n",
       "\\item 0\n",
       "\\item 0\n",
       "\\item 0\n",
       "\\item 0\n",
       "\\item 1\n",
       "\\item 0\n",
       "\\item 0\n",
       "\\item 0\n",
       "\\item 0\n",
       "\\item 0\n",
       "\\item 1\n",
       "\\item 1\n",
       "\\item 0\n",
       "\\item 0\n",
       "\\item 1\n",
       "\\item 1\n",
       "\\item 1\n",
       "\\item 0\n",
       "\\item 0\n",
       "\\item 0\n",
       "\\item 0\n",
       "\\item 0\n",
       "\\item 0\n",
       "\\item 0\n",
       "\\item 1\n",
       "\\item 0\n",
       "\\end{enumerate*}\n"
      ],
      "text/markdown": [
       "1. 1\n",
       "2. 0\n",
       "3. 1\n",
       "4. 1\n",
       "5. 0\n",
       "6. 0\n",
       "7. 0\n",
       "8. 0\n",
       "9. 1\n",
       "10. 0\n",
       "11. 0\n",
       "12. 0\n",
       "13. 0\n",
       "14. 0\n",
       "15. 1\n",
       "16. 1\n",
       "17. 0\n",
       "18. 0\n",
       "19. 1\n",
       "20. 1\n",
       "21. 1\n",
       "22. 0\n",
       "23. 0\n",
       "24. 0\n",
       "25. 0\n",
       "26. 0\n",
       "27. 0\n",
       "28. 0\n",
       "29. 1\n",
       "30. 0\n",
       "\n",
       "\n"
      ],
      "text/plain": [
       " [1] 1 0 1 1 0 0 0 0 1 0 0 0 0 0 1 1 0 0 1 1 1 0 0 0 0 0 0 0 1 0"
      ]
     },
     "metadata": {},
     "output_type": "display_data"
    },
    {
     "data": {
      "text/html": [
       "<ol class=list-inline>\n",
       "\t<li>42</li>\n",
       "\t<li>61</li>\n",
       "\t<li>25</li>\n",
       "\t<li>82</li>\n",
       "\t<li>99</li>\n",
       "\t<li>14</li>\n",
       "\t<li>19</li>\n",
       "\t<li>5</li>\n",
       "\t<li>48</li>\n",
       "\t<li>93</li>\n",
       "\t<li>50</li>\n",
       "\t<li>100</li>\n",
       "\t<li>32</li>\n",
       "\t<li>81</li>\n",
       "\t<li>66</li>\n",
       "\t<li>69</li>\n",
       "\t<li>94</li>\n",
       "\t<li>11</li>\n",
       "\t<li>26</li>\n",
       "\t<li>9</li>\n",
       "\t<li>24</li>\n",
       "\t<li>80</li>\n",
       "\t<li>68</li>\n",
       "\t<li>17</li>\n",
       "\t<li>43</li>\n",
       "\t<li>85</li>\n",
       "\t<li>23</li>\n",
       "\t<li>20</li>\n",
       "\t<li>22</li>\n",
       "\t<li>54</li>\n",
       "</ol>\n"
      ],
      "text/latex": [
       "\\begin{enumerate*}\n",
       "\\item 42\n",
       "\\item 61\n",
       "\\item 25\n",
       "\\item 82\n",
       "\\item 99\n",
       "\\item 14\n",
       "\\item 19\n",
       "\\item 5\n",
       "\\item 48\n",
       "\\item 93\n",
       "\\item 50\n",
       "\\item 100\n",
       "\\item 32\n",
       "\\item 81\n",
       "\\item 66\n",
       "\\item 69\n",
       "\\item 94\n",
       "\\item 11\n",
       "\\item 26\n",
       "\\item 9\n",
       "\\item 24\n",
       "\\item 80\n",
       "\\item 68\n",
       "\\item 17\n",
       "\\item 43\n",
       "\\item 85\n",
       "\\item 23\n",
       "\\item 20\n",
       "\\item 22\n",
       "\\item 54\n",
       "\\end{enumerate*}\n"
      ],
      "text/markdown": [
       "1. 42\n",
       "2. 61\n",
       "3. 25\n",
       "4. 82\n",
       "5. 99\n",
       "6. 14\n",
       "7. 19\n",
       "8. 5\n",
       "9. 48\n",
       "10. 93\n",
       "11. 50\n",
       "12. 100\n",
       "13. 32\n",
       "14. 81\n",
       "15. 66\n",
       "16. 69\n",
       "17. 94\n",
       "18. 11\n",
       "19. 26\n",
       "20. 9\n",
       "21. 24\n",
       "22. 80\n",
       "23. 68\n",
       "24. 17\n",
       "25. 43\n",
       "26. 85\n",
       "27. 23\n",
       "28. 20\n",
       "29. 22\n",
       "30. 54\n",
       "\n",
       "\n"
      ],
      "text/plain": [
       " [1]  42  61  25  82  99  14  19   5  48  93  50 100  32  81  66  69  94  11  26\n",
       "[20]   9  24  80  68  17  43  85  23  20  22  54"
      ]
     },
     "metadata": {},
     "output_type": "display_data"
    },
    {
     "data": {
      "text/html": [
       "10"
      ],
      "text/latex": [
       "10"
      ],
      "text/markdown": [
       "10"
      ],
      "text/plain": [
       "[1] 10"
      ]
     },
     "metadata": {},
     "output_type": "display_data"
    }
   ],
   "source": [
    "## Recapture step: capture R fish.  Of those, count how many were marked\n",
    "recaptured_fish_ids <- sample(pond_population$fish_id, size = R)\n",
    "m <- sum(pond_population$marked[recaptured_fish_ids])\n",
    "\n",
    "pond_population$marked[recaptured_fish_ids]\n",
    "\n",
    "recaptured_fish_ids\n",
    "m"
   ]
  },
  {
   "cell_type": "markdown",
   "metadata": {},
   "source": [
    "#### 4. Estimate the proportion of fish in the pond that were captured in the Capture step\n",
    "\n",
    "We can use R to calculate the estimated proportion $\\hat{p} = m/R$ as follows.  Go ahead and run this code."
   ]
  },
  {
   "cell_type": "code",
   "execution_count": 63,
   "metadata": {},
   "outputs": [
    {
     "data": {
      "text/html": [
       "0.333333333333333"
      ],
      "text/latex": [
       "0.333333333333333"
      ],
      "text/markdown": [
       "0.333333333333333"
      ],
      "text/plain": [
       "[1] 0.3333333"
      ]
     },
     "metadata": {},
     "output_type": "display_data"
    }
   ],
   "source": [
    "## Estimate proportion of fish in the pond that were marked in the Capture step:\n",
    "## The number of fish sampled in the Recapture step that were marked divided by\n",
    "## the total number of fish sampled in the Recapture step.\n",
    "p_hat <- m / R\n",
    "p_hat"
   ]
  },
  {
   "cell_type": "markdown",
   "metadata": {},
   "source": [
    "#### 5. Estimate the total number of fish in the pond\n",
    "\n",
    "We can use R to calculate the estimated total number of fish in the pond, $\\widehat{N} = c/\\widehat{p}$, as follows.  Go ahead and run this code."
   ]
  },
  {
   "cell_type": "code",
   "execution_count": 64,
   "metadata": {},
   "outputs": [
    {
     "data": {
      "text/html": [
       "90"
      ],
      "text/latex": [
       "90"
      ],
      "text/markdown": [
       "90"
      ],
      "text/plain": [
       "[1] 90"
      ]
     },
     "metadata": {},
     "output_type": "display_data"
    }
   ],
   "source": [
    "## Estimate the total number of fish in the pond:\n",
    "## The number of fish that were marked in the Capture step divided by the\n",
    "## estimated proportion of fish that were \n",
    "N_hat <- C / p_hat\n",
    "N_hat"
   ]
  },
  {
   "cell_type": "markdown",
   "metadata": {},
   "source": [
    "We've now finished one simulation!\n",
    "\n",
    "## 2b: Repeating the simulation\n",
    "\n",
    "It's great that we can do the simulation once, but we really want to do it hundreds or thousands of times and save all of the results.  Running the above code cells thousands of times by hand would be tedious; let's automate this process.\n",
    "\n",
    "That's what the R code below does.  This R code puts together all of the code in the previous 5 cells, with two additions:\n",
    " 1. The line `simulation_results <- do(1000) * {` says to \"do everything between the following curly braces 1000 times\", and save the results in a new data frame called `simulation_results`.  The code between the curly braces does one simulation, so effectively we're repeating the simulation 1000 times.\n",
    " 2. Near the end of the R chunk, after doing the computations for one simulation, we make a data frame that stores the `p_hat` and `N_hat` values obtained in that simulation run.  R will automatically assemble these data frames from the different simulation runs, so the final result (what gets stored in the `simulation_results`) is a data frame with 1000 rows (one for each simulation run) and two variables (the `p_hat` and `N_hat` from each simulation run).\n",
    "\n",
    "Go ahead and run the R code below, and then take a look at the `simulation_results` data frame that gets created.  (If you get an error -- did you run the R cell earlier in this document that loaded the packages we're using today?)"
   ]
  },
  {
   "cell_type": "code",
   "execution_count": 65,
   "metadata": {},
   "outputs": [
    {
     "data": {
      "text/html": [
       "<table>\n",
       "<thead><tr><th scope=col>p_hat</th><th scope=col>N_hat</th><th scope=col>.row</th><th scope=col>.index</th></tr></thead>\n",
       "<tbody>\n",
       "\t<tr><td>0.3000000</td><td>100.00000</td><td>1        </td><td> 1       </td></tr>\n",
       "\t<tr><td>0.2666667</td><td>112.50000</td><td>1        </td><td> 2       </td></tr>\n",
       "\t<tr><td>0.4000000</td><td> 75.00000</td><td>1        </td><td> 3       </td></tr>\n",
       "\t<tr><td>0.2666667</td><td>112.50000</td><td>1        </td><td> 4       </td></tr>\n",
       "\t<tr><td>0.3666667</td><td> 81.81818</td><td>1        </td><td> 5       </td></tr>\n",
       "\t<tr><td>0.2333333</td><td>128.57143</td><td>1        </td><td> 6       </td></tr>\n",
       "\t<tr><td>0.2000000</td><td>150.00000</td><td>1        </td><td> 7       </td></tr>\n",
       "\t<tr><td>0.4000000</td><td> 75.00000</td><td>1        </td><td> 8       </td></tr>\n",
       "\t<tr><td>0.4000000</td><td> 75.00000</td><td>1        </td><td> 9       </td></tr>\n",
       "\t<tr><td>0.2666667</td><td>112.50000</td><td>1        </td><td>10       </td></tr>\n",
       "\t<tr><td>0.3000000</td><td>100.00000</td><td>1        </td><td>11       </td></tr>\n",
       "\t<tr><td>0.3666667</td><td> 81.81818</td><td>1        </td><td>12       </td></tr>\n",
       "\t<tr><td>0.3333333</td><td> 90.00000</td><td>1        </td><td>13       </td></tr>\n",
       "\t<tr><td>0.2333333</td><td>128.57143</td><td>1        </td><td>14       </td></tr>\n",
       "\t<tr><td>0.3000000</td><td>100.00000</td><td>1        </td><td>15       </td></tr>\n",
       "\t<tr><td>0.3000000</td><td>100.00000</td><td>1        </td><td>16       </td></tr>\n",
       "\t<tr><td>0.2333333</td><td>128.57143</td><td>1        </td><td>17       </td></tr>\n",
       "\t<tr><td>0.2666667</td><td>112.50000</td><td>1        </td><td>18       </td></tr>\n",
       "\t<tr><td>0.2666667</td><td>112.50000</td><td>1        </td><td>19       </td></tr>\n",
       "\t<tr><td>0.3666667</td><td> 81.81818</td><td>1        </td><td>20       </td></tr>\n",
       "\t<tr><td>0.3333333</td><td> 90.00000</td><td>1        </td><td>21       </td></tr>\n",
       "\t<tr><td>0.3666667</td><td> 81.81818</td><td>1        </td><td>22       </td></tr>\n",
       "\t<tr><td>0.3666667</td><td> 81.81818</td><td>1        </td><td>23       </td></tr>\n",
       "\t<tr><td>0.2333333</td><td>128.57143</td><td>1        </td><td>24       </td></tr>\n",
       "\t<tr><td>0.2666667</td><td>112.50000</td><td>1        </td><td>25       </td></tr>\n",
       "\t<tr><td>0.4000000</td><td> 75.00000</td><td>1        </td><td>26       </td></tr>\n",
       "\t<tr><td>0.3333333</td><td> 90.00000</td><td>1        </td><td>27       </td></tr>\n",
       "\t<tr><td>0.2333333</td><td>128.57143</td><td>1        </td><td>28       </td></tr>\n",
       "\t<tr><td>0.2666667</td><td>112.50000</td><td>1        </td><td>29       </td></tr>\n",
       "\t<tr><td>0.3333333</td><td> 90.00000</td><td>1        </td><td>30       </td></tr>\n",
       "\t<tr><td>⋮</td><td>⋮</td><td>⋮</td><td>⋮</td></tr>\n",
       "\t<tr><td>0.4333333</td><td> 69.23077</td><td>1        </td><td> 971     </td></tr>\n",
       "\t<tr><td>0.2666667</td><td>112.50000</td><td>1        </td><td> 972     </td></tr>\n",
       "\t<tr><td>0.3666667</td><td> 81.81818</td><td>1        </td><td> 973     </td></tr>\n",
       "\t<tr><td>0.4000000</td><td> 75.00000</td><td>1        </td><td> 974     </td></tr>\n",
       "\t<tr><td>0.4000000</td><td> 75.00000</td><td>1        </td><td> 975     </td></tr>\n",
       "\t<tr><td>0.4333333</td><td> 69.23077</td><td>1        </td><td> 976     </td></tr>\n",
       "\t<tr><td>0.2333333</td><td>128.57143</td><td>1        </td><td> 977     </td></tr>\n",
       "\t<tr><td>0.2666667</td><td>112.50000</td><td>1        </td><td> 978     </td></tr>\n",
       "\t<tr><td>0.3000000</td><td>100.00000</td><td>1        </td><td> 979     </td></tr>\n",
       "\t<tr><td>0.3666667</td><td> 81.81818</td><td>1        </td><td> 980     </td></tr>\n",
       "\t<tr><td>0.3333333</td><td> 90.00000</td><td>1        </td><td> 981     </td></tr>\n",
       "\t<tr><td>0.4000000</td><td> 75.00000</td><td>1        </td><td> 982     </td></tr>\n",
       "\t<tr><td>0.2000000</td><td>150.00000</td><td>1        </td><td> 983     </td></tr>\n",
       "\t<tr><td>0.2666667</td><td>112.50000</td><td>1        </td><td> 984     </td></tr>\n",
       "\t<tr><td>0.1666667</td><td>180.00000</td><td>1        </td><td> 985     </td></tr>\n",
       "\t<tr><td>0.3333333</td><td> 90.00000</td><td>1        </td><td> 986     </td></tr>\n",
       "\t<tr><td>0.3000000</td><td>100.00000</td><td>1        </td><td> 987     </td></tr>\n",
       "\t<tr><td>0.2333333</td><td>128.57143</td><td>1        </td><td> 988     </td></tr>\n",
       "\t<tr><td>0.2333333</td><td>128.57143</td><td>1        </td><td> 989     </td></tr>\n",
       "\t<tr><td>0.1666667</td><td>180.00000</td><td>1        </td><td> 990     </td></tr>\n",
       "\t<tr><td>0.3000000</td><td>100.00000</td><td>1        </td><td> 991     </td></tr>\n",
       "\t<tr><td>0.3666667</td><td> 81.81818</td><td>1        </td><td> 992     </td></tr>\n",
       "\t<tr><td>0.2000000</td><td>150.00000</td><td>1        </td><td> 993     </td></tr>\n",
       "\t<tr><td>0.3000000</td><td>100.00000</td><td>1        </td><td> 994     </td></tr>\n",
       "\t<tr><td>0.3000000</td><td>100.00000</td><td>1        </td><td> 995     </td></tr>\n",
       "\t<tr><td>0.3000000</td><td>100.00000</td><td>1        </td><td> 996     </td></tr>\n",
       "\t<tr><td>0.3000000</td><td>100.00000</td><td>1        </td><td> 997     </td></tr>\n",
       "\t<tr><td>0.3333333</td><td> 90.00000</td><td>1        </td><td> 998     </td></tr>\n",
       "\t<tr><td>0.3333333</td><td> 90.00000</td><td>1        </td><td> 999     </td></tr>\n",
       "\t<tr><td>0.3000000</td><td>100.00000</td><td>1        </td><td>1000     </td></tr>\n",
       "</tbody>\n",
       "</table>\n"
      ],
      "text/latex": [
       "\\begin{tabular}{r|llll}\n",
       " p\\_hat & N\\_hat & .row & .index\\\\\n",
       "\\hline\n",
       "\t 0.3000000 & 100.00000 & 1         &  1       \\\\\n",
       "\t 0.2666667 & 112.50000 & 1         &  2       \\\\\n",
       "\t 0.4000000 &  75.00000 & 1         &  3       \\\\\n",
       "\t 0.2666667 & 112.50000 & 1         &  4       \\\\\n",
       "\t 0.3666667 &  81.81818 & 1         &  5       \\\\\n",
       "\t 0.2333333 & 128.57143 & 1         &  6       \\\\\n",
       "\t 0.2000000 & 150.00000 & 1         &  7       \\\\\n",
       "\t 0.4000000 &  75.00000 & 1         &  8       \\\\\n",
       "\t 0.4000000 &  75.00000 & 1         &  9       \\\\\n",
       "\t 0.2666667 & 112.50000 & 1         & 10       \\\\\n",
       "\t 0.3000000 & 100.00000 & 1         & 11       \\\\\n",
       "\t 0.3666667 &  81.81818 & 1         & 12       \\\\\n",
       "\t 0.3333333 &  90.00000 & 1         & 13       \\\\\n",
       "\t 0.2333333 & 128.57143 & 1         & 14       \\\\\n",
       "\t 0.3000000 & 100.00000 & 1         & 15       \\\\\n",
       "\t 0.3000000 & 100.00000 & 1         & 16       \\\\\n",
       "\t 0.2333333 & 128.57143 & 1         & 17       \\\\\n",
       "\t 0.2666667 & 112.50000 & 1         & 18       \\\\\n",
       "\t 0.2666667 & 112.50000 & 1         & 19       \\\\\n",
       "\t 0.3666667 &  81.81818 & 1         & 20       \\\\\n",
       "\t 0.3333333 &  90.00000 & 1         & 21       \\\\\n",
       "\t 0.3666667 &  81.81818 & 1         & 22       \\\\\n",
       "\t 0.3666667 &  81.81818 & 1         & 23       \\\\\n",
       "\t 0.2333333 & 128.57143 & 1         & 24       \\\\\n",
       "\t 0.2666667 & 112.50000 & 1         & 25       \\\\\n",
       "\t 0.4000000 &  75.00000 & 1         & 26       \\\\\n",
       "\t 0.3333333 &  90.00000 & 1         & 27       \\\\\n",
       "\t 0.2333333 & 128.57143 & 1         & 28       \\\\\n",
       "\t 0.2666667 & 112.50000 & 1         & 29       \\\\\n",
       "\t 0.3333333 &  90.00000 & 1         & 30       \\\\\n",
       "\t ⋮ & ⋮ & ⋮ & ⋮\\\\\n",
       "\t 0.4333333 &  69.23077 & 1         &  971     \\\\\n",
       "\t 0.2666667 & 112.50000 & 1         &  972     \\\\\n",
       "\t 0.3666667 &  81.81818 & 1         &  973     \\\\\n",
       "\t 0.4000000 &  75.00000 & 1         &  974     \\\\\n",
       "\t 0.4000000 &  75.00000 & 1         &  975     \\\\\n",
       "\t 0.4333333 &  69.23077 & 1         &  976     \\\\\n",
       "\t 0.2333333 & 128.57143 & 1         &  977     \\\\\n",
       "\t 0.2666667 & 112.50000 & 1         &  978     \\\\\n",
       "\t 0.3000000 & 100.00000 & 1         &  979     \\\\\n",
       "\t 0.3666667 &  81.81818 & 1         &  980     \\\\\n",
       "\t 0.3333333 &  90.00000 & 1         &  981     \\\\\n",
       "\t 0.4000000 &  75.00000 & 1         &  982     \\\\\n",
       "\t 0.2000000 & 150.00000 & 1         &  983     \\\\\n",
       "\t 0.2666667 & 112.50000 & 1         &  984     \\\\\n",
       "\t 0.1666667 & 180.00000 & 1         &  985     \\\\\n",
       "\t 0.3333333 &  90.00000 & 1         &  986     \\\\\n",
       "\t 0.3000000 & 100.00000 & 1         &  987     \\\\\n",
       "\t 0.2333333 & 128.57143 & 1         &  988     \\\\\n",
       "\t 0.2333333 & 128.57143 & 1         &  989     \\\\\n",
       "\t 0.1666667 & 180.00000 & 1         &  990     \\\\\n",
       "\t 0.3000000 & 100.00000 & 1         &  991     \\\\\n",
       "\t 0.3666667 &  81.81818 & 1         &  992     \\\\\n",
       "\t 0.2000000 & 150.00000 & 1         &  993     \\\\\n",
       "\t 0.3000000 & 100.00000 & 1         &  994     \\\\\n",
       "\t 0.3000000 & 100.00000 & 1         &  995     \\\\\n",
       "\t 0.3000000 & 100.00000 & 1         &  996     \\\\\n",
       "\t 0.3000000 & 100.00000 & 1         &  997     \\\\\n",
       "\t 0.3333333 &  90.00000 & 1         &  998     \\\\\n",
       "\t 0.3333333 &  90.00000 & 1         &  999     \\\\\n",
       "\t 0.3000000 & 100.00000 & 1         & 1000     \\\\\n",
       "\\end{tabular}\n"
      ],
      "text/markdown": [
       "\n",
       "p_hat | N_hat | .row | .index | \n",
       "|---|---|---|---|---|---|---|---|---|---|---|---|---|---|---|---|---|---|---|---|---|---|---|---|---|---|---|---|---|---|---|---|---|---|---|---|---|---|---|---|---|---|---|---|---|---|---|---|---|---|---|---|---|---|---|---|---|---|---|---|---|\n",
       "| 0.3000000 | 100.00000 | 1         |  1        | \n",
       "| 0.2666667 | 112.50000 | 1         |  2        | \n",
       "| 0.4000000 |  75.00000 | 1         |  3        | \n",
       "| 0.2666667 | 112.50000 | 1         |  4        | \n",
       "| 0.3666667 |  81.81818 | 1         |  5        | \n",
       "| 0.2333333 | 128.57143 | 1         |  6        | \n",
       "| 0.2000000 | 150.00000 | 1         |  7        | \n",
       "| 0.4000000 |  75.00000 | 1         |  8        | \n",
       "| 0.4000000 |  75.00000 | 1         |  9        | \n",
       "| 0.2666667 | 112.50000 | 1         | 10        | \n",
       "| 0.3000000 | 100.00000 | 1         | 11        | \n",
       "| 0.3666667 |  81.81818 | 1         | 12        | \n",
       "| 0.3333333 |  90.00000 | 1         | 13        | \n",
       "| 0.2333333 | 128.57143 | 1         | 14        | \n",
       "| 0.3000000 | 100.00000 | 1         | 15        | \n",
       "| 0.3000000 | 100.00000 | 1         | 16        | \n",
       "| 0.2333333 | 128.57143 | 1         | 17        | \n",
       "| 0.2666667 | 112.50000 | 1         | 18        | \n",
       "| 0.2666667 | 112.50000 | 1         | 19        | \n",
       "| 0.3666667 |  81.81818 | 1         | 20        | \n",
       "| 0.3333333 |  90.00000 | 1         | 21        | \n",
       "| 0.3666667 |  81.81818 | 1         | 22        | \n",
       "| 0.3666667 |  81.81818 | 1         | 23        | \n",
       "| 0.2333333 | 128.57143 | 1         | 24        | \n",
       "| 0.2666667 | 112.50000 | 1         | 25        | \n",
       "| 0.4000000 |  75.00000 | 1         | 26        | \n",
       "| 0.3333333 |  90.00000 | 1         | 27        | \n",
       "| 0.2333333 | 128.57143 | 1         | 28        | \n",
       "| 0.2666667 | 112.50000 | 1         | 29        | \n",
       "| 0.3333333 |  90.00000 | 1         | 30        | \n",
       "| ⋮ | ⋮ | ⋮ | ⋮ | \n",
       "| 0.4333333 |  69.23077 | 1         |  971      | \n",
       "| 0.2666667 | 112.50000 | 1         |  972      | \n",
       "| 0.3666667 |  81.81818 | 1         |  973      | \n",
       "| 0.4000000 |  75.00000 | 1         |  974      | \n",
       "| 0.4000000 |  75.00000 | 1         |  975      | \n",
       "| 0.4333333 |  69.23077 | 1         |  976      | \n",
       "| 0.2333333 | 128.57143 | 1         |  977      | \n",
       "| 0.2666667 | 112.50000 | 1         |  978      | \n",
       "| 0.3000000 | 100.00000 | 1         |  979      | \n",
       "| 0.3666667 |  81.81818 | 1         |  980      | \n",
       "| 0.3333333 |  90.00000 | 1         |  981      | \n",
       "| 0.4000000 |  75.00000 | 1         |  982      | \n",
       "| 0.2000000 | 150.00000 | 1         |  983      | \n",
       "| 0.2666667 | 112.50000 | 1         |  984      | \n",
       "| 0.1666667 | 180.00000 | 1         |  985      | \n",
       "| 0.3333333 |  90.00000 | 1         |  986      | \n",
       "| 0.3000000 | 100.00000 | 1         |  987      | \n",
       "| 0.2333333 | 128.57143 | 1         |  988      | \n",
       "| 0.2333333 | 128.57143 | 1         |  989      | \n",
       "| 0.1666667 | 180.00000 | 1         |  990      | \n",
       "| 0.3000000 | 100.00000 | 1         |  991      | \n",
       "| 0.3666667 |  81.81818 | 1         |  992      | \n",
       "| 0.2000000 | 150.00000 | 1         |  993      | \n",
       "| 0.3000000 | 100.00000 | 1         |  994      | \n",
       "| 0.3000000 | 100.00000 | 1         |  995      | \n",
       "| 0.3000000 | 100.00000 | 1         |  996      | \n",
       "| 0.3000000 | 100.00000 | 1         |  997      | \n",
       "| 0.3333333 |  90.00000 | 1         |  998      | \n",
       "| 0.3333333 |  90.00000 | 1         |  999      | \n",
       "| 0.3000000 | 100.00000 | 1         | 1000      | \n",
       "\n",
       "\n"
      ],
      "text/plain": [
       "     p_hat     N_hat     .row .index\n",
       "1    0.3000000 100.00000 1     1    \n",
       "2    0.2666667 112.50000 1     2    \n",
       "3    0.4000000  75.00000 1     3    \n",
       "4    0.2666667 112.50000 1     4    \n",
       "5    0.3666667  81.81818 1     5    \n",
       "6    0.2333333 128.57143 1     6    \n",
       "7    0.2000000 150.00000 1     7    \n",
       "8    0.4000000  75.00000 1     8    \n",
       "9    0.4000000  75.00000 1     9    \n",
       "10   0.2666667 112.50000 1    10    \n",
       "11   0.3000000 100.00000 1    11    \n",
       "12   0.3666667  81.81818 1    12    \n",
       "13   0.3333333  90.00000 1    13    \n",
       "14   0.2333333 128.57143 1    14    \n",
       "15   0.3000000 100.00000 1    15    \n",
       "16   0.3000000 100.00000 1    16    \n",
       "17   0.2333333 128.57143 1    17    \n",
       "18   0.2666667 112.50000 1    18    \n",
       "19   0.2666667 112.50000 1    19    \n",
       "20   0.3666667  81.81818 1    20    \n",
       "21   0.3333333  90.00000 1    21    \n",
       "22   0.3666667  81.81818 1    22    \n",
       "23   0.3666667  81.81818 1    23    \n",
       "24   0.2333333 128.57143 1    24    \n",
       "25   0.2666667 112.50000 1    25    \n",
       "26   0.4000000  75.00000 1    26    \n",
       "27   0.3333333  90.00000 1    27    \n",
       "28   0.2333333 128.57143 1    28    \n",
       "29   0.2666667 112.50000 1    29    \n",
       "30   0.3333333  90.00000 1    30    \n",
       "⋮    ⋮         ⋮         ⋮    ⋮     \n",
       "971  0.4333333  69.23077 1     971  \n",
       "972  0.2666667 112.50000 1     972  \n",
       "973  0.3666667  81.81818 1     973  \n",
       "974  0.4000000  75.00000 1     974  \n",
       "975  0.4000000  75.00000 1     975  \n",
       "976  0.4333333  69.23077 1     976  \n",
       "977  0.2333333 128.57143 1     977  \n",
       "978  0.2666667 112.50000 1     978  \n",
       "979  0.3000000 100.00000 1     979  \n",
       "980  0.3666667  81.81818 1     980  \n",
       "981  0.3333333  90.00000 1     981  \n",
       "982  0.4000000  75.00000 1     982  \n",
       "983  0.2000000 150.00000 1     983  \n",
       "984  0.2666667 112.50000 1     984  \n",
       "985  0.1666667 180.00000 1     985  \n",
       "986  0.3333333  90.00000 1     986  \n",
       "987  0.3000000 100.00000 1     987  \n",
       "988  0.2333333 128.57143 1     988  \n",
       "989  0.2333333 128.57143 1     989  \n",
       "990  0.1666667 180.00000 1     990  \n",
       "991  0.3000000 100.00000 1     991  \n",
       "992  0.3666667  81.81818 1     992  \n",
       "993  0.2000000 150.00000 1     993  \n",
       "994  0.3000000 100.00000 1     994  \n",
       "995  0.3000000 100.00000 1     995  \n",
       "996  0.3000000 100.00000 1     996  \n",
       "997  0.3000000 100.00000 1     997  \n",
       "998  0.3333333  90.00000 1     998  \n",
       "999  0.3333333  90.00000 1     999  \n",
       "1000 0.3000000 100.00000 1    1000  "
      ]
     },
     "metadata": {},
     "output_type": "display_data"
    }
   ],
   "source": [
    "N <- 100 # number of fish in the pond\n",
    "C <- 30 # number of fish to sample in the Capture step\n",
    "R <- 30 # number of fish to sample in the Recapture step\n",
    "\n",
    "simulation_results <- do(1000) * {\n",
    "  ## Setup step: make a data frame representing all of the fish in the pond\n",
    "  pond_population <- data.frame(\n",
    "    fish_id = seq(from = 1, to = N),\n",
    "    marked = rep(0, N)\n",
    "  )\n",
    "\n",
    "  ## Capture step: capture C fish and add a variable to the data frame\n",
    "  ## with a 1 if the fish was marked and a 0 if it was not\n",
    "  captured_fish_ids <- sample(pond_population$fish_id, size = C)\n",
    "  pond_population$marked[captured_fish_ids] <- 1\n",
    "\n",
    "  ## Recapture step: capture R fish.  Of those, count how many were marked\n",
    "  recaptured_fish_ids <- sample(pond_population$fish_id, size = R)\n",
    "  m <- sum(pond_population$marked[recaptured_fish_ids])\n",
    "  \n",
    "  ## Estimate proportion of fish in the pond that were marked in the Capture step:\n",
    "  ## The number of fish sampled in the Recapture step that were marked divided by\n",
    "  ## the total number of fish sampled in the Recapture step.\n",
    "  p_hat <- m / R\n",
    "  \n",
    "  ## Estimate the total number of fish in the pond:\n",
    "  ## The number of fish that were marked in the Capture step divided by the\n",
    "  ## estimated proportion of fish that were \n",
    "  N_hat <- C / p_hat\n",
    "  \n",
    "  data.frame(p_hat = p_hat, N_hat = N_hat)\n",
    "}\n",
    "\n",
    "simulation_results"
   ]
  },
  {
   "cell_type": "markdown",
   "metadata": {},
   "source": [
    "#### 1. Make a histogram of `p_hat` from the simulation results, and a second histogram of `N_hat`.  \n",
    "\n",
    "The data frame with these variables is called `simulation_results`.  "
   ]
  },
  {
   "cell_type": "code",
   "execution_count": 66,
   "metadata": {},
   "outputs": [
    {
     "name": "stderr",
     "output_type": "stream",
     "text": [
      "`stat_bin()` using `bins = 30`. Pick better value with `binwidth`.\n"
     ]
    },
    {
     "data": {},
     "metadata": {},
     "output_type": "display_data"
    },
    {
     "name": "stderr",
     "output_type": "stream",
     "text": [
      "`stat_bin()` using `bins = 30`. Pick better value with `binwidth`.\n"
     ]
    },
    {
     "data": {},
     "metadata": {},
     "output_type": "display_data"
    },
    {
     "data": {
      "image/png": "[encoded data removed]",
      "text/plain": [
       "plot without title"
      ]
     },
     "metadata": {},
     "output_type": "display_data"
    },
    {
     "data": {
      "image/png": "[encoded data removed]",
      "text/plain": [
       "plot without title"
      ]
     },
     "metadata": {},
     "output_type": "display_data"
    }
   ],
   "source": [
    "ggplot(data=simulation_results, aes(N_hat)) +\n",
    "    geom_histogram(fill=I(\"blue\"),alpha=I(.2))\n",
    "\n",
    "ggplot(data=simulation_results, aes(p_hat)) +\n",
    "    geom_histogram(fill=I(\"blue\"),alpha=I(.2))"
   ]
  },
  {
   "cell_type": "markdown",
   "metadata": {},
   "source": [
    "#### 2. Calculate the mean and median of each of these values across all of the simulations."
   ]
  },
  {
   "cell_type": "code",
   "execution_count": 67,
   "metadata": {},
   "outputs": [
    {
     "data": {
      "text/html": [
       "<table>\n",
       "<thead><tr><th scope=col>mean</th><th scope=col>median</th></tr></thead>\n",
       "<tbody>\n",
       "\t<tr><td>0.2985</td><td>0.3   </td></tr>\n",
       "</tbody>\n",
       "</table>\n"
      ],
      "text/latex": [
       "\\begin{tabular}{r|ll}\n",
       " mean & median\\\\\n",
       "\\hline\n",
       "\t 0.2985 & 0.3   \\\\\n",
       "\\end{tabular}\n"
      ],
      "text/markdown": [
       "\n",
       "mean | median | \n",
       "|---|\n",
       "| 0.2985 | 0.3    | \n",
       "\n",
       "\n"
      ],
      "text/plain": [
       "  mean   median\n",
       "1 0.2985 0.3   "
      ]
     },
     "metadata": {},
     "output_type": "display_data"
    },
    {
     "data": {
      "text/html": [
       "<table>\n",
       "<thead><tr><th scope=col>mean</th><th scope=col>median</th></tr></thead>\n",
       "<tbody>\n",
       "\t<tr><td>107.192</td><td>100    </td></tr>\n",
       "</tbody>\n",
       "</table>\n"
      ],
      "text/latex": [
       "\\begin{tabular}{r|ll}\n",
       " mean & median\\\\\n",
       "\\hline\n",
       "\t 107.192 & 100    \\\\\n",
       "\\end{tabular}\n"
      ],
      "text/markdown": [
       "\n",
       "mean | median | \n",
       "|---|\n",
       "| 107.192 | 100     | \n",
       "\n",
       "\n"
      ],
      "text/plain": [
       "  mean    median\n",
       "1 107.192 100   "
      ]
     },
     "metadata": {},
     "output_type": "display_data"
    }
   ],
   "source": [
    "simulation_results %>% \n",
    "    summarize(mean=mean(p_hat), median=median(p_hat)) \n",
    "\n",
    "simulation_results %>%\n",
    "summarize(mean=mean(N_hat), median=median(N_hat))\n"
   ]
  },
  {
   "cell_type": "markdown",
   "metadata": {},
   "source": [
    "#### 3. Report on your observations\n",
    "\n",
    "Because we set up the simulation study, we know that the true proportion of fish that were marked (the true $p$) was $p = 30/100 = 0.3$, and that the true population size was $N = 100$.  What do you observe about the distribution of estimates of the proportion of fish in the population that were marked and the population size across different samples?  Describe the shape of the distribution of estimates; are there any outliers?  Do the estimates generally seem to be centered around the right place?  How much variability is there in the estimates that you get from different samples?"
   ]
  },
  {
   "cell_type": "markdown",
   "metadata": {},
   "source": []
  },
  {
   "cell_type": "markdown",
   "metadata": {},
   "source": [
    "# Phase 3: Exploration of Limitations\n",
    "\n",
    "So far, everything we've done has assumed that we were equally likely to capture any of the fish in the Capture and Recapture steps, and that we could definitely tell whether or not each fish we caught in the Recapture step had been previously caught and marked in the Capture step.  The estimates of the proportion of fish in the pond that were marked in the Capture step and the total population size that we calculated depend on these assumptions.  What happens if these assumptions are wrong, and some fish are more or less likely to be captured or we can't tell if a fish we see in the Recapture step was previously marked?  Here, we will modify our simulation study in order to explore a couple of ways this could happen and what the effects on our estimates of population size are.\n",
    "\n",
    "## 3a: Trap-happy and Trap-shy (sample volunteers/sample conveniently)\n",
    "\n",
    "In the wild, it happens that some animals are more likely to be captured (\"trap-happy\") and other may be less likely to be captured (\"trap-shy\").  We can represent this in our R code above by adding a `prob` argument when we call the `sample` function.  This argument should be a vector of length $N$ giving the relative weights for how likely each fish is to be captured.  For example, suppose the first 20 fish are ten times as likely to be captured as the remaining 80 fish.  We can use the following lines to sample fish with these weights (after running this code, make sure you understand what the `sampling_weights` vector represents):"
   ]
  },
  {
   "cell_type": "code",
   "execution_count": 68,
   "metadata": {},
   "outputs": [
    {
     "data": {
      "text/html": [
       "<ol class=list-inline>\n",
       "\t<li>51</li>\n",
       "\t<li>94</li>\n",
       "\t<li>14</li>\n",
       "\t<li>18</li>\n",
       "\t<li>86</li>\n",
       "\t<li>3</li>\n",
       "\t<li>25</li>\n",
       "\t<li>2</li>\n",
       "\t<li>45</li>\n",
       "\t<li>20</li>\n",
       "\t<li>11</li>\n",
       "\t<li>35</li>\n",
       "\t<li>66</li>\n",
       "\t<li>12</li>\n",
       "\t<li>4</li>\n",
       "\t<li>16</li>\n",
       "\t<li>17</li>\n",
       "\t<li>96</li>\n",
       "\t<li>37</li>\n",
       "\t<li>13</li>\n",
       "\t<li>6</li>\n",
       "\t<li>26</li>\n",
       "\t<li>5</li>\n",
       "\t<li>39</li>\n",
       "\t<li>10</li>\n",
       "\t<li>24</li>\n",
       "\t<li>15</li>\n",
       "\t<li>70</li>\n",
       "\t<li>8</li>\n",
       "\t<li>48</li>\n",
       "</ol>\n"
      ],
      "text/latex": [
       "\\begin{enumerate*}\n",
       "\\item 51\n",
       "\\item 94\n",
       "\\item 14\n",
       "\\item 18\n",
       "\\item 86\n",
       "\\item 3\n",
       "\\item 25\n",
       "\\item 2\n",
       "\\item 45\n",
       "\\item 20\n",
       "\\item 11\n",
       "\\item 35\n",
       "\\item 66\n",
       "\\item 12\n",
       "\\item 4\n",
       "\\item 16\n",
       "\\item 17\n",
       "\\item 96\n",
       "\\item 37\n",
       "\\item 13\n",
       "\\item 6\n",
       "\\item 26\n",
       "\\item 5\n",
       "\\item 39\n",
       "\\item 10\n",
       "\\item 24\n",
       "\\item 15\n",
       "\\item 70\n",
       "\\item 8\n",
       "\\item 48\n",
       "\\end{enumerate*}\n"
      ],
      "text/markdown": [
       "1. 51\n",
       "2. 94\n",
       "3. 14\n",
       "4. 18\n",
       "5. 86\n",
       "6. 3\n",
       "7. 25\n",
       "8. 2\n",
       "9. 45\n",
       "10. 20\n",
       "11. 11\n",
       "12. 35\n",
       "13. 66\n",
       "14. 12\n",
       "15. 4\n",
       "16. 16\n",
       "17. 17\n",
       "18. 96\n",
       "19. 37\n",
       "20. 13\n",
       "21. 6\n",
       "22. 26\n",
       "23. 5\n",
       "24. 39\n",
       "25. 10\n",
       "26. 24\n",
       "27. 15\n",
       "28. 70\n",
       "29. 8\n",
       "30. 48\n",
       "\n",
       "\n"
      ],
      "text/plain": [
       " [1] 51 94 14 18 86  3 25  2 45 20 11 35 66 12  4 16 17 96 37 13  6 26  5 39 10\n",
       "[26] 24 15 70  8 48"
      ]
     },
     "metadata": {},
     "output_type": "display_data"
    }
   ],
   "source": [
    "sampling_weights <- c(rep(10, 20), rep(1, 80))\n",
    "sample(pond_population$fish_id, size = C, prob = sampling_weights)"
   ]
  },
  {
   "cell_type": "markdown",
   "metadata": {},
   "source": [
    "#### 1. Introduce sampling bias in the simulation study\n",
    "\n",
    "Try The R cell below contains the original code from section 2 (b) above, to do the simulation study assuming all of the fish are equally likely to be captured.  Modify the calls to the `sample` function in both the Capture and Recapture steps to use unequal sampling weights for the different fish by setting a `prob = ` argument."
   ]
  },
  {
   "cell_type": "code",
   "execution_count": 69,
   "metadata": {},
   "outputs": [
    {
     "data": {
      "text/html": [
       "<table>\n",
       "<thead><tr><th scope=col>p_hat</th><th scope=col>N_hat</th><th scope=col>.row</th><th scope=col>.index</th></tr></thead>\n",
       "<tbody>\n",
       "\t<tr><td>0.5333333</td><td>56.25000 </td><td>1        </td><td> 1       </td></tr>\n",
       "\t<tr><td>0.5666667</td><td>52.94118 </td><td>1        </td><td> 2       </td></tr>\n",
       "\t<tr><td>0.5666667</td><td>52.94118 </td><td>1        </td><td> 3       </td></tr>\n",
       "\t<tr><td>0.6333333</td><td>47.36842 </td><td>1        </td><td> 4       </td></tr>\n",
       "\t<tr><td>0.5666667</td><td>52.94118 </td><td>1        </td><td> 5       </td></tr>\n",
       "\t<tr><td>0.5333333</td><td>56.25000 </td><td>1        </td><td> 6       </td></tr>\n",
       "\t<tr><td>0.4666667</td><td>64.28571 </td><td>1        </td><td> 7       </td></tr>\n",
       "\t<tr><td>0.4666667</td><td>64.28571 </td><td>1        </td><td> 8       </td></tr>\n",
       "\t<tr><td>0.4666667</td><td>64.28571 </td><td>1        </td><td> 9       </td></tr>\n",
       "\t<tr><td>0.5333333</td><td>56.25000 </td><td>1        </td><td>10       </td></tr>\n",
       "\t<tr><td>0.7000000</td><td>42.85714 </td><td>1        </td><td>11       </td></tr>\n",
       "\t<tr><td>0.4666667</td><td>64.28571 </td><td>1        </td><td>12       </td></tr>\n",
       "\t<tr><td>0.5000000</td><td>60.00000 </td><td>1        </td><td>13       </td></tr>\n",
       "\t<tr><td>0.5000000</td><td>60.00000 </td><td>1        </td><td>14       </td></tr>\n",
       "\t<tr><td>0.6000000</td><td>50.00000 </td><td>1        </td><td>15       </td></tr>\n",
       "\t<tr><td>0.5666667</td><td>52.94118 </td><td>1        </td><td>16       </td></tr>\n",
       "\t<tr><td>0.6000000</td><td>50.00000 </td><td>1        </td><td>17       </td></tr>\n",
       "\t<tr><td>0.5333333</td><td>56.25000 </td><td>1        </td><td>18       </td></tr>\n",
       "\t<tr><td>0.4666667</td><td>64.28571 </td><td>1        </td><td>19       </td></tr>\n",
       "\t<tr><td>0.5333333</td><td>56.25000 </td><td>1        </td><td>20       </td></tr>\n",
       "\t<tr><td>0.5333333</td><td>56.25000 </td><td>1        </td><td>21       </td></tr>\n",
       "\t<tr><td>0.6000000</td><td>50.00000 </td><td>1        </td><td>22       </td></tr>\n",
       "\t<tr><td>0.6333333</td><td>47.36842 </td><td>1        </td><td>23       </td></tr>\n",
       "\t<tr><td>0.6000000</td><td>50.00000 </td><td>1        </td><td>24       </td></tr>\n",
       "\t<tr><td>0.5333333</td><td>56.25000 </td><td>1        </td><td>25       </td></tr>\n",
       "\t<tr><td>0.4000000</td><td>75.00000 </td><td>1        </td><td>26       </td></tr>\n",
       "\t<tr><td>0.5666667</td><td>52.94118 </td><td>1        </td><td>27       </td></tr>\n",
       "\t<tr><td>0.5666667</td><td>52.94118 </td><td>1        </td><td>28       </td></tr>\n",
       "\t<tr><td>0.6000000</td><td>50.00000 </td><td>1        </td><td>29       </td></tr>\n",
       "\t<tr><td>0.4666667</td><td>64.28571 </td><td>1        </td><td>30       </td></tr>\n",
       "\t<tr><td>⋮</td><td>⋮</td><td>⋮</td><td>⋮</td></tr>\n",
       "\t<tr><td>0.4333333</td><td>69.23077 </td><td>1        </td><td> 971     </td></tr>\n",
       "\t<tr><td>0.5666667</td><td>52.94118 </td><td>1        </td><td> 972     </td></tr>\n",
       "\t<tr><td>0.6000000</td><td>50.00000 </td><td>1        </td><td> 973     </td></tr>\n",
       "\t<tr><td>0.6333333</td><td>47.36842 </td><td>1        </td><td> 974     </td></tr>\n",
       "\t<tr><td>0.5666667</td><td>52.94118 </td><td>1        </td><td> 975     </td></tr>\n",
       "\t<tr><td>0.5666667</td><td>52.94118 </td><td>1        </td><td> 976     </td></tr>\n",
       "\t<tr><td>0.5000000</td><td>60.00000 </td><td>1        </td><td> 977     </td></tr>\n",
       "\t<tr><td>0.4666667</td><td>64.28571 </td><td>1        </td><td> 978     </td></tr>\n",
       "\t<tr><td>0.5333333</td><td>56.25000 </td><td>1        </td><td> 979     </td></tr>\n",
       "\t<tr><td>0.6000000</td><td>50.00000 </td><td>1        </td><td> 980     </td></tr>\n",
       "\t<tr><td>0.6666667</td><td>45.00000 </td><td>1        </td><td> 981     </td></tr>\n",
       "\t<tr><td>0.6333333</td><td>47.36842 </td><td>1        </td><td> 982     </td></tr>\n",
       "\t<tr><td>0.4666667</td><td>64.28571 </td><td>1        </td><td> 983     </td></tr>\n",
       "\t<tr><td>0.6000000</td><td>50.00000 </td><td>1        </td><td> 984     </td></tr>\n",
       "\t<tr><td>0.5000000</td><td>60.00000 </td><td>1        </td><td> 985     </td></tr>\n",
       "\t<tr><td>0.5333333</td><td>56.25000 </td><td>1        </td><td> 986     </td></tr>\n",
       "\t<tr><td>0.6000000</td><td>50.00000 </td><td>1        </td><td> 987     </td></tr>\n",
       "\t<tr><td>0.4000000</td><td>75.00000 </td><td>1        </td><td> 988     </td></tr>\n",
       "\t<tr><td>0.4333333</td><td>69.23077 </td><td>1        </td><td> 989     </td></tr>\n",
       "\t<tr><td>0.6333333</td><td>47.36842 </td><td>1        </td><td> 990     </td></tr>\n",
       "\t<tr><td>0.5333333</td><td>56.25000 </td><td>1        </td><td> 991     </td></tr>\n",
       "\t<tr><td>0.5333333</td><td>56.25000 </td><td>1        </td><td> 992     </td></tr>\n",
       "\t<tr><td>0.4000000</td><td>75.00000 </td><td>1        </td><td> 993     </td></tr>\n",
       "\t<tr><td>0.5666667</td><td>52.94118 </td><td>1        </td><td> 994     </td></tr>\n",
       "\t<tr><td>0.4666667</td><td>64.28571 </td><td>1        </td><td> 995     </td></tr>\n",
       "\t<tr><td>0.5666667</td><td>52.94118 </td><td>1        </td><td> 996     </td></tr>\n",
       "\t<tr><td>0.6000000</td><td>50.00000 </td><td>1        </td><td> 997     </td></tr>\n",
       "\t<tr><td>0.4666667</td><td>64.28571 </td><td>1        </td><td> 998     </td></tr>\n",
       "\t<tr><td>0.6000000</td><td>50.00000 </td><td>1        </td><td> 999     </td></tr>\n",
       "\t<tr><td>0.4000000</td><td>75.00000 </td><td>1        </td><td>1000     </td></tr>\n",
       "</tbody>\n",
       "</table>\n"
      ],
      "text/latex": [
       "\\begin{tabular}{r|llll}\n",
       " p\\_hat & N\\_hat & .row & .index\\\\\n",
       "\\hline\n",
       "\t 0.5333333 & 56.25000  & 1         &  1       \\\\\n",
       "\t 0.5666667 & 52.94118  & 1         &  2       \\\\\n",
       "\t 0.5666667 & 52.94118  & 1         &  3       \\\\\n",
       "\t 0.6333333 & 47.36842  & 1         &  4       \\\\\n",
       "\t 0.5666667 & 52.94118  & 1         &  5       \\\\\n",
       "\t 0.5333333 & 56.25000  & 1         &  6       \\\\\n",
       "\t 0.4666667 & 64.28571  & 1         &  7       \\\\\n",
       "\t 0.4666667 & 64.28571  & 1         &  8       \\\\\n",
       "\t 0.4666667 & 64.28571  & 1         &  9       \\\\\n",
       "\t 0.5333333 & 56.25000  & 1         & 10       \\\\\n",
       "\t 0.7000000 & 42.85714  & 1         & 11       \\\\\n",
       "\t 0.4666667 & 64.28571  & 1         & 12       \\\\\n",
       "\t 0.5000000 & 60.00000  & 1         & 13       \\\\\n",
       "\t 0.5000000 & 60.00000  & 1         & 14       \\\\\n",
       "\t 0.6000000 & 50.00000  & 1         & 15       \\\\\n",
       "\t 0.5666667 & 52.94118  & 1         & 16       \\\\\n",
       "\t 0.6000000 & 50.00000  & 1         & 17       \\\\\n",
       "\t 0.5333333 & 56.25000  & 1         & 18       \\\\\n",
       "\t 0.4666667 & 64.28571  & 1         & 19       \\\\\n",
       "\t 0.5333333 & 56.25000  & 1         & 20       \\\\\n",
       "\t 0.5333333 & 56.25000  & 1         & 21       \\\\\n",
       "\t 0.6000000 & 50.00000  & 1         & 22       \\\\\n",
       "\t 0.6333333 & 47.36842  & 1         & 23       \\\\\n",
       "\t 0.6000000 & 50.00000  & 1         & 24       \\\\\n",
       "\t 0.5333333 & 56.25000  & 1         & 25       \\\\\n",
       "\t 0.4000000 & 75.00000  & 1         & 26       \\\\\n",
       "\t 0.5666667 & 52.94118  & 1         & 27       \\\\\n",
       "\t 0.5666667 & 52.94118  & 1         & 28       \\\\\n",
       "\t 0.6000000 & 50.00000  & 1         & 29       \\\\\n",
       "\t 0.4666667 & 64.28571  & 1         & 30       \\\\\n",
       "\t ⋮ & ⋮ & ⋮ & ⋮\\\\\n",
       "\t 0.4333333 & 69.23077  & 1         &  971     \\\\\n",
       "\t 0.5666667 & 52.94118  & 1         &  972     \\\\\n",
       "\t 0.6000000 & 50.00000  & 1         &  973     \\\\\n",
       "\t 0.6333333 & 47.36842  & 1         &  974     \\\\\n",
       "\t 0.5666667 & 52.94118  & 1         &  975     \\\\\n",
       "\t 0.5666667 & 52.94118  & 1         &  976     \\\\\n",
       "\t 0.5000000 & 60.00000  & 1         &  977     \\\\\n",
       "\t 0.4666667 & 64.28571  & 1         &  978     \\\\\n",
       "\t 0.5333333 & 56.25000  & 1         &  979     \\\\\n",
       "\t 0.6000000 & 50.00000  & 1         &  980     \\\\\n",
       "\t 0.6666667 & 45.00000  & 1         &  981     \\\\\n",
       "\t 0.6333333 & 47.36842  & 1         &  982     \\\\\n",
       "\t 0.4666667 & 64.28571  & 1         &  983     \\\\\n",
       "\t 0.6000000 & 50.00000  & 1         &  984     \\\\\n",
       "\t 0.5000000 & 60.00000  & 1         &  985     \\\\\n",
       "\t 0.5333333 & 56.25000  & 1         &  986     \\\\\n",
       "\t 0.6000000 & 50.00000  & 1         &  987     \\\\\n",
       "\t 0.4000000 & 75.00000  & 1         &  988     \\\\\n",
       "\t 0.4333333 & 69.23077  & 1         &  989     \\\\\n",
       "\t 0.6333333 & 47.36842  & 1         &  990     \\\\\n",
       "\t 0.5333333 & 56.25000  & 1         &  991     \\\\\n",
       "\t 0.5333333 & 56.25000  & 1         &  992     \\\\\n",
       "\t 0.4000000 & 75.00000  & 1         &  993     \\\\\n",
       "\t 0.5666667 & 52.94118  & 1         &  994     \\\\\n",
       "\t 0.4666667 & 64.28571  & 1         &  995     \\\\\n",
       "\t 0.5666667 & 52.94118  & 1         &  996     \\\\\n",
       "\t 0.6000000 & 50.00000  & 1         &  997     \\\\\n",
       "\t 0.4666667 & 64.28571  & 1         &  998     \\\\\n",
       "\t 0.6000000 & 50.00000  & 1         &  999     \\\\\n",
       "\t 0.4000000 & 75.00000  & 1         & 1000     \\\\\n",
       "\\end{tabular}\n"
      ],
      "text/markdown": [
       "\n",
       "p_hat | N_hat | .row | .index | \n",
       "|---|---|---|---|---|---|---|---|---|---|---|---|---|---|---|---|---|---|---|---|---|---|---|---|---|---|---|---|---|---|---|---|---|---|---|---|---|---|---|---|---|---|---|---|---|---|---|---|---|---|---|---|---|---|---|---|---|---|---|---|---|\n",
       "| 0.5333333 | 56.25000  | 1         |  1        | \n",
       "| 0.5666667 | 52.94118  | 1         |  2        | \n",
       "| 0.5666667 | 52.94118  | 1         |  3        | \n",
       "| 0.6333333 | 47.36842  | 1         |  4        | \n",
       "| 0.5666667 | 52.94118  | 1         |  5        | \n",
       "| 0.5333333 | 56.25000  | 1         |  6        | \n",
       "| 0.4666667 | 64.28571  | 1         |  7        | \n",
       "| 0.4666667 | 64.28571  | 1         |  8        | \n",
       "| 0.4666667 | 64.28571  | 1         |  9        | \n",
       "| 0.5333333 | 56.25000  | 1         | 10        | \n",
       "| 0.7000000 | 42.85714  | 1         | 11        | \n",
       "| 0.4666667 | 64.28571  | 1         | 12        | \n",
       "| 0.5000000 | 60.00000  | 1         | 13        | \n",
       "| 0.5000000 | 60.00000  | 1         | 14        | \n",
       "| 0.6000000 | 50.00000  | 1         | 15        | \n",
       "| 0.5666667 | 52.94118  | 1         | 16        | \n",
       "| 0.6000000 | 50.00000  | 1         | 17        | \n",
       "| 0.5333333 | 56.25000  | 1         | 18        | \n",
       "| 0.4666667 | 64.28571  | 1         | 19        | \n",
       "| 0.5333333 | 56.25000  | 1         | 20        | \n",
       "| 0.5333333 | 56.25000  | 1         | 21        | \n",
       "| 0.6000000 | 50.00000  | 1         | 22        | \n",
       "| 0.6333333 | 47.36842  | 1         | 23        | \n",
       "| 0.6000000 | 50.00000  | 1         | 24        | \n",
       "| 0.5333333 | 56.25000  | 1         | 25        | \n",
       "| 0.4000000 | 75.00000  | 1         | 26        | \n",
       "| 0.5666667 | 52.94118  | 1         | 27        | \n",
       "| 0.5666667 | 52.94118  | 1         | 28        | \n",
       "| 0.6000000 | 50.00000  | 1         | 29        | \n",
       "| 0.4666667 | 64.28571  | 1         | 30        | \n",
       "| ⋮ | ⋮ | ⋮ | ⋮ | \n",
       "| 0.4333333 | 69.23077  | 1         |  971      | \n",
       "| 0.5666667 | 52.94118  | 1         |  972      | \n",
       "| 0.6000000 | 50.00000  | 1         |  973      | \n",
       "| 0.6333333 | 47.36842  | 1         |  974      | \n",
       "| 0.5666667 | 52.94118  | 1         |  975      | \n",
       "| 0.5666667 | 52.94118  | 1         |  976      | \n",
       "| 0.5000000 | 60.00000  | 1         |  977      | \n",
       "| 0.4666667 | 64.28571  | 1         |  978      | \n",
       "| 0.5333333 | 56.25000  | 1         |  979      | \n",
       "| 0.6000000 | 50.00000  | 1         |  980      | \n",
       "| 0.6666667 | 45.00000  | 1         |  981      | \n",
       "| 0.6333333 | 47.36842  | 1         |  982      | \n",
       "| 0.4666667 | 64.28571  | 1         |  983      | \n",
       "| 0.6000000 | 50.00000  | 1         |  984      | \n",
       "| 0.5000000 | 60.00000  | 1         |  985      | \n",
       "| 0.5333333 | 56.25000  | 1         |  986      | \n",
       "| 0.6000000 | 50.00000  | 1         |  987      | \n",
       "| 0.4000000 | 75.00000  | 1         |  988      | \n",
       "| 0.4333333 | 69.23077  | 1         |  989      | \n",
       "| 0.6333333 | 47.36842  | 1         |  990      | \n",
       "| 0.5333333 | 56.25000  | 1         |  991      | \n",
       "| 0.5333333 | 56.25000  | 1         |  992      | \n",
       "| 0.4000000 | 75.00000  | 1         |  993      | \n",
       "| 0.5666667 | 52.94118  | 1         |  994      | \n",
       "| 0.4666667 | 64.28571  | 1         |  995      | \n",
       "| 0.5666667 | 52.94118  | 1         |  996      | \n",
       "| 0.6000000 | 50.00000  | 1         |  997      | \n",
       "| 0.4666667 | 64.28571  | 1         |  998      | \n",
       "| 0.6000000 | 50.00000  | 1         |  999      | \n",
       "| 0.4000000 | 75.00000  | 1         | 1000      | \n",
       "\n",
       "\n"
      ],
      "text/plain": [
       "     p_hat     N_hat    .row .index\n",
       "1    0.5333333 56.25000 1     1    \n",
       "2    0.5666667 52.94118 1     2    \n",
       "3    0.5666667 52.94118 1     3    \n",
       "4    0.6333333 47.36842 1     4    \n",
       "5    0.5666667 52.94118 1     5    \n",
       "6    0.5333333 56.25000 1     6    \n",
       "7    0.4666667 64.28571 1     7    \n",
       "8    0.4666667 64.28571 1     8    \n",
       "9    0.4666667 64.28571 1     9    \n",
       "10   0.5333333 56.25000 1    10    \n",
       "11   0.7000000 42.85714 1    11    \n",
       "12   0.4666667 64.28571 1    12    \n",
       "13   0.5000000 60.00000 1    13    \n",
       "14   0.5000000 60.00000 1    14    \n",
       "15   0.6000000 50.00000 1    15    \n",
       "16   0.5666667 52.94118 1    16    \n",
       "17   0.6000000 50.00000 1    17    \n",
       "18   0.5333333 56.25000 1    18    \n",
       "19   0.4666667 64.28571 1    19    \n",
       "20   0.5333333 56.25000 1    20    \n",
       "21   0.5333333 56.25000 1    21    \n",
       "22   0.6000000 50.00000 1    22    \n",
       "23   0.6333333 47.36842 1    23    \n",
       "24   0.6000000 50.00000 1    24    \n",
       "25   0.5333333 56.25000 1    25    \n",
       "26   0.4000000 75.00000 1    26    \n",
       "27   0.5666667 52.94118 1    27    \n",
       "28   0.5666667 52.94118 1    28    \n",
       "29   0.6000000 50.00000 1    29    \n",
       "30   0.4666667 64.28571 1    30    \n",
       "⋮    ⋮         ⋮        ⋮    ⋮     \n",
       "971  0.4333333 69.23077 1     971  \n",
       "972  0.5666667 52.94118 1     972  \n",
       "973  0.6000000 50.00000 1     973  \n",
       "974  0.6333333 47.36842 1     974  \n",
       "975  0.5666667 52.94118 1     975  \n",
       "976  0.5666667 52.94118 1     976  \n",
       "977  0.5000000 60.00000 1     977  \n",
       "978  0.4666667 64.28571 1     978  \n",
       "979  0.5333333 56.25000 1     979  \n",
       "980  0.6000000 50.00000 1     980  \n",
       "981  0.6666667 45.00000 1     981  \n",
       "982  0.6333333 47.36842 1     982  \n",
       "983  0.4666667 64.28571 1     983  \n",
       "984  0.6000000 50.00000 1     984  \n",
       "985  0.5000000 60.00000 1     985  \n",
       "986  0.5333333 56.25000 1     986  \n",
       "987  0.6000000 50.00000 1     987  \n",
       "988  0.4000000 75.00000 1     988  \n",
       "989  0.4333333 69.23077 1     989  \n",
       "990  0.6333333 47.36842 1     990  \n",
       "991  0.5333333 56.25000 1     991  \n",
       "992  0.5333333 56.25000 1     992  \n",
       "993  0.4000000 75.00000 1     993  \n",
       "994  0.5666667 52.94118 1     994  \n",
       "995  0.4666667 64.28571 1     995  \n",
       "996  0.5666667 52.94118 1     996  \n",
       "997  0.6000000 50.00000 1     997  \n",
       "998  0.4666667 64.28571 1     998  \n",
       "999  0.6000000 50.00000 1     999  \n",
       "1000 0.4000000 75.00000 1    1000  "
      ]
     },
     "metadata": {},
     "output_type": "display_data"
    }
   ],
   "source": [
    "N <- 100 # number of fish in the pond\n",
    "C <- 30 # number of fish to sample in the Capture step\n",
    "R <- 30 # number of fish to sample in the Recapture step\n",
    "\n",
    "simulation_results <- do(1000) * {\n",
    "  ## Setup step: make a data frame representing all of the fish in the pond\n",
    "  pond_population <- data.frame(\n",
    "    fish_id = seq(from = 1, to = N),\n",
    "    marked = rep(0, N)\n",
    "  )\n",
    "\n",
    "  ## Capture step: capture C fish and add a variable to the data frame\n",
    "  ## with a 1 if the fish was marked and a 0 if it was not\n",
    "  captured_fish_ids <- sample(pond_population$fish_id, size = C, prob = sampling_weights)\n",
    "  pond_population$marked[captured_fish_ids] <- 1\n",
    "\n",
    "  ## Recapture step: capture R fish.  Of those, count how many were marked\n",
    "  recaptured_fish_ids <- sample(pond_population$fish_id, size = R, prob = sampling_weights)\n",
    "  m <- sum(pond_population$marked[recaptured_fish_ids])\n",
    "  \n",
    "  ## Estimate proportion of fish in the pond that were marked in the Capture step:\n",
    "  ## The number of fish sampled in the Recapture step that were marked divided by\n",
    "  ## the total number of fish sampled in the Recapture step.\n",
    "  p_hat <- m / R\n",
    "  \n",
    "  ## Estimate the total number of fish in the pond:\n",
    "  ## The number of fish that were marked in the Capture step divided by the\n",
    "  ## estimated proportion of fish that were \n",
    "  N_hat <- C / p_hat\n",
    "  \n",
    "  data.frame(p_hat = p_hat, N_hat = N_hat)\n",
    "}\n",
    "\n",
    "simulation_results"
   ]
  },
  {
   "cell_type": "markdown",
   "metadata": {},
   "source": [
    "#### 2. Make a histogram of `p_hat`, and a second histogram of `N_hat`.  \n",
    "\n",
    "The data frame with these variables is called `simulation_results`.  \n",
    "\n"
   ]
  },
  {
   "cell_type": "code",
   "execution_count": 70,
   "metadata": {},
   "outputs": [
    {
     "name": "stderr",
     "output_type": "stream",
     "text": [
      "`stat_bin()` using `bins = 30`. Pick better value with `binwidth`.\n"
     ]
    },
    {
     "data": {},
     "metadata": {},
     "output_type": "display_data"
    },
    {
     "name": "stderr",
     "output_type": "stream",
     "text": [
      "`stat_bin()` using `bins = 30`. Pick better value with `binwidth`.\n"
     ]
    },
    {
     "data": {},
     "metadata": {},
     "output_type": "display_data"
    },
    {
     "data": {
      "image/png": "[encoded data removed]",
      "text/plain": [
       "plot without title"
      ]
     },
     "metadata": {},
     "output_type": "display_data"
    },
    {
     "data": {
      "image/png": "[encoded data removed]",
      "text/plain": [
       "plot without title"
      ]
     },
     "metadata": {},
     "output_type": "display_data"
    }
   ],
   "source": [
    "ggplot(data=simulation_results, aes(N_hat)) +\n",
    "    geom_histogram(fill=I(\"blue\"),alpha=I(.2))\n",
    "\n",
    "ggplot(data=simulation_results, aes(p_hat)) +\n",
    "    geom_histogram(fill=I(\"blue\"),alpha=I(.2))"
   ]
  },
  {
   "cell_type": "markdown",
   "metadata": {},
   "source": [
    "#### 3. Calculate the mean and median of `p_hat` and `N_hat`."
   ]
  },
  {
   "cell_type": "code",
   "execution_count": 71,
   "metadata": {},
   "outputs": [
    {
     "data": {
      "text/html": [
       "<table>\n",
       "<thead><tr><th scope=col>mean</th><th scope=col>median</th></tr></thead>\n",
       "<tbody>\n",
       "\t<tr><td>0.5386667</td><td>0.5333333</td></tr>\n",
       "</tbody>\n",
       "</table>\n"
      ],
      "text/latex": [
       "\\begin{tabular}{r|ll}\n",
       " mean & median\\\\\n",
       "\\hline\n",
       "\t 0.5386667 & 0.5333333\\\\\n",
       "\\end{tabular}\n"
      ],
      "text/markdown": [
       "\n",
       "mean | median | \n",
       "|---|\n",
       "| 0.5386667 | 0.5333333 | \n",
       "\n",
       "\n"
      ],
      "text/plain": [
       "  mean      median   \n",
       "1 0.5386667 0.5333333"
      ]
     },
     "metadata": {},
     "output_type": "display_data"
    },
    {
     "data": {
      "text/html": [
       "<table>\n",
       "<thead><tr><th scope=col>mean</th><th scope=col>median</th></tr></thead>\n",
       "<tbody>\n",
       "\t<tr><td>56.62292</td><td>56.25   </td></tr>\n",
       "</tbody>\n",
       "</table>\n"
      ],
      "text/latex": [
       "\\begin{tabular}{r|ll}\n",
       " mean & median\\\\\n",
       "\\hline\n",
       "\t 56.62292 & 56.25   \\\\\n",
       "\\end{tabular}\n"
      ],
      "text/markdown": [
       "\n",
       "mean | median | \n",
       "|---|\n",
       "| 56.62292 | 56.25    | \n",
       "\n",
       "\n"
      ],
      "text/plain": [
       "  mean     median\n",
       "1 56.62292 56.25 "
      ]
     },
     "metadata": {},
     "output_type": "display_data"
    }
   ],
   "source": [
    "simulation_results %>% \n",
    "    summarize(mean=mean(p_hat), median=median(p_hat)) \n",
    "\n",
    "simulation_results %>%\n",
    "summarize(mean=mean(N_hat), median=median(N_hat))"
   ]
  },
  {
   "cell_type": "markdown",
   "metadata": {},
   "source": [
    "#### 4. Explain your findings\n",
    "\n",
    "You will notice that the distribution of population size estimates has changed relative to what you saw in Phase 2.  Explain how the changes we made to the simulation study code affect the estimates of the proportion of the population that was marked in the Capture step and why this means that the population size estimates are larger or smaller."
   ]
  },
  {
   "cell_type": "markdown",
   "metadata": {},
   "source": []
  },
  {
   "cell_type": "markdown",
   "metadata": {},
   "source": [
    "## 3b: Marked fish less likely to be Recaptured (sample volunteers/sample conveniently)\n",
    "\n",
    "It might also be the case that fish that were marked in the Capture step are more or less likely to be caught again in the Recapture step.  For example, maybe the experience of being tagged was traumatic and the fish will strenuously avoid being caught again.  Or maybe you treated the fish you caught really well, and the ones who were captured the first time will try to be captured again.  We can again represent this in the simulation study by modifying the sampling weights.  Now, we'll only need to modify the weights in the Recapture step, for just those fish who were captured in the Capture step.\n",
    "\n",
    "If the fish that were tagged are one tenth as likely to be recaptured than the fish that were not tagged, we can use the following code to calculate the weights to use in the Recapture step:"
   ]
  },
  {
   "cell_type": "code",
   "execution_count": 75,
   "metadata": {},
   "outputs": [],
   "source": [
    "sampling_weights <- rep(1, 100)\n",
    "sampling_weights[pond_population$marked == 1] <- 0.1"
   ]
  },
  {
   "cell_type": "markdown",
   "metadata": {},
   "source": [
    "#### 1. Introduce another form of sampling bias into the simulation study\n",
    "\n",
    "The R cell below contains the original code from section 2 (b) above, to do the simulation study assuming all of the fish are equally likely to be captured.  Modify the call to the `sample()` function Recapture step to reflect the scenario where the fish that were marked in the Capture step are less likely to be caught in the Recapture step.  You will need to put the calculation of the sampling weights in just before the Recapture step, and modify the call to the `sample()` function in the Recapture step (but not the Capture step)."
   ]
  },
  {
   "cell_type": "code",
   "execution_count": 77,
   "metadata": {},
   "outputs": [
    {
     "data": {
      "text/html": [
       "<ol class=list-inline>\n",
       "\t<li>0.1</li>\n",
       "\t<li>0.1</li>\n",
       "\t<li>0.1</li>\n",
       "\t<li>1</li>\n",
       "\t<li>0.1</li>\n",
       "\t<li>1</li>\n",
       "\t<li>1</li>\n",
       "\t<li>1</li>\n",
       "\t<li>1</li>\n",
       "\t<li>0.1</li>\n",
       "\t<li>1</li>\n",
       "\t<li>0.1</li>\n",
       "\t<li>0.1</li>\n",
       "\t<li>1</li>\n",
       "\t<li>1</li>\n",
       "\t<li>1</li>\n",
       "\t<li>1</li>\n",
       "\t<li>1</li>\n",
       "\t<li>1</li>\n",
       "\t<li>0.1</li>\n",
       "\t<li>0.1</li>\n",
       "\t<li>1</li>\n",
       "\t<li>1</li>\n",
       "\t<li>1</li>\n",
       "\t<li>1</li>\n",
       "\t<li>1</li>\n",
       "\t<li>1</li>\n",
       "\t<li>1</li>\n",
       "\t<li>1</li>\n",
       "\t<li>1</li>\n",
       "\t<li>1</li>\n",
       "\t<li>1</li>\n",
       "\t<li>0.1</li>\n",
       "\t<li>1</li>\n",
       "\t<li>0.1</li>\n",
       "\t<li>0.1</li>\n",
       "\t<li>1</li>\n",
       "\t<li>1</li>\n",
       "\t<li>0.1</li>\n",
       "\t<li>1</li>\n",
       "\t<li>0.1</li>\n",
       "\t<li>0.1</li>\n",
       "\t<li>1</li>\n",
       "\t<li>1</li>\n",
       "\t<li>1</li>\n",
       "\t<li>1</li>\n",
       "\t<li>1</li>\n",
       "\t<li>0.1</li>\n",
       "\t<li>1</li>\n",
       "\t<li>1</li>\n",
       "\t<li>1</li>\n",
       "\t<li>0.1</li>\n",
       "\t<li>1</li>\n",
       "\t<li>0.1</li>\n",
       "\t<li>0.1</li>\n",
       "\t<li>0.1</li>\n",
       "\t<li>1</li>\n",
       "\t<li>1</li>\n",
       "\t<li>1</li>\n",
       "\t<li>1</li>\n",
       "\t<li>0.1</li>\n",
       "\t<li>0.1</li>\n",
       "\t<li>0.1</li>\n",
       "\t<li>1</li>\n",
       "\t<li>1</li>\n",
       "\t<li>1</li>\n",
       "\t<li>0.1</li>\n",
       "\t<li>1</li>\n",
       "\t<li>0.1</li>\n",
       "\t<li>1</li>\n",
       "\t<li>1</li>\n",
       "\t<li>1</li>\n",
       "\t<li>1</li>\n",
       "\t<li>1</li>\n",
       "\t<li>1</li>\n",
       "\t<li>1</li>\n",
       "\t<li>1</li>\n",
       "\t<li>1</li>\n",
       "\t<li>1</li>\n",
       "\t<li>1</li>\n",
       "\t<li>1</li>\n",
       "\t<li>1</li>\n",
       "\t<li>1</li>\n",
       "\t<li>1</li>\n",
       "\t<li>1</li>\n",
       "\t<li>1</li>\n",
       "\t<li>1</li>\n",
       "\t<li>0.1</li>\n",
       "\t<li>0.1</li>\n",
       "\t<li>1</li>\n",
       "\t<li>1</li>\n",
       "\t<li>0.1</li>\n",
       "\t<li>0.1</li>\n",
       "\t<li>1</li>\n",
       "\t<li>1</li>\n",
       "\t<li>1</li>\n",
       "\t<li>1</li>\n",
       "\t<li>1</li>\n",
       "\t<li>0.1</li>\n",
       "\t<li>1</li>\n",
       "</ol>\n"
      ],
      "text/latex": [
       "\\begin{enumerate*}\n",
       "\\item 0.1\n",
       "\\item 0.1\n",
       "\\item 0.1\n",
       "\\item 1\n",
       "\\item 0.1\n",
       "\\item 1\n",
       "\\item 1\n",
       "\\item 1\n",
       "\\item 1\n",
       "\\item 0.1\n",
       "\\item 1\n",
       "\\item 0.1\n",
       "\\item 0.1\n",
       "\\item 1\n",
       "\\item 1\n",
       "\\item 1\n",
       "\\item 1\n",
       "\\item 1\n",
       "\\item 1\n",
       "\\item 0.1\n",
       "\\item 0.1\n",
       "\\item 1\n",
       "\\item 1\n",
       "\\item 1\n",
       "\\item 1\n",
       "\\item 1\n",
       "\\item 1\n",
       "\\item 1\n",
       "\\item 1\n",
       "\\item 1\n",
       "\\item 1\n",
       "\\item 1\n",
       "\\item 0.1\n",
       "\\item 1\n",
       "\\item 0.1\n",
       "\\item 0.1\n",
       "\\item 1\n",
       "\\item 1\n",
       "\\item 0.1\n",
       "\\item 1\n",
       "\\item 0.1\n",
       "\\item 0.1\n",
       "\\item 1\n",
       "\\item 1\n",
       "\\item 1\n",
       "\\item 1\n",
       "\\item 1\n",
       "\\item 0.1\n",
       "\\item 1\n",
       "\\item 1\n",
       "\\item 1\n",
       "\\item 0.1\n",
       "\\item 1\n",
       "\\item 0.1\n",
       "\\item 0.1\n",
       "\\item 0.1\n",
       "\\item 1\n",
       "\\item 1\n",
       "\\item 1\n",
       "\\item 1\n",
       "\\item 0.1\n",
       "\\item 0.1\n",
       "\\item 0.1\n",
       "\\item 1\n",
       "\\item 1\n",
       "\\item 1\n",
       "\\item 0.1\n",
       "\\item 1\n",
       "\\item 0.1\n",
       "\\item 1\n",
       "\\item 1\n",
       "\\item 1\n",
       "\\item 1\n",
       "\\item 1\n",
       "\\item 1\n",
       "\\item 1\n",
       "\\item 1\n",
       "\\item 1\n",
       "\\item 1\n",
       "\\item 1\n",
       "\\item 1\n",
       "\\item 1\n",
       "\\item 1\n",
       "\\item 1\n",
       "\\item 1\n",
       "\\item 1\n",
       "\\item 1\n",
       "\\item 0.1\n",
       "\\item 0.1\n",
       "\\item 1\n",
       "\\item 1\n",
       "\\item 0.1\n",
       "\\item 0.1\n",
       "\\item 1\n",
       "\\item 1\n",
       "\\item 1\n",
       "\\item 1\n",
       "\\item 1\n",
       "\\item 0.1\n",
       "\\item 1\n",
       "\\end{enumerate*}\n"
      ],
      "text/markdown": [
       "1. 0.1\n",
       "2. 0.1\n",
       "3. 0.1\n",
       "4. 1\n",
       "5. 0.1\n",
       "6. 1\n",
       "7. 1\n",
       "8. 1\n",
       "9. 1\n",
       "10. 0.1\n",
       "11. 1\n",
       "12. 0.1\n",
       "13. 0.1\n",
       "14. 1\n",
       "15. 1\n",
       "16. 1\n",
       "17. 1\n",
       "18. 1\n",
       "19. 1\n",
       "20. 0.1\n",
       "21. 0.1\n",
       "22. 1\n",
       "23. 1\n",
       "24. 1\n",
       "25. 1\n",
       "26. 1\n",
       "27. 1\n",
       "28. 1\n",
       "29. 1\n",
       "30. 1\n",
       "31. 1\n",
       "32. 1\n",
       "33. 0.1\n",
       "34. 1\n",
       "35. 0.1\n",
       "36. 0.1\n",
       "37. 1\n",
       "38. 1\n",
       "39. 0.1\n",
       "40. 1\n",
       "41. 0.1\n",
       "42. 0.1\n",
       "43. 1\n",
       "44. 1\n",
       "45. 1\n",
       "46. 1\n",
       "47. 1\n",
       "48. 0.1\n",
       "49. 1\n",
       "50. 1\n",
       "51. 1\n",
       "52. 0.1\n",
       "53. 1\n",
       "54. 0.1\n",
       "55. 0.1\n",
       "56. 0.1\n",
       "57. 1\n",
       "58. 1\n",
       "59. 1\n",
       "60. 1\n",
       "61. 0.1\n",
       "62. 0.1\n",
       "63. 0.1\n",
       "64. 1\n",
       "65. 1\n",
       "66. 1\n",
       "67. 0.1\n",
       "68. 1\n",
       "69. 0.1\n",
       "70. 1\n",
       "71. 1\n",
       "72. 1\n",
       "73. 1\n",
       "74. 1\n",
       "75. 1\n",
       "76. 1\n",
       "77. 1\n",
       "78. 1\n",
       "79. 1\n",
       "80. 1\n",
       "81. 1\n",
       "82. 1\n",
       "83. 1\n",
       "84. 1\n",
       "85. 1\n",
       "86. 1\n",
       "87. 1\n",
       "88. 0.1\n",
       "89. 0.1\n",
       "90. 1\n",
       "91. 1\n",
       "92. 0.1\n",
       "93. 0.1\n",
       "94. 1\n",
       "95. 1\n",
       "96. 1\n",
       "97. 1\n",
       "98. 1\n",
       "99. 0.1\n",
       "100. 1\n",
       "\n",
       "\n"
      ],
      "text/plain": [
       "  [1] 0.1 0.1 0.1 1.0 0.1 1.0 1.0 1.0 1.0 0.1 1.0 0.1 0.1 1.0 1.0 1.0 1.0 1.0\n",
       " [19] 1.0 0.1 0.1 1.0 1.0 1.0 1.0 1.0 1.0 1.0 1.0 1.0 1.0 1.0 0.1 1.0 0.1 0.1\n",
       " [37] 1.0 1.0 0.1 1.0 0.1 0.1 1.0 1.0 1.0 1.0 1.0 0.1 1.0 1.0 1.0 0.1 1.0 0.1\n",
       " [55] 0.1 0.1 1.0 1.0 1.0 1.0 0.1 0.1 0.1 1.0 1.0 1.0 0.1 1.0 0.1 1.0 1.0 1.0\n",
       " [73] 1.0 1.0 1.0 1.0 1.0 1.0 1.0 1.0 1.0 1.0 1.0 1.0 1.0 1.0 1.0 0.1 0.1 1.0\n",
       " [91] 1.0 0.1 0.1 1.0 1.0 1.0 1.0 1.0 0.1 1.0"
      ]
     },
     "metadata": {},
     "output_type": "display_data"
    },
    {
     "data": {
      "text/plain": [
       "     p_hat             N_hat             .row       .index      \n",
       " Min.   :0.06667   Min.   : 56.25   Min.   :1   Min.   :   1.0  \n",
       " 1st Qu.:0.26667   1st Qu.: 90.00   1st Qu.:1   1st Qu.: 250.8  \n",
       " Median :0.30000   Median :100.00   Median :1   Median : 500.5  \n",
       " Mean   :0.30067   Mean   :106.54   Mean   :1   Mean   : 500.5  \n",
       " 3rd Qu.:0.33333   3rd Qu.:112.50   3rd Qu.:1   3rd Qu.: 750.2  \n",
       " Max.   :0.53333   Max.   :450.00   Max.   :1   Max.   :1000.0  "
      ]
     },
     "metadata": {},
     "output_type": "display_data"
    }
   ],
   "source": [
    "N <- 100 # number of fish in the pond\n",
    "C <- 30 # number of fish to sample in the Capture step\n",
    "R <- 30 # number of fish to sample in the Recapture step\n",
    "\n",
    "simulation_results <- do(1000) * {\n",
    "  ## Setup step: make a data frame representing all of the fish in the pond\n",
    "  pond_population <- data.frame(\n",
    "    fish_id = seq(from = 1, to = N),\n",
    "    marked = rep(0, N)\n",
    "  )\n",
    "\n",
    "  ## Capture step: capture C fish and add a variable to the data frame\n",
    "  ## with a 1 if the fish was marked and a 0 if it was not\n",
    "  captured_fish_ids <- sample(pond_population$fish_id, size = C)\n",
    "  pond_population$marked[captured_fish_ids] <- 1\n",
    "\n",
    "  ## Recapture step: capture R fish.  Of those, count how many were marked\n",
    "  recaptured_fish_ids <- sample(pond_population$fish_id, size = R, prob = sampling_weights)\n",
    "  m <- sum(pond_population$marked[recaptured_fish_ids])\n",
    "  \n",
    "  ## Estimate proportion of fish in the pond that were marked in the Capture step:\n",
    "  ## The number of fish sampled in the Recapture step that were marked divided by\n",
    "  ## the total number of fish sampled in the Recapture step.\n",
    "  p_hat <- m / R\n",
    "  \n",
    "  ## Estimate the total number of fish in the pond:\n",
    "  ## The number of fish that were marked in the Capture step divided by the\n",
    "  ## estimated proportion of fish that were \n",
    "  N_hat <- C / p_hat\n",
    "  \n",
    "  data.frame(p_hat = p_hat, N_hat = N_hat)\n",
    "}\n",
    "\n",
    "sampling_weights\n",
    "summary(simulation_results)"
   ]
  },
  {
   "cell_type": "markdown",
   "metadata": {},
   "source": [
    "#### 2. Make a histogram or density plot of `p_hat`, and a second histogram or density plot of `N_hat`.  \n",
    "\n",
    "The data frame with these variables is called `simulation_results`.  "
   ]
  },
  {
   "cell_type": "code",
   "execution_count": 78,
   "metadata": {},
   "outputs": [
    {
     "name": "stderr",
     "output_type": "stream",
     "text": [
      "`stat_bin()` using `bins = 30`. Pick better value with `binwidth`.\n"
     ]
    },
    {
     "data": {},
     "metadata": {},
     "output_type": "display_data"
    },
    {
     "name": "stderr",
     "output_type": "stream",
     "text": [
      "`stat_bin()` using `bins = 30`. Pick better value with `binwidth`.\n"
     ]
    },
    {
     "data": {},
     "metadata": {},
     "output_type": "display_data"
    },
    {
     "data": {
      "image/png": "[encoded data removed]",
      "text/plain": [
       "plot without title"
      ]
     },
     "metadata": {},
     "output_type": "display_data"
    },
    {
     "data": {
      "image/png": "[encoded data removed]",
      "text/plain": [
       "plot without title"
      ]
     },
     "metadata": {},
     "output_type": "display_data"
    }
   ],
   "source": [
    "ggplot(data=simulation_results, aes(N_hat)) +\n",
    "    geom_histogram(fill=I(\"blue\"),alpha=I(.2))\n",
    "\n",
    "ggplot(data=simulation_results, aes(p_hat)) +\n",
    "    geom_histogram(fill=I(\"blue\"),alpha=I(.2))"
   ]
  },
  {
   "cell_type": "markdown",
   "metadata": {},
   "source": [
    "#### 3. Calculate the mean and median of `p_hat` and `N_hat`."
   ]
  },
  {
   "cell_type": "code",
   "execution_count": 79,
   "metadata": {},
   "outputs": [
    {
     "data": {
      "text/html": [
       "<table>\n",
       "<thead><tr><th scope=col>mean</th><th scope=col>median</th></tr></thead>\n",
       "<tbody>\n",
       "\t<tr><td>0.3006667</td><td>0.3      </td></tr>\n",
       "</tbody>\n",
       "</table>\n"
      ],
      "text/latex": [
       "\\begin{tabular}{r|ll}\n",
       " mean & median\\\\\n",
       "\\hline\n",
       "\t 0.3006667 & 0.3      \\\\\n",
       "\\end{tabular}\n"
      ],
      "text/markdown": [
       "\n",
       "mean | median | \n",
       "|---|\n",
       "| 0.3006667 | 0.3       | \n",
       "\n",
       "\n"
      ],
      "text/plain": [
       "  mean      median\n",
       "1 0.3006667 0.3   "
      ]
     },
     "metadata": {},
     "output_type": "display_data"
    },
    {
     "data": {
      "text/html": [
       "<table>\n",
       "<thead><tr><th scope=col>mean</th><th scope=col>median</th></tr></thead>\n",
       "<tbody>\n",
       "\t<tr><td>106.5407</td><td>100     </td></tr>\n",
       "</tbody>\n",
       "</table>\n"
      ],
      "text/latex": [
       "\\begin{tabular}{r|ll}\n",
       " mean & median\\\\\n",
       "\\hline\n",
       "\t 106.5407 & 100     \\\\\n",
       "\\end{tabular}\n"
      ],
      "text/markdown": [
       "\n",
       "mean | median | \n",
       "|---|\n",
       "| 106.5407 | 100      | \n",
       "\n",
       "\n"
      ],
      "text/plain": [
       "  mean     median\n",
       "1 106.5407 100   "
      ]
     },
     "metadata": {},
     "output_type": "display_data"
    }
   ],
   "source": [
    "simulation_results %>% \n",
    "    summarize(mean=mean(p_hat), median=median(p_hat)) \n",
    "\n",
    "simulation_results %>%\n",
    "summarize(mean=mean(N_hat), median=median(N_hat))"
   ]
  },
  {
   "cell_type": "markdown",
   "metadata": {},
   "source": [
    "#### 4. Explain your findings\n",
    "\n",
    "You will notice that the distribution of population size estimates has changed.  Explain how the changes we made to the simulation study code affect the estimates of the proportion of the population that was marked in the Capture step and why this means that the population size estimates are larger or smaller."
   ]
  },
  {
   "cell_type": "markdown",
   "metadata": {},
   "source": []
  },
  {
   "cell_type": "markdown",
   "metadata": {},
   "source": [
    "#### Optional: If you'd like, you can also repeat the above, but where marked fish are 10 times as likely to be caught in the Recapture step as unmarked fish."
   ]
  },
  {
   "cell_type": "markdown",
   "metadata": {},
   "source": [
    "## 3c: Tags not securely attached (response bias)\n",
    "\n",
    "If the tags are not securely attached to the fish, they could fall off between the Capture and Recapture steps.  This would mean that in the Recapture step, we wouldn't know for sure whether or not any fish we catch that don't have tags were caught previously and marked.\n",
    "\n",
    "In our simulation study, we can represent this by marking fewer than the intended number of fish.  For example, if we intended to mark 30 fish but 1/3 of the tags fell off, we could represent this in the R code by sampling only 20 fish to mark in the Capture step (but still use the number 30 when calculating the estimated population size `N_hat`):"
   ]
  },
  {
   "cell_type": "code",
   "execution_count": 42,
   "metadata": {},
   "outputs": [],
   "source": [
    "captured_fish_ids <- sample(pond_population$fish_id, size = 20)"
   ]
  },
  {
   "cell_type": "markdown",
   "metadata": {},
   "source": [
    "#### 1.  Try introducing response bias\n",
    "\n",
    "The R cell below contains the original code from section 2 (b) above, to do the simulation study assuming all of the fish are equally likely to be captured and that the tags don't fall off between the Capture step and the Recapture step.  Modify the calls to the `sample()` function in the Capture step to reflect the scenario where the fish that were marked in the Capture step are not all tagged successfully.  As above, let's assume that 1/3 of the tags fall off between the Capture and Recapture steps.  You will need to modify the call to the `sample()` function in the Capture step (but not the Recapture step)."
   ]
  },
  {
   "cell_type": "code",
   "execution_count": 80,
   "metadata": {},
   "outputs": [
    {
     "data": {
      "text/plain": [
       "     p_hat             N_hat             .row       .index      \n",
       " Min.   :0.03333   Min.   : 69.23   Min.   :1   Min.   :   1.0  \n",
       " 1st Qu.:0.16667   1st Qu.:128.57   1st Qu.:1   1st Qu.: 250.8  \n",
       " Median :0.20000   Median :150.00   Median :1   Median : 500.5  \n",
       " Mean   :0.20307   Mean   :163.57   Mean   :1   Mean   : 500.5  \n",
       " 3rd Qu.:0.23333   3rd Qu.:180.00   3rd Qu.:1   3rd Qu.: 750.2  \n",
       " Max.   :0.43333   Max.   :900.00   Max.   :1   Max.   :1000.0  "
      ]
     },
     "metadata": {},
     "output_type": "display_data"
    }
   ],
   "source": [
    "N <- 100 # number of fish in the pond\n",
    "C <- 30 # number of fish to sample in the Capture step\n",
    "R <- 30 # number of fish to sample in the Recapture step\n",
    "\n",
    "simulation_results <- do(1000) * {\n",
    "  ## Setup step: make a data frame representing all of the fish in the pond\n",
    "  pond_population <- data.frame(\n",
    "    fish_id = seq(from = 1, to = N),\n",
    "    marked = rep(0, N)\n",
    "  )\n",
    "\n",
    "  ## Capture step: capture C fish and add a variable to the data frame\n",
    "  ## with a 1 if the fish was marked and a 0 if it was not\n",
    "  captured_fish_ids <- sample(pond_population$fish_id, size = 20)\n",
    "  pond_population$marked[captured_fish_ids] <- 1\n",
    "\n",
    "  ## Recapture step: capture R fish.  Of those, count how many were marked\n",
    "  recaptured_fish_ids <- sample(pond_population$fish_id, size = R)\n",
    "  m <- sum(pond_population$marked[recaptured_fish_ids])\n",
    "  \n",
    "  ## Estimate proportion of fish in the pond that were marked in the Capture step:\n",
    "  ## The number of fish sampled in the Recapture step that were marked divided by\n",
    "  ## the total number of fish sampled in the Recapture step.\n",
    "  p_hat <- m / R\n",
    "  \n",
    "  ## Estimate the total number of fish in the pond:\n",
    "  ## The number of fish that were marked in the Capture step divided by the\n",
    "  ## estimated proportion of fish that were \n",
    "  N_hat <- C / p_hat\n",
    "  \n",
    "  data.frame(p_hat = p_hat, N_hat = N_hat)\n",
    "}\n",
    "\n",
    "summary(simulation_results)"
   ]
  },
  {
   "cell_type": "markdown",
   "metadata": {},
   "source": [
    "#### 2. Make a histogram or density plot of `p_hat`, and a second histogram or density plot of `N_hat`. \n",
    "\n",
    "The data frame with these variables is called `simulation_results`.  "
   ]
  },
  {
   "cell_type": "code",
   "execution_count": 81,
   "metadata": {},
   "outputs": [
    {
     "name": "stderr",
     "output_type": "stream",
     "text": [
      "`stat_bin()` using `bins = 30`. Pick better value with `binwidth`.\n"
     ]
    },
    {
     "data": {},
     "metadata": {},
     "output_type": "display_data"
    },
    {
     "name": "stderr",
     "output_type": "stream",
     "text": [
      "`stat_bin()` using `bins = 30`. Pick better value with `binwidth`.\n"
     ]
    },
    {
     "data": {},
     "metadata": {},
     "output_type": "display_data"
    },
    {
     "data": {
      "image/png": "[encoded data removed]",
      "text/plain": [
       "plot without title"
      ]
     },
     "metadata": {},
     "output_type": "display_data"
    },
    {
     "data": {
      "image/png": "[encoded data removed]",
      "text/plain": [
       "plot without title"
      ]
     },
     "metadata": {},
     "output_type": "display_data"
    }
   ],
   "source": [
    "ggplot(data=simulation_results, aes(N_hat)) +\n",
    "    geom_histogram(fill=I(\"blue\"),alpha=I(.2))\n",
    "\n",
    "ggplot(data=simulation_results, aes(p_hat)) +\n",
    "    geom_histogram(fill=I(\"blue\"),alpha=I(.2))"
   ]
  },
  {
   "cell_type": "markdown",
   "metadata": {},
   "source": [
    "#### 3. Calculate the mean and median of `p_hat` and `N_hat`."
   ]
  },
  {
   "cell_type": "code",
   "execution_count": 82,
   "metadata": {},
   "outputs": [
    {
     "data": {
      "text/html": [
       "<table>\n",
       "<thead><tr><th scope=col>mean</th><th scope=col>median</th></tr></thead>\n",
       "<tbody>\n",
       "\t<tr><td>0.2030667</td><td>0.2      </td></tr>\n",
       "</tbody>\n",
       "</table>\n"
      ],
      "text/latex": [
       "\\begin{tabular}{r|ll}\n",
       " mean & median\\\\\n",
       "\\hline\n",
       "\t 0.2030667 & 0.2      \\\\\n",
       "\\end{tabular}\n"
      ],
      "text/markdown": [
       "\n",
       "mean | median | \n",
       "|---|\n",
       "| 0.2030667 | 0.2       | \n",
       "\n",
       "\n"
      ],
      "text/plain": [
       "  mean      median\n",
       "1 0.2030667 0.2   "
      ]
     },
     "metadata": {},
     "output_type": "display_data"
    },
    {
     "data": {
      "text/html": [
       "<table>\n",
       "<thead><tr><th scope=col>mean</th><th scope=col>median</th></tr></thead>\n",
       "<tbody>\n",
       "\t<tr><td>163.5652</td><td>150     </td></tr>\n",
       "</tbody>\n",
       "</table>\n"
      ],
      "text/latex": [
       "\\begin{tabular}{r|ll}\n",
       " mean & median\\\\\n",
       "\\hline\n",
       "\t 163.5652 & 150     \\\\\n",
       "\\end{tabular}\n"
      ],
      "text/markdown": [
       "\n",
       "mean | median | \n",
       "|---|\n",
       "| 163.5652 | 150      | \n",
       "\n",
       "\n"
      ],
      "text/plain": [
       "  mean     median\n",
       "1 163.5652 150   "
      ]
     },
     "metadata": {},
     "output_type": "display_data"
    }
   ],
   "source": [
    "simulation_results %>% \n",
    "    summarize(mean=mean(p_hat), median=median(p_hat)) \n",
    "\n",
    "simulation_results %>%\n",
    "summarize(mean=mean(N_hat), median=median(N_hat))"
   ]
  },
  {
   "cell_type": "markdown",
   "metadata": {},
   "source": [
    "#### 4. Explain your findings.\n",
    "\n",
    "You will notice that the distribution of population size estimates has changed.  Explain how the changes we made to the simulation study code affect the estimates of the proportion of the population that was marked in the Capture step and why this means that the population size estimates are larger or smaller."
   ]
  },
  {
   "cell_type": "markdown",
   "metadata": {},
   "source": []
  },
  {
   "cell_type": "markdown",
   "metadata": {},
   "source": [
    "# Phase 4: The effect of sample size on estimates of population size.\n",
    "\n",
    "So far, we have used a sample size of 30 fish in each of the Capture and Recapture steps.  What if the boss tells us that we now only have enough money to catch 10 or 20 fish in each phase.  How much will that impact our estimates of population size?  Can we make an argument that our sample sizes should be even larger, maybe 40 fish?  Repeat the above simulation study, but using different numbers of fish caught to the Capture and Recapture steps:\n",
    "\n",
    " * Mark $C = 10$ fish in the Capture step, and catch $R = 10$ fish in the Recapture step\n",
    " * Mark $C = 20$ fish in the Capture step, and catch $R = 20$ fish in the Recapture step\n",
    " * Mark $C = 40$ fish in the Capture step, and catch $R = 40$ fish in the Recapture step\n",
    "\n",
    "## 4a: $C = 10$, $R = 10$\n",
    "\n",
    "Modify the code in the R cell below to mark $C = 10$ fish in the Capture step, and catch $R = 10$ fish in the Recapture step."
   ]
  },
  {
   "cell_type": "code",
   "execution_count": 46,
   "metadata": {},
   "outputs": [],
   "source": [
    "N <- 100 # number of fish in the pond\n",
    "C <- 10 # number of fish to sample in the Capture step\n",
    "R <- 10 # number of fish to sample in the Recapture step\n",
    "\n",
    "simulation_results <- do(1000) * {\n",
    "  ## Setup step: make a data frame representing all of the fish in the pond\n",
    "  pond_population <- data.frame(\n",
    "    fish_id = seq(from = 1, to = N),\n",
    "    marked = rep(0, N)\n",
    "  )\n",
    "\n",
    "  ## Capture step: capture C fish and add a variable to the data frame\n",
    "  ## with a 1 if the fish was marked and a 0 if it was not\n",
    "  captured_fish_ids <- sample(pond_population$fish_id, size = C)\n",
    "  pond_population$marked[captured_fish_ids] <- 1\n",
    "\n",
    "  ## Recapture step: capture R fish.  Of those, count how many were marked\n",
    "  recaptured_fish_ids <- sample(pond_population$fish_id, size = R)\n",
    "  m <- sum(pond_population$marked[recaptured_fish_ids])\n",
    "  \n",
    "  ## Estimate proportion of fish in the pond that were marked in the Capture step:\n",
    "  ## The number of fish sampled in the Recapture step that were marked divided by\n",
    "  ## the total number of fish sampled in the Recapture step.\n",
    "  p_hat <- m / R\n",
    "  \n",
    "  ## Estimate the total number of fish in the pond:\n",
    "  ## The number of fish that were marked in the Capture step divided by the\n",
    "  ## estimated proportion of fish that were \n",
    "  N_hat <- C / p_hat\n",
    "  \n",
    "  data.frame(p_hat = p_hat, N_hat = N_hat)\n",
    "}"
   ]
  },
  {
   "cell_type": "markdown",
   "metadata": {},
   "source": [
    "#### Make a histogram of `p_hat`, and a second histogram of `N_hat`.  The data frame with these variables is called `simulation_results`.  Also, calculate the mean and median of each of these values."
   ]
  },
  {
   "cell_type": "code",
   "execution_count": 47,
   "metadata": {},
   "outputs": [
    {
     "name": "stderr",
     "output_type": "stream",
     "text": [
      "`stat_bin()` using `bins = 30`. Pick better value with `binwidth`.\n",
      "Warning message:\n",
      "“Removed 324 rows containing non-finite values (stat_bin).”"
     ]
    },
    {
     "data": {},
     "metadata": {},
     "output_type": "display_data"
    },
    {
     "name": "stderr",
     "output_type": "stream",
     "text": [
      "`stat_bin()` using `bins = 30`. Pick better value with `binwidth`.\n"
     ]
    },
    {
     "data": {},
     "metadata": {},
     "output_type": "display_data"
    },
    {
     "data": {
      "image/png": "[encoded data removed]",
      "text/plain": [
       "plot without title"
      ]
     },
     "metadata": {},
     "output_type": "display_data"
    },
    {
     "data": {
      "text/html": [
       "<table>\n",
       "<thead><tr><th scope=col>mean</th><th scope=col>median</th></tr></thead>\n",
       "<tbody>\n",
       "\t<tr><td>0.0991</td><td>0.1   </td></tr>\n",
       "</tbody>\n",
       "</table>\n"
      ],
      "text/latex": [
       "\\begin{tabular}{r|ll}\n",
       " mean & median\\\\\n",
       "\\hline\n",
       "\t 0.0991 & 0.1   \\\\\n",
       "\\end{tabular}\n"
      ],
      "text/markdown": [
       "\n",
       "mean | median | \n",
       "|---|\n",
       "| 0.0991 | 0.1    | \n",
       "\n",
       "\n"
      ],
      "text/plain": [
       "  mean   median\n",
       "1 0.0991 0.1   "
      ]
     },
     "metadata": {},
     "output_type": "display_data"
    },
    {
     "data": {
      "text/html": [
       "<table>\n",
       "<thead><tr><th scope=col>mean</th><th scope=col>median</th></tr></thead>\n",
       "<tbody>\n",
       "\t<tr><td>Inf</td><td>100</td></tr>\n",
       "</tbody>\n",
       "</table>\n"
      ],
      "text/latex": [
       "\\begin{tabular}{r|ll}\n",
       " mean & median\\\\\n",
       "\\hline\n",
       "\t Inf & 100\\\\\n",
       "\\end{tabular}\n"
      ],
      "text/markdown": [
       "\n",
       "mean | median | \n",
       "|---|\n",
       "| Inf | 100 | \n",
       "\n",
       "\n"
      ],
      "text/plain": [
       "  mean median\n",
       "1 Inf  100   "
      ]
     },
     "metadata": {},
     "output_type": "display_data"
    },
    {
     "data": {
      "image/png": "[encoded data removed]",
      "text/plain": [
       "plot without title"
      ]
     },
     "metadata": {},
     "output_type": "display_data"
    }
   ],
   "source": [
    "ggplot(data=simulation_results, aes(N_hat)) +\n",
    "    geom_histogram(fill=I(\"blue\"),alpha=I(.2))\n",
    "\n",
    "ggplot(data=simulation_results, aes(p_hat)) +\n",
    "    geom_histogram(fill=I(\"blue\"),alpha=I(.2))\n",
    "\n",
    "simulation_results %>% \n",
    "    summarize(mean=mean(p_hat), median=median(p_hat)) \n",
    "\n",
    "simulation_results %>%\n",
    "summarize(mean=mean(N_hat), median=median(N_hat))"
   ]
  },
  {
   "cell_type": "markdown",
   "metadata": {},
   "source": [
    "## 4b: $C = 20$, $R = 20$\n",
    "\n",
    "Modify the code in the R cell below to mark $C = 20$ fish in the Capture step, and catch $R = 20$ fish in the Recapture step"
   ]
  },
  {
   "cell_type": "code",
   "execution_count": 51,
   "metadata": {},
   "outputs": [],
   "source": [
    "N <- 100 # number of fish in the pond\n",
    "C <- 20 # number of fish to sample in the Capture step\n",
    "R <- 20 # number of fish to sample in the Recapture step\n",
    "\n",
    "simulation_results <- do(1000) * {\n",
    "  ## Setup step: make a data frame representing all of the fish in the pond\n",
    "  pond_population <- data.frame(\n",
    "    fish_id = seq(from = 1, to = N),\n",
    "    marked = rep(0, N)\n",
    "  )\n",
    "\n",
    "  ## Capture step: capture C fish and add a variable to the data frame\n",
    "  ## with a 1 if the fish was marked and a 0 if it was not\n",
    "  captured_fish_ids <- sample(pond_population$fish_id, size = C)\n",
    "  pond_population$marked[captured_fish_ids] <- 1\n",
    "\n",
    "  ## Recapture step: capture R fish.  Of those, count how many were marked\n",
    "  recaptured_fish_ids <- sample(pond_population$fish_id, size = R)\n",
    "  m <- sum(pond_population$marked[recaptured_fish_ids])\n",
    "  \n",
    "  ## Estimate proportion of fish in the pond that were marked in the Capture step:\n",
    "  ## The number of fish sampled in the Recapture step that were marked divided by\n",
    "  ## the total number of fish sampled in the Recapture step.\n",
    "  p_hat <- m / R\n",
    "  \n",
    "  ## Estimate the total number of fish in the pond:\n",
    "  ## The number of fish that were marked in the Capture step divided by the\n",
    "  ## estimated proportion of fish that were \n",
    "  N_hat <- C / p_hat\n",
    "  \n",
    "  data.frame(p_hat = p_hat, N_hat = N_hat)\n",
    "}"
   ]
  },
  {
   "cell_type": "markdown",
   "metadata": {},
   "source": [
    "#### Make a histogram of `p_hat`, and a second histogram of `N_hat`.  The data frame with these variables is called `simulation_results`.  Also, calculate the mean and median of each of these values."
   ]
  },
  {
   "cell_type": "code",
   "execution_count": 50,
   "metadata": {},
   "outputs": [
    {
     "name": "stderr",
     "output_type": "stream",
     "text": [
      "`stat_bin()` using `bins = 30`. Pick better value with `binwidth`.\n",
      "Warning message:\n",
      "“Removed 324 rows containing non-finite values (stat_bin).”"
     ]
    },
    {
     "data": {},
     "metadata": {},
     "output_type": "display_data"
    },
    {
     "name": "stderr",
     "output_type": "stream",
     "text": [
      "`stat_bin()` using `bins = 30`. Pick better value with `binwidth`.\n"
     ]
    },
    {
     "data": {},
     "metadata": {},
     "output_type": "display_data"
    },
    {
     "data": {
      "image/png": "[encoded data removed]",
      "text/plain": [
       "plot without title"
      ]
     },
     "metadata": {},
     "output_type": "display_data"
    },
    {
     "data": {
      "text/html": [
       "<table>\n",
       "<thead><tr><th scope=col>mean</th><th scope=col>median</th></tr></thead>\n",
       "<tbody>\n",
       "\t<tr><td>0.0991</td><td>0.1   </td></tr>\n",
       "</tbody>\n",
       "</table>\n"
      ],
      "text/latex": [
       "\\begin{tabular}{r|ll}\n",
       " mean & median\\\\\n",
       "\\hline\n",
       "\t 0.0991 & 0.1   \\\\\n",
       "\\end{tabular}\n"
      ],
      "text/markdown": [
       "\n",
       "mean | median | \n",
       "|---|\n",
       "| 0.0991 | 0.1    | \n",
       "\n",
       "\n"
      ],
      "text/plain": [
       "  mean   median\n",
       "1 0.0991 0.1   "
      ]
     },
     "metadata": {},
     "output_type": "display_data"
    },
    {
     "data": {
      "text/html": [
       "<table>\n",
       "<thead><tr><th scope=col>mean</th><th scope=col>median</th></tr></thead>\n",
       "<tbody>\n",
       "\t<tr><td>Inf</td><td>100</td></tr>\n",
       "</tbody>\n",
       "</table>\n"
      ],
      "text/latex": [
       "\\begin{tabular}{r|ll}\n",
       " mean & median\\\\\n",
       "\\hline\n",
       "\t Inf & 100\\\\\n",
       "\\end{tabular}\n"
      ],
      "text/markdown": [
       "\n",
       "mean | median | \n",
       "|---|\n",
       "| Inf | 100 | \n",
       "\n",
       "\n"
      ],
      "text/plain": [
       "  mean median\n",
       "1 Inf  100   "
      ]
     },
     "metadata": {},
     "output_type": "display_data"
    },
    {
     "data": {
      "image/png": "[encoded data removed]",
      "text/plain": [
       "plot without title"
      ]
     },
     "metadata": {},
     "output_type": "display_data"
    }
   ],
   "source": [
    "ggplot(data=simulation_results, aes(N_hat)) +\n",
    "    geom_histogram(fill=I(\"blue\"),alpha=I(.2))\n",
    "\n",
    "ggplot(data=simulation_results, aes(p_hat)) +\n",
    "    geom_histogram(fill=I(\"blue\"),alpha=I(.2))\n",
    "\n",
    "simulation_results %>% \n",
    "    summarize(mean=mean(p_hat), median=median(p_hat)) \n",
    "\n",
    "simulation_results %>%\n",
    "summarize(mean=mean(N_hat), median=median(N_hat))"
   ]
  },
  {
   "cell_type": "markdown",
   "metadata": {},
   "source": [
    "## 4c: $C = 40$, $R = 40$\n",
    "\n",
    "Modify the code in the R cell below to mark $C = 40$ fish in the Capture step, and catch $R = 40$ fish in the Recapture step"
   ]
  },
  {
   "cell_type": "code",
   "execution_count": 54,
   "metadata": {},
   "outputs": [
    {
     "data": {
      "text/plain": [
       "     p_hat            N_hat             .row       .index      \n",
       " Min.   :0.1750   Min.   : 64.00   Min.   :1   Min.   :   1.0  \n",
       " 1st Qu.:0.3500   1st Qu.: 88.89   1st Qu.:1   1st Qu.: 250.8  \n",
       " Median :0.4000   Median :100.00   Median :1   Median : 500.5  \n",
       " Mean   :0.4012   Mean   :102.10   Mean   :1   Mean   : 500.5  \n",
       " 3rd Qu.:0.4500   3rd Qu.:114.29   3rd Qu.:1   3rd Qu.: 750.2  \n",
       " Max.   :0.6250   Max.   :228.57   Max.   :1   Max.   :1000.0  "
      ]
     },
     "metadata": {},
     "output_type": "display_data"
    }
   ],
   "source": [
    "N <- 100 # number of fish in the pond\n",
    "C <- 40 # number of fish to sample in the Capture step\n",
    "R <- 40 # number of fish to sample in the Recapture step\n",
    "\n",
    "simulation_results <- do(1000) * {\n",
    "  ## Setup step: make a data frame representing all of the fish in the pond\n",
    "  pond_population <- data.frame(\n",
    "    fish_id = seq(from = 1, to = N),\n",
    "    marked = rep(0, N)\n",
    "  )\n",
    "\n",
    "  ## Capture step: capture C fish and add a variable to the data frame\n",
    "  ## with a 1 if the fish was marked and a 0 if it was not\n",
    "  captured_fish_ids <- sample(pond_population$fish_id, size = C)\n",
    "  pond_population$marked[captured_fish_ids] <- 1\n",
    "\n",
    "  ## Recapture step: capture R fish.  Of those, count how many were marked\n",
    "  recaptured_fish_ids <- sample(pond_population$fish_id, size = R)\n",
    "  m <- sum(pond_population$marked[recaptured_fish_ids])\n",
    "  \n",
    "  ## Estimate proportion of fish in the pond that were marked in the Capture step:\n",
    "  ## The number of fish sampled in the Recapture step that were marked divided by\n",
    "  ## the total number of fish sampled in the Recapture step.\n",
    "  p_hat <- m / R\n",
    "  \n",
    "  ## Estimate the total number of fish in the pond:\n",
    "  ## The number of fish that were marked in the Capture step divided by the\n",
    "  ## estimated proportion of fish that were \n",
    "  N_hat <- C / p_hat\n",
    "  \n",
    "  data.frame(p_hat = p_hat, N_hat = N_hat)\n",
    "}\n",
    "summary(simulation_results)"
   ]
  },
  {
   "cell_type": "markdown",
   "metadata": {},
   "source": [
    "#### Make a histogram of `p_hat`, and a second histogram of `N_hat`.  The data frame with these variables is called `simulation_results`.  Also, calculate the mean and median of each of these values."
   ]
  },
  {
   "cell_type": "code",
   "execution_count": 55,
   "metadata": {},
   "outputs": [
    {
     "name": "stderr",
     "output_type": "stream",
     "text": [
      "`stat_bin()` using `bins = 30`. Pick better value with `binwidth`.\n"
     ]
    },
    {
     "data": {},
     "metadata": {},
     "output_type": "display_data"
    },
    {
     "name": "stderr",
     "output_type": "stream",
     "text": [
      "`stat_bin()` using `bins = 30`. Pick better value with `binwidth`.\n"
     ]
    },
    {
     "data": {},
     "metadata": {},
     "output_type": "display_data"
    },
    {
     "data": {
      "image/png": "[encoded data removed]",
      "text/plain": [
       "plot without title"
      ]
     },
     "metadata": {},
     "output_type": "display_data"
    },
    {
     "data": {
      "text/html": [
       "<table>\n",
       "<thead><tr><th scope=col>mean</th><th scope=col>median</th></tr></thead>\n",
       "<tbody>\n",
       "\t<tr><td>0.401225</td><td>0.4     </td></tr>\n",
       "</tbody>\n",
       "</table>\n"
      ],
      "text/latex": [
       "\\begin{tabular}{r|ll}\n",
       " mean & median\\\\\n",
       "\\hline\n",
       "\t 0.401225 & 0.4     \\\\\n",
       "\\end{tabular}\n"
      ],
      "text/markdown": [
       "\n",
       "mean | median | \n",
       "|---|\n",
       "| 0.401225 | 0.4      | \n",
       "\n",
       "\n"
      ],
      "text/plain": [
       "  mean     median\n",
       "1 0.401225 0.4   "
      ]
     },
     "metadata": {},
     "output_type": "display_data"
    },
    {
     "data": {
      "text/html": [
       "<table>\n",
       "<thead><tr><th scope=col>mean</th><th scope=col>median</th></tr></thead>\n",
       "<tbody>\n",
       "\t<tr><td>102.0979</td><td>100     </td></tr>\n",
       "</tbody>\n",
       "</table>\n"
      ],
      "text/latex": [
       "\\begin{tabular}{r|ll}\n",
       " mean & median\\\\\n",
       "\\hline\n",
       "\t 102.0979 & 100     \\\\\n",
       "\\end{tabular}\n"
      ],
      "text/markdown": [
       "\n",
       "mean | median | \n",
       "|---|\n",
       "| 102.0979 | 100      | \n",
       "\n",
       "\n"
      ],
      "text/plain": [
       "  mean     median\n",
       "1 102.0979 100   "
      ]
     },
     "metadata": {},
     "output_type": "display_data"
    },
    {
     "data": {
      "image/png": "[encoded data removed]",
      "text/plain": [
       "plot without title"
      ]
     },
     "metadata": {},
     "output_type": "display_data"
    }
   ],
   "source": [
    "ggplot(data=simulation_results, aes(N_hat)) +\n",
    "    geom_histogram(fill=I(\"blue\"),alpha=I(.2))\n",
    "\n",
    "ggplot(data=simulation_results, aes(p_hat)) +\n",
    "    geom_histogram(fill=I(\"blue\"),alpha=I(.2))\n",
    "\n",
    "simulation_results %>% \n",
    "    summarize(mean=mean(p_hat), median=median(p_hat)) \n",
    "\n",
    "simulation_results %>%\n",
    "summarize(mean=mean(N_hat), median=median(N_hat))"
   ]
  },
  {
   "cell_type": "markdown",
   "metadata": {},
   "source": [
    "## 4d: Wrapup\n",
    "\n",
    "Compare the distributions of population size estimates in each scenario and with the scenario of $C = 30$ and $R = 30$ that we started off with.  How much does the sample size affect the sampling distribution of population size estimates?"
   ]
  },
  {
   "cell_type": "markdown",
   "metadata": {},
   "source": []
  }
 ],
 "metadata": {
  "kernelspec": {
   "display_name": "R",
   "language": "R",
   "name": "ir"
  },
  "language_info": {
   "codemirror_mode": "r",
   "file_extension": ".r",
   "mimetype": "text/x-r-source",
   "name": "R",
   "pygments_lexer": "r",
   "version": "3.4.3"
  }
 },
 "nbformat": 4,
 "nbformat_minor": 2
}
