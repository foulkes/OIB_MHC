{
 "cells": [
  {
   "cell_type": "markdown",
   "metadata": {},
   "source": [
    "## <span style=\"color:darkblue\"> Problem Set 5: Sampling and confidence intervals\n",
    "\n",
    "Stat140-02: Introduction to the Ideas and Applications of Statistics \n",
    "\n",
    "Due: Friday, March 30 @11am"
   ]
  },
  {
   "cell_type": "markdown",
   "metadata": {},
   "source": [
    "**Problem set policies:** Please provide concise, clear answers for each question. Note that only writing the result of a calculation (e.g., \"SD = 3.3\") without explanation is not sufficient. For problems involving `R`, include the code in your solution, along with any plots.\n",
    "\t\t\n",
    "Each problem set is due by 11:00am on the due date; please submit your problem set via gyrd\n",
    "\t\t\n",
    "*You are encouraged to discuss problems with other students (and, of course, with the course head and the TAs), but you must write your final answer in your own words. Solutions prepared \"in committee\" are not acceptable. If you do collaborate with classmates on a problem, please list your collaborators on your solution.*\n"
   ]
  },
  {
   "cell_type": "markdown",
   "metadata": {},
   "source": [
    "#### Problem 1:\n",
    "\n",
    "Consider the standard normal distribution with mean $\\mu=0$ and standard deviation $\\sigma= 1$. \n",
    "\n",
    "a) What is the probability that an outcome $z$ is greater than 2.60?\n",
    "\t\n",
    "b) What is the probability that $z$ is less than 1.35?\n",
    "\t\n",
    "c) What is the probability that $z$ is between -1.70 and 3.10?\n",
    "\t\n",
    "d) What value of $z$ cuts off the upper 15% of the standard normal distribution?\n",
    "\t\n",
    "e) What value of $z$ marks off the lower 20% of the distribution?\n"
   ]
  },
  {
   "cell_type": "markdown",
   "metadata": {},
   "source": [
    "#### Solution:\n",
    "\n",
    "a) Setting `lower.tail = FALSE` instructs `R` to calculate the probability to the right of 2.6. This is equivalent to using `1 - pnorm(2.6)`. The probability that an outcome $z$ is greater than 2.6 is:"
   ]
  },
  {
   "cell_type": "code",
   "execution_count": 1,
   "metadata": {},
   "outputs": [
    {
     "data": {
      "text/html": [
       "0.00466118802371875"
      ],
      "text/latex": [
       "0.00466118802371875"
      ],
      "text/markdown": [
       "0.00466118802371875"
      ],
      "text/plain": [
       "[1] 0.004661188"
      ]
     },
     "metadata": {},
     "output_type": "display_data"
    }
   ],
   "source": [
    "pnorm(2.6, lower.tail = FALSE)"
   ]
  },
  {
   "cell_type": "markdown",
   "metadata": {},
   "source": [
    "b) The probability that $z$ is less than 1.35 is:"
   ]
  },
  {
   "cell_type": "code",
   "execution_count": 2,
   "metadata": {},
   "outputs": [
    {
     "data": {
      "text/html": [
       "0.911492008562598"
      ],
      "text/latex": [
       "0.911492008562598"
      ],
      "text/markdown": [
       "0.911492008562598"
      ],
      "text/plain": [
       "[1] 0.911492"
      ]
     },
     "metadata": {},
     "output_type": "display_data"
    }
   ],
   "source": [
    "pnorm(1.35)"
   ]
  },
  {
   "cell_type": "markdown",
   "metadata": {},
   "source": [
    "c) The probability that $z$ is between -1.70 and 3.10 is:"
   ]
  },
  {
   "cell_type": "code",
   "execution_count": 3,
   "metadata": {},
   "outputs": [
    {
     "data": {
      "text/html": [
       "0.954466934028239"
      ],
      "text/latex": [
       "0.954466934028239"
      ],
      "text/markdown": [
       "0.954466934028239"
      ],
      "text/plain": [
       "[1] 0.9544669"
      ]
     },
     "metadata": {},
     "output_type": "display_data"
    }
   ],
   "source": [
    "pnorm(3.10) - pnorm(-1.70)"
   ]
  },
  {
   "cell_type": "markdown",
   "metadata": {},
   "source": [
    "d) The distribution is symmetric, so for a value $z$ with area $a$ to the right, $-z$ has the same area $a$ to the left. So the value of $z$ cuts off the upper 15% of the standard normal distribution is:"
   ]
  },
  {
   "cell_type": "code",
   "execution_count": 4,
   "metadata": {},
   "outputs": [
    {
     "data": {
      "text/html": [
       "1.03643338949379"
      ],
      "text/latex": [
       "1.03643338949379"
      ],
      "text/markdown": [
       "1.03643338949379"
      ],
      "text/plain": [
       "[1] 1.036433"
      ]
     },
     "metadata": {},
     "output_type": "display_data"
    },
    {
     "data": {
      "text/html": [
       "1.03643338949379"
      ],
      "text/latex": [
       "1.03643338949379"
      ],
      "text/markdown": [
       "1.03643338949379"
      ],
      "text/plain": [
       "[1] 1.036433"
      ]
     },
     "metadata": {},
     "output_type": "display_data"
    },
    {
     "data": {
      "text/html": [
       "1.03643338949379"
      ],
      "text/latex": [
       "1.03643338949379"
      ],
      "text/markdown": [
       "1.03643338949379"
      ],
      "text/plain": [
       "[1] 1.036433"
      ]
     },
     "metadata": {},
     "output_type": "display_data"
    }
   ],
   "source": [
    "qnorm(.15) * -1\n",
    "#alternatively...\n",
    "qnorm(.85)\n",
    "#this also works\n",
    "qnorm(.15, lower.tail=FALSE)"
   ]
  },
  {
   "cell_type": "markdown",
   "metadata": {},
   "source": [
    "e) The value of $z$ marks off the lower 20% of the distribution is:"
   ]
  },
  {
   "cell_type": "code",
   "execution_count": 5,
   "metadata": {},
   "outputs": [
    {
     "data": {
      "text/html": [
       "-0.841621233572914"
      ],
      "text/latex": [
       "-0.841621233572914"
      ],
      "text/markdown": [
       "-0.841621233572914"
      ],
      "text/plain": [
       "[1] -0.8416212"
      ]
     },
     "metadata": {},
     "output_type": "display_data"
    }
   ],
   "source": [
    "qnorm(.20)"
   ]
  },
  {
   "cell_type": "markdown",
   "metadata": {},
   "source": [
    "#### Problem 2:\n",
    "\n",
    "The World Health Organization defines osteoporosis in young adults as a measured bone mineral density 2.5 or more standard deviations below the mean for young adults. Assume that bone mineral density follows a normal distribution in young adults. What percentage of young adults suffer from osteoporosis according to this criterion?\n",
    "\n"
   ]
  },
  {
   "cell_type": "markdown",
   "metadata": {},
   "source": [
    "#### Solution:\n",
    "\n",
    "Find the corresponding probability for a $z$-value of -2.5, then multiply by 100; 0.62% of young adults suffer from osteoporosis according to this criterion."
   ]
  },
  {
   "cell_type": "code",
   "execution_count": 6,
   "metadata": {},
   "outputs": [
    {
     "data": {
      "text/html": [
       "0.620966532577613"
      ],
      "text/latex": [
       "0.620966532577613"
      ],
      "text/markdown": [
       "0.620966532577613"
      ],
      "text/plain": [
       "[1] 0.6209665"
      ]
     },
     "metadata": {},
     "output_type": "display_data"
    }
   ],
   "source": [
    "pnorm(-2.5) * 100"
   ]
  },
  {
   "cell_type": "markdown",
   "metadata": {},
   "source": [
    "#### Problem 3:\n",
    "\n",
    "Arsenic blood concentration is normally distributed with mean $\\mu = 3.2$ $\\mu$g/dl and standard deviation $\\sigma = 1.5$ $\\mu$g/dl. What range of arsenic blood concentration defines the middle 95\\% of this distribution? \n",
    "\n"
   ]
  },
  {
   "cell_type": "markdown",
   "metadata": {},
   "source": [
    "#### Solution:\n",
    "\n",
    "To find the middle 95\\%, use the definition that for normally distributed data, 95\\% of the data are within 1 standard deviation of the mean: $\\mu \\pm 1.96*\\sigma$:\n",
    "\t\n",
    "Lower bound = $3.2 - 1.96*1.5$ \n",
    "\n",
    "Upper bound = $3.2 + 1.96 *1.5$\n",
    "\t\n",
    "Thus, 95% of the distribution lies in the range (0.26 $\\mu$g/dl, 6.14 $\\mu$g/dl).\n"
   ]
  },
  {
   "cell_type": "markdown",
   "metadata": {},
   "source": [
    "#### Problem 4:\n",
    "\n",
    "(Problem 1.136 in IPS, $6^{th}$ edition.) High blood cholesterol levels increase the risk of heart disease. Young women are generally less afflicted with high\n",
    "cholesterol than other groups. The cholesterol levels for women aged 20 to 34 follow an approximately normal distribution with mean 185 milligrams per deciliter (mg/dl) and standard deviation 39 mg/dl.\n",
    "\n",
    "a) Cholesterol levels above 240 mg/dl demand medical\n",
    "\tattention. What percent of young women have levels above 240 mg/dl?\n",
    "\t\n",
    "b) Levels above 200 mg/dl are considered borderline high. What percent of young women have blood cholesterol between 200 and 240 mg/dl?\n"
   ]
  },
  {
   "cell_type": "markdown",
   "metadata": {},
   "source": [
    "#### Solution:\n",
    "\n",
    "a) First, standardize 240 mg/dl to a normal score:\n",
    "\n",
    "$$z= \\dfrac{240 -185}{39}=1.410$$\n"
   ]
  },
  {
   "cell_type": "code",
   "execution_count": 7,
   "metadata": {},
   "outputs": [
    {
     "data": {
      "text/html": [
       "0.0792698414533924"
      ],
      "text/latex": [
       "0.0792698414533924"
      ],
      "text/markdown": [
       "0.0792698414533924"
      ],
      "text/plain": [
       "[1] 0.07926984"
      ]
     },
     "metadata": {},
     "output_type": "display_data"
    }
   ],
   "source": [
    "pnorm(1.410, lower.tail = FALSE)"
   ]
  },
  {
   "cell_type": "code",
   "execution_count": 8,
   "metadata": {},
   "outputs": [
    {
     "data": {
      "text/html": [
       "0.0792319922695047"
      ],
      "text/latex": [
       "0.0792319922695047"
      ],
      "text/markdown": [
       "0.0792319922695047"
      ],
      "text/plain": [
       "[1] 0.07923199"
      ]
     },
     "metadata": {},
     "output_type": "display_data"
    }
   ],
   "source": [
    "#alternatively, use R to standardize and find the probability\n",
    "pnorm(240, 185, 39, lower.tail = FALSE)"
   ]
  },
  {
   "cell_type": "markdown",
   "metadata": {},
   "source": [
    "7.93% of young women have blood cholesterol levels above 240 mg/dl."
   ]
  },
  {
   "cell_type": "markdown",
   "metadata": {},
   "source": [
    "b) Standardize 200 mg/dl to a normal score:\n",
    "\t\n",
    "$$z=\\dfrac{200 -185}{39}= 0.385$$"
   ]
  },
  {
   "cell_type": "code",
   "execution_count": 9,
   "metadata": {},
   "outputs": [
    {
     "data": {
      "text/html": [
       "0.270848866311883"
      ],
      "text/latex": [
       "0.270848866311883"
      ],
      "text/markdown": [
       "0.270848866311883"
      ],
      "text/plain": [
       "[1] 0.2708489"
      ]
     },
     "metadata": {},
     "output_type": "display_data"
    },
    {
     "data": {
      "text/html": [
       "0.27102920478242"
      ],
      "text/latex": [
       "0.27102920478242"
      ],
      "text/markdown": [
       "0.27102920478242"
      ],
      "text/plain": [
       "[1] 0.2710292"
      ]
     },
     "metadata": {},
     "output_type": "display_data"
    }
   ],
   "source": [
    "pnorm(1.410) - pnorm(0.385)\n",
    "\n",
    "#alternatively, use R to standardize and find the probability\n",
    "pnorm(240, 185, 39) - pnorm(200, 185, 39)"
   ]
  },
  {
   "cell_type": "markdown",
   "metadata": {},
   "source": [
    "27.1% of young women have borderline high blood cholesterol levels."
   ]
  },
  {
   "cell_type": "markdown",
   "metadata": {},
   "source": [
    "#### Problem 5:   \n",
    "\n",
    "The General Social Survey (GSS) is a sociological survey used to collect data on demographic characteristics and attitudes of residents of the United States. In 2010, the survey collected responses from 1,154 US residents. The survey is conducted face-to-face with an in-person interview of a randomly selected sample of adults. One of the questions on the survey is \"After an average workday, about how many hours do you have to relax or pursue activities that you enjoy?\" A 95% confidence interval from the 2010 GSS survey for the collected answers is 3.53 to 3.83 hours.\n",
    "\n",
    "Identify each of the following statements as true or false. Justify your answers.\n",
    "\n",
    "  a) If the researchers wanted to report a confidence interval with a smaller margin of error based on the same sample of 1,154 Americans, the confidence interval would be larger.\n",
    "  \n",
    "  b) We can be 95% confident that the interval (3.53, 3.83) hours contains the mean hours that the sampled adults have for leisure time have an average workday.\n",
    "\n",
    "  c) Suppose the researchers think that a 90% confidence level would be more appropriate. Assuming that the standard deviation remains constant, this new interval will be smaller than the 95% confidence interval.\n",
    "  \n",
    "  d) The confidence interval of (3.53, 3.83) contains the mean hours that U.S. adults have for leisure time after an average workday.\n",
    "  \n",
    "  e) The survey provides statistically significant evidence at the $\\alpha = 0.05$ significance level that the mean hours U.S. adults have for leisure time after the average workday is not 3.4 hours.\n"
   ]
  },
  {
   "cell_type": "markdown",
   "metadata": {},
   "source": [
    "#### Solution:\n",
    "\n",
    "a) False. The confidence interval would be smaller, since the margin of error is half the width of a confidence interval (the quantity $t^\\star \\times \\frac{s}{\\sqrt{n}}$).\n",
    "\t\n",
    "b) False. This statement would be true if the phrase \"the sampled adults\" were modified to \"U.S. adults\". Confidence intervals are statements about the population parameter $\\mu$, not $\\overline{x}$.\n",
    "\t\n",
    "c) True. The new interval will be smaller, since $\\alpha$ is now 0.10 instead of 0.05 and $t^\\star$ decreases given that the sample size (and degrees of freedom) remains constant. It also makes sense that lower confidence corresponds with a smaller confidence interval, since the interval is now less likely to contain the population mean. \n",
    "\n",
    "d) False. There is a 5% chance that the interval does not contain the true population mean hours that U.S. adults have for leisure time after an average workday.\n",
    "\n",
    "e) True. The interval corresponds to a two-sided test, with $H_0: \\mu = 3.4$ hours, $H_A: \\mu \\neq 3.4$ hours, and $\\alpha = 0.05$. Since the $\\mu_0$ of 3.4 days is outside the interval, the sample provides sufficient evidence to reject the null hypothesis."
   ]
  },
  {
   "cell_type": "markdown",
   "metadata": {},
   "source": [
    "#### Problem 6:\n",
    "\n",
    "A hospital administrator hoping to improve wait times decides to estimate the average emergency room waiting time at her hospital. She collects a simple random sample of 64 patients and determines the time between when they checked in to the ER until they were first seen by a doctor. The average time is 137.5 minutes and the standard deviation is 39 minutes. She is getting grief from her supervisor on the basis that the wait times in the ER has increased greatly from last year's average of 127 minutes. However, she claims that the increase is probably just due to chance.\n",
    "\n",
    "a) Calculate a 95% confidence interval. Is the change in wait times statistically significantly different than last year's average of 127 at the $\\alpha = 0.05$ level?\n",
    "\t\n",
    "b) Would the conclusion in part a) change if the significance level were changed to $\\alpha = 0.01$?\n",
    "\t\n",
    "c) Is the supervisor justified in criticizing the hospital administrator regarding the change in ER wait times? How might you present an argument in favor of the administrator?\n",
    "\n"
   ]
  },
  {
   "cell_type": "markdown",
   "metadata": {},
   "source": [
    "#### Solution:\n",
    "\n",
    "a) Yes, the change in wait times is statistically significantly different than last year's average at the $\\alpha = 0.05$ level; the 95% confidence interval does not contain 127 minutes.\n",
    "\n",
    "$$\\overline{x} \\pm t_{df, \\ 1-(\\alpha/2)} \\times \\dfrac{s}{\\sqrt{n}} $$\n",
    "\n",
    "$$137.5 \\pm  1.998 \\times \\dfrac{39}{\\sqrt{64}} $$\n",
    "\n",
    "$$(127.76, 147.24) $$\n"
   ]
  },
  {
   "cell_type": "code",
   "execution_count": 10,
   "metadata": {},
   "outputs": [
    {
     "data": {
      "text/html": [
       "127.758089855211"
      ],
      "text/latex": [
       "127.758089855211"
      ],
      "text/markdown": [
       "127.758089855211"
      ],
      "text/plain": [
       "[1] 127.7581"
      ]
     },
     "metadata": {},
     "output_type": "display_data"
    },
    {
     "data": {
      "text/html": [
       "147.241910144789"
      ],
      "text/latex": [
       "147.241910144789"
      ],
      "text/markdown": [
       "147.241910144789"
      ],
      "text/plain": [
       "[1] 147.2419"
      ]
     },
     "metadata": {},
     "output_type": "display_data"
    }
   ],
   "source": [
    "#use r as a calculator\n",
    "x.bar = 137.5\n",
    "s = 39\n",
    "n = 64\n",
    "\n",
    "t.star = qt(0.975, df = n - 1)\n",
    "\n",
    "m = t.star * s/sqrt(n)\n",
    "\n",
    "x.bar - m; x.bar + m"
   ]
  },
  {
   "cell_type": "markdown",
   "metadata": {},
   "source": [
    "b) If the significance level were changed to $\\alpha = 0.01$, then there would not be sufficient evidence to reject $H_0: \\mu = 127$ minutes. We would conclude that there is not significant evidence to suggest that the wait times have changed.\n",
    "\n",
    "$$\\overline{x} \\pm t_{df, \\ 1-(\\alpha/2)} \\times \\dfrac{s}{\\sqrt{n}} $$\n",
    "\n",
    "$$137.5 \\pm 2.66 \\times  \\dfrac{39}{\\sqrt{64}} $$\n",
    "\n",
    "$$(124.55, 150.45) $$\n"
   ]
  },
  {
   "cell_type": "code",
   "execution_count": 11,
   "metadata": {},
   "outputs": [
    {
     "data": {
      "text/html": [
       "2.65614502509986"
      ],
      "text/latex": [
       "2.65614502509986"
      ],
      "text/markdown": [
       "2.65614502509986"
      ],
      "text/plain": [
       "[1] 2.656145"
      ]
     },
     "metadata": {},
     "output_type": "display_data"
    },
    {
     "data": {
      "text/html": [
       "124.551293002638"
      ],
      "text/latex": [
       "124.551293002638"
      ],
      "text/markdown": [
       "124.551293002638"
      ],
      "text/plain": [
       "[1] 124.5513"
      ]
     },
     "metadata": {},
     "output_type": "display_data"
    },
    {
     "data": {
      "text/html": [
       "150.448706997362"
      ],
      "text/latex": [
       "150.448706997362"
      ],
      "text/markdown": [
       "150.448706997362"
      ],
      "text/plain": [
       "[1] 150.4487"
      ]
     },
     "metadata": {},
     "output_type": "display_data"
    }
   ],
   "source": [
    "#use r as a calculator\n",
    "x.bar = 137.5\n",
    "s = 39\n",
    "n = 64\n",
    "\n",
    "t.star = qt(0.995, df = n - 1)\n",
    "\n",
    "m = t.star * s/sqrt(n)\n",
    "\n",
    "t.star\n",
    "x.bar - m; x.bar + m"
   ]
  },
  {
   "cell_type": "markdown",
   "metadata": {},
   "source": [
    "c) At the $\\alpha = 0.05$ significance level, there is evidence to suggest that the average wait time in the ER has increased. However, this is not necessarily due to any particular oversight on the hospital administrator's part; other factors may be at work. For example, perhaps increased wait times are due to more patients checking into the ER this year than last year. Alternatively, a sample size of 64 is relatively small, and it is certainly possible that extreme outliers may have overly influenced the mean. It would be advisable to take a closer look at the data structure (such as through a histogram or boxplot), or repeat the test once more data has been collected."
   ]
  }
 ],
 "metadata": {
  "kernelspec": {
   "display_name": "R",
   "language": "R",
   "name": "ir"
  },
  "language_info": {
   "codemirror_mode": "r",
   "file_extension": ".r",
   "mimetype": "text/x-r-source",
   "name": "R",
   "pygments_lexer": "r",
   "version": "3.4.3"
  }
 },
 "nbformat": 4,
 "nbformat_minor": 2
}
