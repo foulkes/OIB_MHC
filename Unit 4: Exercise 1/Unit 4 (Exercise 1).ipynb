{
 "cells": [
  {
   "cell_type": "markdown",
   "metadata": {},
   "source": [
    "#### Unit 4: Exercise 1\n",
    "\n",
    "This exercise uses data from the Youth Risk Factor Behavior Surveillance System (YRBSS), a yearly survey conducted by the US Centers for Disease Control to measure health-related activity in high-school aged youth. The dataset \\texttt{yrbss} in the OIBioStat package contains responses from the 13,572 participants in 2013 for a subset of the variables included in the complete survey data. \n",
    "\n",
    "Variables in the dataset include:\n",
    "\n",
    "  - age: age in years\n",
    "\n",
    "  - gender: gender of participant, recorded as either female or male\n",
    "  \n",
    "  - grade: grade in high school (9-12)\n",
    "  \n",
    "  - height: height, in meters (1 m = 3.28 ft)\n",
    "  \n",
    "  - weight: weight, in kilograms (1 kg = 2.2 lbs)\n",
    "  \n",
    "  - helmet.12m: frequency that the student wore a helmet while biking in the last 12 months, either always, most of time, sometimes, rarely, never, or did not ride\n",
    "  \n",
    "  - physically.active.7d: number of days physically active for 60+ minutes in the last 7 days\n",
    "  \n",
    "  - strength.training.7d: number of days of strength training in the last 7 days\n",
    "\n",
    "  \n",
    "The CDC used the responses from the 13,572 students to estimate the health behaviors of the target population: the 21.2 million high school aged students in the US in 2013. \n",
    "\n",
    "**Goal**: Observe the effect of sampling by treating the 13,572 individuals in `yrbss` as our target population, and drawing random samples. How do point estimates of mean weight, $\\overline{x}_{weight}$, calculated from random samples compare to the population parameter, $\\mu_{weight}$?\n",
    "\n"
   ]
  },
  {
   "cell_type": "markdown",
   "metadata": {},
   "source": [
    "#### Problem 1:\n",
    "(a) Use the code from class to draw a sample of size 10 from the yrbss data\n"
   ]
  },
  {
   "cell_type": "markdown",
   "metadata": {},
   "source": [
    "(b) How many students of each gender have been sampled? What is the mean age of the sampled students?"
   ]
  },
  {
   "cell_type": "markdown",
   "metadata": {},
   "source": [
    "(c) Calculate $\\overline{x}_{weight}$ and $s_{weight}$, the mean and standard deviation of weight in the sample. \n"
   ]
  },
  {
   "cell_type": "markdown",
   "metadata": {},
   "source": [
    "(d) Calculate $\\mu_{weight}$, the mean weight in the `yrbss` population. "
   ]
  },
  {
   "cell_type": "markdown",
   "metadata": {},
   "source": [
    "(e) Take a new random sample of size 10 from `yrbss`, changing the seed to be the the last four digits of your Mount Holyoke ID. What is $\\overline{x}_{weight}$, as calculated from your sample? Does it differ from $\\overline{x}_{weight}$ as calculated in part (d)? How do these point estimates compare to the population parameter $\\mu_{weight}$?"
   ]
  },
  {
   "cell_type": "markdown",
   "metadata": {},
   "source": [
    "#### Problem 2:\n",
    "\n",
    "(a) Take 1,000 random samples of size 10 from `yrbss`. For each sample, calculate the mean weight for participants in the sample and stores the value in the vector `sample.means`."
   ]
  },
  {
   "cell_type": "markdown",
   "metadata": {},
   "source": [
    "(b) Describe the distribution of sample means. "
   ]
  },
  {
   "cell_type": "markdown",
   "metadata": {},
   "source": [
    "(c) Examine the effect of larger sample sizes by re-running the code for sample sizes of 25, 100, and 1000 and using histograms, describe how the distribution of sample means changes as sample size increases. "
   ]
  },
  {
   "cell_type": "markdown",
   "metadata": {},
   "source": [
    "(d) Recall that the goal of inference is to learn about characteristics of a target population through the information obtained by taking one sample. What is the advantage of a larger sample size? "
   ]
  },
  {
   "cell_type": "markdown",
   "metadata": {},
   "source": [
    "(e) From what you have observed in this exercise about the relationship between a point estimate for the mean ($\\overline{x}$) and the population mean ($\\mu$), evaluate the following statement:\n",
    "\n",
    "*Since the mean weight of the 13,572 sampled high-school students in the 2013 YRBSS survey is 67.91 kg, it is possible to definitively conclude that the mean weight of the 21.2 million high-school aged students in the US in 2013 is also 67.91 kg.*\n"
   ]
  }
 ],
 "metadata": {
  "kernelspec": {
   "display_name": "R",
   "language": "R",
   "name": "ir"
  },
  "language_info": {
   "codemirror_mode": "r",
   "file_extension": ".r",
   "mimetype": "text/x-r-source",
   "name": "R",
   "pygments_lexer": "r",
   "version": "3.4.3"
  }
 },
 "nbformat": 4,
 "nbformat_minor": 2
}
