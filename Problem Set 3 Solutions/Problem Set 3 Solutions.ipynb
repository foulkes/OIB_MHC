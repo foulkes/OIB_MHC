{
 "cells": [
  {
   "cell_type": "markdown",
   "metadata": {},
   "source": [
    "## <span style=\"color:darkblue\"> Problem Set 3: Probability\n",
    "\n",
    "Stat140-02: Introduction to the Ideas and Applications of Statistics \n",
    "\n",
    "Due: Friday, Feb 23 @11am"
   ]
  },
  {
   "cell_type": "markdown",
   "metadata": {},
   "source": [
    "**Problem set policies:** Please provide concise, clear answers for each question. Note that only writing the result of a calculation (e.g., \"SD = 3.3\") without explanation is not sufficient. For problems involving `R`, include the code in your solution, along with any plots.\n",
    "\t\t\n",
    "Each problem set is due by 11:00am on the due date; please submit your problem set via gyrd\n",
    "\t\t\n",
    "*You are encouraged to discuss problems with other students (and, of course, with the course head and the TAs), but you must write your final answer in your own words. Solutions prepared \"in committee\" are not acceptable. If you do collaborate with classmates on a problem, please list your collaborators on your solution.*"
   ]
  },
  {
   "cell_type": "markdown",
   "metadata": {},
   "source": [
    "#### Problem 1:\n",
    "\n",
    "Suppose you are helping the police develop a new test for blood alcohol levels. The potential advantage of the test is that it can be used during a routine traffic stop, but neither you nor the police are sure how accurate the test is. By design, the test should be positive when blood alcohol level is above $0.05\\%.$\n",
    "\n",
    "The test has been used on a large number of subjects where a more expensive, less convenient test is known to give perfectly accurate results. The table below shows the joint distribution for the outcome of the new test and true blood alcohol status:\n",
    "\n",
    " |         |  **Alcohol level** | **> 0.05%**  |\n",
    "|------------ | -- | --|\n",
    "|**Test Result**       |   **Yes**    |         **No** |\n",
    "|Positive  |        0.08       | 0.30 |\n",
    "|Negative     |        0.02  | 0.60 |  "
   ]
  },
  {
   "cell_type": "markdown",
   "metadata": {},
   "source": [
    "a) What is the probability that a randomly selected driver has both a positive test and a blood alcohol level higher than $0.05\\%$?"
   ]
  },
  {
   "cell_type": "markdown",
   "metadata": {},
   "source": [
    "#### Solution:\n",
    "$P(\\text{Test+ and Alcohol }> 0.05\\%)=Pr(A {\\cap} B)=0.08$"
   ]
  },
  {
   "cell_type": "markdown",
   "metadata": {},
   "source": [
    "b) For a randomly selected driver, what is the probability that the test will be positive?"
   ]
  },
  {
   "cell_type": "markdown",
   "metadata": {},
   "source": [
    "#### Solution:\n",
    "\n",
    "$P(\\text{Test+})=0.08+0.30=0.38$"
   ]
  },
  {
   "cell_type": "markdown",
   "metadata": {},
   "source": [
    "c) Among drivers who have a positive test, what is the probability that a driver has a blood alcohol level higher than $0.05\\%$?"
   ]
  },
  {
   "cell_type": "markdown",
   "metadata": {},
   "source": [
    "#### Solution:\n",
    "\n",
    "The probability of testing positive is 0.38 (from part b) and the probability of both a postive test and an alcohol level >0.05% is 0.08. Thus, the conditional probability that a driver has a blood alcohol level higher than 0.05% given a positive test, is $0.08/0.38 = 0.21$."
   ]
  },
  {
   "cell_type": "markdown",
   "metadata": {},
   "source": [
    "d) Suppose $A$ is the event that a driver has a positive test result and $B$ is the event that the driver has a blood alcohol level above $0.05\\%$. Are $A$ and $B$ independent? Justify your answer."
   ]
  },
  {
   "cell_type": "markdown",
   "metadata": {},
   "source": [
    "#### Solution:\n",
    "\n",
    "$P(A)P(B)=0.38 \\times 0.10=0.038 \\neq 0.08.$ Therefore, the events are not independent.\t\n",
    "\t"
   ]
  },
  {
   "cell_type": "markdown",
   "metadata": {},
   "source": [
    "#### Problem 2:\n",
    "\n",
    "Suppose that a mandatory drug test has a false negative rate of 0.10; i.e., if an employee is a drug user, the test will incorrectly test negative with probability 0.10 and correctly indicate positive with probability 0.90. Now suppose the company HR department will test 4 employees who are *correctly* suspected to be drug users.\n",
    "\n",
    "Assume independence between employees' results and find the probability that at least one of the employees will correctly test positive.\n",
    "\t"
   ]
  },
  {
   "cell_type": "markdown",
   "metadata": {},
   "source": [
    "#### Solution:\n",
    "\n",
    "There are 4 employees, all of whom use drugs. \n",
    "\n",
    "\\begin{align*}\n",
    "\tP(\\mbox{At least one tested positive}) &= 1 - P(\\mbox{none tested positive}) \n",
    "\t\\\\ &= 1 - P(\\text{all tested negative})\n",
    "\t\\\\ &= 1 - P(\\text{empl. 1 tested neg}) P(\\text{empl. 2 tested neg}) P(\\text{empl. 3 tested neg}) P(\\text{empl. 4 tested neg})\n",
    "\t\\\\ &= 1 - (0.1)^4 \n",
    "\t\\\\ &= 1- 0.0001\n",
    "\t\\\\ &= 0.9999\n",
    "\t\\end{align*}"
   ]
  },
  {
   "cell_type": "markdown",
   "metadata": {},
   "source": [
    "#### Problem 3:\n",
    "\n",
    "The strongest risk factor for breast cancer is age; as a woman gets older, her risk of developing breast cancer increases. The following table shows the average percentage of American women in each age group who develop breast cancer, according to statistics from the National Cancer Institute. For example, approximately 3.56% of women in their 60's get breast cancer. \n",
    "\n",
    "\n",
    "*Prevalence of Breast Cancer by Age Group*:\n",
    "\n",
    "\n",
    " |          **Age Group** | **Prevalence**  |\n",
    "    | -- | --|\n",
    "\t\t  | 30 - 40 |     0.0044   |                     \n",
    "\t\t  | 40 - 50 |      0.0147    |                      \n",
    "\t\t  | 50 - 60 |      0.0238      |                    \n",
    "\t\t  | 60 - 70 |      0.0356        |                 \n",
    "\t\t  | 70 - 80 |       0.0382   |\n",
    "\n",
    "A mammogram typically identifies a breast cancer about 85% of the time, and is correct 95% of the time when a woman does not have breast cancer. \n",
    "\n",
    "\t\t\n"
   ]
  },
  {
   "cell_type": "markdown",
   "metadata": {},
   "source": [
    "a) If a woman in her 60's has a positive mammogram, what is the likelihood that she has breast cancer? Solve this problem using either tree methods or Bayes' rule."
   ]
  },
  {
   "cell_type": "markdown",
   "metadata": {},
   "source": [
    "#### Solution:\n",
    "\n",
    "The tree diagram makes it clear that there are two ways to have a positive mammogram: either a true positive when breast cancer is present, or a false positive when there is no cancer. In other words, $P(T^{+}) = (1-0.0356)(1-0.95) + (0.0356)(0.85)=0.0785$.\n",
    "\t\n",
    "The likelihood of having breast cancer given a positive mammogram for a woman in her 60's is:\n",
    "\t\n",
    "$$P(D|T^+)= \\dfrac{P(D)\\cdot P(T^{+}|D)}{P(T^{+})} = \\dfrac{(0.0356)(0.85)}{0.0785} = 0.3856$$\n",
    "\n",
    "<img style=\"float: left\", src=\"cancer_tree.png\">\n"
   ]
  },
  {
   "cell_type": "markdown",
   "metadata": {},
   "source": [
    "Alternatively, use Bayes' rule to solve for $P(D|T^+)$. \n",
    "\t\n",
    "\\begin{align*}\n",
    "\t\t\\\\ P(D|T^{+}) &= \\frac{P(T^{+}|D) \\cdot P(D)}{[P(T^{+}|D) \\cdot P(D)] + [P(T^{+}|D^C) \\cdot P(D^C)]}\n",
    "\t\t\\\\ P(\\text{cancer}|\\text{mammogram}^+) &= \\frac{P(\\text{mammogram}^{+}|\\ \\text{cancer}) \\cdot P(\\text{cancer})}{[P(\\text{mammogram}^{+}|\\ \\text{cancer})] + [P(\\text{mammogram}^{+}|\\ \\text{no cancer})]}\t\t\n",
    "\t\t\\\\ &= \\frac{0.85 \\cdot (0.0356)}{0.85 \\cdot (0.0356) + (1-0.95) \\cdot (1-0.0356)}\n",
    "\t\t\\\\ &= 0.3856\n",
    "\\end{align*}\n"
   ]
  },
  {
   "cell_type": "markdown",
   "metadata": {},
   "source": [
    "b) Use the table method to simulate the results for administering mammograms to a population of 100,000 women in their 30's. How many women in this hypothetical population are expected to test positive for breast cancer? Estimate the PPV of a mammogram for a woman in her 30's."
   ]
  },
  {
   "cell_type": "markdown",
   "metadata": {},
   "source": [
    "#### Solution:\n",
    "\n",
    "From the table method, there would be approximately 5,352 women who test positive in a population of 100,000. The PPV of a mammogram for a woman in her 30's is estimated to be 0.070. \n",
    "\t\n",
    "| | Cancer | No cancer| Total | \n",
    "| ---- | ---- | ---- | ---- |\n",
    "| Positive  | 374  | 4,978  | 5,352  |\n",
    "| Negative  | 66  | 94,582  | 94,648  |\n",
    "| Total  | 440  | 99,560  | 100,000  |\n",
    "\t\n",
    "Start by filling out the numbers in the total row: the number of people with cancer is $440$ $(=0.004 \\times 100,000)$ in $100,000$. Thus, there are $100,000-440=99,560$ people without cancer. For people with cancer, 85\\% would test positive: $0.85\\times 440 = 374$. The rest would test negative. For people without cancer, 95\\% would test negative: $0.95\\times 99,560=94,582$. The rest would test positive.\n",
    "\t\n",
    "There would be approximately 5,352 women who test positive in a population of 100,000.\n",
    "\n",
    "The following R code could be used to calculate these quantities:"
   ]
  },
  {
   "cell_type": "code",
   "execution_count": 8,
   "metadata": {},
   "outputs": [
    {
     "data": {
      "text/html": [
       "440"
      ],
      "text/latex": [
       "440"
      ],
      "text/markdown": [
       "440"
      ],
      "text/plain": [
       "[1] 440"
      ]
     },
     "metadata": {},
     "output_type": "display_data"
    },
    {
     "data": {
      "text/html": [
       "99560"
      ],
      "text/latex": [
       "99560"
      ],
      "text/markdown": [
       "99560"
      ],
      "text/plain": [
       "[1] 99560"
      ]
     },
     "metadata": {},
     "output_type": "display_data"
    }
   ],
   "source": [
    "#calculations for table\n",
    "\n",
    "#set the parameters\n",
    "prevalence = 0.0044 \n",
    "mamm.sens = 0.85\n",
    "mamm.spec = 0.95\n",
    "pop.size = 100000\n",
    "\n",
    "#expected number with and without breast cancer\n",
    "expected.cases = pop.size * prevalence\n",
    "expected.noncases = pop.size - expected.cases\n",
    "\n",
    "expected.cases\n",
    "expected.noncases"
   ]
  },
  {
   "cell_type": "code",
   "execution_count": 9,
   "metadata": {},
   "outputs": [
    {
     "data": {
      "text/html": [
       "374"
      ],
      "text/latex": [
       "374"
      ],
      "text/markdown": [
       "374"
      ],
      "text/plain": [
       "[1] 374"
      ]
     },
     "metadata": {},
     "output_type": "display_data"
    },
    {
     "data": {
      "text/html": [
       "4978"
      ],
      "text/latex": [
       "4978"
      ],
      "text/markdown": [
       "4978"
      ],
      "text/plain": [
       "[1] 4978"
      ]
     },
     "metadata": {},
     "output_type": "display_data"
    }
   ],
   "source": [
    "#expected number of true and false positives\n",
    "expected.true.pos.tests = expected.cases * mamm.sens\n",
    "expected.false.pos.tests = expected.noncases * (1 - mamm.spec)\n",
    "\n",
    "expected.true.pos.tests\n",
    "expected.false.pos.tests"
   ]
  },
  {
   "cell_type": "code",
   "execution_count": 10,
   "metadata": {},
   "outputs": [
    {
     "data": {
      "text/html": [
       "94582"
      ],
      "text/latex": [
       "94582"
      ],
      "text/markdown": [
       "94582"
      ],
      "text/plain": [
       "[1] 94582"
      ]
     },
     "metadata": {},
     "output_type": "display_data"
    },
    {
     "data": {
      "text/html": [
       "66"
      ],
      "text/latex": [
       "66"
      ],
      "text/markdown": [
       "66"
      ],
      "text/plain": [
       "[1] 66"
      ]
     },
     "metadata": {},
     "output_type": "display_data"
    }
   ],
   "source": [
    "#expected number of true and false negatives\n",
    "expected.true.neg.tests = expected.noncases * mamm.spec\n",
    "expected.false.neg.tests = expected.cases * (1 - mamm.sens)\n",
    "\n",
    "expected.true.neg.tests\n",
    "expected.false.neg.tests"
   ]
  },
  {
   "cell_type": "code",
   "execution_count": 11,
   "metadata": {},
   "outputs": [
    {
     "data": {
      "text/html": [
       "5352"
      ],
      "text/latex": [
       "5352"
      ],
      "text/markdown": [
       "5352"
      ],
      "text/plain": [
       "[1] 5352"
      ]
     },
     "metadata": {},
     "output_type": "display_data"
    }
   ],
   "source": [
    "#expected number of positive tests\n",
    "expected.pos.tests = expected.true.pos.tests + expected.false.pos.tests\n",
    "\n",
    "expected.pos.tests"
   ]
  },
  {
   "cell_type": "code",
   "execution_count": 12,
   "metadata": {},
   "outputs": [
    {
     "data": {
      "text/html": [
       "0.069880418535127"
      ],
      "text/latex": [
       "0.069880418535127"
      ],
      "text/markdown": [
       "0.069880418535127"
      ],
      "text/plain": [
       "[1] 0.06988042"
      ]
     },
     "metadata": {},
     "output_type": "display_data"
    }
   ],
   "source": [
    "#calculate ppv\n",
    "mamm.ppv = expected.true.pos.tests/expected.pos.tests\n",
    "\n",
    "mamm.ppv"
   ]
  },
  {
   "cell_type": "markdown",
   "metadata": {},
   "source": [
    "c) Using whatever methods you wish, calculate the PPV for each age group; show your work. Describe any trends you see in the PPV values as prevalence changes. Explain the reason for the trends."
   ]
  },
  {
   "cell_type": "markdown",
   "metadata": {},
   "source": [
    "#### Solution:\n",
    "c) As the prevalence of breast cancer increases, PPV also increases. If more women have the disease, the chance of a positive test result being a true positive increases (and the chances of the result being a false positive decreases).\n",
    "\n",
    "To explain the reason for this trend, it is helpful to refer to the PPV formula and consider extreme cases. Suppose that the prevalence of a disease is very low, and extremely close to 0; the numerator would also be close to 0, causing PPV to be low. In the other direction, if prevalence is very high (almost 1), then the second term in the denominator that contains *(1 - prevalence)* essentially disappears, and the numerator divided by the denominator will be very high (almost 1). \n",
    "\n",
    "Another way to think about this is to focus on the denominator, which quantifies the number of true positives and false positives. When prevalence increases, even though both the numerator and denominator are increasing from $[prev \\times sensitivity]$, the denominator is also decreasing from $[(1-prev) \\times (1-specificity)]$ decreasing (since as prevalence increases, the quantity $(1 - prev)$ decreases). Since sensitivity and specificity are constant, increasing prevalence has the effect of increasing the number of true positives (left term) and decreasing the number of false positives (right term). PPV increases when the number of true positives increases.\n",
    "\n",
    "$$ P(D|T^{+}) = \\frac{\\text{prevalence} \\times\n",
    "    \\text{sensitivity}}{[\\text{prev} \\times\n",
    "    \\text{sensitivity] +\n",
    "      [(1-prev)} \\times \\text{(1-specificity)}]} $$\n",
    "\n",
    "| **Age Group**  | **Prevalence** | **PPV**   | \n",
    "| -- | -- | -- |\n",
    "|\t\t  30 - 40 |           0.0044          |     0.070 |      \n",
    "|\t\t  40 - 50 |           0.0147          |     0.202  |\n",
    "|\t\t  50 - 60 |           0.0238          |     0.293   |      \n",
    "|\t\t  60 - 70 |           0.0356          |     0.386    |     \n",
    "|\t\t  70 - 80 |           0.0382          |     0.403     |   \n",
    "\n",
    "The following `R` chunk demonstrates how `R` can be used as a calculator on a vector of values; the code calculates PPV through applying Bayes' rule."
   ]
  },
  {
   "cell_type": "code",
   "execution_count": 15,
   "metadata": {},
   "outputs": [
    {
     "data": {
      "text/html": [
       "<ol class=list-inline>\n",
       "\t<li>0.069880418535127</li>\n",
       "\t<li>0.202315414507772</li>\n",
       "\t<li>0.293018539976825</li>\n",
       "\t<li>0.385575942915392</li>\n",
       "\t<li>0.403053624627607</li>\n",
       "</ol>\n"
      ],
      "text/latex": [
       "\\begin{enumerate*}\n",
       "\\item 0.069880418535127\n",
       "\\item 0.202315414507772\n",
       "\\item 0.293018539976825\n",
       "\\item 0.385575942915392\n",
       "\\item 0.403053624627607\n",
       "\\end{enumerate*}\n"
      ],
      "text/markdown": [
       "1. 0.069880418535127\n",
       "2. 0.202315414507772\n",
       "3. 0.293018539976825\n",
       "4. 0.385575942915392\n",
       "5. 0.403053624627607\n",
       "\n",
       "\n"
      ],
      "text/plain": [
       "[1] 0.06988042 0.20231541 0.29301854 0.38557594 0.40305362"
      ]
     },
     "metadata": {},
     "output_type": "display_data"
    }
   ],
   "source": [
    "#calculations\n",
    "prev = c(0.0044, 0.0147, 0.0238, 0.0356, 0.0382)\n",
    "sens = 0.85\n",
    "spec = 0.95\n",
    "\n",
    "numerator = prev*sens\n",
    "denominator = prev*sens + (1-spec)*(1-prev)\n",
    "\n",
    "ppv = numerator/denominator\n",
    "ppv"
   ]
  },
  {
   "cell_type": "markdown",
   "metadata": {},
   "source": [
    "<span style=\"color:navy\"> **Additional Comments**: \n",
    "\n",
    "<span style=\"color:navy\"> The relationship between PPV and prevalence has very important implications in breast cancer and in screening populations for diseases. A paper published on February 9, 2017 in *Cancer Epidemiology Biomarkers & Prevention* suggests that women who experience a false positive mammogram are less likely to return for their regularly scheduled mammogram than women who receive a true negative.  False positives are usually confirmed with a biopsy, and this unpleasant experience seems to have a negative influence on health behavior. \n",
    "\n",
    "<span style=\"color:navy\"> More generally, small values of PPV in diseases with low prevalence make it impractical and sometimes unethical to screen for diseases with low prevalence.  In the early days of the HIV epidemic in the US, there was considerable support for screening everyone for HIV.  The epidemic was real, but the number of HIV+ individuals in the US was very small, and false positive tests might have led to the loss of employment or other stigma.  Fortunately, mass screening was never implemented.  It is possible to *increase* prevalence by restricting the screened population to individuals at high risk for a disease, because the prevalence in the high risk population would be higher. Viewed this way, prevalence is a conditional probability of disease, given membership in a high risk population.\n"
   ]
  },
  {
   "cell_type": "markdown",
   "metadata": {},
   "source": [
    "d) Suppose that two new mammogram imaging technologies have been developed which can improve the PPV associated with mammograms; one improves sensitivity to 99% (but specificity remains at 95%), while the other improves specificity to 99% (while sensitivity remains at 85%). Which technology offers a higher increase in PPV? Explain why."
   ]
  },
  {
   "cell_type": "markdown",
   "metadata": {},
   "source": [
    "#### Solution:\n",
    "\n",
    "The technology that raises specificity to 99% offers a higher increase. For example, see the below code that tests how PPV changes for the 70 - 80 age group, as compared to the current PPV of 0.403; while raising sensitivity only increases PPV to 0.440, raising specificity increases PPV to 0.771. Since prevalence of the disease only ranges between less than 1% to at most $\\sim$ 4%, most of the people tested do not have breast cancer. This implies that the low PPV is largely due to the high number of false positives. This value is related to the specificity. If specificity increases, this increases the number of true negatives and decreases the number of false positives. Increasing sensitivity can potentially increase the number of true positives detected and raise PPV, but this does not have as strong an effect.\n"
   ]
  },
  {
   "cell_type": "code",
   "execution_count": 16,
   "metadata": {},
   "outputs": [
    {
     "data": {
      "text/html": [
       "0.440215113842715"
      ],
      "text/latex": [
       "0.440215113842715"
      ],
      "text/markdown": [
       "0.440215113842715"
      ],
      "text/plain": [
       "[1] 0.4402151"
      ]
     },
     "metadata": {},
     "output_type": "display_data"
    },
    {
     "data": {
      "text/html": [
       "0.771478806310587"
      ],
      "text/latex": [
       "0.771478806310587"
      ],
      "text/markdown": [
       "0.771478806310587"
      ],
      "text/plain": [
       "[1] 0.7714788"
      ]
     },
     "metadata": {},
     "output_type": "display_data"
    }
   ],
   "source": [
    "#test high sensitivity\n",
    "prev = 0.0382\n",
    "sens = 0.99\n",
    "spec = 0.95\n",
    "numerator = prev*sens\n",
    "denominator = prev*sens + (1-spec)*(1-prev)\n",
    "ppv = numerator/denominator\n",
    "ppv\n",
    "\n",
    "#test high specificity\n",
    "prev = 0.0382\n",
    "sens = 0.85\n",
    "spec = 0.99\n",
    "numerator = prev*sens\n",
    "denominator = prev*sens + (1-spec)*(1-prev)\n",
    "ppv = numerator/denominator\n",
    "ppv"
   ]
  },
  {
   "cell_type": "markdown",
   "metadata": {},
   "source": [
    "#### Problem 4:\n",
    "\n",
    "A psychologist conducts a study on intelligence in which participants are asked to take an IQ test consisting of $n$ questions, each with $m$ choices."
   ]
  },
  {
   "cell_type": "markdown",
   "metadata": {},
   "source": [
    "a) One thing the psychologist must be careful about when analyzing the results is accounting for lucky guesses. Suppose that for a given question a particular participant either knows the answer or guesses. The participant knows the correct answer with probability $p$, and does not know the answer (and therefore will have to guess) with probability $1-p$. The participant guesses completely randomly. What is the conditional probability that the participant knew the answer to a question, given that they answered it correctly?\n",
    "\t"
   ]
  },
  {
   "cell_type": "markdown",
   "metadata": {},
   "source": [
    "#### Solution:\n",
    "\n",
    "Define Event A as knowing the answer and Event B as answering correctly. The problem asks for P(A|B).\n",
    "\t\n",
    "There are two ways for a participant to answer a question correctly -- either from knowing the correct answer or from guessing. \n",
    "\t\n",
    "Let us assume that if a participant knows the correct answer, then they will answer correctly with probability 1 ($P(B|A) = 1$). If they guess randomly, then they have a 1 out of m chance to answer correctly (1 out of m answer choices); thus, $P(B|A^C) = \\frac{1}{m}$.\n",
    "\t\n",
    "\\begin{align*}\n",
    "\tP(A|B)&=\\frac{P(B|A)P(A)}{P(B)} \\\\\n",
    "\t&=\\frac{P(B|A)P(A)}{P(B|A)P(A)+P(B|A^{c})P(A^{c})} \\\\\n",
    "\t&=\\frac{1 \\cdot p}{(1 \\cdot p) +(\\frac{1}{m} \\cdot (1-p))} \\\\\n",
    "\t& = \\frac{p}{p + \\frac{1-p}{m}}\n",
    "\t\\end{align*}\n"
   ]
  },
  {
   "cell_type": "markdown",
   "metadata": {},
   "source": [
    "b) About 1 in 1,100 people have IQs over 150. If a subject receives a score of greater than some specified amount, they are considered by the psychologist to have an IQ over 150. But the psychologist's test is not perfect. Although all individuals with IQ over 150 will definitely receive such a score, individuals with IQs less than 150 can also receive such scores about 0.1% of the time due to lucky guessing. Given that a subject in the study is labeled as having an IQ over 150, what is the probability that they actually have an IQ below 150?"
   ]
  },
  {
   "cell_type": "markdown",
   "metadata": {},
   "source": [
    "#### Solution:\n",
    "\n",
    "Define Event A as having IQ over 150 and Event B as receiving a score indicating IQ over 150. The problem asks for $P(A^C|B)$.\n",
    "\t\n",
    "There are two ways for a participant to receive a score that suggests an IQ greater than 150 -- actually have an IQ over 150, or receiving the score from lucky guessing.\n",
    "\t\n",
    "The assumption is made that if a participant has IQ greater than 150, their score reflects that with probability ($P(B|A) = 1$). For individuals with IQ less than 150, random guessing results in a test score above the threshold 0.1\\% of the time; thus, $P(B|A^C) = 0.001$.\n",
    "\t\n",
    "\\begin{align*}\n",
    "\tP(A^C|B)&=\\frac{P(B|A)P(A)}{P(B)} \\\\\n",
    "\t&=\\frac{P(B|A^{C})P(A^{C})}{P(B|A)P(A)+P(B|A^{C})P(A^{C})} \\\\\n",
    "\t&=\\frac{0.001 \\cdot (1- \\frac{1}{1,100})}{(1 \\cdot (\\frac{1}{1,100})) + (0.001 \\cdot (1- \\frac{1}{1,100}))} \\\\\n",
    "\t& = 0.524\n",
    "\t\\end{align*}\n"
   ]
  }
 ],
 "metadata": {
  "kernelspec": {
   "display_name": "R",
   "language": "R",
   "name": "ir"
  },
  "language_info": {
   "codemirror_mode": "r",
   "file_extension": ".r",
   "mimetype": "text/x-r-source",
   "name": "R",
   "pygments_lexer": "r",
   "version": "3.4.3"
  }
 },
 "nbformat": 4,
 "nbformat_minor": 2
}
