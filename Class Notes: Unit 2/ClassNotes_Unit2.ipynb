{
 "cells": [
  {
   "cell_type": "markdown",
   "metadata": {},
   "source": [
    "## <span style=\"color:darkblue\"> Class Notes: Unit 2 (Introduction to sampling and probability)\n",
    "\n",
    "*The content of this notebook is based on modified materials from Open Intro Biostatistics (OIBiostat)*\n",
    "\n",
    "<span style=\"color:darkblue\"> **Outline**<span style=\"color:black\">:\n",
    "\n",
    "A. Data Collection Principles\n",
    "\n",
    "B. Basic Concepts of Probability\n",
    "\n",
    "C. Conditional Probability\n",
    "\n",
    "D. Positive Predictive Value and Bayes Theorem"
   ]
  },
  {
   "cell_type": "markdown",
   "metadata": {},
   "source": [
    "----\n",
    "\n",
    "#### <span style=\"color:darkblue\"> A. Data Collection Principles"
   ]
  },
  {
   "cell_type": "markdown",
   "metadata": {},
   "source": [
    "#### A.1 Populations and samples\n",
    "\n",
    "* In general, research questions pertain to a <span style=\"color:violet\">*target population*<span style=\"color:black\">:\n",
    "    1. Do bluefin tuna from the Atlantic Ocean have particularly high levels of mercury, such that they are unsafe for human consumption?\n",
    "    2. For infants predisposed to developing a peanut allergy, is there evidence that introducing peanut products early in life is an effective strategy for reducing the risk of developing a peanut allergy?\n",
    "    3. Does a recently developed drug designed to treat glioblastoma, a form of brain cancer, appear more effective at inducing tumor shrinkage than the drug currently on the market?\n",
    "* Nearly all research is based on information obtained about a <span style=\"color:violet\">*sample* <span style=\"color:black\">from the population, representing a small fraction of the total population."
   ]
  },
  {
   "cell_type": "markdown",
   "metadata": {},
   "source": [
    "A sample is considered <span style=\"color:violet\">*representative* <span style=\"color:black\"> of the population if the sample characterstics correspond to the population characterisitics.\n",
    "\n",
    "The <span style=\"color:violet\">*sampling scheme*<span style=\"color:black\"> helps determine this, but does not guarantee it!"
   ]
  },
  {
   "cell_type": "markdown",
   "metadata": {},
   "source": [
    "<img style=\"float: left\", src=\"sampleRandomHealthPlan.png\">\n"
   ]
  },
  {
   "cell_type": "markdown",
   "metadata": {},
   "source": [
    "<img style=\"float: left\", src=\"sampleConvenienceHealthPlan.png\">"
   ]
  },
  {
   "cell_type": "markdown",
   "metadata": {},
   "source": [
    "<img style=\"float: left\", src=\"sampleNonResponseHealthPlan.png\">"
   ]
  },
  {
   "cell_type": "markdown",
   "metadata": {},
   "source": [
    "**** A.2 Types of Bias: ****\n",
    "\n",
    "<span style=\"color:violet\">*Selection bias*<span style=\"color:black\"> occurs when some units are more likely to be selected for analysis than others.  \n",
    "\n",
    "*Example:* Suppose you want to conduct a survey to determine if people prefer Uber, Lift or traditional taxis.\n",
    "\n",
    "* What are the units in this example?\n",
    "* If you use FaceBook to administer the survey, will there be selection bias?  \n",
    "* What impact does this have on the survey results?"
   ]
  },
  {
   "cell_type": "markdown",
   "metadata": {},
   "source": [
    "<span style=\"color:violet\">*Recall bias*<span style=\"color:black\"> occurs when some individuals in a study exhibit different abilities to correctly recollect their past experiences.\n",
    "\n",
    "*Example:* Suppose you are interested in investigating the association between coffee consumption during pregnancy and risk of miscarriage.  For logistically and economic reasons, you decide to do a case-control study in which you identify women who have had a miscarriage and those who have not had a miscarriage and ask them to report their average per day coffee consumption during the first 2 months of pregnancy.  \n",
    "\n",
    "* Are women who have had a miscarriage and those who have not likely to recall their coffee consumption differently? Why?\n",
    "* What would be the impact of this on our interpretation of the study findings?"
   ]
  },
  {
   "cell_type": "markdown",
   "metadata": {},
   "source": [
    "Bias can also be introduced as a result of <span style=\"color:violet\">*informative missing data*.\n",
    "\n",
    "<span style=\"color:violet\">*Estimation bias*<span style=\"color:black\"> occurs when a summary measure based on a sample is systemically different from the population measure of interest.    \n",
    "\n",
    "*Example*: Suppose we are interested in reporting the average SAT/ACT score for students who decide to come to MHC.  \n",
    " \n",
    "* Taking the SAT/ACT is not required for admission to MHC so some percentage of students who are here never took the SAT or did not submit their scores. \n",
    "* Is it possible that the SAT/ACT scores of individuals who report scores are different than the 'would-be' scores of individuals who do not report them?\n",
    "* How would this impact your interpretation of the study findings?"
   ]
  },
  {
   "cell_type": "markdown",
   "metadata": {},
   "source": [
    "**** A.3 Study Design and Confounding: ****\n",
    "\n",
    "The first step is to understand the <span style=\"color:violet\">*data generating process<span style=\"color:black\">*.\n",
    "\n",
    "* In an <span style=\"color:orange\">observational study<span style=\"color:black\"> researchers observe and record data, without interfering with how the data arise.\n",
    "* In an <span style=\"color:orange\">experimental study<span style=\"color:black\"> investigators intervene by assigning a *treatment* to each unit. In a *randomized* experiment the units are randomly assigned to groups that receive the treatments.  "
   ]
  },
  {
   "cell_type": "markdown",
   "metadata": {},
   "source": [
    "*Example:* \n",
    "\n",
    "In June 2006, the NYT reported http://www.nytimes.com/2006/06/13/health/13brea.html an article entitled \"Breast-Feed or Else\" quoting a senior scientific adviser to the Office on Women's Health in the Department of Health and Human Services who likened not breastfeeding to smoking during pregnancy.\n",
    "\n",
    "The AAP policy statement recommending women nurse cited a http://pediatrics.aappublications.org/content/113/5/e435.full}{\\textcolor{red}{scientific study that reported:\n",
    "\n",
    "*\"We evaluated the effect of breastfeeding on postneonatal mortality in United States using 1988 National Maternal and Infant Health Survey (NMIHS) data ...  children who were ever breastfed had 0.79 (95% confidence interval: 0.67-0.93) times the risk of never breastfed children for dying in the postneonatal period.\"*\n"
   ]
  },
  {
   "cell_type": "markdown",
   "metadata": {},
   "source": [
    "Important information:\n",
    "* The NMIHS is an *observational study*.\n",
    "* The children who were not breast fed were more likely to die of injury (e.g. car accident).\n",
    "* At the time of the survey, breast feeding was highly associated with economic class -- higher-income women were more likely to breast feed than lower-income women.\n",
    "\n",
    "How does this impact the interpretation of the study results?\n"
   ]
  },
  {
   "cell_type": "markdown",
   "metadata": {},
   "source": [
    "In the previous example, economic status is an example of a confounder as it confounds the relationship between breast feeding and infant mortality. Formally, a <span style=\"color:violet\">*confounder*<span style=\"color:black\"> is a variable that is associated with both the explanatory (predictor) variable and the response (outcome) variable, but is not in the `causal pathway'."
   ]
  },
  {
   "cell_type": "markdown",
   "metadata": {},
   "source": [
    "<img style=\"float: left\", src=\"confoundingVariable.png\">"
   ]
  },
  {
   "cell_type": "markdown",
   "metadata": {},
   "source": [
    "----\n",
    "#### <span style=\"color:darkblue\"> B. Basic Concepts of Probability\n",
    "\n",
    "#### B.1 Outcomes and events   \n",
    "\n",
    "An <span style=\"color:violet\"> *outcome*<span style=\"color:black\">  in a study or experiment is the observable result after conducting the experiment.\n",
    "\n",
    "- The sum of the faces on two dice that have been rolled  \n",
    "\n",
    "- The response of a patient treated with an experimental therapy\n",
    "\n",
    "- The total volume of eggs in a clutch laid by a frog \n",
    "\n",
    "An <span style=\"color:violet\"> *event*<span style=\"color:black\">  is a collection of outcomes.  \n",
    "\n",
    "- The sum after rolling two dice is 7\n",
    "\n",
    "- 22 of 30 patients in a study have a good response to a therapy\n",
    "\n",
    "- The total volume of eggs in a clutch is larger than $750 \\text{ mm}^3$\n"
   ]
  },
  {
   "cell_type": "markdown",
   "metadata": {},
   "source": [
    "#### B.2 Working definition of probability   \n",
    "\n",
    "The <span style=\"color:violet\"> *probability* <span style=\"color:black\"> of an outcome or an event is the proportion of times the outcome or event would occur if the random phenomenon could be observed an infinite number of times.\n",
    "\n",
    "\n",
    "Two outcomes or events are called <span style=\"color:violet\"> *disjoint* <span style=\"color:black\"> or <span style=\"color:violet\"> *mutually exclusive* <span style=\"color:black\"> if they cannot both happen at the same time.\n",
    "\n",
    "Addition rule for disjoint events (Equation 2.6 in *OI Biostat*):\n",
    "\n",
    "- If $A_1$ and $A_2$ represent two disjoint events, then the probability that either one of them occurs is $$P(A_1 \\text{ or } A_2) = P(A_1) + P(A_2)$$   \n",
    "\n",
    "\n",
    "- If there are $k$ disjoint events $A_1,\\dots,A_k$, then the probability that one of these outcomes will occur is $$P(A_1) + P(A_2) + \\cdots + P(A_k)$$\n",
    "\n"
   ]
  },
  {
   "cell_type": "markdown",
   "metadata": {},
   "source": [
    "#### B.3 Rules/definitions for probability    \n",
    "\n",
    "<span style=\"color:violet\"> General Addition Rule<span style=\"color:black\">  (Equation 2.12 in *OI Biostat*)\n",
    "\n",
    "- If $A$ and $B$ are any two events, disjoint or not, then the probability that at least one of them will occur is $$P(A \\text{ or }B) = P(A) + P(B) - P(A  \\text{ and }B)$$ where P(A and B) is the probability that both events occur.\n",
    "\n",
    "The <span style=\"color:violet\"> *complement*<span style=\"color:black\">  $A^c$ of an event $A$ is the collection of all outcomes *not* in $A$. The complement is sometimes written *not* $A$.\n",
    "\n",
    "- $P(A) = 1-P(A^c)$  Equation 2.19, *OI Biostat*\n",
    "\n",
    "- Equivalently $P(A^c) = 1-P(A)$  \n"
   ]
  },
  {
   "cell_type": "markdown",
   "metadata": {},
   "source": [
    "#### B.4 Independent events   \n",
    "\n",
    "Two events $A$ and $B$ are called <span style=\"color:violet\">*independent* <span style=\"color:black\">if the probability that both $A$ and $B$ occur equals the product of their separate probabilities\n",
    "$$ P(A \\text{ and }B) = P(A)P(B)$$ (Equation 2.23 in *OI Biostat*)\n",
    "\n",
    "Similarly, $k$ events $A_1$, ..., $A_k$  are called *independent* if the probability they all occur, written $A_1 \\text{ and } A_2 \\text{ and } A_3  \\cdots A_k$ is the product\n",
    "$$P(A_1) P(A_2) \\cdots P(A_k)$$"
   ]
  },
  {
   "cell_type": "markdown",
   "metadata": {},
   "source": [
    "----\n",
    "\n",
    "<span style=\"color:orange\"> **In-class (paper and pencil) exercises:**\n",
    "    \n",
    "**Exercise 1**. Toss a fair coin 3 times. What is the probability of at least 2 heads?\n",
    "\n",
    "----\n",
    "\n",
    "**Exercise 2**.  Mammograms incorrectly suggest breast cancer is present approximately 5% of the time when a women does *not* have cancer.  Suppose a clinic conducts approximately 50 mammograms in a week.  What is the probability that at least 1 woman will test positive if none of the women have breast cancer?\n",
    "\n",
    "----"
   ]
  },
  {
   "cell_type": "markdown",
   "metadata": {},
   "source": [
    "----\n",
    "#### <span style=\"color:darkblue\"> C. Conditional probabilities"
   ]
  },
  {
   "cell_type": "markdown",
   "metadata": {},
   "source": [
    "#### C.1 Conceptual Definition:\n",
    "\n",
    "The <span style=\"color:violet\">*conditional probability*<span style=\"color:black\"> of an event $B$, given a second event $A$, is the probability of $B$ happening, knowing that the event $A$ has happened. This is denoted as $P(B|A)$."
   ]
  },
  {
   "cell_type": "markdown",
   "metadata": {},
   "source": [
    "<img style=\"float: left\", src=\"premature_infant_death.png\">\n",
    "\n",
    "Published in Patel, et al., NEJM (2015) Vol 372, pp 331 - 340, posted on website under Supplementary Reading. "
   ]
  },
  {
   "cell_type": "markdown",
   "metadata": {},
   "source": [
    "Toss a fair coin 3 times. Let $B$ be the event that *exactly* two heads occur, and $A$ the event that *at least* two heads occur.\n",
    "\n",
    "- $P(B|A)$ is the probability of having exactly two heads among\n",
    "   the outcomes that have at least two heads.\n",
    "\n",
    "- Conditioning on $A$ means we know the outcome is in the set\n",
    "    - (HHH, HHT, HTH, THH)\n",
    "- In this set of outcomes, $B$ consists of the last three, so\n",
    "   $P(B|A) = 3/4$\n",
    "- Note that $P(B) = 3/8$"
   ]
  },
  {
   "cell_type": "markdown",
   "metadata": {},
   "source": [
    "#### C.2 Mathematical Definition:\n",
    "\n",
    "As long as $P(A) > 0$,\n",
    " $$ P(B | A) = \\dfrac{P(A \\text{ and } B)}{P(A)}$$\n",
    "\n",
    "Using the definition, \n",
    "\\begin{align*} \n",
    "P(B | A) &= \\dfrac{P(A \\text{ and } B)}{ P(A) }\\\\\n",
    "         &= \\frac{P(\\text{At least two heads and exactly two heads})}\n",
    "             {P(\\text{At least two heads})} \\\\\n",
    "          &= \\frac{P(\\text{Exactly two heads})}{P(\\text{At least two heads})} \\\\\n",
    "          &= (3/8)/(4/8) = 3/4\n",
    "\\end{align*}\n"
   ]
  },
  {
   "cell_type": "markdown",
   "metadata": {},
   "source": [
    "*Independence again*...\n",
    "\n",
    "A simple consequence of the definition of conditional probability:\n",
    "\n",
    "- $A$ and $B$ are independent if $P(B|A) =  P(B)$\n",
    "\n",
    "\n",
    "#### C.3 Multiplication Rule of Probability\n",
    "\n",
    "The <span style=\"color:violet\">general multiplication rule <span style=\"color:black\">applies for events that might not be independent.\n",
    "\n",
    "$$ P(A \\text{ and } B) = P(B | A)P(A) $$\n",
    "\n",
    "It is a rearrangement of the definition for conditional probability, $P(B | A) = P(A \\text{ and } B) / P(A)$\n"
   ]
  },
  {
   "cell_type": "markdown",
   "metadata": {},
   "source": [
    "----\n",
    "\n",
    "<span style=\"color:orange\"> **In-class (paper and pencil) exercises:**\n",
    "    \n",
    "**Exercise 3**. Suppose that a study conducted in the United States showed that 10% of the\n",
    "population have some mental disorder, 8% have an alcohol related\n",
    "disorder, and 6% have both.  \n",
    "\n",
    "a) If a person has been diagnosed with an alcohol related disorder, what is\n",
    "the probability that he/she has a mental disorder?\n",
    "\n",
    "b) If a person has been diagnosed with a mental disorder, what is\n",
    "the probability that he/she has an alcohol related disorder?\n",
    "\n",
    "c) Are the events *A* and *B* independent, where *A* = (a person has a mental disorder), *B* = (a person has an alcohol related disorder)?\n",
    "\n",
    "----\n",
    "\n",
    "**Exercise 4**. A bag contains 3 red and 3 white balls.  Two balls are drawn from the bag, one at a time; the first ball is not replaced before the second ball is drawn. \n",
    "\n",
    "a) What is the probability of drawing a white ball on the first pick and a red on the second?\n",
    "    \n",
    "b) What is the probability of drawing exactly one red ball?\n",
    "\n",
    "----\n",
    "\n",
    "**Exercise 5**. In the US population, approximately 20% of men and 3% of women are taller than 6 feet (72 in).  Let $F$ be the event that a person is female and $T$ be the event that a person is taller than 6 feet. Assume an equal probability of being male and female.  \n",
    "\n",
    "a) What is $P(T|F)$?\n",
    " \n",
    "b) What is the probability that the next person walking through the door is a woman and taller than 6 feet?\n",
    "    \n",
    "c) What is the probability that the next person walking through the door is taller than 6 feet tall?  \n",
    "\n",
    "----"
   ]
  },
  {
   "cell_type": "markdown",
   "metadata": {},
   "source": [
    "----\n",
    "#### <span style=\"color:darkblue\"> D. Positive Predictive Value of a Diagnostic Test (Bayes' Theorem)\n",
    "\n",
    "\n",
    "*Example: Pre-natal testing for trisomy 21, 13, and 18*\n",
    "\n",
    "Some congenital disorders are caused by an additional copy of a chromosome being attached (translocated) to another chromosome during reproduction.\n",
    "\n",
    "- Trisomy 21: Down syndrome, approximately 1 in 800 births\n",
    "\n",
    "- Trisomy 13: Patau's syndrome,  physical and mental\n",
    "disabilities, approximately 1 in 16,000 newborns\n",
    "\n",
    "- Trisomy 18: Edward's syndrome, nearly always fatal, either\n",
    "in stillbirth or infant mortality.  Occurs in about 1 in 6,000 births\n",
    "\n",
    "Until recently, testing for these conditions consisted of screening the mother's blood for serum markers, followed by amniocentesis in women who test positive.\n"
   ]
  },
  {
   "cell_type": "markdown",
   "metadata": {},
   "source": [
    "*Cell-free fetal DNA (cfDNA)*\n",
    "\n",
    "cfDNA consists of copies of embryo DNA present in maternal blood.\n",
    "\n",
    "Advances in sequencing DNA provided possibility of non-invasive testing for these disorders, using only a blood sample. \n",
    "\n",
    "Initial testing of the technology was done using archived samples of genetic material from children whose trisomy status was known.\n",
    "\n",
    "The results are variable, but generally very good:\n",
    "\n",
    "- Of 1000 children with the one of the disorders, approximately 980 have cfDNA that tests positive. The test has high *sensitivity*.\n",
    "\n",
    "- Of 1000 children without the disorders, approximately 995 test negative. The test has high *specificity*.\n"
   ]
  },
  {
   "cell_type": "markdown",
   "metadata": {},
   "source": [
    "*What do the parents care about?*\n",
    "  \n",
    "The designers of a test want a test to have high sensitivity and specificity:\n",
    "\n",
    "- <span style=\"color:violet\">*sensitivity*<span style=\"color:black\"> is the probability of a positive test given (conditional on) disease positive.\n",
    "- <span style=\"color:violet\">*specificity*<span style=\"color:black\"> is the probability of a negative test given disease negative.\n",
    "\n",
    "That makes it a good test.\n",
    "\n",
    "Specifically, a family with a child undergoing testing wants to know the likelihood of the condition being present if the test is positive.\n",
    "\n",
    "Suppose a child has tested positive for trisomy 21. What is the probability that the child does have the trisomy 21 condition, given the positive test result?\n",
    "\n",
    "We will address this question using each of the following approaches:\n",
    "\n",
    "- Table-based solution \n",
    "\n",
    "- Tree-based solution\n",
    "\t\n",
    "- Algebraic solution using Bayes' rule\n",
    "\n",
    "- Simulation\n"
   ]
  },
  {
   "cell_type": "markdown",
   "metadata": {},
   "source": [
    "#### D.1 Using a table to calculate PPV\n",
    "\n",
    "Steps:\n",
    "\n",
    "- Create a contingency table showing the distribution of trisomy 21 incidence and cfDNA test outcomes in a large, hypothetical population.\n",
    " \n",
    "- Use the table to calculate the correct conditional probabilities.\n",
    "\n",
    "- We use *R* to calculate the entries in the table, but it can be done by hand."
   ]
  },
  {
   "cell_type": "markdown",
   "metadata": {},
   "source": [
    "----\n",
    "\n",
    "<span style=\"color:orange\"> **In-class (paper and pencil) exercises:**\n",
    "\n",
    "**Exercise 6**. Constructing a contingency table for a large, hypothetical population offers an intuitive way to understand the distribution of disease incidence and test outcome. In this case, we will work with a population of 100,000.\n",
    "\n",
    "\n",
    "| | Disease Present | Disease Absent  | Total |\n",
    "|------|------|------|\n",
    "|Test Positive| | | | \n",
    "|Test Negative | | | | \n",
    "| Total | | | 100,000 |\n",
    "\n",
    "Let's start filling in the table, based on the known information about the disease prevalence, test specificity, and test sensitivity.\n",
    "\n",
    "a) Calculate the two column totals -- out of 100,000 children, how many are expected to have trisomy 21? How many are expected to not have trisomy 21?\n",
    "\n",
    "b) Populate the rest of the table (you may find it helpful to use R as a calculator).\n",
    "\n",
    "c) Using values from the table, calculate an estimate of the probability that a child who tests positive actually has trisomy 21. *Hint*: Think about how the definition of conditional probability could be applied here... \n",
    "\n",
    "$$P(D|T^{+}) = \\frac{P(D \\text{ and } T^{+})}{P(T^{+})}$$\n",
    "\n",
    "----"
   ]
  },
  {
   "cell_type": "markdown",
   "metadata": {},
   "source": [
    "#### D.2 Tree-based solution\n",
    "\n",
    "Using a tree diagram allows for the information in the problem to be mapped out in a way that makes it easier to calculate the desired conditional probability, $P(D|T^{+})$."
   ]
  },
  {
   "cell_type": "markdown",
   "metadata": {},
   "source": [
    "----\n",
    "    \n",
    "<span style=\"color:orange\"> **In-class (paper and pencil) exercises:**\n",
    "\n",
    "**Exercise 7**. Consider the set-up from the previous exercise.\n",
    "\n",
    "a) First, let's write out what we know (prevalence, sensitivity, specificity) using some notation. Let $D$ = \\{disease presence\\}, $D^C$ = \\{disease absence\\}, $T^{+}$ = \\{positive test\\}, $T^{-}$ = \\{negative test\\}.\n",
    "\n",
    "b) Draw a tree diagram that organizes the four possible combinations of disease incidence and test outcome: $D \\text{ and } T^{+}$, $D \\text{ and } T^{-}$, $D^C \\text{ and } T^{+}$, $D^C \\text{ and } T^{-}$.\n",
    "\n",
    "c) Calculate $P(D|T^{+})$. Remember that $P(D \\text{ and } T^{+})$ can be rewritten as $P(D)P(T^{+}|D)$ by the general multiplication rule.\n",
    "\n",
    "----"
   ]
  },
  {
   "cell_type": "markdown",
   "metadata": {},
   "source": [
    "#### D.3 Diagnostic tests and Bayes' rule\n",
    "\n",
    "Events of interest in diagnostic testing, where () denotes an event:\n",
    "\n",
    "- $D$ = (person has disease) \n",
    "\n",
    "- $D^C$ = (person does not have disease)  \n",
    "\n",
    "- $T^+$ = (positive screening result)  \n",
    "\n",
    "- $T^-$ = (negative screening result).  Could use $T$ and $T^C$,\n",
    "    but $T^+,\\,\\, T^-$ are consistent with notation in medical and public health\n",
    "    literature.\n",
    "\n"
   ]
  },
  {
   "cell_type": "markdown",
   "metadata": {},
   "source": [
    "#### Measures of accuracy for diagnostic tests\n",
    "  \n",
    "- Sensitivity = $P (T^+ | D)$ (want very high!)   \n",
    "\n",
    "- Specificity = $P(T^- | D^C)$ (want high!)   \n",
    "\n",
    "- False negative rate = $P(T^- | D)$ = 1 - sensitivity   \n",
    "\n",
    "- False positive rate = $P(T^+ | D^C)$ = 1 - specificity   \n",
    "\n",
    "These measures are all characteristics of a diagnostic test.\n"
   ]
  },
  {
   "cell_type": "markdown",
   "metadata": {},
   "source": [
    "####  Positive predictive value of a test\n",
    "\n",
    "Suppose an individual tests positive for a disease $D$.   \n",
    "\n",
    "<span style=\"color:violet\">*Positive Predictive Value (PPV)*<span style=\"color:black\">: The PPV of a diagnostic test is the probability that a person has a disease $D$, given that she has tested positive.\n",
    "\n",
    "- PPV = $P(D | T^+)$\n",
    "\n",
    "- The conditioning here is in the reverse order from the test characteristics \n",
    "\n",
    "The characteristics of the test give us $P(T^+|D)$, among other things, but not $P(D|T^+)$.\n",
    "\n"
   ]
  },
  {
   "cell_type": "markdown",
   "metadata": {},
   "source": [
    "#### Bayes' Theorem, aka Bayes' Rule\n",
    "\n",
    "Bayes' Thorem (simplest form):\n",
    "\n",
    "$$ P(A|B) = \\frac{P(A) P(B|A)}{P(B)}$$\n",
    "\n",
    "Note: Follows directly from the definition of conditional probability by noting that $P(A) P(B|A)$ equals $P(A \\text{ and } B)$:\n",
    "\n",
    "$$ P(A|B) =  \\frac{P(A \\text{ and } B)}{P(B)} = \\frac{P(A) P(B|A)}{P(B)}$$\n",
    "\n"
   ]
  },
  {
   "cell_type": "markdown",
   "metadata": {},
   "source": [
    "#### The denominator P(B) in Bayes' Theorem\n",
    "\n",
    "Bayes' Theorem is seldom stated in its simplest form, because in many problems, $P(B)$ is not given directly, but is calculated using the general multiplication formula for probabilities:\n",
    "\n",
    "Suppose $A$ and $B$ are events.  Then,\n",
    "\\begin{align*}\n",
    "P(B) = & P(B \\text{ and } A) + P(B \\text{ and } A^C) \\\\\n",
    "    = & P(A) P(B | A)  + P(A^C)P(B|A^C)\n",
    "\\end{align*}\n",
    "\n",
    "Bayes' Theorem can be written as:\n",
    "\n",
    "$$ P(A|B) = \\frac{P(A) P(B|A)}{P(B)} = \\frac{P (A) P (B|A)}{P (A) P (B | A)  + P (A^C)P (B|A^C)}$$\n",
    "\n"
   ]
  },
  {
   "cell_type": "markdown",
   "metadata": {},
   "source": [
    "### Bayes' Theorem for diagnostic tests\n",
    "\n",
    "Let $A = D$, $B = T^+$, where the PPV is $P(D|T^+)$. \n",
    "\n",
    "\\begin{align*}\n",
    "  P(D|T^+) = & \\dfrac{P(D \\text{ and } T^{+})}{P(D)} \\\\ \n",
    "  = & \\frac{P(D)P(T^{+}|D)}{P(D)P(T^{+}|D)+\n",
    "    (1-P(D))P(T^{+}|D^{C})} \\\\ \\\n",
    "  = &  \\frac{\\text{prevalence} \\times\n",
    "    \\text{sensitivity}}{[\\text{prev} \\times\n",
    "    \\text{sensitivity] +\n",
    "      [(1-prev)} \\times \\text{(1-specificity)}]} \n",
    "\\end{align*}"
   ]
  }
 ],
 "metadata": {
  "kernelspec": {
   "display_name": "R",
   "language": "R",
   "name": "ir"
  },
  "language_info": {
   "codemirror_mode": "r",
   "file_extension": ".r",
   "mimetype": "text/x-r-source",
   "name": "R",
   "pygments_lexer": "r",
   "version": "3.4.3"
  }
 },
 "nbformat": 4,
 "nbformat_minor": 2
}
