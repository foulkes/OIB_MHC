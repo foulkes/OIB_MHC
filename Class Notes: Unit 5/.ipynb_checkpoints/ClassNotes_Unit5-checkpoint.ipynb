{
 "cells": [
  {
   "cell_type": "markdown",
   "metadata": {},
   "source": [
    "## <span style=\"color:darkblue\"> Class Notes: Unit 5 (Inference for numerical data - comparison of 2 means)\n",
    "\n",
    "*The content of this notebook is based on modified materials from Open Intro Biostatistics (OIBiostat)*\n"
   ]
  },
  {
   "cell_type": "markdown",
   "metadata": {},
   "source": [
    "#### Guide to the reading\n",
    "\n",
    "Section 5.1 in *OI Biostat* covers inference for the mean of a single population, using the $t$-distribution.\n",
    "\n",
    "  - We covered that in Unit 4.\n",
    "\n",
    "Sections 5.1, 5.2, and 5.5 discuss inference for the means of two or more populations"
   ]
  },
  {
   "cell_type": "markdown",
   "metadata": {},
   "source": [
    "#### Comparing two population means\n",
    "    \n",
    "The settings in which two population means are compared:\n",
    "\n",
    "- Paired measurements for each 'participant' or study unit\n",
    "        \n",
    "- Two independent groups; no pairing in the data   \n",
    "\n",
    "----\n",
    "#### <span style=\"color:darkblue\"> A.  The paired $t$-test \n",
    "\n",
    "#### Example: wetsuits and swimming velocity\n",
    "\n",
    "Did a new wetsuit design allow for increased swim velocities during the 2000 Olympics?\n",
    "\n",
    "A study was conducted to verify the effects of wetsuits on swim velocity.\n",
    "\n",
    "  - 12 competitive swimmers were asked to swim 1500m at maximal velocity, once wearing a wetsuit and once wearing a standard swimsuit.\n",
    "  \n",
    "  - Order of wetsuit versus swimsuit randomized.\n",
    "  \n",
    "  - Investigators recorded mean velocity (m/sec) for each trial.\n"
   ]
  },
  {
   "cell_type": "code",
   "execution_count": 10,
   "metadata": {},
   "outputs": [
    {
     "data": {
      "text/html": [
       "<table>\n",
       "<thead><tr><th scope=col>swimmer.number</th><th scope=col>wet.suit.velocity</th><th scope=col>swim.suit.velocity</th><th scope=col>velocity.diff</th></tr></thead>\n",
       "<tbody>\n",
       "\t<tr><td> 1  </td><td>1.57</td><td>1.49</td><td>0.08</td></tr>\n",
       "\t<tr><td> 2  </td><td>1.47</td><td>1.37</td><td>0.10</td></tr>\n",
       "\t<tr><td> 3  </td><td>1.42</td><td>1.35</td><td>0.07</td></tr>\n",
       "\t<tr><td> 4  </td><td>1.35</td><td>1.27</td><td>0.08</td></tr>\n",
       "\t<tr><td> 5  </td><td>1.22</td><td>1.12</td><td>0.10</td></tr>\n",
       "\t<tr><td> 6  </td><td>1.75</td><td>1.64</td><td>0.11</td></tr>\n",
       "\t<tr><td> 7  </td><td>1.64</td><td>1.59</td><td>0.05</td></tr>\n",
       "\t<tr><td> 8  </td><td>1.57</td><td>1.52</td><td>0.05</td></tr>\n",
       "\t<tr><td> 9  </td><td>1.56</td><td>1.50</td><td>0.06</td></tr>\n",
       "\t<tr><td>10  </td><td>1.53</td><td>1.45</td><td>0.08</td></tr>\n",
       "\t<tr><td>11  </td><td>1.49</td><td>1.44</td><td>0.05</td></tr>\n",
       "\t<tr><td>12  </td><td>1.51</td><td>1.41</td><td>0.10</td></tr>\n",
       "</tbody>\n",
       "</table>\n"
      ],
      "text/latex": [
       "\\begin{tabular}{r|llll}\n",
       " swimmer.number & wet.suit.velocity & swim.suit.velocity & velocity.diff\\\\\n",
       "\\hline\n",
       "\t  1   & 1.57 & 1.49 & 0.08\\\\\n",
       "\t  2   & 1.47 & 1.37 & 0.10\\\\\n",
       "\t  3   & 1.42 & 1.35 & 0.07\\\\\n",
       "\t  4   & 1.35 & 1.27 & 0.08\\\\\n",
       "\t  5   & 1.22 & 1.12 & 0.10\\\\\n",
       "\t  6   & 1.75 & 1.64 & 0.11\\\\\n",
       "\t  7   & 1.64 & 1.59 & 0.05\\\\\n",
       "\t  8   & 1.57 & 1.52 & 0.05\\\\\n",
       "\t  9   & 1.56 & 1.50 & 0.06\\\\\n",
       "\t 10   & 1.53 & 1.45 & 0.08\\\\\n",
       "\t 11   & 1.49 & 1.44 & 0.05\\\\\n",
       "\t 12   & 1.51 & 1.41 & 0.10\\\\\n",
       "\\end{tabular}\n"
      ],
      "text/markdown": [
       "\n",
       "swimmer.number | wet.suit.velocity | swim.suit.velocity | velocity.diff | \n",
       "|---|---|---|---|---|---|---|---|---|---|---|---|\n",
       "|  1   | 1.57 | 1.49 | 0.08 | \n",
       "|  2   | 1.47 | 1.37 | 0.10 | \n",
       "|  3   | 1.42 | 1.35 | 0.07 | \n",
       "|  4   | 1.35 | 1.27 | 0.08 | \n",
       "|  5   | 1.22 | 1.12 | 0.10 | \n",
       "|  6   | 1.75 | 1.64 | 0.11 | \n",
       "|  7   | 1.64 | 1.59 | 0.05 | \n",
       "|  8   | 1.57 | 1.52 | 0.05 | \n",
       "|  9   | 1.56 | 1.50 | 0.06 | \n",
       "| 10   | 1.53 | 1.45 | 0.08 | \n",
       "| 11   | 1.49 | 1.44 | 0.05 | \n",
       "| 12   | 1.51 | 1.41 | 0.10 | \n",
       "\n",
       "\n"
      ],
      "text/plain": [
       "   swimmer.number wet.suit.velocity swim.suit.velocity velocity.diff\n",
       "1   1             1.57              1.49               0.08         \n",
       "2   2             1.47              1.37               0.10         \n",
       "3   3             1.42              1.35               0.07         \n",
       "4   4             1.35              1.27               0.08         \n",
       "5   5             1.22              1.12               0.10         \n",
       "6   6             1.75              1.64               0.11         \n",
       "7   7             1.64              1.59               0.05         \n",
       "8   8             1.57              1.52               0.05         \n",
       "9   9             1.56              1.50               0.06         \n",
       "10 10             1.53              1.45               0.08         \n",
       "11 11             1.49              1.44               0.05         \n",
       "12 12             1.51              1.41               0.10         "
      ]
     },
     "metadata": {},
     "output_type": "display_data"
    }
   ],
   "source": [
    "require(oibiostat)\n",
    "data(\"swim\")\n",
    "swim"
   ]
  },
  {
   "cell_type": "markdown",
   "metadata": {},
   "source": [
    "#### Idea behind the paired $t$-test\n",
    "\n",
    "The velocities are paired, with two measurements for each swimmer. \n",
    "\n",
    "Suppose that for each subject $i$, we have observations $x_{i, 1}$ and $x_{i, 2}$.\n",
    "\n",
    "- Let $d_i = x_{i, 1} - x_{i, 2}$. For each subject, this is the difference between the two measurements. \n",
    "\n",
    "- Base inference on $\\overline{d}$, the sample mean of the $d_i$:\n",
    "\n",
    "$$\\overline{d} = \\frac{\\sum d_i}{n}$$\n",
    "\n",
    "#### The paired $t$-test    \n",
    "\n",
    "Let $\\delta$ be the population mean of the difference in velocities during a 1500m swim if all competitive swimmers recorded swim velocities with each suit type.\n",
    "\n",
    "The null and alternative hypotheses are \n",
    "\n",
    "- $H_0: \\delta= 0$, there is no difference in mean swim velocities\n",
    "    - i.e., wet suits do not change mean swim velocities\n",
    "\n",
    "- $H_A: \\delta \\neq 0$, there is a difference in mean swim velocities between the groups\n",
    "    - i.e., wet suits do change mean swim velocities\n",
    "\n",
    "The $t$-statistic is calculated based on the mean and standard deviation of the differences, $\\overline{d}$ and $s_d$. Note that $n$ refers to the number of differences (i.e., the number of pairs).\n",
    "        \n",
    "$$ t = \\dfrac{\\overline{d} -\\delta_0}{s_d /\\sqrt{n}}$$\n",
    "\n",
    "The $p$-value is calculated as usual, from a $t$ distribution with $df = n - 1$.\n"
   ]
  },
  {
   "cell_type": "code",
   "execution_count": 11,
   "metadata": {},
   "outputs": [
    {
     "data": {
      "text/html": [
       "<table>\n",
       "<thead><tr><th scope=col>swimmer.number</th><th scope=col>wet.suit.velocity</th><th scope=col>swim.suit.velocity</th><th scope=col>velocity.diff</th></tr></thead>\n",
       "<tbody>\n",
       "\t<tr><td>1   </td><td>1.57</td><td>1.49</td><td>0.08</td></tr>\n",
       "\t<tr><td>2   </td><td>1.47</td><td>1.37</td><td>0.10</td></tr>\n",
       "\t<tr><td>3   </td><td>1.42</td><td>1.35</td><td>0.07</td></tr>\n",
       "\t<tr><td>4   </td><td>1.35</td><td>1.27</td><td>0.08</td></tr>\n",
       "\t<tr><td>5   </td><td>1.22</td><td>1.12</td><td>0.10</td></tr>\n",
       "\t<tr><td>6   </td><td>1.75</td><td>1.64</td><td>0.11</td></tr>\n",
       "</tbody>\n",
       "</table>\n"
      ],
      "text/latex": [
       "\\begin{tabular}{r|llll}\n",
       " swimmer.number & wet.suit.velocity & swim.suit.velocity & velocity.diff\\\\\n",
       "\\hline\n",
       "\t 1    & 1.57 & 1.49 & 0.08\\\\\n",
       "\t 2    & 1.47 & 1.37 & 0.10\\\\\n",
       "\t 3    & 1.42 & 1.35 & 0.07\\\\\n",
       "\t 4    & 1.35 & 1.27 & 0.08\\\\\n",
       "\t 5    & 1.22 & 1.12 & 0.10\\\\\n",
       "\t 6    & 1.75 & 1.64 & 0.11\\\\\n",
       "\\end{tabular}\n"
      ],
      "text/markdown": [
       "\n",
       "swimmer.number | wet.suit.velocity | swim.suit.velocity | velocity.diff | \n",
       "|---|---|---|---|---|---|\n",
       "| 1    | 1.57 | 1.49 | 0.08 | \n",
       "| 2    | 1.47 | 1.37 | 0.10 | \n",
       "| 3    | 1.42 | 1.35 | 0.07 | \n",
       "| 4    | 1.35 | 1.27 | 0.08 | \n",
       "| 5    | 1.22 | 1.12 | 0.10 | \n",
       "| 6    | 1.75 | 1.64 | 0.11 | \n",
       "\n",
       "\n"
      ],
      "text/plain": [
       "  swimmer.number wet.suit.velocity swim.suit.velocity velocity.diff\n",
       "1 1              1.57              1.49               0.08         \n",
       "2 2              1.47              1.37               0.10         \n",
       "3 3              1.42              1.35               0.07         \n",
       "4 4              1.35              1.27               0.08         \n",
       "5 5              1.22              1.12               0.10         \n",
       "6 6              1.75              1.64               0.11         "
      ]
     },
     "metadata": {},
     "output_type": "display_data"
    },
    {
     "data": {
      "text/plain": [
       "\n",
       "\tOne Sample t-test\n",
       "\n",
       "data:  swim$velocity.diff\n",
       "t = 12.318, df = 11, p-value = 8.885e-08\n",
       "alternative hypothesis: true mean is not equal to 0\n",
       "95 percent confidence interval:\n",
       " 0.06365244 0.09134756\n",
       "sample estimates:\n",
       "mean of x \n",
       "   0.0775 \n"
      ]
     },
     "metadata": {},
     "output_type": "display_data"
    },
    {
     "data": {
      "text/plain": [
       "\n",
       "\tOne Sample t-test\n",
       "\n",
       "data:  velocity.diff\n",
       "t = 12.318, df = 11, p-value = 8.885e-08\n",
       "alternative hypothesis: true mean is not equal to 0\n",
       "95 percent confidence interval:\n",
       " 0.06365244 0.09134756\n",
       "sample estimates:\n",
       "mean of x \n",
       "   0.0775 \n"
      ]
     },
     "metadata": {},
     "output_type": "display_data"
    }
   ],
   "source": [
    "require(dplyr)\n",
    "require(tidyr)\n",
    "#calculate the differences\n",
    "swim = swim %>% \n",
    "    mutate(velocity.diff = wet.suit.velocity - swim.suit.velocity)\n",
    "head(swim)\n",
    "\n",
    "#use same syntax as for one-sample t-test\n",
    "t.test(swim$velocity.diff, mu = 0, alternative = \"two.sided\")\n",
    "\n",
    "#alternatively\n",
    "require(mosaic)\n",
    "t.test(~velocity.diff, data=swim)"
   ]
  },
  {
   "cell_type": "markdown",
   "metadata": {},
   "source": [
    "Note: `t.test(x, y, paired = TRUE)` returns results based on the differences `x - y`."
   ]
  },
  {
   "cell_type": "markdown",
   "metadata": {},
   "source": [
    "----\n",
    "#### <span style=\"color:darkblue\"> B.  The $t$-test for two independent groups\n"
   ]
  },
  {
   "cell_type": "markdown",
   "metadata": {},
   "source": [
    "#### Example: FAMuSS study comparing ndrm.ch by sex\n",
    "\n",
    "The *FAMuSS* study examined the change in arm strength after resistance training. Suppose we are interested in comparing the mean change in muscle strength between males and females.\n",
    "\n",
    "Recall from Unit 1:"
   ]
  },
  {
   "cell_type": "code",
   "execution_count": 12,
   "metadata": {},
   "outputs": [
    {
     "data": {
      "text/html": [
       "<table>\n",
       "<thead><tr><th scope=col>ndrm.ch</th><th scope=col>drm.ch</th><th scope=col>sex</th><th scope=col>age</th><th scope=col>race</th><th scope=col>height</th><th scope=col>weight</th><th scope=col>actn3.r577x</th><th scope=col>bmi</th></tr></thead>\n",
       "<tbody>\n",
       "\t<tr><td> 40      </td><td>40       </td><td>Female   </td><td>27       </td><td>Caucasian</td><td>65.0     </td><td>199      </td><td>CC       </td><td>33.112   </td></tr>\n",
       "\t<tr><td> 25      </td><td> 0       </td><td>Male     </td><td>36       </td><td>Caucasian</td><td>71.7     </td><td>189      </td><td>CT       </td><td>25.845   </td></tr>\n",
       "\t<tr><td> 40      </td><td> 0       </td><td>Female   </td><td>24       </td><td>Caucasian</td><td>65.0     </td><td>134      </td><td>CT       </td><td>22.296   </td></tr>\n",
       "\t<tr><td>125      </td><td> 0       </td><td>Female   </td><td>40       </td><td>Caucasian</td><td>68.0     </td><td>171      </td><td>CT       </td><td>25.998   </td></tr>\n",
       "\t<tr><td> 40      </td><td>20       </td><td>Female   </td><td>32       </td><td>Caucasian</td><td>61.0     </td><td>118      </td><td>CC       </td><td>22.293   </td></tr>\n",
       "\t<tr><td> 75      </td><td> 0       </td><td>Female   </td><td>24       </td><td>Hispanic </td><td>62.2     </td><td>120      </td><td>CT       </td><td>21.805   </td></tr>\n",
       "</tbody>\n",
       "</table>\n"
      ],
      "text/latex": [
       "\\begin{tabular}{r|lllllllll}\n",
       " ndrm.ch & drm.ch & sex & age & race & height & weight & actn3.r577x & bmi\\\\\n",
       "\\hline\n",
       "\t  40       & 40        & Female    & 27        & Caucasian & 65.0      & 199       & CC        & 33.112   \\\\\n",
       "\t  25       &  0        & Male      & 36        & Caucasian & 71.7      & 189       & CT        & 25.845   \\\\\n",
       "\t  40       &  0        & Female    & 24        & Caucasian & 65.0      & 134       & CT        & 22.296   \\\\\n",
       "\t 125       &  0        & Female    & 40        & Caucasian & 68.0      & 171       & CT        & 25.998   \\\\\n",
       "\t  40       & 20        & Female    & 32        & Caucasian & 61.0      & 118       & CC        & 22.293   \\\\\n",
       "\t  75       &  0        & Female    & 24        & Hispanic  & 62.2      & 120       & CT        & 21.805   \\\\\n",
       "\\end{tabular}\n"
      ],
      "text/markdown": [
       "\n",
       "ndrm.ch | drm.ch | sex | age | race | height | weight | actn3.r577x | bmi | \n",
       "|---|---|---|---|---|---|\n",
       "|  40       | 40        | Female    | 27        | Caucasian | 65.0      | 199       | CC        | 33.112    | \n",
       "|  25       |  0        | Male      | 36        | Caucasian | 71.7      | 189       | CT        | 25.845    | \n",
       "|  40       |  0        | Female    | 24        | Caucasian | 65.0      | 134       | CT        | 22.296    | \n",
       "| 125       |  0        | Female    | 40        | Caucasian | 68.0      | 171       | CT        | 25.998    | \n",
       "|  40       | 20        | Female    | 32        | Caucasian | 61.0      | 118       | CC        | 22.293    | \n",
       "|  75       |  0        | Female    | 24        | Hispanic  | 62.2      | 120       | CT        | 21.805    | \n",
       "\n",
       "\n"
      ],
      "text/plain": [
       "  ndrm.ch drm.ch sex    age race      height weight actn3.r577x bmi   \n",
       "1  40     40     Female 27  Caucasian 65.0   199    CC          33.112\n",
       "2  25      0     Male   36  Caucasian 71.7   189    CT          25.845\n",
       "3  40      0     Female 24  Caucasian 65.0   134    CT          22.296\n",
       "4 125      0     Female 40  Caucasian 68.0   171    CT          25.998\n",
       "5  40     20     Female 32  Caucasian 61.0   118    CC          22.293\n",
       "6  75      0     Female 24  Hispanic  62.2   120    CT          21.805"
      ]
     },
     "metadata": {},
     "output_type": "display_data"
    }
   ],
   "source": [
    "require(oibiostat)\n",
    "data(famuss) \n",
    "head(famuss)"
   ]
  },
  {
   "cell_type": "code",
   "execution_count": 13,
   "metadata": {},
   "outputs": [
    {
     "data": {},
     "metadata": {},
     "output_type": "display_data"
    },
    {
     "data": {
      "image/png": "[encoded data removed]",
      "text/plain": [
       "plot without title"
      ]
     },
     "metadata": {},
     "output_type": "display_data"
    }
   ],
   "source": [
    "library(repr)\n",
    "options(repr.plot.width=5, repr.plot.height=3)\n",
    "\n",
    "require(ggplot2)\n",
    "ggplot(data=famuss, aes(x=sex,y=ndrm.ch)) + geom_boxplot()"
   ]
  },
  {
   "cell_type": "markdown",
   "metadata": {},
   "source": [
    "#### The independent two-group $t$-test\n",
    "\n",
    "The null and alternative hypotheses are\n",
    "\n",
    "  - $H_0: \\mu_F = \\mu_M$, the population mean change in arm strength for women is the same as the population mean change in arm strength for men\n",
    "\n",
    "    - Equivalently, $H_0:\\mu_F - \\mu_M = 0$\n",
    "\n",
    "  - $H_A: \\mu_F \\neq \\mu_M$, the population mean change in arm strength for women is different from the population mean change in arm strength for men\n",
    "\n",
    "For two-group tests, the focus is usually on testing the null hypothesis $H_0: \\mu_1 = \\mu_2$, i.e., $H_0: \\Delta = \\mu_1 - \\mu_2 = 0$. \n",
    "\n",
    "The $t$-statistic is:\n",
    "\n",
    "$$t =\\dfrac{ (\\overline{x}_{1} - \\overline{x}_{2})- (\\mu_1 - \\mu_2)}\n",
    "  {\\sqrt{\\dfrac{s_1^2}{n_1} + \\dfrac{s_2^2}{n_2}}} $$\n",
    "\n",
    "The $p$-value is calculated as usual, but the degrees of freedom for this statistic are different than for the paired data setting...\n",
    "\n",
    "#### Degrees of freedom for the independent two-group $t$ test\n",
    "\n",
    "The following equation provides a better approximation:\n",
    "\n",
    "$$\\nu = \\dfrac{\\left[(s_1^2/n_1) + (s_2^2/n_2)\\right]^2}{\\left[(s_1^2/n_1)^2/(n_1 - 1) + (s_2^2/n_2)^2/(n_2 - 1)\\right]}$$\n",
    "\n",
    "We will let R do the computation involved. \n",
    "\n",
    "When doing the test by hand, the following approximation can be used:\n",
    "  \n",
    "-  $df = \\min(n_1-1, n_2-1)$"
   ]
  },
  {
   "cell_type": "code",
   "execution_count": 14,
   "metadata": {},
   "outputs": [
    {
     "data": {
      "text/plain": [
       "\n",
       "\tWelch Two Sample t-test\n",
       "\n",
       "data:  ndrm.ch by sex\n",
       "t = 10.073, df = 574.01, p-value < 2.2e-16\n",
       "alternative hypothesis: true difference in means is not equal to 0\n",
       "95 percent confidence interval:\n",
       " 19.07240 28.31175\n",
       "sample estimates:\n",
       "mean in group Female   mean in group Male \n",
       "            62.92720             39.23512 \n"
      ]
     },
     "metadata": {},
     "output_type": "display_data"
    }
   ],
   "source": [
    "t.test(ndrm.ch~sex,data=famuss) "
   ]
  },
  {
   "cell_type": "markdown",
   "metadata": {},
   "source": [
    "$H_0$ will be rejected whenever the $t$-statistic is in the tail of appropriate  $t$-distribution\n",
    "\n",
    "$$ t < -t_{\\text{df}}^{\\star} \\text{ or } t > t_{\\text{df}}^{\\star},$$\n",
    "\n",
    "or equivalently,\n",
    "\n",
    "$$ |t| > t_{\\text{df}}^{\\star}, $$\n",
    "\n",
    "where $t_{\\text{df}}^{\\star}$ is the point on the $t$-distribution with $\\alpha/2$ area to its right.\n"
   ]
  },
  {
   "cell_type": "markdown",
   "metadata": {},
   "source": [
    "----\n",
    "#### <span style=\"color:darkblue\"> C. The interpretation of a $t$-test and multiple testing\n",
    "\t\n",
    "In this unit we cover comparison of two means. To compare more than two means, we can use ANOVA (will see this in stat242!)\n",
    "\n",
    "Hypothesis testing was originally intended for use in either controlled experiments or studies with a small number of comparisons, such as ANOVA.\n",
    "\t\n",
    "\n",
    "#### Outcomes and errors in testing   \n",
    "\n",
    "| **True state of nature**|  |**Result of test**  |\n",
    "|:-|-------------:|:-:| \n",
    "|   | Reject null | Fail to reject Null\n",
    "|Null Hypothesis is true: |  Type I error ($\\alpha$) | no error |\n",
    "|Alternative Hypothesis is true: | no error | Type II error|\n"
   ]
  },
  {
   "cell_type": "markdown",
   "metadata": {},
   "source": [
    "Making a Type I error, rejecting $H_0$ when $H_0$ is true, occurs with probability $\\alpha$.\n",
    "\t\n",
    "- Type I error rate is controlled by rejecting only when the $p$-value of a test is smaller than $\\alpha$.\n",
    "\t\t\n",
    "- $\\alpha$ is typically kept low.\n",
    "\t\t\n",
    "- With a single two-group comparison at $\\alpha = 0.05$, there is a 5% chance of incorrectly identifying an association where none actually exists.\n",
    "\n",
    "#### What about many tests?\n",
    "\t\n",
    "What happens to Type I error when making several comparisons?\n",
    "\t\n",
    "When conducting more than one $t$-test in a data analysis... \n",
    "\t\n",
    "- The significance level ($\\alpha$) used in each test controls the error rate for that test.\n",
    "\t\t\n",
    "- The <span style=\"color:orange\">experiment-wise error rate<span style=\"color:black\"> is the chance that at least one test will incorrectly reject $H_0$ when all tested null hypotheses are true.\n",
    "\t\t\n",
    "A scenario in which two tests are conducted is the simplest example to start with.\t\n",
    "\t\t\n",
    "#### Experiment-wise error, two $t$-tests\n",
    "\t\n",
    "Suppose a scientist is using two $t$-tests to examine the possible association of each of two genes with a disease type.\n",
    "\t\n",
    "Let \n",
    "\t\n",
    "- $A_1$ = event that the first test rejects the null hypothesis that the first gene is not associated with disease type.\n",
    "\t\t\n",
    "- $A_2$ = event that the second test rejects the null hypothesis that the second gene is not associated with disease type.\n",
    "\t\n",
    "The experiment-wise error is the probability of rejecting at least one null hypothesis when both null hypotheses are true.\n",
    "\n",
    "#### Probability of experiment-wise error\n",
    "\t\n",
    "The experiment-wise error for this analysis is the probability that at least one of the two tests rejects its null hypothesis, when both null hypotheses are true.  In this case:\n",
    "\t\n",
    "$$P(A_1 \\text{ or } A_2) = P(A_1) + P(A_2) - P(A_1 \\text{ and } A_2) $$\n",
    "\n",
    "If the two tests never reject at the same time, so that $P(A \\text{ and } B) = 0$, the experiment-wise error probability will be 0.10 since $P(A_1) = P(A_2) = 0.05$.\n",
    "    \n",
    "Of course, there is almost always some overlap, so that\n",
    "$$ P(A_1 \\text{ and } A_2) \\neq \\emptyset. $$\n",
    "\n",
    "That happens when, for instance, two genes have the same association with disease type. \n",
    "\n",
    "#### Simulating experiment-wise error\n",
    "\n",
    "A simulation approach can be used to approximate experiment-wise error when the $\\alpha$ for an individual test is a certain value.\n",
    " \n",
    "Simulation: draw repeated random samples from simulated expression data where there is no association between expression levels and disease type; i.e., under the setting of the null hypothesis.\n",
    "  \n",
    "  - Conduct a hypothesis test from each sample at $\\alpha = 0.05$. How many (erroneously) identify a significant association?\n",
    "   \n",
    "    - With 2 tests, experiment-wise error = 0.09 \n",
    "    \n",
    "    - With 10 tests, experiment-wise error = 0.33\n",
    "      \n",
    "    - With 25 tests, experiment-wise error = 0.60\n",
    "    \n",
    "    - With 100 tests, experiment-wise error = 0.93\n",
    "      \n",
    "  - With 100 tests, 93% of the time, an investigator would identify at least one gene as significantly associated, when *none* are actually associated.\n",
    "\n",
    "\n",
    "For 100 tests, what significance level for the individual tests will result in an experiment-wise error of approximately 0.05?\n",
    "\n",
    "  - According to the simulation, $\\alpha^{\\star} = 0.001$.\n",
    "  \n",
    "  - This approach to correcting the significance level for individual comparisons is more appropriate for correlated data than the Bonferroni method.\n"
   ]
  }
 ],
 "metadata": {
  "kernelspec": {
   "display_name": "R",
   "language": "R",
   "name": "ir"
  },
  "language_info": {
   "codemirror_mode": "r",
   "file_extension": ".r",
   "mimetype": "text/x-r-source",
   "name": "R",
   "pygments_lexer": "r",
   "version": "3.4.3"
  }
 },
 "nbformat": 4,
 "nbformat_minor": 2
}
