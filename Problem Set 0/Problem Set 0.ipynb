{
 "cells": [
  {
   "cell_type": "markdown",
   "metadata": {},
   "source": [
    "## <span style=\"color:darkblue\"> Problem Set 0: Introduction to R/Jupyter\n",
    "\n",
    "Stat140-02: Introduction to the Ideas and Applications of Statistics \n",
    "\n",
    "Due: Friday, Feb 2 @11am"
   ]
  },
  {
   "cell_type": "markdown",
   "metadata": {},
   "source": [
    "# Welcome to Jupyter!"
   ]
  },
  {
   "cell_type": "markdown",
   "metadata": {},
   "source": [
    "Notebooks consist of a **linear sequence of cells**. There are two basic cell types we will be using:\n",
    "\n",
    "* **Code cells:** Input and output of live code that is run in the kernel\n",
    "* **Markdown cells:** Narrative text with embedded LaTeX equations\n",
    "\n",
    "To create a new cell, select a cell and then press the `+` button on the top panel of this page. By default, the new cell will be a code cell and will appear below the currently selected cell. Note that one way we can select a cell by clicking it with our mouse. We know that it is selected when there is a blue (or green) vertical line to the left of it.\n",
    "- To **change the type of cell** from a code cell to a markdown cell (or vice versa), make sure the cell is selected, and use the drop down menu on the top panel. \n",
    "- To **move a cell** up or down, use the `arrow` buttons on the top panel."
   ]
  },
  {
   "cell_type": "markdown",
   "metadata": {},
   "source": [
    "---\n",
    "<span style=\"color:darkblue\"> **Problem 1**: Create a markdown cell below this cell."
   ]
  },
  {
   "cell_type": "markdown",
   "metadata": {},
   "source": [
    "---\n",
    "Note: \n",
    "* you can **delete** a cell by putting your cursor in the cell and using the `scissors` button on the top panel.\n",
    "* To **undelete** a cell, select `Undo Delete Cell` in the Edit dropdown menu."
   ]
  },
  {
   "cell_type": "markdown",
   "metadata": {},
   "source": [
    "Now let's create a markdown cell and **add formatted text** to it.  To do this, create a new markdown cell, click on the inside of the cell to put our cursor in the cell, and then just start typing. We can format the text in the cell using *markdown syntax*.  Here's a link to some useful information on markdown:\n",
    "\n",
    "http://nbviewer.jupyter.org/github/jupyter/notebook/blob/master/docs/source/examples/Notebook/Working%20With%20Markdown%20Cells.ipynb\n"
   ]
  },
  {
   "cell_type": "markdown",
   "metadata": {},
   "source": [
    "To see the formatted cell, you simply keep your cursor in the cell, and click on the `Run` button on the top panel."
   ]
  },
  {
   "cell_type": "markdown",
   "metadata": {},
   "source": [
    "---\n",
    "<span style=\"color:darkblue\"> **Problem 2**: Create a markdown cell below this cell that includes the follwing:\n",
    "- a few sentences about yourself\n",
    "- your name as a heading\n",
    "- a list of your favorite classes as Mount Holyoke\n",
    "\n",
    "Run the cell so that it is formatted correctly.\n",
    "\n",
    "(use the link above to learn how to make headings and a list)"
   ]
  },
  {
   "cell_type": "markdown",
   "metadata": {},
   "source": [
    "---\n",
    "Note: in general, it's good practice to:\n",
    "- include small amounts of text or code within a single cell. \n",
    "- alterantive betweewn text and code cells.  \n",
    "\n",
    "Code cells are also refereed to as **code chunks**."
   ]
  },
  {
   "cell_type": "markdown",
   "metadata": {},
   "source": [
    "Now let's create a code cell.  To do this, simply add another cell using the `+` button again. This notebook is an `R` notebook, which means that by default we will be able to run R code in all code cells.  Other types of notebooks include Julia and Python notebooks.  \n",
    "\n",
    "R is a powerful statistical programming language for reading, manipulating, analyzing and visualizing data. But it can also be used as a simple calculator!  For example, in the following code cell, we will calculate 2 + 2 by simply typing `2+2`."
   ]
  },
  {
   "cell_type": "code",
   "execution_count": null,
   "metadata": {},
   "outputs": [],
   "source": [
    "2+2"
   ]
  },
  {
   "cell_type": "markdown",
   "metadata": {},
   "source": [
    " In order to see the result, we put our cursor in the cell and run the cell using the `Run` button in the top panel. Try it!"
   ]
  },
  {
   "cell_type": "markdown",
   "metadata": {},
   "source": [
    "---\n",
    "<span style=\"color:darkblue\"> **Problem 3**: Create a code cell and calculate the average high temperature over the past 5 days. Assume the daily highs were: 27, 32, 45, 44 and 12. Here you can use `+`, `-`, `*` and `/` for addition, subtraction, multiplication and division, respectively.  Also, remember if you are going to divide a sum of numbers, then you want to use `()`'s around the sum."
   ]
  },
  {
   "cell_type": "markdown",
   "metadata": {},
   "source": [
    "---\n",
    "Finally, let's look at some data! For the duration of this course, we will be using the R package `oibiostat` that is associated with the text. In order to use an R package, we first need to **load the package** using the function `require()` with the name of the package in parenthesis: "
   ]
  },
  {
   "cell_type": "code",
   "execution_count": 5,
   "metadata": {},
   "outputs": [
    {
     "name": "stderr",
     "output_type": "stream",
     "text": [
      "Loading required package: oibiostat\n"
     ]
    }
   ],
   "source": [
    "require(oibiostat)"
   ]
  },
  {
   "cell_type": "markdown",
   "metadata": {},
   "source": [
    "<span style=\"color:red\">  *Important Note: runing the require() function needs to be repeated every time you open a notebook*!"
   ]
  },
  {
   "cell_type": "markdown",
   "metadata": {},
   "source": [
    "Now we can look at a data set that is included in this R package.  Let's look at the **discrimination in developmental disability support** data that are described in Section 1.7.1 of your text.  The name of the data set is `dds.discr`.  We start by **loading the data** using the `data()` function, and then **printing** the first six rows of the data using the `head()` function:"
   ]
  },
  {
   "cell_type": "code",
   "execution_count": 8,
   "metadata": {},
   "outputs": [
    {
     "data": {
      "text/html": [
       "<table>\n",
       "<thead><tr><th scope=col>id</th><th scope=col>age.cohort</th><th scope=col>age</th><th scope=col>gender</th><th scope=col>expenditures</th><th scope=col>ethnicity</th></tr></thead>\n",
       "<tbody>\n",
       "\t<tr><td>10210             </td><td>13-17             </td><td>17                </td><td>Female            </td><td> 2113             </td><td>White not Hispanic</td></tr>\n",
       "\t<tr><td>10409             </td><td>22-50             </td><td>37                </td><td>Male              </td><td>41924             </td><td>White not Hispanic</td></tr>\n",
       "\t<tr><td>10486             </td><td>0-5               </td><td> 3                </td><td>Male              </td><td> 1454             </td><td>Hispanic          </td></tr>\n",
       "\t<tr><td>10538             </td><td>18-21             </td><td>19                </td><td>Female            </td><td> 6400             </td><td>Hispanic          </td></tr>\n",
       "\t<tr><td>10568             </td><td>13-17             </td><td>13                </td><td>Male              </td><td> 4412             </td><td>White not Hispanic</td></tr>\n",
       "\t<tr><td>10690             </td><td>13-17             </td><td>15                </td><td>Female            </td><td> 4566             </td><td>Hispanic          </td></tr>\n",
       "</tbody>\n",
       "</table>\n"
      ],
      "text/latex": [
       "\\begin{tabular}{r|llllll}\n",
       " id & age.cohort & age & gender & expenditures & ethnicity\\\\\n",
       "\\hline\n",
       "\t 10210              & 13-17              & 17                 & Female             &  2113              & White not Hispanic\\\\\n",
       "\t 10409              & 22-50              & 37                 & Male               & 41924              & White not Hispanic\\\\\n",
       "\t 10486              & 0-5                &  3                 & Male               &  1454              & Hispanic          \\\\\n",
       "\t 10538              & 18-21              & 19                 & Female             &  6400              & Hispanic          \\\\\n",
       "\t 10568              & 13-17              & 13                 & Male               &  4412              & White not Hispanic\\\\\n",
       "\t 10690              & 13-17              & 15                 & Female             &  4566              & Hispanic          \\\\\n",
       "\\end{tabular}\n"
      ],
      "text/markdown": [
       "\n",
       "id | age.cohort | age | gender | expenditures | ethnicity | \n",
       "|---|---|---|---|---|---|\n",
       "| 10210              | 13-17              | 17                 | Female             |  2113              | White not Hispanic | \n",
       "| 10409              | 22-50              | 37                 | Male               | 41924              | White not Hispanic | \n",
       "| 10486              | 0-5                |  3                 | Male               |  1454              | Hispanic           | \n",
       "| 10538              | 18-21              | 19                 | Female             |  6400              | Hispanic           | \n",
       "| 10568              | 13-17              | 13                 | Male               |  4412              | White not Hispanic | \n",
       "| 10690              | 13-17              | 15                 | Female             |  4566              | Hispanic           | \n",
       "\n",
       "\n"
      ],
      "text/plain": [
       "  id    age.cohort age gender expenditures ethnicity         \n",
       "1 10210 13-17      17  Female  2113        White not Hispanic\n",
       "2 10409 22-50      37  Male   41924        White not Hispanic\n",
       "3 10486 0-5         3  Male    1454        Hispanic          \n",
       "4 10538 18-21      19  Female  6400        Hispanic          \n",
       "5 10568 13-17      13  Male    4412        White not Hispanic\n",
       "6 10690 13-17      15  Female  4566        Hispanic          "
      ]
     },
     "metadata": {},
     "output_type": "display_data"
    }
   ],
   "source": [
    "data(dds.discr)\n",
    "head(dds.discr)"
   ]
  },
  {
   "cell_type": "markdown",
   "metadata": {},
   "source": [
    "This data set includes information on a **sample** of 1000 individuals who received funds from the California department of developmental services. "
   ]
  },
  {
   "cell_type": "markdown",
   "metadata": {},
   "source": [
    "---\n",
    "<span style=\"color:darkblue\"> **Problem 4**: The National Health and Nutrition Examination Survey (NHANES) is study designed to evaluate the health and nutritional status of adults and children in the United States through a series of surveys and physical examinations. A sample of these data for 200 individuals is available in the data set entitled `nhanes.samp'. \n",
    "    \n",
    "<span style=\"color:darkblue\"> Create a code cell below and then load and print the first six rows of these data using the `data()` and `head()` functions.  \n",
    "    \n",
    "*Note in the output that you can not see all of the variables as there is a `...` in the middle.*"
   ]
  },
  {
   "cell_type": "markdown",
   "metadata": {},
   "source": [
    "---\n",
    "Next week we will start sumarizing data numerically and graphically! "
   ]
  }
 ],
 "metadata": {
  "kernelspec": {
   "display_name": "R",
   "language": "R",
   "name": "ir"
  },
  "language_info": {
   "codemirror_mode": "r",
   "file_extension": ".r",
   "mimetype": "text/x-r-source",
   "name": "R",
   "pygments_lexer": "r",
   "version": "3.4.3"
  }
 },
 "nbformat": 4,
 "nbformat_minor": 2
}
