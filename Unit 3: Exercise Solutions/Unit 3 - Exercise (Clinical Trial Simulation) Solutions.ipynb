{
 "cells": [
  {
   "cell_type": "markdown",
   "metadata": {},
   "source": [
    "### Unit 3 - In-class exercise\n",
    "\n",
    "#### Clinical Trial Simulation\n",
    "\n",
    "Suppose that a clinical trial to test a new drug will be conducted on 8 patients, in which the probability of a good response to the drug is thought to be 0.15. The following code tabulates and graphs the distribution of the number of good responses based on 1,000 replicates of the trial for 8 patients."
   ]
  },
  {
   "cell_type": "code",
   "execution_count": 9,
   "metadata": {},
   "outputs": [
    {
     "data": {
      "text/html": [
       "<table>\n",
       "<thead><tr><th scope=col>response.counts</th><th scope=col>n</th></tr></thead>\n",
       "<tbody>\n",
       "\t<tr><td>0  </td><td>264</td></tr>\n",
       "\t<tr><td>1  </td><td>410</td></tr>\n",
       "\t<tr><td>2  </td><td>247</td></tr>\n",
       "\t<tr><td>3  </td><td> 66</td></tr>\n",
       "\t<tr><td>4  </td><td> 12</td></tr>\n",
       "\t<tr><td>5  </td><td>  1</td></tr>\n",
       "</tbody>\n",
       "</table>\n"
      ],
      "text/latex": [
       "\\begin{tabular}{r|ll}\n",
       " response.counts & n\\\\\n",
       "\\hline\n",
       "\t 0   & 264\\\\\n",
       "\t 1   & 410\\\\\n",
       "\t 2   & 247\\\\\n",
       "\t 3   &  66\\\\\n",
       "\t 4   &  12\\\\\n",
       "\t 5   &   1\\\\\n",
       "\\end{tabular}\n"
      ],
      "text/markdown": [
       "\n",
       "response.counts | n | \n",
       "|---|---|---|---|---|---|\n",
       "| 0   | 264 | \n",
       "| 1   | 410 | \n",
       "| 2   | 247 | \n",
       "| 3   |  66 | \n",
       "| 4   |  12 | \n",
       "| 5   |   1 | \n",
       "\n",
       "\n"
      ],
      "text/plain": [
       "  response.counts n  \n",
       "1 0               264\n",
       "2 1               410\n",
       "3 2               247\n",
       "4 3                66\n",
       "5 4                12\n",
       "6 5                 1"
      ]
     },
     "metadata": {},
     "output_type": "display_data"
    },
    {
     "data": {},
     "metadata": {},
     "output_type": "display_data"
    },
    {
     "data": {
      "image/png": "[encoded data removed]",
      "text/plain": [
       "plot without title"
      ]
     },
     "metadata": {},
     "output_type": "display_data"
    }
   ],
   "source": [
    "#load necessary packaages\n",
    "require(mosaic)\n",
    "require(dplyr)\n",
    "require(ggplot2)\n",
    "\n",
    "#set the parameters\n",
    "number.patients = 8\n",
    "response.prob = 0.15\n",
    "number.replicates = 1000\n",
    "\n",
    "#set the seed\n",
    "set.seed(2018)\n",
    "\n",
    "#run the simulation\n",
    "number.responses.replicate <- do(number.replicates)*{\n",
    "    number.responses = sample(c(0,1), size = number.patients, replace = TRUE,\n",
    "             prob = c(1 - response.prob, response.prob))\n",
    "    data.frame(response.counts=sum(number.responses))\n",
    "}\n",
    "\n",
    "#create a table of response counts\n",
    "number.responses.replicate %>%\n",
    "    count(response.counts)\n",
    "\n",
    "#plot the response counts\n",
    "ggplot(data=number.responses.replicate,aes(response.counts)) +\n",
    "    geom_bar(alpha=.4)"
   ]
  },
  {
   "cell_type": "markdown",
   "metadata": {},
   "source": [
    "a) Run the code. From the barplot, describe the distribution."
   ]
  },
  {
   "cell_type": "markdown",
   "metadata": {},
   "source": [
    "**Solution:**\n",
    "\n",
    "The distribution is right-skewed; there are very few replicates where more than 3 patients respond well to the drug. In most of the replicates, 1 patient out of 8 responds well."
   ]
  },
  {
   "cell_type": "markdown",
   "metadata": {},
   "source": [
    "b) Based on the results of the simulation, estimate the probability that 0 patients respond well to the new drug."
   ]
  },
  {
   "cell_type": "markdown",
   "metadata": {},
   "source": [
    "#### Solution:\n",
    "\n",
    "The probability that 0 patients respond well is $264/1000 = 0.264$.\n"
   ]
  },
  {
   "cell_type": "markdown",
   "metadata": {},
   "source": [
    "c) Based on the results of the simulation, construct a probability distribution for the random variable $X$, the number of patients who respond well to the experimental drug."
   ]
  },
  {
   "cell_type": "markdown",
   "metadata": {},
   "source": [
    "#### Solution:"
   ]
  },
  {
   "cell_type": "code",
   "execution_count": 16,
   "metadata": {},
   "outputs": [
    {
     "data": {
      "text/html": [
       "<table>\n",
       "<thead><tr><th scope=col>response.counts</th><th scope=col>n</th><th scope=col>freq</th></tr></thead>\n",
       "<tbody>\n",
       "\t<tr><td>0    </td><td>264  </td><td>0.264</td></tr>\n",
       "\t<tr><td>1    </td><td>410  </td><td>0.410</td></tr>\n",
       "\t<tr><td>2    </td><td>247  </td><td>0.247</td></tr>\n",
       "\t<tr><td>3    </td><td> 66  </td><td>0.066</td></tr>\n",
       "\t<tr><td>4    </td><td> 12  </td><td>0.012</td></tr>\n",
       "\t<tr><td>5    </td><td>  1  </td><td>0.001</td></tr>\n",
       "</tbody>\n",
       "</table>\n"
      ],
      "text/latex": [
       "\\begin{tabular}{r|lll}\n",
       " response.counts & n & freq\\\\\n",
       "\\hline\n",
       "\t 0     & 264   & 0.264\\\\\n",
       "\t 1     & 410   & 0.410\\\\\n",
       "\t 2     & 247   & 0.247\\\\\n",
       "\t 3     &  66   & 0.066\\\\\n",
       "\t 4     &  12   & 0.012\\\\\n",
       "\t 5     &   1   & 0.001\\\\\n",
       "\\end{tabular}\n"
      ],
      "text/markdown": [
       "\n",
       "response.counts | n | freq | \n",
       "|---|---|---|---|---|---|\n",
       "| 0     | 264   | 0.264 | \n",
       "| 1     | 410   | 0.410 | \n",
       "| 2     | 247   | 0.247 | \n",
       "| 3     |  66   | 0.066 | \n",
       "| 4     |  12   | 0.012 | \n",
       "| 5     |   1   | 0.001 | \n",
       "\n",
       "\n"
      ],
      "text/plain": [
       "  response.counts n   freq \n",
       "1 0               264 0.264\n",
       "2 1               410 0.410\n",
       "3 2               247 0.247\n",
       "4 3                66 0.066\n",
       "5 4                12 0.012\n",
       "6 5                 1 0.001"
      ]
     },
     "metadata": {},
     "output_type": "display_data"
    }
   ],
   "source": [
    "number.responses.replicate %>%\n",
    "  group_by(response.counts) %>%\n",
    "  summarise (n = n()) %>%\n",
    "  mutate(freq = n / sum(n))"
   ]
  },
  {
   "cell_type": "markdown",
   "metadata": {},
   "source": [
    "|||||||||||||\n",
    "|:---:|-|-|-|-|-|-|-|-|-|-|-|\n",
    "|$x_i$ | 0 |  1 |  2 |  3 |  4 |  5 |  6 |  7 |  8 |  Total | \n",
    "|$P(X = x_i)$ |  0.264 |  0.410 |  0.247 |  0.066 |  0.012 |  0.001 |  0 |  0 |  0 |  = 1.00| \n"
   ]
  },
  {
   "cell_type": "markdown",
   "metadata": {},
   "source": [
    "d) What value(s) for response probability would produce a left-skewed distribution? what value(s) would produce a symmetric distribution?\n"
   ]
  },
  {
   "cell_type": "markdown",
   "metadata": {},
   "source": [
    "#### Solution:\n",
    "\n",
    "Consider the following two examples in which we change the response probabilities to 0.85 and 0.80."
   ]
  },
  {
   "cell_type": "code",
   "execution_count": 17,
   "metadata": {},
   "outputs": [
    {
     "data": {
      "text/html": [
       "<table>\n",
       "<thead><tr><th scope=col>response.counts</th><th scope=col>n</th></tr></thead>\n",
       "<tbody>\n",
       "\t<tr><td>3  </td><td>  1</td></tr>\n",
       "\t<tr><td>4  </td><td> 12</td></tr>\n",
       "\t<tr><td>5  </td><td> 66</td></tr>\n",
       "\t<tr><td>6  </td><td>247</td></tr>\n",
       "\t<tr><td>7  </td><td>410</td></tr>\n",
       "\t<tr><td>8  </td><td>264</td></tr>\n",
       "</tbody>\n",
       "</table>\n"
      ],
      "text/latex": [
       "\\begin{tabular}{r|ll}\n",
       " response.counts & n\\\\\n",
       "\\hline\n",
       "\t 3   &   1\\\\\n",
       "\t 4   &  12\\\\\n",
       "\t 5   &  66\\\\\n",
       "\t 6   & 247\\\\\n",
       "\t 7   & 410\\\\\n",
       "\t 8   & 264\\\\\n",
       "\\end{tabular}\n"
      ],
      "text/markdown": [
       "\n",
       "response.counts | n | \n",
       "|---|---|---|---|---|---|\n",
       "| 3   |   1 | \n",
       "| 4   |  12 | \n",
       "| 5   |  66 | \n",
       "| 6   | 247 | \n",
       "| 7   | 410 | \n",
       "| 8   | 264 | \n",
       "\n",
       "\n"
      ],
      "text/plain": [
       "  response.counts n  \n",
       "1 3                 1\n",
       "2 4                12\n",
       "3 5                66\n",
       "4 6               247\n",
       "5 7               410\n",
       "6 8               264"
      ]
     },
     "metadata": {},
     "output_type": "display_data"
    },
    {
     "data": {},
     "metadata": {},
     "output_type": "display_data"
    },
    {
     "data": {
      "image/png": "[encoded data removed]",
      "text/plain": [
       "plot without title"
      ]
     },
     "metadata": {},
     "output_type": "display_data"
    }
   ],
   "source": [
    "#set the parameters\n",
    "number.patients = 8\n",
    "response.prob = 0.85\n",
    "number.replicates = 1000\n",
    "\n",
    "#set the seed\n",
    "set.seed(2018)\n",
    "\n",
    "#run the simulation\n",
    "number.responses.replicate <- do(number.replicates)*{\n",
    "    number.responses = sample(c(0,1), size = number.patients, replace = TRUE,\n",
    "             prob = c(1 - response.prob, response.prob))\n",
    "    data.frame(response.counts=sum(number.responses))\n",
    "}\n",
    "\n",
    "#create a table of response counts\n",
    "number.responses.replicate %>%\n",
    "    count(response.counts)\n",
    "\n",
    "#plot the response counts\n",
    "ggplot(data=number.responses.replicate,aes(response.counts)) +\n",
    "    geom_bar(alpha=.4)"
   ]
  },
  {
   "cell_type": "code",
   "execution_count": 18,
   "metadata": {},
   "outputs": [
    {
     "data": {
      "text/html": [
       "<table>\n",
       "<thead><tr><th scope=col>response.counts</th><th scope=col>n</th></tr></thead>\n",
       "<tbody>\n",
       "\t<tr><td>0  </td><td>  2</td></tr>\n",
       "\t<tr><td>1  </td><td> 30</td></tr>\n",
       "\t<tr><td>2  </td><td>100</td></tr>\n",
       "\t<tr><td>3  </td><td>207</td></tr>\n",
       "\t<tr><td>4  </td><td>272</td></tr>\n",
       "\t<tr><td>5  </td><td>234</td></tr>\n",
       "\t<tr><td>6  </td><td>121</td></tr>\n",
       "\t<tr><td>7  </td><td> 30</td></tr>\n",
       "\t<tr><td>8  </td><td>  4</td></tr>\n",
       "</tbody>\n",
       "</table>\n"
      ],
      "text/latex": [
       "\\begin{tabular}{r|ll}\n",
       " response.counts & n\\\\\n",
       "\\hline\n",
       "\t 0   &   2\\\\\n",
       "\t 1   &  30\\\\\n",
       "\t 2   & 100\\\\\n",
       "\t 3   & 207\\\\\n",
       "\t 4   & 272\\\\\n",
       "\t 5   & 234\\\\\n",
       "\t 6   & 121\\\\\n",
       "\t 7   &  30\\\\\n",
       "\t 8   &   4\\\\\n",
       "\\end{tabular}\n"
      ],
      "text/markdown": [
       "\n",
       "response.counts | n | \n",
       "|---|---|---|---|---|---|---|---|---|\n",
       "| 0   |   2 | \n",
       "| 1   |  30 | \n",
       "| 2   | 100 | \n",
       "| 3   | 207 | \n",
       "| 4   | 272 | \n",
       "| 5   | 234 | \n",
       "| 6   | 121 | \n",
       "| 7   |  30 | \n",
       "| 8   |   4 | \n",
       "\n",
       "\n"
      ],
      "text/plain": [
       "  response.counts n  \n",
       "1 0                 2\n",
       "2 1                30\n",
       "3 2               100\n",
       "4 3               207\n",
       "5 4               272\n",
       "6 5               234\n",
       "7 6               121\n",
       "8 7                30\n",
       "9 8                 4"
      ]
     },
     "metadata": {},
     "output_type": "display_data"
    },
    {
     "data": {},
     "metadata": {},
     "output_type": "display_data"
    },
    {
     "data": {
      "image/png": "[encoded data removed]",
      "text/plain": [
       "plot without title"
      ]
     },
     "metadata": {},
     "output_type": "display_data"
    }
   ],
   "source": [
    "#set the parameters\n",
    "number.patients = 8\n",
    "response.prob = 0.50\n",
    "number.replicates = 1000\n",
    "\n",
    "#set the seed\n",
    "set.seed(2018)\n",
    "\n",
    "#run the simulation\n",
    "number.responses.replicate <- do(number.replicates)*{\n",
    "    number.responses = sample(c(0,1), size = number.patients, replace = TRUE,\n",
    "             prob = c(1 - response.prob, response.prob))\n",
    "    data.frame(response.counts=sum(number.responses))\n",
    "}\n",
    "\n",
    "#create a table of response counts\n",
    "number.responses.replicate %>%\n",
    "    count(response.counts)\n",
    "\n",
    "#plot the response counts\n",
    "ggplot(data=number.responses.replicate,aes(response.counts)) +\n",
    "    geom_bar(alpha=.4)"
   ]
  },
  {
   "cell_type": "markdown",
   "metadata": {},
   "source": [
    "A response probability close to 1, such as 0.85, produces a left-skewed distribution; in this case, we would expect almost all of the 8 patients in a trial to respond well to the drug. \n",
    "\n",
    "A response probability near 0.5 produces a symmetric graph. In this case, we would typically expect half the patients out of 8 to respond well to the drug."
   ]
  },
  {
   "cell_type": "markdown",
   "metadata": {},
   "source": [
    "e) Calculate $E(X)$, where $X$ is the number of patients who respond well to the experimental drug."
   ]
  },
  {
   "cell_type": "markdown",
   "metadata": {},
   "source": [
    "#### Solution:\n",
    "\n",
    "  \n",
    "\\begin{align*}\n",
    "E(X) \t&= \\sum_{i=1}^{k}x_iP(X=x_i) \\notag \\\\\n",
    "\t&= (x_1)P(X = x_1) + (x_2)P(X = x_2) + \\cdots + (x_k)P(X = x_k) \\\\\n",
    "\t&= (0)(0.264) + (1)(0.410) + (2)(0.247) + (3)(0.066) \\\\\n",
    "\t& \\qquad + (4)(0.012) + (5)(0.001) + (6)(0) + (7)(0) + (8)(0) \\\\\n",
    "\t&= 1.155\n",
    "\\end{align*}\n"
   ]
  },
  {
   "cell_type": "markdown",
   "metadata": {},
   "source": [
    "f) Calculate $SD(X)$, where $X$ is the number of patients who respond well to the experimental drug. It is sufficient to write the answer in an unsimplified form where only simple arithmetic is necessary to reach the final value."
   ]
  },
  {
   "cell_type": "markdown",
   "metadata": {},
   "source": [
    "#### Solution:\n",
    "\n",
    "\\begin{align*}\n",
    "Var(X) \t&= \\sum_{j=1}^{k} (x_j - \\mu)^2 P(X=x_j) \\\\\n",
    "  &= (x_1-\\mu)^2 P(X=x_1) + \\cdots+ (x_k-\\mu)^2 P(X=x_k) \\\\\n",
    "\t&= (0 - 1.155)^{2}(0.264) + (1 - 1.155)^{2}(0.410) + (2 - 1.155)^{2}(0.247) + (3 - 1.155)^{2}(0.066) \\\\\n",
    "\t  & \\qquad + (4 - 1.155)^{2}(0.012) + (5 - 1.155)^{2}(0.001) + (6 - 1.155)^{2}(0) + (7 - 1.155)^{2}(0) \\\\\n",
    "\t  & \\qquad (8 - 1.155)^{2}(0) \\\\\n",
    "\t&= 0.875\n",
    "\\end{align*}\n",
    "\n",
    "$SD(X) = \\sqrt{Var(X)} = 0.935$."
   ]
  }
 ],
 "metadata": {
  "kernelspec": {
   "display_name": "R",
   "language": "R",
   "name": "ir"
  },
  "language_info": {
   "codemirror_mode": "r",
   "file_extension": ".r",
   "mimetype": "text/x-r-source",
   "name": "R",
   "pygments_lexer": "r",
   "version": "3.4.3"
  }
 },
 "nbformat": 4,
 "nbformat_minor": 2
}
