{
 "cells": [
  {
   "cell_type": "markdown",
   "metadata": {},
   "source": [
    "### Unit 4: Exercise 3 (Hypothesis Testing)\n",
    "\n",
    "**Reading for this exercise**     \n",
    "\n",
    "- *OI Biostat*: Sections 4.3, 4.4\n"
   ]
  },
  {
   "cell_type": "markdown",
   "metadata": {},
   "source": [
    "The previous exercises in Unit 4 discussed how to calculate point estimates and interval estimates for a population mean ($\\mu$) from a sample. In the simulation of repeated sampling from a population with the \\texttt{yrbss} dataset, we have observed that in most cases, estimates of $\\mu$ calculated from samples are fairly accurate. However, it is possible that by random chance, a sample results in an interval estimate that does not contain $\\mu$.\n",
    "\n",
    "What is the likelihood of observing a particular sample mean $\\overline{x}$ if the population average is assumed to be $\\mu$? **Hypothesis testing** is a method for calculating the probability of making a specific observation under a null hypothesis. At the end of this exercise, we will examine the relationship between hypothesis tests and confidence intervals.\n",
    "\n",
    "\n",
    "*Exmple: Do American adults tend to be overweight?*\n",
    "\n",
    "Body mass index (BMI) is an approximate scale used to estimate body fat that adjusts for both height and weight. According to the World Health Organization (WHO), the normal range for BMI is between 18.5 and 24.99. Individuals with BMI of 25 or greater are classified as overweight, while individuals with BMI of 30 or greater are classified as obese.\n",
    "\n",
    "We will investigate this question using data from the National Health and Nutrition Examination Survey (NHANES), a survey conducted annually by the US Centers for Disease Control (CDC). The complete `NHANES` dataset contains 10,000 observations, which will be our artificial target population. BMI information is only available for survey participants that are age 21 or older.\n",
    "\n",
    "There are two possible approaches: \n",
    "\n",
    "- Calculating a confidence interval for the population mean BMI ($\\mu_{BMI}$)\n",
    "\n",
    "- Conducting a formal hypothesis test \n",
    "\n",
    "Run the following code chunk to draw a random sample of size 200 from `NHANES` and select the individuals in the sample that are age 21 or older to be stored in `nhanes.samp.adult`. "
   ]
  },
  {
   "cell_type": "code",
   "execution_count": 8,
   "metadata": {},
   "outputs": [
    {
     "data": {
      "text/html": [
       "<table>\n",
       "<thead><tr><th scope=col>ID</th><th scope=col>SurveyYr</th><th scope=col>Gender</th><th scope=col>Age</th><th scope=col>AgeDecade</th><th scope=col>AgeMonths</th><th scope=col>Race1</th><th scope=col>Race3</th><th scope=col>Education</th><th scope=col>MaritalStatus</th><th scope=col>⋯</th><th scope=col>RegularMarij</th><th scope=col>AgeRegMarij</th><th scope=col>HardDrugs</th><th scope=col>SexEver</th><th scope=col>SexAge</th><th scope=col>SexNumPartnLife</th><th scope=col>SexNumPartYear</th><th scope=col>SameSex</th><th scope=col>SexOrientation</th><th scope=col>PregnantNow</th></tr></thead>\n",
       "<tbody>\n",
       "\t<tr><td>63147         </td><td>2011_12       </td><td>male          </td><td>41            </td><td> 40-49        </td><td> NA           </td><td>White         </td><td>White         </td><td>Some College  </td><td>Married       </td><td>⋯             </td><td>No            </td><td>NA            </td><td>Yes           </td><td>Yes           </td><td>15            </td><td>50            </td><td> 1            </td><td>No            </td><td>Heterosexual  </td><td>NA            </td></tr>\n",
       "\t<tr><td>57165         </td><td>2009_10       </td><td>male          </td><td>48            </td><td> 40-49        </td><td>586           </td><td>Black         </td><td>NA            </td><td>High School   </td><td>Married       </td><td>⋯             </td><td>Yes           </td><td>17            </td><td>No            </td><td>Yes           </td><td>17            </td><td>81            </td><td>10            </td><td>No            </td><td>Heterosexual  </td><td>NA            </td></tr>\n",
       "\t<tr><td>69465         </td><td>2011_12       </td><td>female        </td><td>50            </td><td> 50-59        </td><td> NA           </td><td>White         </td><td>White         </td><td>College Grad  </td><td>Divorced      </td><td>⋯             </td><td>No            </td><td>NA            </td><td>No            </td><td>Yes           </td><td>17            </td><td> 4            </td><td> 1            </td><td>No            </td><td>Heterosexual  </td><td>NA            </td></tr>\n",
       "\t<tr><td>57313         </td><td>2009_10       </td><td>female        </td><td>74            </td><td> 70+          </td><td>889           </td><td>White         </td><td>NA            </td><td>College Grad  </td><td>Widowed       </td><td>⋯             </td><td>NA            </td><td>NA            </td><td>NA            </td><td>NA            </td><td>NA            </td><td>NA            </td><td>NA            </td><td>NA            </td><td>NA            </td><td>NA            </td></tr>\n",
       "\t<tr><td>56047         </td><td>2009_10       </td><td>female        </td><td>27            </td><td> 20-29        </td><td>329           </td><td>White         </td><td>NA            </td><td>9 - 11th Grade</td><td>NeverMarried  </td><td>⋯             </td><td>Yes           </td><td>16            </td><td>No            </td><td>Yes           </td><td>13            </td><td>10            </td><td> 3            </td><td>No            </td><td>Heterosexual  </td><td>No            </td></tr>\n",
       "\t<tr><td>57056         </td><td>2009_10       </td><td>male          </td><td>26            </td><td> 20-29        </td><td>316           </td><td>Mexican       </td><td>NA            </td><td>High School   </td><td>NeverMarried  </td><td>⋯             </td><td>Yes           </td><td>14            </td><td>Yes           </td><td>Yes           </td><td>15            </td><td> 8            </td><td> 1            </td><td>No            </td><td>Heterosexual  </td><td>NA            </td></tr>\n",
       "</tbody>\n",
       "</table>\n"
      ],
      "text/latex": [
       "\\begin{tabular}{r|llllllllllllllllllllllllllllllllllllllllllllllllllllllllllllllllllllllllllll}\n",
       " ID & SurveyYr & Gender & Age & AgeDecade & AgeMonths & Race1 & Race3 & Education & MaritalStatus & ⋯ & RegularMarij & AgeRegMarij & HardDrugs & SexEver & SexAge & SexNumPartnLife & SexNumPartYear & SameSex & SexOrientation & PregnantNow\\\\\n",
       "\\hline\n",
       "\t 63147          & 2011\\_12      & male           & 41             &  40-49         &  NA            & White          & White          & Some College   & Married        & ⋯              & No             & NA             & Yes            & Yes            & 15             & 50             &  1             & No             & Heterosexual   & NA            \\\\\n",
       "\t 57165          & 2009\\_10      & male           & 48             &  40-49         & 586            & Black          & NA             & High School    & Married        & ⋯              & Yes            & 17             & No             & Yes            & 17             & 81             & 10             & No             & Heterosexual   & NA            \\\\\n",
       "\t 69465          & 2011\\_12      & female         & 50             &  50-59         &  NA            & White          & White          & College Grad   & Divorced       & ⋯              & No             & NA             & No             & Yes            & 17             &  4             &  1             & No             & Heterosexual   & NA            \\\\\n",
       "\t 57313          & 2009\\_10      & female         & 74             &  70+           & 889            & White          & NA             & College Grad   & Widowed        & ⋯              & NA             & NA             & NA             & NA             & NA             & NA             & NA             & NA             & NA             & NA            \\\\\n",
       "\t 56047          & 2009\\_10      & female         & 27             &  20-29         & 329            & White          & NA             & 9 - 11th Grade & NeverMarried   & ⋯              & Yes            & 16             & No             & Yes            & 13             & 10             &  3             & No             & Heterosexual   & No            \\\\\n",
       "\t 57056          & 2009\\_10      & male           & 26             &  20-29         & 316            & Mexican        & NA             & High School    & NeverMarried   & ⋯              & Yes            & 14             & Yes            & Yes            & 15             &  8             &  1             & No             & Heterosexual   & NA            \\\\\n",
       "\\end{tabular}\n"
      ],
      "text/markdown": [
       "\n",
       "ID | SurveyYr | Gender | Age | AgeDecade | AgeMonths | Race1 | Race3 | Education | MaritalStatus | ⋯ | RegularMarij | AgeRegMarij | HardDrugs | SexEver | SexAge | SexNumPartnLife | SexNumPartYear | SameSex | SexOrientation | PregnantNow | \n",
       "|---|---|---|---|---|---|\n",
       "| 63147          | 2011_12        | male           | 41             |  40-49         |  NA            | White          | White          | Some College   | Married        | ⋯              | No             | NA             | Yes            | Yes            | 15             | 50             |  1             | No             | Heterosexual   | NA             | \n",
       "| 57165          | 2009_10        | male           | 48             |  40-49         | 586            | Black          | NA             | High School    | Married        | ⋯              | Yes            | 17             | No             | Yes            | 17             | 81             | 10             | No             | Heterosexual   | NA             | \n",
       "| 69465          | 2011_12        | female         | 50             |  50-59         |  NA            | White          | White          | College Grad   | Divorced       | ⋯              | No             | NA             | No             | Yes            | 17             |  4             |  1             | No             | Heterosexual   | NA             | \n",
       "| 57313          | 2009_10        | female         | 74             |  70+           | 889            | White          | NA             | College Grad   | Widowed        | ⋯              | NA             | NA             | NA             | NA             | NA             | NA             | NA             | NA             | NA             | NA             | \n",
       "| 56047          | 2009_10        | female         | 27             |  20-29         | 329            | White          | NA             | 9 - 11th Grade | NeverMarried   | ⋯              | Yes            | 16             | No             | Yes            | 13             | 10             |  3             | No             | Heterosexual   | No             | \n",
       "| 57056          | 2009_10        | male           | 26             |  20-29         | 316            | Mexican        | NA             | High School    | NeverMarried   | ⋯              | Yes            | 14             | Yes            | Yes            | 15             |  8             |  1             | No             | Heterosexual   | NA             | \n",
       "\n",
       "\n"
      ],
      "text/plain": [
       "  ID    SurveyYr Gender Age AgeDecade AgeMonths Race1   Race3 Education     \n",
       "1 63147 2011_12  male   41   40-49     NA       White   White Some College  \n",
       "2 57165 2009_10  male   48   40-49    586       Black   NA    High School   \n",
       "3 69465 2011_12  female 50   50-59     NA       White   White College Grad  \n",
       "4 57313 2009_10  female 74   70+      889       White   NA    College Grad  \n",
       "5 56047 2009_10  female 27   20-29    329       White   NA    9 - 11th Grade\n",
       "6 57056 2009_10  male   26   20-29    316       Mexican NA    High School   \n",
       "  MaritalStatus ⋯ RegularMarij AgeRegMarij HardDrugs SexEver SexAge\n",
       "1 Married       ⋯ No           NA          Yes       Yes     15    \n",
       "2 Married       ⋯ Yes          17          No        Yes     17    \n",
       "3 Divorced      ⋯ No           NA          No        Yes     17    \n",
       "4 Widowed       ⋯ NA           NA          NA        NA      NA    \n",
       "5 NeverMarried  ⋯ Yes          16          No        Yes     13    \n",
       "6 NeverMarried  ⋯ Yes          14          Yes       Yes     15    \n",
       "  SexNumPartnLife SexNumPartYear SameSex SexOrientation PregnantNow\n",
       "1 50               1             No      Heterosexual   NA         \n",
       "2 81              10             No      Heterosexual   NA         \n",
       "3  4               1             No      Heterosexual   NA         \n",
       "4 NA              NA             NA      NA             NA         \n",
       "5 10               3             No      Heterosexual   No         \n",
       "6  8               1             No      Heterosexual   NA         "
      ]
     },
     "metadata": {},
     "output_type": "display_data"
    }
   ],
   "source": [
    "require(dplyr)\n",
    "#load the dataset\n",
    "require(NHANES)\n",
    "\n",
    "#create sample\n",
    "set.seed(5011)\n",
    "nhanes.samp = sample_n(NHANES, size = 200)\n",
    "\n",
    "#create sample of adults\n",
    "nhanes.samp.adult = nhanes.samp %>%\n",
    "    filter(Age >=21)\n",
    "head(nhanes.samp.adult)"
   ]
  },
  {
   "cell_type": "markdown",
   "metadata": {},
   "source": [
    "#### Problem 1:\n",
    "\n",
    "a) Explore the distribution of BMI in `nhanes.samp.adult`. Using numerical and graphical summaries, describe the distribution of BMI in `nhanes.samp.adult`. From the data in the sample, does it seem like the population mean BMI will be outside the BMI range defined as normal (18.5 - 24.99)? \n",
    "\n",
    "b) Calculate a 95% confidence interval for BMI using `nhanes.samp.adult`. Does the interval suggest that the population average BMI is outside the normal range?"
   ]
  },
  {
   "cell_type": "markdown",
   "metadata": {},
   "source": [
    "#### Problem 2:\n",
    "\n",
    "Conduct a hypothesis test.\n",
    "\n",
    "a) Formulate null and alternative hypotheses. The symbol $\\mu$ denotes a population mean, while $\\mu_0$ refers to the numeric value specified by the null hypothesis. \n",
    "\n",
    "b) Specify a significance level, $\\alpha$.\n",
    "\n",
    "c) Calculate the test statistic. \n",
    "    \n",
    "  $$t = \\dfrac{\\overline{x} - \\mu_0}{s/ \\sqrt{n}} $$\n",
    "\n",
    "d) Calculate the $p$-value.\n",
    "\n",
    "e) Draw a conclusion."
   ]
  },
  {
   "cell_type": "markdown",
   "metadata": {},
   "source": [
    "#### Problem 3:\n",
    "\n",
    "Is mean body temperature really 98.6 F? Conduct a hypothesis test to evaluate this claim using data from 130 healthy volunteers who participated in a vaccine study. The data are in the file `body_temperatures.Rdata` (see code below for loading data).\n",
    "\n",
    "a) Choose whether to conduct a one-sided or two-sided test. Formulate null and alternative hypotheses.\n",
    "\n",
    "b) Specify a significance level, $\\alpha$.\n",
    "\n",
    "c) Calculate the test statistic.\n",
    " \n",
    "d) Calculate the $p$-value.\n",
    "\n",
    "e) Confirm your calculations in parts c) and d) using `t.test()`.\n",
    "\n",
    "f) Draw a conclusion.\n"
   ]
  },
  {
   "cell_type": "code",
   "execution_count": 11,
   "metadata": {},
   "outputs": [],
   "source": [
    "load(\"body_temperatures.Rdata\")"
   ]
  }
 ],
 "metadata": {
  "kernelspec": {
   "display_name": "R",
   "language": "R",
   "name": "ir"
  },
  "language_info": {
   "codemirror_mode": "r",
   "file_extension": ".r",
   "mimetype": "text/x-r-source",
   "name": "R",
   "pygments_lexer": "r",
   "version": "3.4.3"
  }
 },
 "nbformat": 4,
 "nbformat_minor": 2
}
