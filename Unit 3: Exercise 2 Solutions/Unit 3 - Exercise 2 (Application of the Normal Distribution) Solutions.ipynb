{
 "cells": [
  {
   "cell_type": "markdown",
   "metadata": {},
   "source": [
    "### Unit 3 - In-class exercises (Application of the Normal Distribution)\n"
   ]
  },
  {
   "cell_type": "markdown",
   "metadata": {},
   "source": [
    "#### Exercise 1 (Age at Childbirth):\n",
    "\n",
    "In the last decade, the average age of a mother at childbirth is 26.4 years, with standard deviation 5.8 years. The distribution of age at childbirth is approximately normal.\n",
    "\n",
    "  "
   ]
  },
  {
   "cell_type": "markdown",
   "metadata": {},
   "source": [
    "a) What age at childbirth puts a woman in the upper 2.5% of the age distribution? In other words, what is the 97.5 percentile of this age distribution?"
   ]
  },
  {
   "cell_type": "markdown",
   "metadata": {},
   "source": [
    "#### Solution:\n",
    "\n",
    "First, use `qnorm()` to identify the $z$-value associated with the 97.5 percentile: 1.96. Convert this $z$-value to the distribution of age at childbirth, where $X \\sim N(26.4, 5.8)$. \n",
    "\n",
    "$$X = \\sigma Z + \\mu = (5.8)(1.96) + 26.4 = 37.77$$\n",
    "\n",
    "An age of about 38 (37.8) puts a woman in the upper 2.5% of the age distribution."
   ]
  },
  {
   "cell_type": "code",
   "execution_count": 1,
   "metadata": {},
   "outputs": [
    {
     "data": {
      "text/html": [
       "1.95996398454005"
      ],
      "text/latex": [
       "1.95996398454005"
      ],
      "text/markdown": [
       "1.95996398454005"
      ],
      "text/plain": [
       "[1] 1.959964"
      ]
     },
     "metadata": {},
     "output_type": "display_data"
    },
    {
     "data": {
      "text/html": [
       "37.7677911103323"
      ],
      "text/latex": [
       "37.7677911103323"
      ],
      "text/markdown": [
       "37.7677911103323"
      ],
      "text/plain": [
       "[1] 37.76779"
      ]
     },
     "metadata": {},
     "output_type": "display_data"
    },
    {
     "data": {
      "text/html": [
       "37.7677911103323"
      ],
      "text/latex": [
       "37.7677911103323"
      ],
      "text/markdown": [
       "37.7677911103323"
      ],
      "text/plain": [
       "[1] 37.76779"
      ]
     },
     "metadata": {},
     "output_type": "display_data"
    }
   ],
   "source": [
    "#use qnorm with the standard normal\n",
    "qnorm(.975)\n",
    "5.8*qnorm(.975) + 26.4\n",
    "\n",
    "#have R convert to the given normal distribution\n",
    "qnorm(.975, mean = 26.4, sd = 5.8)"
   ]
  },
  {
   "cell_type": "markdown",
   "metadata": {},
   "source": [
    "  b) What proportion of women who give birth are 21 years of age or older?\n"
   ]
  },
  {
   "cell_type": "markdown",
   "metadata": {},
   "source": [
    "#### Solution:\n",
    "\n",
    "Convert 21 to a $Z$-score, then use `pnorm()` to calculate the percentile.\n",
    "\n",
    "$$Z = \\dfrac{X- \\mu}{\\sigma} = \\dfrac{21 - 26.4}{5.8} = -0.93$$\n",
    "\n",
    "$P(X \\geq 21) = 0.824$; 82.4\\% of women are 21 years of age or older. It is important to remember that by default, `pnorm()` calculates the probability $P(X \\leq x)$.\n"
   ]
  },
  {
   "cell_type": "code",
   "execution_count": 2,
   "metadata": {},
   "outputs": [
    {
     "data": {
      "text/html": [
       "0.824082136385825"
      ],
      "text/latex": [
       "0.824082136385825"
      ],
      "text/markdown": [
       "0.824082136385825"
      ],
      "text/plain": [
       "[1] 0.8240821"
      ]
     },
     "metadata": {},
     "output_type": "display_data"
    },
    {
     "data": {
      "text/html": [
       "0.824082136385825"
      ],
      "text/latex": [
       "0.824082136385825"
      ],
      "text/markdown": [
       "0.824082136385825"
      ],
      "text/plain": [
       "[1] 0.8240821"
      ]
     },
     "metadata": {},
     "output_type": "display_data"
    },
    {
     "data": {
      "text/html": [
       "0.824082136385825"
      ],
      "text/latex": [
       "0.824082136385825"
      ],
      "text/markdown": [
       "0.824082136385825"
      ],
      "text/plain": [
       "[1] 0.8240821"
      ]
     },
     "metadata": {},
     "output_type": "display_data"
    }
   ],
   "source": [
    "#use pnorm with the standard normal\n",
    "z.score = (21 - 26.4)/5.8\n",
    "1 - pnorm(z.score)\n",
    "pnorm(z.score, lower.tail = FALSE)\n",
    "\n",
    "#have R convert to the given normal distribution\n",
    "pnorm(21, mean = 26.4, sd = 5.8, lower.tail = FALSE)"
   ]
  },
  {
   "cell_type": "markdown",
   "metadata": {},
   "source": [
    "#### Exercise 2 (Mild Hypertension):\n",
    "\n",
    "Suppose a mild hypertensive is defined as a person whose diastolic blood pressure (DBP) is between 90 and 100 mm Hg, inclusive. Assume that in the population of 35-44 year old men, mean DBP is 80 mm Hg, with variance 144. What is the probability that a randomly selected male from this population is a mild hypertensive?\n"
   ]
  },
  {
   "cell_type": "markdown",
   "metadata": {},
   "source": [
    "#### Solution:\n",
    "\n",
    "Find $P(90 \\leq X \\leq 100) = P(X \\leq 100) - P(X \\leq 90)$. Convert to $Z$-scores, then calculate the probabilities using `pnorm()`.\n",
    "\n",
    "$$Z = \\dfrac{X - \\mu}{\\sigma} = \\dfrac{100 - 80}{12} = 1.67$$\n",
    "$$Z = \\dfrac{X - \\mu}{\\sigma} = \\dfrac{90 - 80}{12} = 0.83$$\n",
    "\n",
    "The probability that a randomly selected male from this population is a mild hypertensive is 0.15. Note that the slight discrepancy between the two methods below is from rounding.\n"
   ]
  },
  {
   "cell_type": "code",
   "execution_count": 3,
   "metadata": {},
   "outputs": [
    {
     "data": {
      "text/html": [
       "0.155809710025121"
      ],
      "text/latex": [
       "0.155809710025121"
      ],
      "text/markdown": [
       "0.155809710025121"
      ],
      "text/plain": [
       "[1] 0.1558097"
      ]
     },
     "metadata": {},
     "output_type": "display_data"
    },
    {
     "data": {
      "text/html": [
       "0.154538028690828"
      ],
      "text/latex": [
       "0.154538028690828"
      ],
      "text/markdown": [
       "0.154538028690828"
      ],
      "text/plain": [
       "[1] 0.154538"
      ]
     },
     "metadata": {},
     "output_type": "display_data"
    }
   ],
   "source": [
    "#calculations from z-scores\n",
    "pnorm(1.67) - pnorm(0.83)\n",
    "\n",
    "#let R convert\n",
    "pnorm(100, mean = 80, sd = 12) - pnorm(90, mean = 80, sd = 12)"
   ]
  },
  {
   "cell_type": "markdown",
   "metadata": {},
   "source": [
    "#### Exercise 3 (Normal Heights) :\n",
    "\n",
    "The distribution of height in a population is typically modeled with the normal distribution. Let $X$ represent the height of an American female and $Y$ represent the height of an American male: $X \\sim$ N($\\mu _{x} = 63.8$ in, $\\sigma_{x} = 2.5$ in), $Y \\sim$ N($\\mu_{y} = 69.2$ in, $\\sigma_{y} = 2.8$ in).\n",
    "\n"
   ]
  },
  {
   "cell_type": "markdown",
   "metadata": {},
   "source": [
    "a) What is the probability that a random American male is at most 68 inches tall?\n",
    "    "
   ]
  },
  {
   "cell_type": "markdown",
   "metadata": {},
   "source": [
    "#### Solution:\n",
    "\n",
    "First, convert $Y$ to a $Z$-score:\n",
    "\t\n",
    "$$\\text{P}(Y \\leq 68) = \\text{P}\\left(\\frac{Y-\\mu_y}{\\sigma_y} \\leq \\frac{68-\\mu_y}{\\sigma_y}\\right) = \\text{P}\\left(Z \\leq \\frac{68-69.2}{2.8}\\right) = \\text{P}(Z \\leq -0.43)$$"
   ]
  },
  {
   "cell_type": "code",
   "execution_count": 5,
   "metadata": {},
   "outputs": [
    {
     "data": {
      "text/html": [
       "0.333597820595458"
      ],
      "text/latex": [
       "0.333597820595458"
      ],
      "text/markdown": [
       "0.333597820595458"
      ],
      "text/plain": [
       "[1] 0.3335978"
      ]
     },
     "metadata": {},
     "output_type": "display_data"
    },
    {
     "data": {
      "text/html": [
       "0.334117570897624"
      ],
      "text/latex": [
       "0.334117570897624"
      ],
      "text/markdown": [
       "0.334117570897624"
      ],
      "text/plain": [
       "[1] 0.3341176"
      ]
     },
     "metadata": {},
     "output_type": "display_data"
    }
   ],
   "source": [
    "#use R to calculate the probability\n",
    "pnorm(-.43)\n",
    "\n",
    "#alternatively, use R to convert to a z and find the probability\n",
    "pnorm(68, 69.2, 2.8)"
   ]
  },
  {
   "cell_type": "markdown",
   "metadata": {},
   "source": [
    "The probability that a random American male is at most 68 inches tall is 0.334."
   ]
  },
  {
   "cell_type": "markdown",
   "metadata": {},
   "source": [
    "b) How tall would a person have to be in order to be taller than 90% of the male US population?"
   ]
  },
  {
   "cell_type": "markdown",
   "metadata": {},
   "source": [
    "#### Solution:\n",
    "\n",
    "\\begin{align*}\n",
    "\t0.9 =& \\text{P}(Y \\leq k)\\\\ \n",
    "\t0.9=& \\text{P}\\left(\\frac{Y-\\mu_y}{\\sigma_y} \\leq \\frac{k-\\mu_y}{\\sigma_y}\\right) \\\\\n",
    "\t0.9=& \\text{P}\\left( Z \\leq \\frac{k-69.2}{2.8} \\right)\n",
    "\\end{align*}\n",
    "\n",
    "Use `R` to find the $Z$-value associated with .90 area to the left."
   ]
  },
  {
   "cell_type": "code",
   "execution_count": 6,
   "metadata": {},
   "outputs": [
    {
     "data": {
      "text/html": [
       "1.2815515655446"
      ],
      "text/latex": [
       "1.2815515655446"
      ],
      "text/markdown": [
       "1.2815515655446"
      ],
      "text/plain": [
       "[1] 1.281552"
      ]
     },
     "metadata": {},
     "output_type": "display_data"
    }
   ],
   "source": [
    "qnorm(.9)"
   ]
  },
  {
   "cell_type": "markdown",
   "metadata": {},
   "source": [
    "Solve for $k$ (in other words, transform the $Z$-value back into $Y$). A person must be at least 72.8 inches tall (about 6 ft. tall) to be taller than 90% of the male US population. "
   ]
  },
  {
   "cell_type": "code",
   "execution_count": 7,
   "metadata": {},
   "outputs": [
    {
     "data": {
      "text/html": [
       "72.7883443835249"
      ],
      "text/latex": [
       "72.7883443835249"
      ],
      "text/markdown": [
       "72.7883443835249"
      ],
      "text/plain": [
       "[1] 72.78834"
      ]
     },
     "metadata": {},
     "output_type": "display_data"
    }
   ],
   "source": [
    "qnorm(.9)*2.8+69.2"
   ]
  },
  {
   "cell_type": "markdown",
   "metadata": {},
   "source": [
    "Alternatively, use `R` in one step:"
   ]
  },
  {
   "cell_type": "code",
   "execution_count": 8,
   "metadata": {},
   "outputs": [
    {
     "data": {
      "text/html": [
       "72.7883443835249"
      ],
      "text/latex": [
       "72.7883443835249"
      ],
      "text/markdown": [
       "72.7883443835249"
      ],
      "text/plain": [
       "[1] 72.78834"
      ]
     },
     "metadata": {},
     "output_type": "display_data"
    }
   ],
   "source": [
    "qnorm(.9, 69.2, 2.8)"
   ]
  },
  {
   "cell_type": "markdown",
   "metadata": {},
   "source": [
    "c) The mean and standard deviation of US female and male heights can be converted to meters using formulas in \\textit{OI Biostat} 2.3. $X \\sim$ N($\\mu _{x} = 1.62$ m, $\\sigma_{x} = 0.0635$ m), $Y \\sim$ N($\\mu_{y} = 1.76$ m, $\\sigma_{y} = 0.0711$ m).\n",
    "    \n",
    "The retired Chinese basketball player Yao Ming was the tallest active player in the NBA at the time of his final season, at 2.29 m. What proportion of the US population is as tall as Yao Ming (or taller)? Assume that half the population are male and half are female.\n",
    " "
   ]
  },
  {
   "cell_type": "markdown",
   "metadata": {},
   "source": [
    "#### Solution:\n",
    "\n",
    "If we assume that half of the population are male and half are female, this proportion is given by:\n",
    "\t\n",
    "$$\\dfrac{1}{2} P(Y \\geq 2.29) + \\dfrac{1}{2} P(X \\geq 2.29)$$\n",
    "\t\n",
    "\\begin{align*}\n",
    "\t\\dfrac{1}{2} P(Y \\geq 2.29) + \\dfrac{1}{2} P(X \\geq 2.29) &= \\dfrac{1}{2}[1 - P(Y \\leq 2.29)] + \\dfrac{1}{2}[1 - P(X \\leq 2.29)] \\\\\n",
    "\t&= \\dfrac{1}{2} \\left[1 - \\text{P}\\left(\\frac{Y-1.76}{0.0711} \\leq \\frac{2.29-1.76}{0.0711}\\right)\\right] + \\dfrac{1}{2}\\left[ 1 - \\text{P}\\left(\\frac{X-1.62}{0.0635} \\leq \\frac{2.29-1.62}{0.0635}\\right) \\right] \\\\\n",
    "\t&= \\dfrac{1}{2} \\left[1 - \\text{P}(Z\\leq 7.45)\\right] + \\dfrac{1}{2}\\left[1 - \\text{P}(Z\\leq 10.55) \\right] \\\\\n",
    "\t&= 2.33 \\times 10^{-14}\n",
    "\\end{align*}\n",
    "\n"
   ]
  },
  {
   "cell_type": "code",
   "execution_count": 9,
   "metadata": {},
   "outputs": [
    {
     "data": {
      "text/html": [
       "2.2588311735203e-14"
      ],
      "text/latex": [
       "2.2588311735203e-14"
      ],
      "text/markdown": [
       "2.2588311735203e-14"
      ],
      "text/plain": [
       "[1] 2.258831e-14"
      ]
     },
     "metadata": {},
     "output_type": "display_data"
    }
   ],
   "source": [
    "0.5*(pnorm(2.29, 1.76, 0.0711, lower.tail = FALSE)) +\n",
    "\t  + 0.5*(pnorm(2.29, 1.62, 0.0635, lower.tail = FALSE))"
   ]
  },
  {
   "cell_type": "markdown",
   "metadata": {},
   "source": [
    "The answers differ slightly due to rounding of the $z$-values in the written approach."
   ]
  },
  {
   "cell_type": "markdown",
   "metadata": {},
   "source": [
    "#### Exercise 4 (Hypertension):\n",
    "\n",
    "People are classified as hypertensive if their systolic blood pressure (SBP) is higher than a specified level for their age group. For ages 1-14, SBP has a mean of 105.0 and standard deviation 5.0, with hypertension level 115.0.  For ages 15-44, SBP has a mean of 125.0 and standard deviation 10.0, with hypertension level 140.0. Assume SBP is normally distributed.\n",
    "\n",
    "(Problem from Rosner, **Fundamentals of Biostatistics**, 7$^{th}$ edition, pp. 138-139)"
   ]
  },
  {
   "cell_type": "markdown",
   "metadata": {},
   "source": [
    "a) What proportion of 1- to 14-year-olds are hypertensive?"
   ]
  },
  {
   "cell_type": "markdown",
   "metadata": {},
   "source": [
    "#### Solution:\n",
    "\n",
    "Convert to a $Z$-score, then find the associated probability:\n",
    "\t\n",
    "$$\\text{P}(X \\geq 115.0) = \\text{P}\\left(\\frac{X-\\mu}{\\sigma} \\geq \\frac{115.0-\\mu_y}{\\sigma_y}\\right) = \\text{P}\\left(Z \\geq \\frac{115.0-105.0}{5.0}\\right) = \\text{P}(Z \\geq 2)$$\n",
    "\t\n",
    "$$\\text{P}(Z \\geq 2) = 1 - \\text{P}(Z \\leq 2)  = 1 - .9772 = 0.0228$$"
   ]
  },
  {
   "cell_type": "code",
   "execution_count": 10,
   "metadata": {},
   "outputs": [
    {
     "data": {
      "text/html": [
       "0.0227501319481792"
      ],
      "text/latex": [
       "0.0227501319481792"
      ],
      "text/markdown": [
       "0.0227501319481792"
      ],
      "text/plain": [
       "[1] 0.02275013"
      ]
     },
     "metadata": {},
     "output_type": "display_data"
    }
   ],
   "source": [
    "pnorm(115, 105, 5, lower.tail=FALSE)"
   ]
  },
  {
   "cell_type": "markdown",
   "metadata": {},
   "source": [
    "2.28% of 1- to 14-year-olds are hypertensive."
   ]
  },
  {
   "cell_type": "markdown",
   "metadata": {},
   "source": [
    "b) What proportion of 15- to 44-year-olds are hypertensive?"
   ]
  },
  {
   "cell_type": "markdown",
   "metadata": {},
   "source": [
    "#### Solution:\n",
    "\n",
    "$$\\text{P}(X \\geq 140.0) = \\text{P}\\left(\\frac{X-\\mu}{\\sigma} \\geq \\frac{140.0-\\mu_y}{\\sigma_y}\\right) = \\text{P}\\left(Z \\geq \\frac{140.0-125.0}{10.0}\\right) = \\text{P}(Z \\geq 1.5)$$\n",
    "\t\n",
    "$$\\text{P}(Z \\geq 1.5) = 1 - \\text{P}(Z \\leq 1.5)  = 1 - .9332 = 0.0668$$\n"
   ]
  },
  {
   "cell_type": "code",
   "execution_count": 11,
   "metadata": {},
   "outputs": [
    {
     "data": {
      "text/html": [
       "0.0668072012688581"
      ],
      "text/latex": [
       "0.0668072012688581"
      ],
      "text/markdown": [
       "0.0668072012688581"
      ],
      "text/plain": [
       "[1] 0.0668072"
      ]
     },
     "metadata": {},
     "output_type": "display_data"
    }
   ],
   "source": [
    "pnorm(140, 125, 10, lower.tail=FALSE)"
   ]
  },
  {
   "cell_type": "markdown",
   "metadata": {},
   "source": [
    "6.68% of 15- to 44-year-olds are hypertensive."
   ]
  }
 ],
 "metadata": {
  "kernelspec": {
   "display_name": "R",
   "language": "R",
   "name": "ir"
  },
  "language_info": {
   "codemirror_mode": "r",
   "file_extension": ".r",
   "mimetype": "text/x-r-source",
   "name": "R",
   "pygments_lexer": "r",
   "version": "3.4.3"
  }
 },
 "nbformat": 4,
 "nbformat_minor": 2
}
