{
 "cells": [
  {
   "cell_type": "markdown",
   "metadata": {},
   "source": [
    "## <span style=\"color:darkblue\"> Problem Set 2: Introduction to Data (continued)\n",
    "\n",
    "Stat140-02: Introduction to the Ideas and Applications of Statistics \n",
    "\n",
    "Due: Friday, Feb 16 @11am"
   ]
  },
  {
   "cell_type": "markdown",
   "metadata": {},
   "source": [
    "**Problem set policies:** Please provide concise, clear answers for each question. Note that only writing the result of a calculation (e.g., \"SD = 3.3\") without explanation is not sufficient. For problems involving `R`, include the code in your solution, along with any plots.\n",
    "\t\t\n",
    "Each problem set is due by 11:00am on the due date; please submit your problem set via gyrd\n",
    "\t\t\n",
    "*You are encouraged to discuss problems with other students (and, of course, with the course head and the TAs), but you must write your final answer in your own words. Solutions prepared \"in committee\" are not acceptable. If you do collaborate with classmates on a problem, please list your collaborators on your solution.*"
   ]
  },
  {
   "cell_type": "markdown",
   "metadata": {},
   "source": [
    "#### Background information \n",
    "\n",
    "In the United States, individuals with developmental disabilities typically receive services and support from state governments. The State of California allocates funds to developmentally-disabled residents through the California Department of Developmental Services (DDS); individuals receiving DDS funds are referred to as 'consumers'. The dataset \\texttt{dds.discr} represents a sample of 1,000 DDS consumers (out of a total population of approximately 250,000), and includes information about age, gender, ethnicity, and the amount of financial support per consumer provided by the DDS. The dataset is available in the \\texttt{oibiostat} package.\n",
    "\n",
    "A team of researchers examined the mean annual expenditure on consumers by ethnicity, and found that the mean annual expenditures on Hispanic consumers was approximately one-third of the mean expenditures on White non-Hispanic consumers. As a result, an allegation of ethnic discrimination was brought against the California DDS.\n",
    "\n",
    "Does this finding represent sufficient evidence of ethnic discrimination, or might there be more to the story? This lab provides a walkthrough to conducting an exploratory analysis that not only investigates the relationship between two variables of interest, but also considers whether other variables might be influencing that relationship."
   ]
  },
  {
   "cell_type": "markdown",
   "metadata": {},
   "source": [
    "#### Problem 1: Distributions of single variables\n",
    "\n",
    "To begin understanding a dataset and developing a sense of context, start by examining the distributions of single variables. To load the data into R and look at the first six records, use the following code:"
   ]
  },
  {
   "cell_type": "code",
   "execution_count": 1,
   "metadata": {},
   "outputs": [
    {
     "name": "stderr",
     "output_type": "stream",
     "text": [
      "Loading required package: oibiostat\n"
     ]
    },
    {
     "data": {
      "text/html": [
       "<table>\n",
       "<thead><tr><th scope=col>id</th><th scope=col>age.cohort</th><th scope=col>age</th><th scope=col>gender</th><th scope=col>expenditures</th><th scope=col>ethnicity</th></tr></thead>\n",
       "<tbody>\n",
       "\t<tr><td>10210             </td><td>13-17             </td><td>17                </td><td>Female            </td><td> 2113             </td><td>White not Hispanic</td></tr>\n",
       "\t<tr><td>10409             </td><td>22-50             </td><td>37                </td><td>Male              </td><td>41924             </td><td>White not Hispanic</td></tr>\n",
       "\t<tr><td>10486             </td><td>0-5               </td><td> 3                </td><td>Male              </td><td> 1454             </td><td>Hispanic          </td></tr>\n",
       "\t<tr><td>10538             </td><td>18-21             </td><td>19                </td><td>Female            </td><td> 6400             </td><td>Hispanic          </td></tr>\n",
       "\t<tr><td>10568             </td><td>13-17             </td><td>13                </td><td>Male              </td><td> 4412             </td><td>White not Hispanic</td></tr>\n",
       "\t<tr><td>10690             </td><td>13-17             </td><td>15                </td><td>Female            </td><td> 4566             </td><td>Hispanic          </td></tr>\n",
       "</tbody>\n",
       "</table>\n"
      ],
      "text/latex": [
       "\\begin{tabular}{r|llllll}\n",
       " id & age.cohort & age & gender & expenditures & ethnicity\\\\\n",
       "\\hline\n",
       "\t 10210              & 13-17              & 17                 & Female             &  2113              & White not Hispanic\\\\\n",
       "\t 10409              & 22-50              & 37                 & Male               & 41924              & White not Hispanic\\\\\n",
       "\t 10486              & 0-5                &  3                 & Male               &  1454              & Hispanic          \\\\\n",
       "\t 10538              & 18-21              & 19                 & Female             &  6400              & Hispanic          \\\\\n",
       "\t 10568              & 13-17              & 13                 & Male               &  4412              & White not Hispanic\\\\\n",
       "\t 10690              & 13-17              & 15                 & Female             &  4566              & Hispanic          \\\\\n",
       "\\end{tabular}\n"
      ],
      "text/markdown": [
       "\n",
       "id | age.cohort | age | gender | expenditures | ethnicity | \n",
       "|---|---|---|---|---|---|\n",
       "| 10210              | 13-17              | 17                 | Female             |  2113              | White not Hispanic | \n",
       "| 10409              | 22-50              | 37                 | Male               | 41924              | White not Hispanic | \n",
       "| 10486              | 0-5                |  3                 | Male               |  1454              | Hispanic           | \n",
       "| 10538              | 18-21              | 19                 | Female             |  6400              | Hispanic           | \n",
       "| 10568              | 13-17              | 13                 | Male               |  4412              | White not Hispanic | \n",
       "| 10690              | 13-17              | 15                 | Female             |  4566              | Hispanic           | \n",
       "\n",
       "\n"
      ],
      "text/plain": [
       "  id    age.cohort age gender expenditures ethnicity         \n",
       "1 10210 13-17      17  Female  2113        White not Hispanic\n",
       "2 10409 22-50      37  Male   41924        White not Hispanic\n",
       "3 10486 0-5         3  Male    1454        Hispanic          \n",
       "4 10538 18-21      19  Female  6400        Hispanic          \n",
       "5 10568 13-17      13  Male    4412        White not Hispanic\n",
       "6 10690 13-17      15  Female  4566        Hispanic          "
      ]
     },
     "metadata": {},
     "output_type": "display_data"
    }
   ],
   "source": [
    "require(oibiostat)\n",
    "data(\"dds.discr\")\n",
    "head(dds.discr)"
   ]
  },
  {
   "cell_type": "markdown",
   "metadata": {},
   "source": [
    "Using appropriate numerical and graphical summaries, answer the following questions.\n",
    "\n",
    "a) Describe the distribution of annual expenditures. For most consumers, is the amount of financial support provided by the DDS relatively high or low?"
   ]
  },
  {
   "cell_type": "markdown",
   "metadata": {},
   "source": [
    "b) The variable `age` directly records a consumer's age; in the `age.cohort` variable, consumers are assigned to one of six age cohorts. Describe the distribution of age in this sample of consumers. Do consumers tend to be older or younger?\n",
    "    \n",
    "The cohorts are indicative of particular life phases. In the first three cohorts, consumers are still living with their parents as they move through preschool age, elementary/middle school age, and high school age. In the 18-21 cohort, consumers are transitioning from their parents' homes to living on their own or in supportive group homes. From ages 22-50, individuals are mostly no longer living with their parents but may still receive some support from family. In the 51+ cohort, consumers often have no living parents and typically require the most amount of support. "
   ]
  },
  {
   "cell_type": "markdown",
   "metadata": {},
   "source": [
    "c) Is there an equal representation of ethnic groups in this sample of consumers?"
   ]
  },
  {
   "cell_type": "markdown",
   "metadata": {},
   "source": [
    "d) Does gender appear to be balanced in this sample of consumers?"
   ]
  },
  {
   "cell_type": "markdown",
   "metadata": {},
   "source": [
    "#### Problem 2: Relationships between two variables\n",
    "\n",
    "After examining variables individually, explore how variables are related to each other. It is often useful to start by investigating the relationships between two variables, particularly between the primary response variable of interest and the exploratory variables. For this case study, the response variable is `expenditures`, the amount of funds the California DDS allocates annually to each consumer.\n",
    "\n",
    "\n",
    "\n",
    "a) How do annual expenditures vary by age? Is there a large amount of variation in expenditures between age cohorts? Use the `age.cohort` variable. \n"
   ]
  },
  {
   "cell_type": "markdown",
   "metadata": {},
   "source": [
    "b) Do annual expenditures seem to vary by gender?"
   ]
  },
  {
   "cell_type": "markdown",
   "metadata": {},
   "source": [
    "c) How does the distribution of expenditures vary by ethnic group? Does there seem to be a difference in the amount of funding that a person receives, on average, between different ethnicities?\n",
    "\n"
   ]
  },
  {
   "cell_type": "markdown",
   "metadata": {},
   "source": [
    "#### Problem 3: A closer look \n",
    "\n",
    "As seen in Problem 1c), two of the ethnic groups, Hispanic and White non-Hispanic, comprise the majority of the data; some ethnic groups represent less than 10\\% of the observations. For ethnic groups with relatively small sample sizes, it is possible that the observed samples are not representative of the larger populations. The rest of this analysis will focus on comparing how `expenditures` varies between the two largest ethnic groups.\n",
    "\n",
    "a) Compare the distribution of `expenditures` between Hispanic and White non-Hispanic consumers, graphically and numerically. Do Hispanic consumers, on average, seem to receive less financial support from the California DDS than a White non-Hispanic consumer?\n"
   ]
  },
  {
   "cell_type": "markdown",
   "metadata": {},
   "source": [
    "b) Recall that expenditures is strongly associated with age - older individuals tend to receive more financial support. Is there also an association between age and ethnicity, for these two ethnic groups? Examine the distribution of age within each group and describe your findings.\n",
    "\n",
    "Note that when using data to investigate a question, it is important to explore not only how explanatory variables are related to the response variable(s), but also how explanatory variables influence each other."
   ]
  },
  {
   "cell_type": "markdown",
   "metadata": {},
   "source": [
    "#### Problem 4: Confounding\n",
    "\n",
    "Recall that a confounding variable is a variable that is associated with the response variable and the exploratory variable under consideration; confounding was initially introduced in the context of sunscreen use and the incidence of skin cancer, where sun exposure is a confounder. In this setting, age is a confounder for the relationship between `expenditures` and `ethnicity`. Just as it would be incorrect to claim that sunscreen causes skin cancer, it is essential here to recognize that there is more to the story than the apparent association between `expenditures` and `ethnicity`.\n",
    "\n",
    "a) For a closer look at the relationship between age, ethnicity, and expenditures, compare how average `expenditures` differs by ethnicity within each age cohort. If age is indeed the primary source of the observed variation in expenditures, then there should be little difference in average `expenditures` between individuals in different ethnic groups but the same age cohort. Is this the case? Describe your findings.\n",
    "\n"
   ]
  },
  {
   "cell_type": "markdown",
   "metadata": {},
   "source": [
    "b) Based on this exploratory analysis, does there seem to be evidence of ethnic discrimination in the amount of financial support provided by the California DDS? Summarize your findings in language accessible to a non-statistician."
   ]
  },
  {
   "cell_type": "markdown",
   "metadata": {},
   "source": [
    "#### BONUS (Extra Credit) Problem: Simpsons' Paradox\n",
    "\n",
    "Identifying confounding variables is essential for understanding data. Confounders are often context-specific; for example, age is not necessarily a confounder for the relationship between ethnicity and expenditures in a different population. Additionally, it is rarely immediately obvious which variables in a dataset are confounders; looking for confounding variables is an integral part of exploring a dataset.\n",
    "\n",
    "These data represent an extreme example of confounding known as **Simpson's paradox**, in which an association observed in several groups may disappear or reverse direction once the groups are combined. In other words, an association between two variables *X* and *Y* may disappear or reverse direction once data are partitioned into subpopulations based on a third variable *Z*, the confounding variable.\n",
    "\n",
    "Mean `expenditures` is higher for Hispanics than White non-Hispanics in all age cohorts except one. Yet, once all the data are aggregated, the average expenditures for White non-Hispanics is over twice as large as the average for Hispanics. This paradox can be explored from a mathematical perspective by using weighted averages, where the average expenditure for each cohort is weighted by the proportion of the population in that cohort."
   ]
  },
  {
   "cell_type": "markdown",
   "metadata": {
    "slideshow": {
     "slide_type": "fragment"
    }
   },
   "source": [
    "Calculate the overall weighted average expenditures for Hispanics and for White non-Hispanics, using the proportions of individuals in each age cohort (Problem 3d) and the average expenditures for each Cohort (Problem 4a). How does the weighting lead to overall average expenditures for White non-Hispanics to be higher than for Hispanics?"
   ]
  }
 ],
 "metadata": {
  "kernelspec": {
   "display_name": "R",
   "language": "R",
   "name": "ir"
  },
  "language_info": {
   "codemirror_mode": "r",
   "file_extension": ".r",
   "mimetype": "text/x-r-source",
   "name": "R",
   "pygments_lexer": "r",
   "version": "3.4.3"
  }
 },
 "nbformat": 4,
 "nbformat_minor": 2
}
