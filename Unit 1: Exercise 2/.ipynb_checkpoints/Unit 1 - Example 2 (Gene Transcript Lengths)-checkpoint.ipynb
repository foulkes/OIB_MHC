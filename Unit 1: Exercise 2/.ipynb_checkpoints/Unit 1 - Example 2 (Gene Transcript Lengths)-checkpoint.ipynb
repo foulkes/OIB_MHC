{
 "cells": [
  {
   "cell_type": "markdown",
   "metadata": {},
   "source": [
    "#### Unit 1 - Example 2 (Gene Transcript Lengths)"
   ]
  },
  {
   "cell_type": "markdown",
   "metadata": {},
   "source": [
    "Before genes can be translated into proteins, DNA must first be transcribed into RNA. The dataset `coding.mrna` contains the length of known protein-coding transcripts (measured in base pairs). Load the dataset from the `oibiostat` package using the `require()` and `data()` commands as follows."
   ]
  },
  {
   "cell_type": "code",
   "execution_count": 1,
   "metadata": {},
   "outputs": [
    {
     "name": "stderr",
     "output_type": "stream",
     "text": [
      "Loading required package: oibiostat\n"
     ]
    },
    {
     "data": {
      "text/html": [
       "<table>\n",
       "<thead><tr><th scope=col>chromosome_name</th><th scope=col>external_gene_name</th><th scope=col>external_transcript_name</th><th scope=col>transcript_length</th><th scope=col>description</th></tr></thead>\n",
       "<tbody>\n",
       "\t<tr><td>1                                                                               </td><td>FAM231B                                                                         </td><td>FAM231B-201                                                                     </td><td>  510                                                                           </td><td>family with sequence similarity 231 member B [Source:HGNC Symbol;Acc:HGNC:49506]</td></tr>\n",
       "\t<tr><td>1                                                                               </td><td>ZC3H11A                                                                         </td><td>ZC3H11A-205                                                                     </td><td>  682                                                                           </td><td>zinc finger CCCH-type containing 11A [Source:HGNC Symbol;Acc:HGNC:29093]        </td></tr>\n",
       "\t<tr><td>1                                                                               </td><td>ZC3H11A                                                                         </td><td>ZC3H11A-206                                                                     </td><td> 1892                                                                           </td><td>zinc finger CCCH-type containing 11A [Source:HGNC Symbol;Acc:HGNC:29093]        </td></tr>\n",
       "\t<tr><td>1                                                                               </td><td>ZC3H11A                                                                         </td><td>ZC3H11A-202                                                                     </td><td> 5877                                                                           </td><td>zinc finger CCCH-type containing 11A [Source:HGNC Symbol;Acc:HGNC:29093]        </td></tr>\n",
       "\t<tr><td>1                                                                               </td><td>ZC3H11A                                                                         </td><td>ZC3H11A-204                                                                     </td><td> 3451                                                                           </td><td>zinc finger CCCH-type containing 11A [Source:HGNC Symbol;Acc:HGNC:29093]        </td></tr>\n",
       "\t<tr><td>1                                                                               </td><td>ZC3H11A                                                                         </td><td>ZC3H11A-214                                                                     </td><td>11825                                                                           </td><td>zinc finger CCCH-type containing 11A [Source:HGNC Symbol;Acc:HGNC:29093]        </td></tr>\n",
       "</tbody>\n",
       "</table>\n"
      ],
      "text/latex": [
       "\\begin{tabular}{r|lllll}\n",
       " chromosome\\_name & external\\_gene\\_name & external\\_transcript\\_name & transcript\\_length & description\\\\\n",
       "\\hline\n",
       "\t 1                                                                                    & FAM231B                                                                              & FAM231B-201                                                                          &   510                                                                                & family with sequence similarity 231 member B {[}Source:HGNC Symbol;Acc:HGNC:49506{]}\\\\\n",
       "\t 1                                                                                    & ZC3H11A                                                                              & ZC3H11A-205                                                                          &   682                                                                                & zinc finger CCCH-type containing 11A {[}Source:HGNC Symbol;Acc:HGNC:29093{]}        \\\\\n",
       "\t 1                                                                                    & ZC3H11A                                                                              & ZC3H11A-206                                                                          &  1892                                                                                & zinc finger CCCH-type containing 11A {[}Source:HGNC Symbol;Acc:HGNC:29093{]}        \\\\\n",
       "\t 1                                                                                    & ZC3H11A                                                                              & ZC3H11A-202                                                                          &  5877                                                                                & zinc finger CCCH-type containing 11A {[}Source:HGNC Symbol;Acc:HGNC:29093{]}        \\\\\n",
       "\t 1                                                                                    & ZC3H11A                                                                              & ZC3H11A-204                                                                          &  3451                                                                                & zinc finger CCCH-type containing 11A {[}Source:HGNC Symbol;Acc:HGNC:29093{]}        \\\\\n",
       "\t 1                                                                                    & ZC3H11A                                                                              & ZC3H11A-214                                                                          & 11825                                                                                & zinc finger CCCH-type containing 11A {[}Source:HGNC Symbol;Acc:HGNC:29093{]}        \\\\\n",
       "\\end{tabular}\n"
      ],
      "text/markdown": [
       "\n",
       "chromosome_name | external_gene_name | external_transcript_name | transcript_length | description | \n",
       "|---|---|---|---|---|---|\n",
       "| 1                                                                                | FAM231B                                                                          | FAM231B-201                                                                      |   510                                                                            | family with sequence similarity 231 member B [Source:HGNC Symbol;Acc:HGNC:49506] | \n",
       "| 1                                                                                | ZC3H11A                                                                          | ZC3H11A-205                                                                      |   682                                                                            | zinc finger CCCH-type containing 11A [Source:HGNC Symbol;Acc:HGNC:29093]         | \n",
       "| 1                                                                                | ZC3H11A                                                                          | ZC3H11A-206                                                                      |  1892                                                                            | zinc finger CCCH-type containing 11A [Source:HGNC Symbol;Acc:HGNC:29093]         | \n",
       "| 1                                                                                | ZC3H11A                                                                          | ZC3H11A-202                                                                      |  5877                                                                            | zinc finger CCCH-type containing 11A [Source:HGNC Symbol;Acc:HGNC:29093]         | \n",
       "| 1                                                                                | ZC3H11A                                                                          | ZC3H11A-204                                                                      |  3451                                                                            | zinc finger CCCH-type containing 11A [Source:HGNC Symbol;Acc:HGNC:29093]         | \n",
       "| 1                                                                                | ZC3H11A                                                                          | ZC3H11A-214                                                                      | 11825                                                                            | zinc finger CCCH-type containing 11A [Source:HGNC Symbol;Acc:HGNC:29093]         | \n",
       "\n",
       "\n"
      ],
      "text/plain": [
       "  chromosome_name external_gene_name external_transcript_name transcript_length\n",
       "1 1               FAM231B            FAM231B-201                510            \n",
       "2 1               ZC3H11A            ZC3H11A-205                682            \n",
       "3 1               ZC3H11A            ZC3H11A-206               1892            \n",
       "4 1               ZC3H11A            ZC3H11A-202               5877            \n",
       "5 1               ZC3H11A            ZC3H11A-204               3451            \n",
       "6 1               ZC3H11A            ZC3H11A-214              11825            \n",
       "  description                                                                     \n",
       "1 family with sequence similarity 231 member B [Source:HGNC Symbol;Acc:HGNC:49506]\n",
       "2 zinc finger CCCH-type containing 11A [Source:HGNC Symbol;Acc:HGNC:29093]        \n",
       "3 zinc finger CCCH-type containing 11A [Source:HGNC Symbol;Acc:HGNC:29093]        \n",
       "4 zinc finger CCCH-type containing 11A [Source:HGNC Symbol;Acc:HGNC:29093]        \n",
       "5 zinc finger CCCH-type containing 11A [Source:HGNC Symbol;Acc:HGNC:29093]        \n",
       "6 zinc finger CCCH-type containing 11A [Source:HGNC Symbol;Acc:HGNC:29093]        "
      ]
     },
     "metadata": {},
     "output_type": "display_data"
    }
   ],
   "source": [
    "require(oibiostat)\n",
    "data(coding.mrna)\n",
    "head(coding.mrna)"
   ]
  },
  {
   "cell_type": "markdown",
   "metadata": {},
   "source": [
    "Remember to also load the require tidyverse packages!"
   ]
  },
  {
   "cell_type": "code",
   "execution_count": null,
   "metadata": {},
   "outputs": [],
   "source": [
    "require(dplyr)\n",
    "require(ggplot2)"
   ]
  },
  {
   "cell_type": "markdown",
   "metadata": {},
   "source": [
    "**Question 1.** \n",
    "\n",
    "(a) How many transcripts are represented in this dataset? Use the `nrow()` command to return the number of rows in the dataset."
   ]
  },
  {
   "cell_type": "markdown",
   "metadata": {},
   "source": [
    "(b) Calculate the following numerical summaries for the transcript lengths: mininum, maximum, 1st and 3rd quartiles, mean and median. What striking feature do you notice based on these summaries?"
   ]
  },
  {
   "cell_type": "markdown",
   "metadata": {},
   "source": [
    "(c) Create a histogram and a boxplot of the distribution of transcript lengths. When you see them, you will notice that the plots are not particularly informative. Explain why you think that is the case."
   ]
  },
  {
   "cell_type": "markdown",
   "metadata": {},
   "source": [
    "** Question 2.**\n",
    "\n",
    "In order to better visualize data for a given variable, we can create a trimmed version of that variable that only contains data for values less than (and/or greater than) a specified value. \n",
    "\n",
    "Pick a reasonable length `a` and use the filter() function to create a trimmed version of `coding.mrna` called `lengths.subset` that only contains data for transcripts with length less than `a`. Explain your choice of where to trim the data. This is one simple strategy for making the structure of the data easier to view in the plots. \n",
    "\n",
    "With the trimmed data, draw a histogram and boxplot, and calculate numerical summaries. Now describe the shape of the data."
   ]
  },
  {
   "cell_type": "markdown",
   "metadata": {},
   "source": [
    "**Question 3.**\n",
    "\n",
    "One way of manipulating a large dataset is to take a random sample and construct numerical and graphical summaries of the sample. Use the following code to construct a random sample that consists of 10% of the original number of transcripts; the sampling is done without replacement, such that a single transcript cannot be chosen more than once.\n",
    "\n",
    "Using the `set.seed()` function allows for pseudo-random sampling; that is, a random sample that is reproducible. You can replace the numbers in this function with four numbers of your choice.\n",
    "\n",
    "The result of this code is creation of the variable transcript.sample with values equal to a subset of the original transcript lengths."
   ]
  },
  {
   "cell_type": "code",
   "execution_count": 25,
   "metadata": {},
   "outputs": [],
   "source": [
    "set.seed(1111)\n",
    "sample.size = 0.1 * nrow(coding.mrna)\n",
    "coding.sample = sample_n(coding.mrna,sample.size, replace = FALSE)"
   ]
  },
  {
   "cell_type": "markdown",
   "metadata": {},
   "source": [
    "Now with `coding.sample`, calculate the number of transcripts in the dataset and the summary measures listed in Question 1b, and draw a histogram and boxplot. Does the sample data more closely resemble the complete version of the data or the trimmed version from Question 2?"
   ]
  },
  {
   "cell_type": "markdown",
   "metadata": {},
   "source": [
    "**Question 4.**\n",
    "\n",
    "Now let's take a closer look at what is happening across chromosomes, returning to using the full dataset `coding.mrna`. The chromosome number is given by the variable `chromosome_name`.\n",
    "\n",
    "(a) Make side-by-side boxplots of transcript lengths by chromosome. Where are the longest transcripts located?"
   ]
  },
  {
   "cell_type": "markdown",
   "metadata": {},
   "source": [
    "(b) Filter `coding.mrna` to only include values from chromosome 2. Repeat for the Y chromosome. \n",
    "\n",
    "Use the `nrow()` function to compare the number of transcripts on chromosome 2 and the Y chromosome. Are the results what you might expect, based on what you know about the inheritance of human sex chromosomes? Why or why not?"
   ]
  }
 ],
 "metadata": {
  "kernelspec": {
   "display_name": "R",
   "language": "R",
   "name": "ir"
  },
  "language_info": {
   "codemirror_mode": "r",
   "file_extension": ".r",
   "mimetype": "text/x-r-source",
   "name": "R",
   "pygments_lexer": "r",
   "version": "3.4.3"
  }
 },
 "nbformat": 4,
 "nbformat_minor": 2
}
