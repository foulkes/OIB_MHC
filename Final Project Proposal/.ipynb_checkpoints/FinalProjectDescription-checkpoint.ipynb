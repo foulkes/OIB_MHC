{
 "cells": [
  {
   "cell_type": "markdown",
   "metadata": {},
   "source": [
    "## Introduction to the Ideas and Applications of Statistics (stat140)\n",
    "\n",
    "## <span style=\"color:darkblue\"> Final Project \n",
    "    \n",
    "    \n",
    "### Timeline:\n",
    "\n",
    "- Proposals due Friday April 13 @11am\n",
    "- Reports due Friday April 20 @11am\n",
    "- In-class presentations April 23-27\n",
    "\n",
    "\n",
    "### Goal:\n",
    "The aim of this final project is to **tell a story** using a data set of your choosing and the tools and concepts we have learned this semester. (Some examples are provided below).\n",
    "\n",
    "### Logistical Details:\n",
    "\n",
    "Groups:\n",
    "- All groups must be composed of 2-3 students.\n",
    "\n",
    "- Think carefully about how to form your group! Things to consider might include your work habits (do you tend to finish things ahead of time, or last minute?), diversity with respect to major and skill sets (are you a strong R programmer, or a strong writer?).\n",
    "\n",
    "- Group memberships must be finalized no later than *April 6*.\n",
    " \n",
    "Class time:\n",
    "- Some class time will be set aside for group work; however, this will not be sufficient to complete the project.  Please plan accordingly!\n",
    "\n",
    "- The group presentations will be on Monday April 23, Wedensday April 25 and Friday April 27. Each group will present for 15 minutes with additional time for questions. All group members are expected to lead a portion of the presentation.\n",
    "- These class periods are mandatory, and absence will negatively effect your participation grade. *Attendance for your group presentation is required without exception*\n",
    "\n",
    "Grade contribution:\n",
    "- The project proposal will count as one homework grade. **One submission per group**\n",
    "- The project final report and presentation will count as two homework grades. **One submission per group**\n",
    "\n",
    "### Project Proposal:\n",
    "\n",
    "The project proposal should include the following:\n",
    "1. **Authors**: A list of all project members\n",
    "\n",
    "2. **Scientific Question**: A statment of the question to be considered. This can be fairly open-ended, for example, \"Do men and women think differently about their body weight\".  \n",
    "\n",
    "3. **Data**: A paragraph description of the data set that will be used to address the question in part 2. For example, \"To address this question, we will use the Behavioral Risk Factor Surveillance System (BRFSS) dataset. The dataset includes information about the actual weight and desired weight for 172,000 survey participants..\"\n",
    "\n",
    "4. **Methods**: An explanation of the set-up of your analysis; do not provide any results in this part. Specify which variables you will use, with a brief explanation of your choices (including any variables that you might have created). If you will base your solution on any hypothesis tests and/or confidence intervals, state the null and alternative hypotheses, significance level $\\alpha$, and/or specify the confidence intervals that will be calculated. \n",
    "    - *Justify variables.* It is important to include some explanation/justification for choosing the variables to be analyzed, or for new variables that are created. This can take various forms. For example, one justification for examining the discrepancy between actual and desired weight is that this gives a quantitative measure for how someone perceives their body weight. Ideally, an explanation can go further to explicitly interpret what a negative or positive value for the discrepancy indicates, or what values close to 0 mean as opposed to values with high magnitude.\n",
    "\n",
    "    - *Specify techniques.* Be sure to clearly specify the techniques being used, in addition to which variables will be analyzed with each technique. For example, if doing a linear regression model, state which variable is the response and which variables are the predictors.\n",
    "    \n",
    "    - *State hypotheses.* Hypotheses that correspond to a test should be stated in terms of the variables used; e.g., a null hypothesis stating that the discrepancy between actual and desired weight between men and women is not different. While it is fine to have an overarching \"scientific\" hypothesis that men and women do not think differently about their weight, the statistical hypothesis that accompanies a test needs to be more quantitative.\n",
    "\n",
    "### Project Report:\n",
    "\n",
    "The project report should include the following:\n",
    "1. **Authors**: (this will be the same as the project proposal)\n",
    "\n",
    "2. **Summary**: A paragraph summarizing the scientific question, the primary anaylsis approach and the main findings.\n",
    "\n",
    "3. **Data**: (revised as needed from project proposal)\n",
    "\n",
    "4. **Methods**: (revised as needed from project proposal)\n",
    "\n",
    "5. **Results**: Provide numerical and graphical summaries of the variables in your analysis. Describe the important features of the summaries in the context of the data; include the 'R' code and output in the notebook. In words, summarize the numerical results of any tests performed, any confidence intervals calculated, and/or any linear models fitted. \n",
    "    - *Choose summaries.* A good starting point for analyzing data is to look at the distribution to identify center and spread; remember that median and IQR are robust measures, and are more reliable for skewed distributions.\n",
    "    - *Identify outliers.* Remember to mention outliers and interpret them in context; e.g. Are there many people who want to lose an unusually large amount of weight?\n",
    "    - *Describe summaries.* The description should not simply be a list of observations; provide context for the reader and highlight which aspects of the summaries are informative. For example, saying that \"The data suggest most people are only interested in changing their weight by a small magnitude (ex. under 20 pounds), with few people expressing the desire to drastically change their weight\" is more meaningful than simply stating \"The distribution is right-skewed.\"\n",
    "    - *State results: tests.* State the results of tests including a comparison of p to alpha and a statement about rejecting or failing to reject the null.\n",
    "    - *State results: models.*  For regression models, this would include the model equation and whether any coefficients were significantly different from 0. The $R^2$ would also be reported here.\n",
    "\n",
    "6. **Conclusions**: Present your conclusions, interpreting the results of the analysis in the context of the original question. \n",
    "    - *Interpret results.* Interpretation essentially means translating the raw output of the tests/models and framing them in the context of the original question. As you explain the results of tests/models, evaluate whether or not the results seem to make sense. If you observe a significant association, make a reasonable conjecture as to why the trend has meaning; for example, if a regression with discrepancy between actual and desired weight as the response and age as the predictor shows a (significantly) negative slope, it would be reasonable to say that the data suggests that as people age, they seem to be less dissatisfied with their weight.\n",
    "    \n",
    "    - *Develop Conclusions.* Go a bit further than a typical conclusion for the fifth step in hypothesis testing, since the main question was further removed from the variables being tested. A complete conclusion connects the results of the analysis back to the question. There is an important distinction between what the results of a hypothesis test can tell you and what you can conclude from the results. For example, suppose that there is evidence to support a statistically significant difference between men and women for the discrepancy between actual and desired weight, with women on average having a desired weight further from their actual weight. It does not automatically follow that this test result means men and women think differently about their weight -- it may be perfectly valid to conclude that men and women think similarly about their weight if both sexes are interested in losing weight.\n",
    "    \n",
    "### Checklist:\n",
    "\n",
    "Be sure to include each of the following in your final reports (including interpretations):\n",
    "\n",
    "1. Numerical and graphical summaries of variables.\n",
    "2. At least one confidence interval for a population mean or difference in two means.\n",
    "3. At least one t-test (one sample or two sample) comparing two population means.\n",
    "4. At least one multiple regression model that includes: (a) one or more categorical predictor variable(s) and (b) an interaction term. \n",
    "5. A discussion of missing data and potential sampling bias (in the Conclusions)."
   ]
  },
  {
   "cell_type": "markdown",
   "metadata": {},
   "source": [
    "### Possible Data Examples:\n",
    "\n",
    "Here are five possible data resources that you can use. You are not limited to these choices. Feel free to find another data set - just make sure to check with me to make sure it is suitable for the project!\n",
    "\n",
    "- The Behavioral Risk Factor Surveillance System (BRFSS) dataset.  The dataset includes information about the actual weight and desired weight (coded as `weight` and `wtdesire`, respectively) for survey participants. The variable `sex` is coded 0 for males and 1 for females. For your convenience, the variable `sex.factor` is also provided; sex is coded with two levels, \"Male\" and \"Female\". More information can be found here: https://www.cdc.gov/brfss/index.html. One possible question to address is: *Do men and women think differently about their body weight?*"
   ]
  },
  {
   "cell_type": "code",
   "execution_count": 7,
   "metadata": {},
   "outputs": [
    {
     "name": "stdout",
     "output_type": "stream",
     "text": [
      "'data.frame':\t172000 obs. of  11 variables:\n",
      " $ x.state     : int  31 27 45 29 8 24 56 21 50 24 ...\n",
      " $ age         : int  60 25 40 53 80 71 62 64 42 58 ...\n",
      " $ weight      : int  200 145 180 210 170 108 156 218 150 158 ...\n",
      " $ wtdesire    : int  150 125 170 175 170 108 153 218 140 150 ...\n",
      " $ height      : int  508 506 511 511 504 501 510 507 505 508 ...\n",
      " $ htf         : int  5 5 5 5 5 5 5 5 5 5 ...\n",
      " $ hti         : int  8 6 11 11 4 1 10 7 5 8 ...\n",
      " $ sex         : num  1 1 0 0 1 1 0 0 0 1 ...\n",
      " $ sex.factor  : Factor w/ 2 levels \"Male\",\"Female\": 2 2 1 1 2 2 1 1 1 2 ...\n",
      " $ height.total: num  68 66 71 71 64 61 70 67 65 68 ...\n",
      " $ bmi         : num  30.4 23.4 25.1 29.3 29.2 ...\n"
     ]
    }
   ],
   "source": [
    "load(\"BRFSS.Rdata\")\n",
    "str(BRFSS)"
   ]
  },
  {
   "cell_type": "markdown",
   "metadata": {},
   "source": [
    "- The file `low_bwt.Rdata` contains information for a sample of 100 low birth weight infants born in two teaching hospitals in Boston, Massachusetts. The variable `toxemia` indicates whether the mother of the child experienced toxemia during pregnancy. This condition, also known as preeclampsia, is characterized by high blood pressure and protein in urine by the 20$^{th}$ week of pregnancy; left untreated, toxemia can be life-threatening. In addition to `toxemia`, the dataset also contains the following variables:`momage`= the mother's age at the birth of the child, measured in years; `gestage` = the gestational age of the infant at birth, measured in weeks "
   ]
  },
  {
   "cell_type": "code",
   "execution_count": 1,
   "metadata": {},
   "outputs": [
    {
     "name": "stdout",
     "output_type": "stream",
     "text": [
      "'data.frame':\t100 obs. of  6 variables:\n",
      " $ birthwt : int  1360 1490 1490 1180 1200 680 620 1060 1320 830 ...\n",
      " $ gestage : int  29 31 33 31 30 25 27 29 28 29 ...\n",
      " $ momage  : int  37 34 32 37 29 19 20 25 27 32 ...\n",
      " $ toxemia : Factor w/ 2 levels \"No\",\"Yes\": 1 1 1 1 2 1 2 1 1 2 ...\n",
      " $ length  : int  41 40 38 38 38 32 33 38 30 34 ...\n",
      " $ headcirc: int  27 29 30 28 29 23 22 26 27 25 ...\n"
     ]
    }
   ],
   "source": [
    "load(\"low_bwt.Rdata\")\n",
    "str(low.bwt)"
   ]
  },
  {
   "cell_type": "markdown",
   "metadata": {},
   "source": [
    "- The National Health and Nutrition Examination Survey (NHANES) is a yearly survey conducted by the US Centers for Disease Control. The data in `NHANES` consist of survey response from 10,000 participants. Consider a sample of participants who were age 21 and older and investigate the association between poverty and education. Poverty is measured as a ratio of family income to poverty guielines; smaller numbers indicate more poverty. Education is reported for individuals aged 20 years or older and indicates the highest level of education achieved: either 8th Grade, 9 - 11th Grade, High School, Some College, or College Grad. More information can be found here: https://www.cdc.gov/nchs/nhanes/index.htm. One possible question to address is: *Is total cholesterol associated with age and diabetes status?*"
   ]
  },
  {
   "cell_type": "code",
   "execution_count": 2,
   "metadata": {},
   "outputs": [
    {
     "name": "stderr",
     "output_type": "stream",
     "text": [
      "Loading required package: NHANES\n"
     ]
    },
    {
     "name": "stdout",
     "output_type": "stream",
     "text": [
      "Classes ‘tbl_df’, ‘tbl’ and 'data.frame':\t10000 obs. of  76 variables:\n",
      " $ ID              : int  51624 51624 51624 51625 51630 51638 51646 51647 51647 51647 ...\n",
      " $ SurveyYr        : Factor w/ 2 levels \"2009_10\",\"2011_12\": 1 1 1 1 1 1 1 1 1 1 ...\n",
      " $ Gender          : Factor w/ 2 levels \"female\",\"male\": 2 2 2 2 1 2 2 1 1 1 ...\n",
      " $ Age             : int  34 34 34 4 49 9 8 45 45 45 ...\n",
      " $ AgeDecade       : Factor w/ 8 levels \" 0-9\",\" 10-19\",..: 4 4 4 1 5 1 1 5 5 5 ...\n",
      " $ AgeMonths       : int  409 409 409 49 596 115 101 541 541 541 ...\n",
      " $ Race1           : Factor w/ 5 levels \"Black\",\"Hispanic\",..: 4 4 4 5 4 4 4 4 4 4 ...\n",
      " $ Race3           : Factor w/ 6 levels \"Asian\",\"Black\",..: NA NA NA NA NA NA NA NA NA NA ...\n",
      " $ Education       : Factor w/ 5 levels \"8th Grade\",\"9 - 11th Grade\",..: 3 3 3 NA 4 NA NA 5 5 5 ...\n",
      " $ MaritalStatus   : Factor w/ 6 levels \"Divorced\",\"LivePartner\",..: 3 3 3 NA 2 NA NA 3 3 3 ...\n",
      " $ HHIncome        : Factor w/ 12 levels \" 0-4999\",\" 5000-9999\",..: 6 6 6 5 7 11 9 11 11 11 ...\n",
      " $ HHIncomeMid     : int  30000 30000 30000 22500 40000 87500 60000 87500 87500 87500 ...\n",
      " $ Poverty         : num  1.36 1.36 1.36 1.07 1.91 1.84 2.33 5 5 5 ...\n",
      " $ HomeRooms       : int  6 6 6 9 5 6 7 6 6 6 ...\n",
      " $ HomeOwn         : Factor w/ 3 levels \"Own\",\"Rent\",\"Other\": 1 1 1 1 2 2 1 1 1 1 ...\n",
      " $ Work            : Factor w/ 3 levels \"Looking\",\"NotWorking\",..: 2 2 2 NA 2 NA NA 3 3 3 ...\n",
      " $ Weight          : num  87.4 87.4 87.4 17 86.7 29.8 35.2 75.7 75.7 75.7 ...\n",
      " $ Length          : num  NA NA NA NA NA NA NA NA NA NA ...\n",
      " $ HeadCirc        : num  NA NA NA NA NA NA NA NA NA NA ...\n",
      " $ Height          : num  165 165 165 105 168 ...\n",
      " $ BMI             : num  32.2 32.2 32.2 15.3 30.6 ...\n",
      " $ BMICatUnder20yrs: Factor w/ 4 levels \"UnderWeight\",..: NA NA NA NA NA NA NA NA NA NA ...\n",
      " $ BMI_WHO         : Factor w/ 4 levels \"12.0_18.5\",\"18.5_to_24.9\",..: 4 4 4 1 4 1 2 3 3 3 ...\n",
      " $ Pulse           : int  70 70 70 NA 86 82 72 62 62 62 ...\n",
      " $ BPSysAve        : int  113 113 113 NA 112 86 107 118 118 118 ...\n",
      " $ BPDiaAve        : int  85 85 85 NA 75 47 37 64 64 64 ...\n",
      " $ BPSys1          : int  114 114 114 NA 118 84 114 106 106 106 ...\n",
      " $ BPDia1          : int  88 88 88 NA 82 50 46 62 62 62 ...\n",
      " $ BPSys2          : int  114 114 114 NA 108 84 108 118 118 118 ...\n",
      " $ BPDia2          : int  88 88 88 NA 74 50 36 68 68 68 ...\n",
      " $ BPSys3          : int  112 112 112 NA 116 88 106 118 118 118 ...\n",
      " $ BPDia3          : int  82 82 82 NA 76 44 38 60 60 60 ...\n",
      " $ Testosterone    : num  NA NA NA NA NA NA NA NA NA NA ...\n",
      " $ DirectChol      : num  1.29 1.29 1.29 NA 1.16 1.34 1.55 2.12 2.12 2.12 ...\n",
      " $ TotChol         : num  3.49 3.49 3.49 NA 6.7 4.86 4.09 5.82 5.82 5.82 ...\n",
      " $ UrineVol1       : int  352 352 352 NA 77 123 238 106 106 106 ...\n",
      " $ UrineFlow1      : num  NA NA NA NA 0.094 ...\n",
      " $ UrineVol2       : int  NA NA NA NA NA NA NA NA NA NA ...\n",
      " $ UrineFlow2      : num  NA NA NA NA NA NA NA NA NA NA ...\n",
      " $ Diabetes        : Factor w/ 2 levels \"No\",\"Yes\": 1 1 1 1 1 1 1 1 1 1 ...\n",
      " $ DiabetesAge     : int  NA NA NA NA NA NA NA NA NA NA ...\n",
      " $ HealthGen       : Factor w/ 5 levels \"Excellent\",\"Vgood\",..: 3 3 3 NA 3 NA NA 2 2 2 ...\n",
      " $ DaysPhysHlthBad : int  0 0 0 NA 0 NA NA 0 0 0 ...\n",
      " $ DaysMentHlthBad : int  15 15 15 NA 10 NA NA 3 3 3 ...\n",
      " $ LittleInterest  : Factor w/ 3 levels \"None\",\"Several\",..: 3 3 3 NA 2 NA NA 1 1 1 ...\n",
      " $ Depressed       : Factor w/ 3 levels \"None\",\"Several\",..: 2 2 2 NA 2 NA NA 1 1 1 ...\n",
      " $ nPregnancies    : int  NA NA NA NA 2 NA NA 1 1 1 ...\n",
      " $ nBabies         : int  NA NA NA NA 2 NA NA NA NA NA ...\n",
      " $ Age1stBaby      : int  NA NA NA NA 27 NA NA NA NA NA ...\n",
      " $ SleepHrsNight   : int  4 4 4 NA 8 NA NA 8 8 8 ...\n",
      " $ SleepTrouble    : Factor w/ 2 levels \"No\",\"Yes\": 2 2 2 NA 2 NA NA 1 1 1 ...\n",
      " $ PhysActive      : Factor w/ 2 levels \"No\",\"Yes\": 1 1 1 NA 1 NA NA 2 2 2 ...\n",
      " $ PhysActiveDays  : int  NA NA NA NA NA NA NA 5 5 5 ...\n",
      " $ TVHrsDay        : Factor w/ 7 levels \"0_hrs\",\"0_to_1_hr\",..: NA NA NA NA NA NA NA NA NA NA ...\n",
      " $ CompHrsDay      : Factor w/ 7 levels \"0_hrs\",\"0_to_1_hr\",..: NA NA NA NA NA NA NA NA NA NA ...\n",
      " $ TVHrsDayChild   : int  NA NA NA 4 NA 5 1 NA NA NA ...\n",
      " $ CompHrsDayChild : int  NA NA NA 1 NA 0 6 NA NA NA ...\n",
      " $ Alcohol12PlusYr : Factor w/ 2 levels \"No\",\"Yes\": 2 2 2 NA 2 NA NA 2 2 2 ...\n",
      " $ AlcoholDay      : int  NA NA NA NA 2 NA NA 3 3 3 ...\n",
      " $ AlcoholYear     : int  0 0 0 NA 20 NA NA 52 52 52 ...\n",
      " $ SmokeNow        : Factor w/ 2 levels \"No\",\"Yes\": 1 1 1 NA 2 NA NA NA NA NA ...\n",
      " $ Smoke100        : Factor w/ 2 levels \"No\",\"Yes\": 2 2 2 NA 2 NA NA 1 1 1 ...\n",
      " $ Smoke100n       : Factor w/ 2 levels \"Non-Smoker\",\"Smoker\": 2 2 2 NA 2 NA NA 1 1 1 ...\n",
      " $ SmokeAge        : int  18 18 18 NA 38 NA NA NA NA NA ...\n",
      " $ Marijuana       : Factor w/ 2 levels \"No\",\"Yes\": 2 2 2 NA 2 NA NA 2 2 2 ...\n",
      " $ AgeFirstMarij   : int  17 17 17 NA 18 NA NA 13 13 13 ...\n",
      " $ RegularMarij    : Factor w/ 2 levels \"No\",\"Yes\": 1 1 1 NA 1 NA NA 1 1 1 ...\n",
      " $ AgeRegMarij     : int  NA NA NA NA NA NA NA NA NA NA ...\n",
      " $ HardDrugs       : Factor w/ 2 levels \"No\",\"Yes\": 2 2 2 NA 2 NA NA 1 1 1 ...\n",
      " $ SexEver         : Factor w/ 2 levels \"No\",\"Yes\": 2 2 2 NA 2 NA NA 2 2 2 ...\n",
      " $ SexAge          : int  16 16 16 NA 12 NA NA 13 13 13 ...\n",
      " $ SexNumPartnLife : int  8 8 8 NA 10 NA NA 20 20 20 ...\n",
      " $ SexNumPartYear  : int  1 1 1 NA 1 NA NA 0 0 0 ...\n",
      " $ SameSex         : Factor w/ 2 levels \"No\",\"Yes\": 1 1 1 NA 2 NA NA 2 2 2 ...\n",
      " $ SexOrientation  : Factor w/ 3 levels \"Bisexual\",\"Heterosexual\",..: 2 2 2 NA 2 NA NA 1 1 1 ...\n",
      " $ PregnantNow     : Factor w/ 3 levels \"Yes\",\"No\",\"Unknown\": NA NA NA NA NA NA NA NA NA NA ...\n"
     ]
    }
   ],
   "source": [
    "require(NHANES)\n",
    "str(NHANES)"
   ]
  },
  {
   "cell_type": "markdown",
   "metadata": {},
   "source": [
    "- Guppies (*Poecilia reticulata*) are small, brightly colored tropical fish often seen in freshwater fish aquariums, and a popular model species for sexual selection research. Sexual selection refers to the process by which individuals of one gender choose mates of the other gender to sexually reproduce with; for most species, females select mates, while males compete with each other to attract females. Male sexual ornaments such as elaborate tail plumage are known to play a role in female choice; it is thought that these ornaments reflect male fitness or genetic quality. One measure of fitness involves heterozygosity (having different alleles at a given genetic locus). It would be reasonable to expect that more elaborate ornamentation is associated with more heterozygosity. \n",
    "\n",
    "    Researchers investigated the correlation between heterozygosity and male coloration in a wild population of guppies. (Herdegen, M., et al. Heterozygosity and orange coloration in the guppy (Poecilia reticulata). Journal of Evolutionary Biology 2013; 27: 220-225.) Male guppies are covered in a mixture of colored spots; orange coloration is consistently preferred by females. Heterozygosity was assessed by genotyping 9 loci and calculating the proportion of loci that are heterozygous (MLH, multilocus heterozygosity).  \n",
    "\n",
    "    The file `orange_guppies.Rdata` contains the raw data collected by researchers for 147 male guppies sampled from a river in northern Venezuela. Sampled fish were euthanized, photographed on their left sides, and fixed in 95% ethanol until molecular analyses were performed. Imaging software was used to measure the body area covered in orange spots, body length (excluding the tail fin), and body height (at the caudal peduncle)."
   ]
  },
  {
   "cell_type": "code",
   "execution_count": 3,
   "metadata": {},
   "outputs": [
    {
     "data": {
      "text/html": [
       "<table>\n",
       "<thead><tr><th scope=col>length</th><th scope=col>height</th><th scope=col>orange.area</th><th scope=col>MLH</th></tr></thead>\n",
       "<tbody>\n",
       "\t<tr><td>1391.891 </td><td>230.235  </td><td>27635    </td><td>0.5555556</td></tr>\n",
       "\t<tr><td>1198.946 </td><td>177.133  </td><td>10948    </td><td>0.5555556</td></tr>\n",
       "\t<tr><td>1469.182 </td><td>216.333  </td><td>35345    </td><td>0.6666667</td></tr>\n",
       "\t<tr><td>1217.164 </td><td>192.042  </td><td>11383    </td><td>0.5555556</td></tr>\n",
       "\t<tr><td>1293.213 </td><td>204.783  </td><td>11914    </td><td>0.5555556</td></tr>\n",
       "\t<tr><td>1326.988 </td><td>212.000  </td><td>14654    </td><td>0.4444444</td></tr>\n",
       "</tbody>\n",
       "</table>\n"
      ],
      "text/latex": [
       "\\begin{tabular}{r|llll}\n",
       " length & height & orange.area & MLH\\\\\n",
       "\\hline\n",
       "\t 1391.891  & 230.235   & 27635     & 0.5555556\\\\\n",
       "\t 1198.946  & 177.133   & 10948     & 0.5555556\\\\\n",
       "\t 1469.182  & 216.333   & 35345     & 0.6666667\\\\\n",
       "\t 1217.164  & 192.042   & 11383     & 0.5555556\\\\\n",
       "\t 1293.213  & 204.783   & 11914     & 0.5555556\\\\\n",
       "\t 1326.988  & 212.000   & 14654     & 0.4444444\\\\\n",
       "\\end{tabular}\n"
      ],
      "text/markdown": [
       "\n",
       "length | height | orange.area | MLH | \n",
       "|---|---|---|---|---|---|\n",
       "| 1391.891  | 230.235   | 27635     | 0.5555556 | \n",
       "| 1198.946  | 177.133   | 10948     | 0.5555556 | \n",
       "| 1469.182  | 216.333   | 35345     | 0.6666667 | \n",
       "| 1217.164  | 192.042   | 11383     | 0.5555556 | \n",
       "| 1293.213  | 204.783   | 11914     | 0.5555556 | \n",
       "| 1326.988  | 212.000   | 14654     | 0.4444444 | \n",
       "\n",
       "\n"
      ],
      "text/plain": [
       "  length   height  orange.area MLH      \n",
       "1 1391.891 230.235 27635       0.5555556\n",
       "2 1198.946 177.133 10948       0.5555556\n",
       "3 1469.182 216.333 35345       0.6666667\n",
       "4 1217.164 192.042 11383       0.5555556\n",
       "5 1293.213 204.783 11914       0.5555556\n",
       "6 1326.988 212.000 14654       0.4444444"
      ]
     },
     "metadata": {},
     "output_type": "display_data"
    }
   ],
   "source": [
    "load(\"orange_guppies.Rdata\")\n",
    "head(orange.guppies)"
   ]
  },
  {
   "cell_type": "markdown",
   "metadata": {},
   "source": [
    "- The Prevention of REnal and Vascular END-stage Disease (PREVEND) study, which took place between 2003 and 2006 in the Netherlands. Clinical and demographic data for the 4,095 participants. As adults age, cognitive function changes over time, largely due to various cerebrovascular and neurodegenerative changes. The Ruff Figural Fluency Test (RFFT) is one measure of cognitive function; higher scores indicate better cognitive function. More information is available here: http://www.bioshare.eu/content/prevention-renal-and-vascular-end-stage-disease"
   ]
  },
  {
   "cell_type": "code",
   "execution_count": 5,
   "metadata": {},
   "outputs": [
    {
     "name": "stdout",
     "output_type": "stream",
     "text": [
      "'data.frame':\t4095 obs. of  31 variables:\n",
      " $ Casenr       : int  1 2 3 4 5 6 7 8 9 10 ...\n",
      " $ Age          : int  35 35 35 35 35 35 35 35 35 35 ...\n",
      " $ Gender       : int  0 0 0 0 0 0 0 0 0 0 ...\n",
      " $ Ethnicity    : int  0 0 0 0 0 0 0 0 0 0 ...\n",
      " $ Education    : int  3 3 2 2 3 1 2 0 2 2 ...\n",
      " $ RFFT         : int  58 82 105 39 94 40 102 84 60 102 ...\n",
      " $ VAT          : int  11 11 10 12 -1 9 12 12 11 11 ...\n",
      " $ CVD          : int  0 0 0 0 0 0 0 0 0 0 ...\n",
      " $ DM           : int  0 0 0 0 0 0 0 0 0 0 ...\n",
      " $ Smoking      : int  1 0 1 0 0 0 1 0 0 1 ...\n",
      " $ Hypertension : int  0 0 0 0 0 0 0 0 0 0 ...\n",
      " $ BMI          : num  24.6 21.2 29.2 29.2 29.6 ...\n",
      " $ SBP          : num  116 118 132 130 118 ...\n",
      " $ DBP          : num  64.5 61 79 79.5 71.5 69 64.5 67 58.5 58 ...\n",
      " $ MAP          : num  78.5 81 98.5 98.5 88 89 85.5 83.5 75.5 75.5 ...\n",
      " $ eGFR         : num  68.2 104.6 98.5 113.1 90.6 ...\n",
      " $ Albuminuria.1: int  0 0 1 0 0 0 0 0 0 0 ...\n",
      " $ Albuminuria.2: int  1 0 2 0 1 0 1 0 0 0 ...\n",
      " $ Chol         : num  5.5 3.65 6.93 3.95 4.58 5.64 5.35 6.16 4.68 5.09 ...\n",
      " $ HDL          : num  0.94 0.87 1.14 0.98 0.92 1.1 0.9 1.19 0.87 1.31 ...\n",
      " $ Statin       : int  0 0 0 0 0 0 0 0 0 0 ...\n",
      " $ Solubility   : int  2 2 2 2 2 2 2 2 2 2 ...\n",
      " $ Days         : int  -1 -1 -1 -1 -1 -1 -1 -1 -1 -1 ...\n",
      " $ Years        : num  -1 -1 -1 -1 -1 -1 -1 -1 -1 -1 ...\n",
      " $ DDD          : num  0 0 0 0 0 0 0 0 0 0 ...\n",
      " $ FRS          : int  7 2 11 4 2 3 11 2 3 4 ...\n",
      " $ PS           : num  0.081 0.0607 0.1705 0.0901 0.0764 ...\n",
      " $ PSquint      : int  2 1 3 2 2 2 2 2 2 2 ...\n",
      " $ GRS          : int  1 0 1 0 0 0 1 1 0 1 ...\n",
      " $ Match_1      : int  -1 -1 -1 -1 -1 -1 -1 -1 -1 -1 ...\n",
      " $ Match_2      : int  -1 -1 -1 -1 -1 -1 -1 -1 -1 -1 ...\n"
     ]
    }
   ],
   "source": [
    "require(oibiostat)\n",
    "data(prevend)\n",
    "str(prevend)"
   ]
  }
 ],
 "metadata": {
  "kernelspec": {
   "display_name": "R",
   "language": "R",
   "name": "ir"
  },
  "language_info": {
   "codemirror_mode": "r",
   "file_extension": ".r",
   "mimetype": "text/x-r-source",
   "name": "R",
   "pygments_lexer": "r",
   "version": "3.4.3"
  }
 },
 "nbformat": 4,
 "nbformat_minor": 2
}
