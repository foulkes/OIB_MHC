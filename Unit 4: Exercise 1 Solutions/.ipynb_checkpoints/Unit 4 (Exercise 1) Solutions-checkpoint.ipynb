{
 "cells": [
  {
   "cell_type": "markdown",
   "metadata": {},
   "source": [
    "#### Unit 4: Exercise 1\n",
    "\n",
    "This exercise uses data from the Youth Risk Factor Behavior Surveillance System (YRBSS), a yearly survey conducted by the US Centers for Disease Control to measure health-related activity in high-school aged youth. The dataset \\texttt{yrbss} in the OIBioStat package contains responses from the 13,572 participants in 2013 for a subset of the variables included in the complete survey data. \n",
    "\n",
    "Variables in the dataset include:\n",
    "\n",
    "  - age: age in years\n",
    "\n",
    "  - gender: gender of participant, recorded as either female or male\n",
    "  \n",
    "  - grade: grade in high school (9-12)\n",
    "  \n",
    "  - height: height, in meters (1 m = 3.28 ft)\n",
    "  \n",
    "  - weight: weight, in kilograms (1 kg = 2.2 lbs)\n",
    "  \n",
    "  - helmet.12m: frequency that the student wore a helmet while biking in the last 12 months, either always, most of time, sometimes, rarely, never, or did not ride\n",
    "  \n",
    "  - physically.active.7d: number of days physically active for 60+ minutes in the last 7 days\n",
    "  \n",
    "  - strength.training.7d: number of days of strength training in the last 7 days\n",
    "\n",
    "  \n",
    "The CDC used the responses from the 13,572 students to estimate the health behaviors of the target population: the 21.2 million high school aged students in the US in 2013. \n",
    "\n",
    "**Goal**: Observe the effect of sampling by treating the 13,572 individuals in `yrbss` as our target population, and drawing random samples. How do point estimates of mean weight, $\\overline{x}_{weight}$, calculated from random samples compare to the population parameter, $\\mu_{weight}$?\n",
    "\n"
   ]
  },
  {
   "cell_type": "markdown",
   "metadata": {},
   "source": [
    "#### Problem 1:\n",
    "(a) Use the code from class to draw a sample of size 10 from the yrbss data\n"
   ]
  },
  {
   "cell_type": "markdown",
   "metadata": {},
   "source": [
    "#### Solution:"
   ]
  },
  {
   "cell_type": "code",
   "execution_count": 2,
   "metadata": {},
   "outputs": [
    {
     "name": "stderr",
     "output_type": "stream",
     "text": [
      "Loading required package: oibiostat\n"
     ]
    },
    {
     "data": {
      "text/html": [
       "<table>\n",
       "<thead><tr><th scope=col>age</th><th scope=col>gender</th><th scope=col>grade</th><th scope=col>hispanic</th><th scope=col>race</th><th scope=col>height</th><th scope=col>weight</th><th scope=col>helmet.12m</th><th scope=col>text.while.driving.30d</th><th scope=col>physically.active.7d</th><th scope=col>hours.tv.per.school.day</th><th scope=col>strength.training.7d</th><th scope=col>school.night.hours.sleep</th></tr></thead>\n",
       "<tbody>\n",
       "\t<tr><td>14                                       </td><td>female                                   </td><td>9                                        </td><td>not                                      </td><td>Black or African American                </td><td>  NA                                     </td><td>   NA                                    </td><td>never                                    </td><td>0                                        </td><td>4                                        </td><td>5+                                       </td><td>0                                        </td><td>8                                        </td></tr>\n",
       "\t<tr><td>14                                       </td><td>female                                   </td><td>9                                        </td><td>not                                      </td><td>Black or African American                </td><td>  NA                                     </td><td>   NA                                    </td><td>never                                    </td><td>NA                                       </td><td>2                                        </td><td>5+                                       </td><td>0                                        </td><td>6                                        </td></tr>\n",
       "\t<tr><td>15                                                   </td><td>female                                               </td><td>9                                                    </td><td>hispanic                                             </td><td>Native Hawaiian or Other Pacific Islander            </td><td>1.73                                                 </td><td>84.37                                                </td><td><span style=white-space:pre-wrap>never       </span> </td><td><span style=white-space:pre-wrap>30           </span></td><td>7                                                    </td><td>5+                                                   </td><td>0                                                    </td><td>&lt;5                                                </td></tr>\n",
       "\t<tr><td>15                                       </td><td>female                                   </td><td>9                                        </td><td>not                                      </td><td>Black or African American                </td><td>1.60                                     </td><td>55.79                                    </td><td>never                                    </td><td>0                                        </td><td>0                                        </td><td>2                                        </td><td>0                                        </td><td>6                                        </td></tr>\n",
       "\t<tr><td>15                                       </td><td>female                                   </td><td>9                                        </td><td>not                                      </td><td>Black or African American                </td><td>1.50                                     </td><td>46.72                                    </td><td>did not ride                             </td><td>did not drive                            </td><td>2                                        </td><td>3                                        </td><td>1                                        </td><td>9                                        </td></tr>\n",
       "\t<tr><td>15                                       </td><td>female                                   </td><td>9                                        </td><td>not                                      </td><td>Black or African American                </td><td>1.57                                     </td><td>67.13                                    </td><td>did not ride                             </td><td>did not drive                            </td><td>1                                        </td><td>5+                                       </td><td>0                                        </td><td>8                                        </td></tr>\n",
       "</tbody>\n",
       "</table>\n"
      ],
      "text/latex": [
       "\\begin{tabular}{r|lllllllllllll}\n",
       " age & gender & grade & hispanic & race & height & weight & helmet.12m & text.while.driving.30d & physically.active.7d & hours.tv.per.school.day & strength.training.7d & school.night.hours.sleep\\\\\n",
       "\\hline\n",
       "\t 14                                        & female                                    & 9                                         & not                                       & Black or African American                 &   NA                                      &    NA                                     & never                                     & 0                                         & 4                                         & 5+                                        & 0                                         & 8                                        \\\\\n",
       "\t 14                                        & female                                    & 9                                         & not                                       & Black or African American                 &   NA                                      &    NA                                     & never                                     & NA                                        & 2                                         & 5+                                        & 0                                         & 6                                        \\\\\n",
       "\t 15                                        & female                                    & 9                                         & hispanic                                  & Native Hawaiian or Other Pacific Islander & 1.73                                      & 84.37                                     & never                                     & 30                                        & 7                                         & 5+                                        & 0                                         & <5                                       \\\\\n",
       "\t 15                                        & female                                    & 9                                         & not                                       & Black or African American                 & 1.60                                      & 55.79                                     & never                                     & 0                                         & 0                                         & 2                                         & 0                                         & 6                                        \\\\\n",
       "\t 15                                        & female                                    & 9                                         & not                                       & Black or African American                 & 1.50                                      & 46.72                                     & did not ride                              & did not drive                             & 2                                         & 3                                         & 1                                         & 9                                        \\\\\n",
       "\t 15                                        & female                                    & 9                                         & not                                       & Black or African American                 & 1.57                                      & 67.13                                     & did not ride                              & did not drive                             & 1                                         & 5+                                        & 0                                         & 8                                        \\\\\n",
       "\\end{tabular}\n"
      ],
      "text/markdown": [
       "\n",
       "age | gender | grade | hispanic | race | height | weight | helmet.12m | text.while.driving.30d | physically.active.7d | hours.tv.per.school.day | strength.training.7d | school.night.hours.sleep | \n",
       "|---|---|---|---|---|---|\n",
       "| 14                                        | female                                    | 9                                         | not                                       | Black or African American                 |   NA                                      |    NA                                     | never                                     | 0                                         | 4                                         | 5+                                        | 0                                         | 8                                         | \n",
       "| 14                                        | female                                    | 9                                         | not                                       | Black or African American                 |   NA                                      |    NA                                     | never                                     | NA                                        | 2                                         | 5+                                        | 0                                         | 6                                         | \n",
       "| 15                                        | female                                    | 9                                         | hispanic                                  | Native Hawaiian or Other Pacific Islander | 1.73                                      | 84.37                                     | never                                     | 30                                        | 7                                         | 5+                                        | 0                                         | <5                                        | \n",
       "| 15                                        | female                                    | 9                                         | not                                       | Black or African American                 | 1.60                                      | 55.79                                     | never                                     | 0                                         | 0                                         | 2                                         | 0                                         | 6                                         | \n",
       "| 15                                        | female                                    | 9                                         | not                                       | Black or African American                 | 1.50                                      | 46.72                                     | did not ride                              | did not drive                             | 2                                         | 3                                         | 1                                         | 9                                         | \n",
       "| 15                                        | female                                    | 9                                         | not                                       | Black or African American                 | 1.57                                      | 67.13                                     | did not ride                              | did not drive                             | 1                                         | 5+                                        | 0                                         | 8                                         | \n",
       "\n",
       "\n"
      ],
      "text/plain": [
       "  age gender grade hispanic race                                      height\n",
       "1 14  female 9     not      Black or African American                   NA  \n",
       "2 14  female 9     not      Black or African American                   NA  \n",
       "3 15  female 9     hispanic Native Hawaiian or Other Pacific Islander 1.73  \n",
       "4 15  female 9     not      Black or African American                 1.60  \n",
       "5 15  female 9     not      Black or African American                 1.50  \n",
       "6 15  female 9     not      Black or African American                 1.57  \n",
       "  weight helmet.12m   text.while.driving.30d physically.active.7d\n",
       "1    NA  never        0                      4                   \n",
       "2    NA  never        NA                     2                   \n",
       "3 84.37  never        30                     7                   \n",
       "4 55.79  never        0                      0                   \n",
       "5 46.72  did not ride did not drive          2                   \n",
       "6 67.13  did not ride did not drive          1                   \n",
       "  hours.tv.per.school.day strength.training.7d school.night.hours.sleep\n",
       "1 5+                      0                    8                       \n",
       "2 5+                      0                    6                       \n",
       "3 5+                      0                    <5                      \n",
       "4 2                       0                    6                       \n",
       "5 3                       1                    9                       \n",
       "6 5+                      0                    8                       "
      ]
     },
     "metadata": {},
     "output_type": "display_data"
    }
   ],
   "source": [
    "#load(\"yrbss.rda\")\n",
    "require(oibiostat)\n",
    "data(yrbss)\n",
    "head(yrbss)"
   ]
  },
  {
   "cell_type": "code",
   "execution_count": 4,
   "metadata": {},
   "outputs": [],
   "source": [
    "require(dplyr)\n",
    "set.seed(5011) \n",
    "yrbss.sample = sample_n(yrbss, size=10)"
   ]
  },
  {
   "cell_type": "markdown",
   "metadata": {},
   "source": [
    "(b) How many students of each gender have been sampled? What is the mean age of the sampled students?"
   ]
  },
  {
   "cell_type": "markdown",
   "metadata": {},
   "source": [
    "#### Solution:"
   ]
  },
  {
   "cell_type": "code",
   "execution_count": 5,
   "metadata": {},
   "outputs": [
    {
     "data": {
      "text/html": [
       "<table>\n",
       "<thead><tr><th scope=col>gender</th><th scope=col>n</th><th scope=col>mean</th></tr></thead>\n",
       "<tbody>\n",
       "\t<tr><td>female</td><td>8     </td><td>16.125</td></tr>\n",
       "\t<tr><td>male  </td><td>2     </td><td>18.000</td></tr>\n",
       "</tbody>\n",
       "</table>\n"
      ],
      "text/latex": [
       "\\begin{tabular}{r|lll}\n",
       " gender & n & mean\\\\\n",
       "\\hline\n",
       "\t female & 8      & 16.125\\\\\n",
       "\t male   & 2      & 18.000\\\\\n",
       "\\end{tabular}\n"
      ],
      "text/markdown": [
       "\n",
       "gender | n | mean | \n",
       "|---|---|\n",
       "| female | 8      | 16.125 | \n",
       "| male   | 2      | 18.000 | \n",
       "\n",
       "\n"
      ],
      "text/plain": [
       "  gender n mean  \n",
       "1 female 8 16.125\n",
       "2 male   2 18.000"
      ]
     },
     "metadata": {},
     "output_type": "display_data"
    },
    {
     "data": {
      "text/html": [
       "<table>\n",
       "<thead><tr><th scope=col>n</th><th scope=col>mean</th></tr></thead>\n",
       "<tbody>\n",
       "\t<tr><td>10  </td><td>16.5</td></tr>\n",
       "</tbody>\n",
       "</table>\n"
      ],
      "text/latex": [
       "\\begin{tabular}{r|ll}\n",
       " n & mean\\\\\n",
       "\\hline\n",
       "\t 10   & 16.5\\\\\n",
       "\\end{tabular}\n"
      ],
      "text/markdown": [
       "\n",
       "n | mean | \n",
       "|---|\n",
       "| 10   | 16.5 | \n",
       "\n",
       "\n"
      ],
      "text/plain": [
       "  n  mean\n",
       "1 10 16.5"
      ]
     },
     "metadata": {},
     "output_type": "display_data"
    }
   ],
   "source": [
    "yrbss.sample %>%\n",
    "    group_by(gender) %>%\n",
    "    summarize(n=n(),mean=mean(age,na.rm=TRUE))\n",
    "\n",
    "yrbss.sample %>%\n",
    "    summarize(n=n(),mean=mean(age,na.rm=TRUE))"
   ]
  },
  {
   "cell_type": "markdown",
   "metadata": {},
   "source": [
    "(c) Calculate $\\overline{x}_{weight}$ and $s_{weight}$, the mean and standard deviation of weight in the sample. \n"
   ]
  },
  {
   "cell_type": "markdown",
   "metadata": {},
   "source": [
    "#### Solution:"
   ]
  },
  {
   "cell_type": "code",
   "execution_count": 6,
   "metadata": {},
   "outputs": [
    {
     "data": {
      "text/html": [
       "<table>\n",
       "<thead><tr><th scope=col>mean</th><th scope=col>sd</th></tr></thead>\n",
       "<tbody>\n",
       "\t<tr><td>68.131  </td><td>12.03221</td></tr>\n",
       "</tbody>\n",
       "</table>\n"
      ],
      "text/latex": [
       "\\begin{tabular}{r|ll}\n",
       " mean & sd\\\\\n",
       "\\hline\n",
       "\t 68.131   & 12.03221\\\\\n",
       "\\end{tabular}\n"
      ],
      "text/markdown": [
       "\n",
       "mean | sd | \n",
       "|---|\n",
       "| 68.131   | 12.03221 | \n",
       "\n",
       "\n"
      ],
      "text/plain": [
       "  mean   sd      \n",
       "1 68.131 12.03221"
      ]
     },
     "metadata": {},
     "output_type": "display_data"
    }
   ],
   "source": [
    "yrbss.sample %>%\n",
    "    summarize(mean=mean(weight,na.rm=TRUE),sd=sd(weight, na.rm = TRUE))"
   ]
  },
  {
   "cell_type": "markdown",
   "metadata": {},
   "source": [
    "(d) Calculate $\\mu_{weight}$, the mean weight in the `yrbss` population. "
   ]
  },
  {
   "cell_type": "markdown",
   "metadata": {},
   "source": [
    "#### Solution:"
   ]
  },
  {
   "cell_type": "code",
   "execution_count": 7,
   "metadata": {},
   "outputs": [
    {
     "data": {
      "text/html": [
       "<table>\n",
       "<thead><tr><th scope=col>mean</th><th scope=col>sd</th></tr></thead>\n",
       "<tbody>\n",
       "\t<tr><td>67.9065 </td><td>16.89821</td></tr>\n",
       "</tbody>\n",
       "</table>\n"
      ],
      "text/latex": [
       "\\begin{tabular}{r|ll}\n",
       " mean & sd\\\\\n",
       "\\hline\n",
       "\t 67.9065  & 16.89821\\\\\n",
       "\\end{tabular}\n"
      ],
      "text/markdown": [
       "\n",
       "mean | sd | \n",
       "|---|\n",
       "| 67.9065  | 16.89821 | \n",
       "\n",
       "\n"
      ],
      "text/plain": [
       "  mean    sd      \n",
       "1 67.9065 16.89821"
      ]
     },
     "metadata": {},
     "output_type": "display_data"
    }
   ],
   "source": [
    "yrbss %>%\n",
    "    summarize(mean=mean(weight,na.rm=TRUE),sd=sd(weight, na.rm = TRUE))"
   ]
  },
  {
   "cell_type": "markdown",
   "metadata": {},
   "source": [
    "(e) Take a new random sample of size 10 from `yrbss`, changing the seed to be the the last four digits of your Mount Holyoke ID. What is $\\overline{x}_{weight}$, as calculated from your sample? Does it differ from $\\overline{x}_{weight}$ as calculated in part (d)? How do these point estimates compare to the population parameter $\\mu_{weight}$?"
   ]
  },
  {
   "cell_type": "markdown",
   "metadata": {},
   "source": [
    "#### Solution:"
   ]
  },
  {
   "cell_type": "code",
   "execution_count": 8,
   "metadata": {},
   "outputs": [
    {
     "data": {
      "text/html": [
       "<table>\n",
       "<thead><tr><th scope=col>mean</th></tr></thead>\n",
       "<tbody>\n",
       "\t<tr><td>68.39333</td></tr>\n",
       "</tbody>\n",
       "</table>\n"
      ],
      "text/latex": [
       "\\begin{tabular}{r|l}\n",
       " mean\\\\\n",
       "\\hline\n",
       "\t 68.39333\\\\\n",
       "\\end{tabular}\n"
      ],
      "text/markdown": [
       "\n",
       "mean | \n",
       "|---|\n",
       "| 68.39333 | \n",
       "\n",
       "\n"
      ],
      "text/plain": [
       "  mean    \n",
       "1 68.39333"
      ]
     },
     "metadata": {},
     "output_type": "display_data"
    }
   ],
   "source": [
    "set.seed(6925) \n",
    "yrbss.sample2 = sample_n(yrbss, size=10)\n",
    "\n",
    "yrbss.sample2 %>%\n",
    "    summarize(mean=mean(weight,na.rm=TRUE))"
   ]
  },
  {
   "cell_type": "markdown",
   "metadata": {},
   "source": [
    "From this sample, $\\overline{x}_{weight}$ is 68.39kg. It is larger than the sample mean calculated in part c)(68.13 kg) of the previous question and the population parameter $\\mu_{weight}$ (67.91kg). "
   ]
  },
  {
   "cell_type": "markdown",
   "metadata": {},
   "source": [
    "#### Problem 2:\n",
    "\n",
    "(a) Take 1,000 random samples of size 10 from `yrbss`. For each sample, calculate the mean weight for participants in the sample and stores the value in the vector `sample.means`."
   ]
  },
  {
   "cell_type": "markdown",
   "metadata": {},
   "source": [
    "#### Solution:"
   ]
  },
  {
   "cell_type": "code",
   "execution_count": 10,
   "metadata": {},
   "outputs": [],
   "source": [
    "require(mosaic)\n",
    "sample.means = do(1000) * {\n",
    "    yrbss.sample = sample_n(yrbss, size=10)\n",
    "    yrbss.sample %>%\n",
    "    summarize(mean=mean(weight,na.rm=TRUE))\n",
    "    }\n",
    "#sample.means"
   ]
  },
  {
   "cell_type": "markdown",
   "metadata": {},
   "source": [
    "(b) Describe the distribution of sample means. "
   ]
  },
  {
   "cell_type": "markdown",
   "metadata": {},
   "source": [
    "#### Solution:"
   ]
  },
  {
   "cell_type": "code",
   "execution_count": 11,
   "metadata": {},
   "outputs": [
    {
     "data": {
      "text/plain": [
       "      mean      \n",
       " Min.   :50.41  \n",
       " 1st Qu.:63.70  \n",
       " Median :67.26  \n",
       " Mean   :67.59  \n",
       " 3rd Qu.:70.87  \n",
       " Max.   :90.90  "
      ]
     },
     "metadata": {},
     "output_type": "display_data"
    }
   ],
   "source": [
    "summary(sample.means)"
   ]
  },
  {
   "cell_type": "code",
   "execution_count": 13,
   "metadata": {},
   "outputs": [
    {
     "name": "stderr",
     "output_type": "stream",
     "text": [
      "Don't know how to automatically pick scale for object of type do.data.frame/data.frame. Defaulting to continuous.\n",
      "`stat_bin()` using `bins = 30`. Pick better value with `binwidth`.\n"
     ]
    },
    {
     "data": {},
     "metadata": {},
     "output_type": "display_data"
    },
    {
     "data": {
      "image/png": "[encoded data removed]",
      "text/plain": [
       "plot without title"
      ]
     },
     "metadata": {},
     "output_type": "display_data"
    }
   ],
   "source": [
    "require(ggplot2)\n",
    "ggplot(data=sample.means,aes(sample.means)) +\n",
    "    geom_histogram()"
   ]
  },
  {
   "cell_type": "code",
   "execution_count": 14,
   "metadata": {},
   "outputs": [
    {
     "name": "stderr",
     "output_type": "stream",
     "text": [
      "Don't know how to automatically pick scale for object of type do.data.frame/data.frame. Defaulting to continuous.\n"
     ]
    },
    {
     "data": {},
     "metadata": {},
     "output_type": "display_data"
    },
    {
     "data": {
      "image/png": "[encoded data removed]",
      "text/plain": [
       "plot without title"
      ]
     },
     "metadata": {},
     "output_type": "display_data"
    }
   ],
   "source": [
    "ggplot(data=sample.means,aes(x=\"\",y=sample.means)) +\n",
    "    geom_boxplot()"
   ]
  },
  {
   "cell_type": "markdown",
   "metadata": {},
   "source": [
    "The distribution of sample means is somewhat symmetric, with some right skewing. The mean of sample means is about 68 kg, which is close to the population mean weight from `yrbss` of 68.4."
   ]
  },
  {
   "cell_type": "markdown",
   "metadata": {},
   "source": [
    "(c) Examine the effect of larger sample sizes by re-running the code for sample sizes of 25, 100, and 1000 and using histograms, describe how the distribution of sample means changes as sample size increases. "
   ]
  },
  {
   "cell_type": "markdown",
   "metadata": {},
   "source": [
    "#### Solution:"
   ]
  },
  {
   "cell_type": "code",
   "execution_count": 15,
   "metadata": {},
   "outputs": [
    {
     "name": "stderr",
     "output_type": "stream",
     "text": [
      "Don't know how to automatically pick scale for object of type do.data.frame/data.frame. Defaulting to continuous.\n",
      "`stat_bin()` using `bins = 30`. Pick better value with `binwidth`.\n"
     ]
    },
    {
     "data": {},
     "metadata": {},
     "output_type": "display_data"
    },
    {
     "data": {
      "image/png": "[encoded data removed]",
      "text/plain": [
       "plot without title"
      ]
     },
     "metadata": {},
     "output_type": "display_data"
    }
   ],
   "source": [
    "sample.means = do(1000) * {\n",
    "    yrbss.sample = sample_n(yrbss, size=25)\n",
    "    yrbss.sample %>%\n",
    "    summarize(mean=mean(weight,na.rm=TRUE))\n",
    "    }\n",
    "ggplot(data=sample.means,aes(sample.means)) +\n",
    "    geom_histogram()"
   ]
  },
  {
   "cell_type": "code",
   "execution_count": 16,
   "metadata": {},
   "outputs": [
    {
     "name": "stderr",
     "output_type": "stream",
     "text": [
      "Don't know how to automatically pick scale for object of type do.data.frame/data.frame. Defaulting to continuous.\n",
      "`stat_bin()` using `bins = 30`. Pick better value with `binwidth`.\n"
     ]
    },
    {
     "data": {},
     "metadata": {},
     "output_type": "display_data"
    },
    {
     "data": {
      "image/png": "[encoded data removed]",
      "text/plain": [
       "plot without title"
      ]
     },
     "metadata": {},
     "output_type": "display_data"
    }
   ],
   "source": [
    "sample.means = do(1000) * {\n",
    "    yrbss.sample = sample_n(yrbss, size=100)\n",
    "    yrbss.sample %>%\n",
    "    summarize(mean=mean(weight,na.rm=TRUE))\n",
    "    }\n",
    "ggplot(data=sample.means,aes(sample.means)) +\n",
    "    geom_histogram()"
   ]
  },
  {
   "cell_type": "code",
   "execution_count": 17,
   "metadata": {},
   "outputs": [
    {
     "name": "stderr",
     "output_type": "stream",
     "text": [
      "Don't know how to automatically pick scale for object of type do.data.frame/data.frame. Defaulting to continuous.\n",
      "`stat_bin()` using `bins = 30`. Pick better value with `binwidth`.\n"
     ]
    },
    {
     "data": {},
     "metadata": {},
     "output_type": "display_data"
    },
    {
     "data": {
      "image/png": "[encoded data removed]",
      "text/plain": [
       "plot without title"
      ]
     },
     "metadata": {},
     "output_type": "display_data"
    }
   ],
   "source": [
    "sample.means = do(1000) * {\n",
    "    yrbss.sample = sample_n(yrbss, size=1000)\n",
    "    yrbss.sample %>%\n",
    "    summarize(mean=mean(weight,na.rm=TRUE))\n",
    "    }\n",
    "ggplot(data=sample.means,aes(sample.means)) +\n",
    "    geom_histogram()"
   ]
  },
  {
   "cell_type": "markdown",
   "metadata": {},
   "source": [
    "As the sample size increases, the spread of the distribution decreases. With a sample size of 10, the sample means rangefrom about 55 kg to 85 kg. Once sample size increases to 1000, the sample means are all between 66 kg and 70 kg. It may be difficult to tell from the plots, but zooming in to the plots shows that the mean of sample means approaches the population mean weight as sample size increases."
   ]
  },
  {
   "cell_type": "markdown",
   "metadata": {},
   "source": [
    "(d) Recall that the goal of inference is to learn about characteristics of a target population through the information obtained by taking one sample. What is the advantage of a larger sample size? "
   ]
  },
  {
   "cell_type": "markdown",
   "metadata": {},
   "source": [
    "#### Solution:\n",
    "\n",
    "A larger sample size makes it more likely that the sample mean is close to the population parameter. In other words, a larger sample size increases the chance that the point estimate from a given sample is accurate. "
   ]
  },
  {
   "cell_type": "markdown",
   "metadata": {},
   "source": [
    "(e) From what you have observed in this exercise about the relationship between a point estimate for the mean ($\\overline{x}$) and the population mean ($\\mu$), evaluate the following statement:\n",
    "\n",
    "*Since the mean weight of the 13,572 sampled high-school students in the 2013 YRBSS survey is 67.91 kg, it is possible to definitively conclude that the mean weight of the 21.2 million high-school aged students in the US in 2013 is also 67.91 kg.*\n"
   ]
  },
  {
   "cell_type": "markdown",
   "metadata": {},
   "source": [
    "#### Solution:\n",
    "\n",
    "It is not possible to conclude that the point estimate from the 13,572 sampled students is precisely equal to the population mean weight across the target population of 21.2 million students. As we have seen from the series of histograms, there is variation from sample to sample; it is quite possible that the mean of this particular sample is not equal to the actual population mean weight. However, it is possible to say that the sample mean is a reasonable estimate of the actual population mean weight, given the large sample size."
   ]
  }
 ],
 "metadata": {
  "kernelspec": {
   "display_name": "R",
   "language": "R",
   "name": "ir"
  },
  "language_info": {
   "codemirror_mode": "r",
   "file_extension": ".r",
   "mimetype": "text/x-r-source",
   "name": "R",
   "pygments_lexer": "r",
   "version": "3.4.3"
  }
 },
 "nbformat": 4,
 "nbformat_minor": 2
}
