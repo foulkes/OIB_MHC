{
 "cells": [
  {
   "cell_type": "markdown",
   "metadata": {},
   "source": [
    "## <span style=\"color:darkblue\"> Problem Set 2: Introduction to Data (continued)\n",
    "\n",
    "Stat140-02: Introduction to the Ideas and Applications of Statistics \n",
    "\n",
    "Due: Friday, Feb 16 @11am"
   ]
  },
  {
   "cell_type": "markdown",
   "metadata": {},
   "source": [
    "**Problem set policies:** Please provide concise, clear answers for each question. Note that only writing the result of a calculation (e.g., \"SD = 3.3\") without explanation is not sufficient. For problems involving `R`, include the code in your solution, along with any plots.\n",
    "\t\t\n",
    "Each problem set is due by 11:00am on the due date; please submit your problem set via gyrd\n",
    "\t\t\n",
    "*You are encouraged to discuss problems with other students (and, of course, with the course head and the TAs), but you must write your final answer in your own words. Solutions prepared \"in committee\" are not acceptable. If you do collaborate with classmates on a problem, please list your collaborators on your solution.*"
   ]
  },
  {
   "cell_type": "markdown",
   "metadata": {},
   "source": [
    "#### Background information \n",
    "\n",
    "In the United States, individuals with developmental disabilities typically receive services and support from state governments. The State of California allocates funds to developmentally-disabled residents through the California Department of Developmental Services (DDS); individuals receiving DDS funds are referred to as 'consumers'. The dataset \\texttt{dds.discr} represents a sample of 1,000 DDS consumers (out of a total population of approximately 250,000), and includes information about age, gender, ethnicity, and the amount of financial support per consumer provided by the DDS. The dataset is available in the \\texttt{oibiostat} package.\n",
    "\n",
    "A team of researchers examined the mean annual expenditure on consumers by ethnicity, and found that the mean annual expenditures on Hispanic consumers was approximately one-third of the mean expenditures on White non-Hispanic consumers. As a result, an allegation of ethnic discrimination was brought against the California DDS.\n",
    "\n",
    "Does this finding represent sufficient evidence of ethnic discrimination, or might there be more to the story? This lab provides a walkthrough to conducting an exploratory analysis that not only investigates the relationship between two variables of interest, but also considers whether other variables might be influencing that relationship."
   ]
  },
  {
   "cell_type": "markdown",
   "metadata": {},
   "source": [
    "#### Problem 1: Distributions of single variables\n",
    "\n",
    "To begin understanding a dataset and developing a sense of context, start by examining the distributions of single variables. To load the data into R and look at the first six records, use the following code:"
   ]
  },
  {
   "cell_type": "code",
   "execution_count": 2,
   "metadata": {},
   "outputs": [
    {
     "data": {
      "text/html": [
       "<table>\n",
       "<thead><tr><th scope=col>id</th><th scope=col>age.cohort</th><th scope=col>age</th><th scope=col>gender</th><th scope=col>expenditures</th><th scope=col>ethnicity</th></tr></thead>\n",
       "<tbody>\n",
       "\t<tr><td>10210             </td><td>13-17             </td><td>17                </td><td>Female            </td><td> 2113             </td><td>White not Hispanic</td></tr>\n",
       "\t<tr><td>10409             </td><td>22-50             </td><td>37                </td><td>Male              </td><td>41924             </td><td>White not Hispanic</td></tr>\n",
       "\t<tr><td>10486             </td><td>0-5               </td><td> 3                </td><td>Male              </td><td> 1454             </td><td>Hispanic          </td></tr>\n",
       "\t<tr><td>10538             </td><td>18-21             </td><td>19                </td><td>Female            </td><td> 6400             </td><td>Hispanic          </td></tr>\n",
       "\t<tr><td>10568             </td><td>13-17             </td><td>13                </td><td>Male              </td><td> 4412             </td><td>White not Hispanic</td></tr>\n",
       "\t<tr><td>10690             </td><td>13-17             </td><td>15                </td><td>Female            </td><td> 4566             </td><td>Hispanic          </td></tr>\n",
       "</tbody>\n",
       "</table>\n"
      ],
      "text/latex": [
       "\\begin{tabular}{r|llllll}\n",
       " id & age.cohort & age & gender & expenditures & ethnicity\\\\\n",
       "\\hline\n",
       "\t 10210              & 13-17              & 17                 & Female             &  2113              & White not Hispanic\\\\\n",
       "\t 10409              & 22-50              & 37                 & Male               & 41924              & White not Hispanic\\\\\n",
       "\t 10486              & 0-5                &  3                 & Male               &  1454              & Hispanic          \\\\\n",
       "\t 10538              & 18-21              & 19                 & Female             &  6400              & Hispanic          \\\\\n",
       "\t 10568              & 13-17              & 13                 & Male               &  4412              & White not Hispanic\\\\\n",
       "\t 10690              & 13-17              & 15                 & Female             &  4566              & Hispanic          \\\\\n",
       "\\end{tabular}\n"
      ],
      "text/markdown": [
       "\n",
       "id | age.cohort | age | gender | expenditures | ethnicity | \n",
       "|---|---|---|---|---|---|\n",
       "| 10210              | 13-17              | 17                 | Female             |  2113              | White not Hispanic | \n",
       "| 10409              | 22-50              | 37                 | Male               | 41924              | White not Hispanic | \n",
       "| 10486              | 0-5                |  3                 | Male               |  1454              | Hispanic           | \n",
       "| 10538              | 18-21              | 19                 | Female             |  6400              | Hispanic           | \n",
       "| 10568              | 13-17              | 13                 | Male               |  4412              | White not Hispanic | \n",
       "| 10690              | 13-17              | 15                 | Female             |  4566              | Hispanic           | \n",
       "\n",
       "\n"
      ],
      "text/plain": [
       "  id    age.cohort age gender expenditures ethnicity         \n",
       "1 10210 13-17      17  Female  2113        White not Hispanic\n",
       "2 10409 22-50      37  Male   41924        White not Hispanic\n",
       "3 10486 0-5         3  Male    1454        Hispanic          \n",
       "4 10538 18-21      19  Female  6400        Hispanic          \n",
       "5 10568 13-17      13  Male    4412        White not Hispanic\n",
       "6 10690 13-17      15  Female  4566        Hispanic          "
      ]
     },
     "metadata": {},
     "output_type": "display_data"
    }
   ],
   "source": [
    "require(oibiostat)\n",
    "data(\"dds.discr\")\n",
    "head(dds.discr)"
   ]
  },
  {
   "cell_type": "markdown",
   "metadata": {},
   "source": [
    "Using appropriate numerical and graphical summaries, answer the following questions.\n",
    "\n",
    "a) Describe the distribution of annual expenditures. For most consumers, is the amount of financial support provided by the DDS relatively high or low?"
   ]
  },
  {
   "cell_type": "markdown",
   "metadata": {},
   "source": [
    "#### Solution"
   ]
  },
  {
   "cell_type": "code",
   "execution_count": 5,
   "metadata": {},
   "outputs": [
    {
     "name": "stderr",
     "output_type": "stream",
     "text": [
      "`stat_bin()` using `bins = 30`. Pick better value with `binwidth`.\n"
     ]
    },
    {
     "data": {},
     "metadata": {},
     "output_type": "display_data"
    },
    {
     "data": {
      "image/png": "[encoded data removed]",
      "text/plain": [
       "plot without title"
      ]
     },
     "metadata": {},
     "output_type": "display_data"
    }
   ],
   "source": [
    "require(ggplot2)\n",
    "ggplot(data=dds.discr,aes(expenditures)) +\n",
    "    geom_histogram()"
   ]
  },
  {
   "cell_type": "code",
   "execution_count": 8,
   "metadata": {},
   "outputs": [
    {
     "data": {},
     "metadata": {},
     "output_type": "display_data"
    },
    {
     "data": {
      "image/png": "[encoded data removed]",
      "text/plain": [
       "plot without title"
      ]
     },
     "metadata": {},
     "output_type": "display_data"
    }
   ],
   "source": [
    "ggplot(data=dds.discr,aes(x=\"\", y=expenditures)) +\n",
    "    geom_boxplot()"
   ]
  },
  {
   "cell_type": "code",
   "execution_count": 6,
   "metadata": {},
   "outputs": [
    {
     "data": {
      "text/html": [
       "<table>\n",
       "<thead><tr><th scope=col>min</th><th scope=col>max</th><th scope=col>q1</th><th scope=col>q3</th><th scope=col>mean</th><th scope=col>median</th></tr></thead>\n",
       "<tbody>\n",
       "\t<tr><td>222     </td><td>75098   </td><td>2898.75 </td><td>37712.75</td><td>18065.79</td><td>7026    </td></tr>\n",
       "</tbody>\n",
       "</table>\n"
      ],
      "text/latex": [
       "\\begin{tabular}{r|llllll}\n",
       " min & max & q1 & q3 & mean & median\\\\\n",
       "\\hline\n",
       "\t 222      & 75098    & 2898.75  & 37712.75 & 18065.79 & 7026    \\\\\n",
       "\\end{tabular}\n"
      ],
      "text/markdown": [
       "\n",
       "min | max | q1 | q3 | mean | median | \n",
       "|---|\n",
       "| 222      | 75098    | 2898.75  | 37712.75 | 18065.79 | 7026     | \n",
       "\n",
       "\n"
      ],
      "text/plain": [
       "  min max   q1      q3       mean     median\n",
       "1 222 75098 2898.75 37712.75 18065.79 7026  "
      ]
     },
     "metadata": {},
     "output_type": "display_data"
    }
   ],
   "source": [
    "require(dplyr)\n",
    "dds.discr %>% \n",
    "    summarize(min=min(expenditures), max=max(expenditures), q1=quantile(expenditures,p=.25), q3=quantile(expenditures,p=.75),\n",
    "             mean=mean(expenditures),median=median(expenditures))"
   ]
  },
  {
   "cell_type": "markdown",
   "metadata": {},
   "source": [
    "The distribution of annual expenditures exhibits right skew, indicating that for a majority of consumers, expenditures are relatively low; most are within the $ \\$0-\\$5,000$ range. There are some consumers for which expenditures are much higher, such as within the $\\$60,000-\\$80,000$ range. The quartiles for expenditures are \\$2,899, \\$7,026, and \\$37,710."
   ]
  },
  {
   "cell_type": "markdown",
   "metadata": {},
   "source": [
    "b) The variable `age` directly records a consumer's age; in the `age.cohort` variable, consumers are assigned to one of six age cohorts. Describe the distribution of age in this sample of consumers using visualizations and numerical summaries based on both `age` and `age.cohort`. Do consumers tend to be older or younger?\n",
    "    \n",
    "The cohorts are indicative of particular life phases. In the first three cohorts, consumers are still living with their parents as they move through preschool age, elementary/middle school age, and high school age. In the 18-21 cohort, consumers are transitioning from their parents' homes to living on their own or in supportive group homes. From ages 22-50, individuals are mostly no longer living with their parents but may still receive some support from family. In the 51+ cohort, consumers often have no living parents and typically require the most amount of support. "
   ]
  },
  {
   "cell_type": "markdown",
   "metadata": {},
   "source": [
    "#### Solution:"
   ]
  },
  {
   "cell_type": "code",
   "execution_count": 9,
   "metadata": {},
   "outputs": [
    {
     "name": "stderr",
     "output_type": "stream",
     "text": [
      "`stat_bin()` using `bins = 30`. Pick better value with `binwidth`.\n"
     ]
    },
    {
     "data": {},
     "metadata": {},
     "output_type": "display_data"
    },
    {
     "data": {
      "image/png": "[encoded data removed]",
      "text/plain": [
       "plot without title"
      ]
     },
     "metadata": {},
     "output_type": "display_data"
    }
   ],
   "source": [
    "ggplot(data=dds.discr,aes(age)) +\n",
    "    geom_histogram()"
   ]
  },
  {
   "cell_type": "code",
   "execution_count": 10,
   "metadata": {},
   "outputs": [
    {
     "data": {},
     "metadata": {},
     "output_type": "display_data"
    },
    {
     "data": {
      "image/png": "[encoded data removed]",
      "text/plain": [
       "plot without title"
      ]
     },
     "metadata": {},
     "output_type": "display_data"
    }
   ],
   "source": [
    "ggplot(data=dds.discr,aes(age.cohort)) +\n",
    "    geom_bar(alpha=.4)"
   ]
  },
  {
   "cell_type": "code",
   "execution_count": 11,
   "metadata": {},
   "outputs": [
    {
     "data": {
      "text/html": [
       "<table>\n",
       "<thead><tr><th scope=col>min</th><th scope=col>max</th><th scope=col>q1</th><th scope=col>q3</th><th scope=col>mean</th><th scope=col>median</th></tr></thead>\n",
       "<tbody>\n",
       "\t<tr><td>0   </td><td>95  </td><td>12  </td><td>26  </td><td>22.8</td><td>18  </td></tr>\n",
       "</tbody>\n",
       "</table>\n"
      ],
      "text/latex": [
       "\\begin{tabular}{r|llllll}\n",
       " min & max & q1 & q3 & mean & median\\\\\n",
       "\\hline\n",
       "\t 0    & 95   & 12   & 26   & 22.8 & 18  \\\\\n",
       "\\end{tabular}\n"
      ],
      "text/markdown": [
       "\n",
       "min | max | q1 | q3 | mean | median | \n",
       "|---|\n",
       "| 0    | 95   | 12   | 26   | 22.8 | 18   | \n",
       "\n",
       "\n"
      ],
      "text/plain": [
       "  min max q1 q3 mean median\n",
       "1 0   95  12 26 22.8 18    "
      ]
     },
     "metadata": {},
     "output_type": "display_data"
    }
   ],
   "source": [
    "dds.discr %>% \n",
    "    summarize(min=min(age), max=max(age), q1=quantile(age,p=.25), q3=quantile(age,p=.75),\n",
    "             mean=mean(age),median=median(age))"
   ]
  },
  {
   "cell_type": "code",
   "execution_count": 12,
   "metadata": {},
   "outputs": [
    {
     "data": {
      "text/html": [
       "<table>\n",
       "<thead><tr><th scope=col>age.cohort</th><th scope=col>n</th></tr></thead>\n",
       "<tbody>\n",
       "\t<tr><td>0-5  </td><td> 82  </td></tr>\n",
       "\t<tr><td>6-12 </td><td>175  </td></tr>\n",
       "\t<tr><td>13-17</td><td>212  </td></tr>\n",
       "\t<tr><td>18-21</td><td>199  </td></tr>\n",
       "\t<tr><td>22-50</td><td>226  </td></tr>\n",
       "\t<tr><td>51+  </td><td>106  </td></tr>\n",
       "</tbody>\n",
       "</table>\n"
      ],
      "text/latex": [
       "\\begin{tabular}{r|ll}\n",
       " age.cohort & n\\\\\n",
       "\\hline\n",
       "\t 0-5   &  82  \\\\\n",
       "\t 6-12  & 175  \\\\\n",
       "\t 13-17 & 212  \\\\\n",
       "\t 18-21 & 199  \\\\\n",
       "\t 22-50 & 226  \\\\\n",
       "\t 51+   & 106  \\\\\n",
       "\\end{tabular}\n"
      ],
      "text/markdown": [
       "\n",
       "age.cohort | n | \n",
       "|---|---|---|---|---|---|\n",
       "| 0-5   |  82   | \n",
       "| 6-12  | 175   | \n",
       "| 13-17 | 212   | \n",
       "| 18-21 | 199   | \n",
       "| 22-50 | 226   | \n",
       "| 51+   | 106   | \n",
       "\n",
       "\n"
      ],
      "text/plain": [
       "  age.cohort n  \n",
       "1 0-5         82\n",
       "2 6-12       175\n",
       "3 13-17      212\n",
       "4 18-21      199\n",
       "5 22-50      226\n",
       "6 51+        106"
      ]
     },
     "metadata": {},
     "output_type": "display_data"
    }
   ],
   "source": [
    "dds.discr %>%\n",
    "    count(age.cohort)"
   ]
  },
  {
   "cell_type": "markdown",
   "metadata": {},
   "source": [
    "As indicated in the histogram, there is right-skewing; most consumers are younger than 30 years old. The median age is 18 years. There are approximately 200 individuals in each of the middle four cohorts, and about 100 individuals in the other two cohorts."
   ]
  },
  {
   "cell_type": "markdown",
   "metadata": {},
   "source": [
    "c) Is there an equal representation of ethnic groups in this sample of consumers?"
   ]
  },
  {
   "cell_type": "markdown",
   "metadata": {},
   "source": [
    "#### Solution:"
   ]
  },
  {
   "cell_type": "code",
   "execution_count": 13,
   "metadata": {},
   "outputs": [
    {
     "data": {
      "text/html": [
       "<table>\n",
       "<thead><tr><th scope=col>ethnicity</th><th scope=col>n</th></tr></thead>\n",
       "<tbody>\n",
       "\t<tr><td>American Indian   </td><td>  4               </td></tr>\n",
       "\t<tr><td>Asian             </td><td>129               </td></tr>\n",
       "\t<tr><td>Black             </td><td> 59               </td></tr>\n",
       "\t<tr><td>Hispanic          </td><td>376               </td></tr>\n",
       "\t<tr><td>Multi Race        </td><td> 26               </td></tr>\n",
       "\t<tr><td>Native Hawaiian   </td><td>  3               </td></tr>\n",
       "\t<tr><td>Other             </td><td>  2               </td></tr>\n",
       "\t<tr><td>White not Hispanic</td><td>401               </td></tr>\n",
       "</tbody>\n",
       "</table>\n"
      ],
      "text/latex": [
       "\\begin{tabular}{r|ll}\n",
       " ethnicity & n\\\\\n",
       "\\hline\n",
       "\t American Indian    &   4               \\\\\n",
       "\t Asian              & 129               \\\\\n",
       "\t Black              &  59               \\\\\n",
       "\t Hispanic           & 376               \\\\\n",
       "\t Multi Race         &  26               \\\\\n",
       "\t Native Hawaiian    &   3               \\\\\n",
       "\t Other              &   2               \\\\\n",
       "\t White not Hispanic & 401               \\\\\n",
       "\\end{tabular}\n"
      ],
      "text/markdown": [
       "\n",
       "ethnicity | n | \n",
       "|---|---|---|---|---|---|---|---|\n",
       "| American Indian    |   4                | \n",
       "| Asian              | 129                | \n",
       "| Black              |  59                | \n",
       "| Hispanic           | 376                | \n",
       "| Multi Race         |  26                | \n",
       "| Native Hawaiian    |   3                | \n",
       "| Other              |   2                | \n",
       "| White not Hispanic | 401                | \n",
       "\n",
       "\n"
      ],
      "text/plain": [
       "  ethnicity          n  \n",
       "1 American Indian      4\n",
       "2 Asian              129\n",
       "3 Black               59\n",
       "4 Hispanic           376\n",
       "5 Multi Race          26\n",
       "6 Native Hawaiian      3\n",
       "7 Other                2\n",
       "8 White not Hispanic 401"
      ]
     },
     "metadata": {},
     "output_type": "display_data"
    }
   ],
   "source": [
    "dds.discr %>%\n",
    "    count(ethnicity)"
   ]
  },
  {
   "cell_type": "code",
   "execution_count": 18,
   "metadata": {},
   "outputs": [
    {
     "data": {
      "text/html": [
       "<table>\n",
       "<thead><tr><th scope=col>ethnicity</th><th scope=col>n</th><th scope=col>freq</th></tr></thead>\n",
       "<tbody>\n",
       "\t<tr><td>American Indian   </td><td>  4               </td><td>0.004             </td></tr>\n",
       "\t<tr><td>Asian             </td><td>129               </td><td>0.129             </td></tr>\n",
       "\t<tr><td>Black             </td><td> 59               </td><td>0.059             </td></tr>\n",
       "\t<tr><td>Hispanic          </td><td>376               </td><td>0.376             </td></tr>\n",
       "\t<tr><td>Multi Race        </td><td> 26               </td><td>0.026             </td></tr>\n",
       "\t<tr><td>Native Hawaiian   </td><td>  3               </td><td>0.003             </td></tr>\n",
       "\t<tr><td>Other             </td><td>  2               </td><td>0.002             </td></tr>\n",
       "\t<tr><td>White not Hispanic</td><td>401               </td><td>0.401             </td></tr>\n",
       "</tbody>\n",
       "</table>\n"
      ],
      "text/latex": [
       "\\begin{tabular}{r|lll}\n",
       " ethnicity & n & freq\\\\\n",
       "\\hline\n",
       "\t American Indian    &   4                & 0.004             \\\\\n",
       "\t Asian              & 129                & 0.129             \\\\\n",
       "\t Black              &  59                & 0.059             \\\\\n",
       "\t Hispanic           & 376                & 0.376             \\\\\n",
       "\t Multi Race         &  26                & 0.026             \\\\\n",
       "\t Native Hawaiian    &   3                & 0.003             \\\\\n",
       "\t Other              &   2                & 0.002             \\\\\n",
       "\t White not Hispanic & 401                & 0.401             \\\\\n",
       "\\end{tabular}\n"
      ],
      "text/markdown": [
       "\n",
       "ethnicity | n | freq | \n",
       "|---|---|---|---|---|---|---|---|\n",
       "| American Indian    |   4                | 0.004              | \n",
       "| Asian              | 129                | 0.129              | \n",
       "| Black              |  59                | 0.059              | \n",
       "| Hispanic           | 376                | 0.376              | \n",
       "| Multi Race         |  26                | 0.026              | \n",
       "| Native Hawaiian    |   3                | 0.003              | \n",
       "| Other              |   2                | 0.002              | \n",
       "| White not Hispanic | 401                | 0.401              | \n",
       "\n",
       "\n"
      ],
      "text/plain": [
       "  ethnicity          n   freq \n",
       "1 American Indian      4 0.004\n",
       "2 Asian              129 0.129\n",
       "3 Black               59 0.059\n",
       "4 Hispanic           376 0.376\n",
       "5 Multi Race          26 0.026\n",
       "6 Native Hawaiian      3 0.003\n",
       "7 Other                2 0.002\n",
       "8 White not Hispanic 401 0.401"
      ]
     },
     "metadata": {},
     "output_type": "display_data"
    }
   ],
   "source": [
    "dds.discr %>%\n",
    "  group_by(ethnicity) %>%\n",
    "  summarise (n = n()) %>%\n",
    "  mutate(freq = n / sum(n))"
   ]
  },
  {
   "cell_type": "code",
   "execution_count": 14,
   "metadata": {},
   "outputs": [
    {
     "data": {},
     "metadata": {},
     "output_type": "display_data"
    },
    {
     "data": {
      "image/png": "[encoded data removed]",
      "text/plain": [
       "plot without title"
      ]
     },
     "metadata": {},
     "output_type": "display_data"
    }
   ],
   "source": [
    "ggplot(data=dds.discr,aes(ethnicity)) +\n",
    "    geom_bar(alpha=.4)"
   ]
  },
  {
   "cell_type": "markdown",
   "metadata": {},
   "source": [
    "There are eight ethnic groups represented in the data, however there is not equal representation. The two largest groups, Hispanics and White non-Hispanics, together represent about 80% of the consumers."
   ]
  },
  {
   "cell_type": "markdown",
   "metadata": {},
   "source": [
    "d) Does gender appear to be balanced in this sample of consumers?"
   ]
  },
  {
   "cell_type": "markdown",
   "metadata": {},
   "source": [
    "#### Solution:"
   ]
  },
  {
   "cell_type": "code",
   "execution_count": 20,
   "metadata": {},
   "outputs": [
    {
     "data": {},
     "metadata": {},
     "output_type": "display_data"
    },
    {
     "data": {
      "image/png": "[encoded data removed]",
      "text/plain": [
       "plot without title"
      ]
     },
     "metadata": {},
     "output_type": "display_data"
    }
   ],
   "source": [
    "ggplot(data=dds.discr,aes(gender)) +\n",
    "    geom_bar(alpha=.4)"
   ]
  },
  {
   "cell_type": "code",
   "execution_count": 21,
   "metadata": {},
   "outputs": [
    {
     "data": {
      "text/html": [
       "<table>\n",
       "<thead><tr><th scope=col>gender</th><th scope=col>n</th></tr></thead>\n",
       "<tbody>\n",
       "\t<tr><td>Female</td><td>503   </td></tr>\n",
       "\t<tr><td>Male  </td><td>497   </td></tr>\n",
       "</tbody>\n",
       "</table>\n"
      ],
      "text/latex": [
       "\\begin{tabular}{r|ll}\n",
       " gender & n\\\\\n",
       "\\hline\n",
       "\t Female & 503   \\\\\n",
       "\t Male   & 497   \\\\\n",
       "\\end{tabular}\n"
      ],
      "text/markdown": [
       "\n",
       "gender | n | \n",
       "|---|---|\n",
       "| Female | 503    | \n",
       "| Male   | 497    | \n",
       "\n",
       "\n"
      ],
      "text/plain": [
       "  gender n  \n",
       "1 Female 503\n",
       "2 Male   497"
      ]
     },
     "metadata": {},
     "output_type": "display_data"
    }
   ],
   "source": [
    "dds.discr %>%\n",
    "    count(gender)"
   ]
  },
  {
   "cell_type": "markdown",
   "metadata": {},
   "source": [
    "Yes, approximately half the individuals are female and half are male."
   ]
  },
  {
   "cell_type": "markdown",
   "metadata": {},
   "source": [
    "#### Problem 2: Relationships between two variables\n",
    "\n",
    "After examining variables individually, explore how variables are related to each other. It is often useful to start by investigating the relationships between two variables, particularly between the primary response variable of interest and the exploratory variables. For this case study, the response variable is `expenditures`, the amount of funds the California DDS allocates annually to each consumer.\n",
    "\n",
    "\n",
    "\n",
    "a) How do annual expenditures vary by age? Is there a large amount of variation in expenditures between age cohorts? Use the `age.cohort` variable. \n"
   ]
  },
  {
   "cell_type": "markdown",
   "metadata": {},
   "source": [
    "#### Solution:"
   ]
  },
  {
   "cell_type": "code",
   "execution_count": 24,
   "metadata": {},
   "outputs": [
    {
     "data": {},
     "metadata": {},
     "output_type": "display_data"
    },
    {
     "data": {
      "image/png": "[encoded data removed]",
      "text/plain": [
       "plot without title"
      ]
     },
     "metadata": {},
     "output_type": "display_data"
    }
   ],
   "source": [
    "ggplot(data=dds.discr,aes(x=age.cohort, y=expenditures))+\n",
    "    geom_boxplot(fill = \"#4271AE\", colour = \"#1F3552\", alpha = 0.7)"
   ]
  },
  {
   "cell_type": "code",
   "execution_count": 42,
   "metadata": {},
   "outputs": [
    {
     "data": {
      "text/html": [
       "<table>\n",
       "<thead><tr><th scope=col>age.cohort</th><th scope=col>min</th><th scope=col>max</th><th scope=col>q1</th><th scope=col>q3</th><th scope=col>mean</th><th scope=col>median</th></tr></thead>\n",
       "<tbody>\n",
       "\t<tr><td>0-5      </td><td>  222    </td><td> 2750    </td><td> 1034.25 </td><td> 1739.25 </td><td> 1415.280</td><td> 1380.5  </td></tr>\n",
       "\t<tr><td>6-12     </td><td>  620    </td><td> 4163    </td><td> 1601.50 </td><td> 2846.50 </td><td> 2226.863</td><td> 2191.0  </td></tr>\n",
       "\t<tr><td>13-17    </td><td>  386    </td><td> 6798    </td><td> 3306.50 </td><td> 4665.50 </td><td> 3922.613</td><td> 3952.0  </td></tr>\n",
       "\t<tr><td>18-21    </td><td> 3153    </td><td>18435    </td><td> 7588.00 </td><td>11806.50 </td><td> 9888.538</td><td> 9979.0  </td></tr>\n",
       "\t<tr><td>22-50    </td><td>25348    </td><td>56716    </td><td>36447.25 </td><td>44720.75 </td><td>40209.283</td><td>40455.5  </td></tr>\n",
       "\t<tr><td>51+      </td><td>33110    </td><td>75098    </td><td>49515.00 </td><td>57745.50 </td><td>53521.896</td><td>53509.0  </td></tr>\n",
       "</tbody>\n",
       "</table>\n"
      ],
      "text/latex": [
       "\\begin{tabular}{r|lllllll}\n",
       " age.cohort & min & max & q1 & q3 & mean & median\\\\\n",
       "\\hline\n",
       "\t 0-5       &   222     &  2750     &  1034.25  &  1739.25  &  1415.280 &  1380.5  \\\\\n",
       "\t 6-12      &   620     &  4163     &  1601.50  &  2846.50  &  2226.863 &  2191.0  \\\\\n",
       "\t 13-17     &   386     &  6798     &  3306.50  &  4665.50  &  3922.613 &  3952.0  \\\\\n",
       "\t 18-21     &  3153     & 18435     &  7588.00  & 11806.50  &  9888.538 &  9979.0  \\\\\n",
       "\t 22-50     & 25348     & 56716     & 36447.25  & 44720.75  & 40209.283 & 40455.5  \\\\\n",
       "\t 51+       & 33110     & 75098     & 49515.00  & 57745.50  & 53521.896 & 53509.0  \\\\\n",
       "\\end{tabular}\n"
      ],
      "text/markdown": [
       "\n",
       "age.cohort | min | max | q1 | q3 | mean | median | \n",
       "|---|---|---|---|---|---|\n",
       "| 0-5       |   222     |  2750     |  1034.25  |  1739.25  |  1415.280 |  1380.5   | \n",
       "| 6-12      |   620     |  4163     |  1601.50  |  2846.50  |  2226.863 |  2191.0   | \n",
       "| 13-17     |   386     |  6798     |  3306.50  |  4665.50  |  3922.613 |  3952.0   | \n",
       "| 18-21     |  3153     | 18435     |  7588.00  | 11806.50  |  9888.538 |  9979.0   | \n",
       "| 22-50     | 25348     | 56716     | 36447.25  | 44720.75  | 40209.283 | 40455.5   | \n",
       "| 51+       | 33110     | 75098     | 49515.00  | 57745.50  | 53521.896 | 53509.0   | \n",
       "\n",
       "\n"
      ],
      "text/plain": [
       "  age.cohort min   max   q1       q3       mean      median \n",
       "1 0-5          222  2750  1034.25  1739.25  1415.280  1380.5\n",
       "2 6-12         620  4163  1601.50  2846.50  2226.863  2191.0\n",
       "3 13-17        386  6798  3306.50  4665.50  3922.613  3952.0\n",
       "4 18-21       3153 18435  7588.00 11806.50  9888.538  9979.0\n",
       "5 22-50      25348 56716 36447.25 44720.75 40209.283 40455.5\n",
       "6 51+        33110 75098 49515.00 57745.50 53521.896 53509.0"
      ]
     },
     "metadata": {},
     "output_type": "display_data"
    }
   ],
   "source": [
    "dds.discr %>% \n",
    "    group_by(age.cohort) %>%\n",
    "    summarize(min=min(expenditures), max=max(expenditures), q1=quantile(expenditures,p=.25), q3=quantile(expenditures,p=.75),\n",
    "             mean=mean(expenditures),median=median(expenditures))"
   ]
  },
  {
   "cell_type": "markdown",
   "metadata": {},
   "source": [
    "There is a clear upward trend in expenditures as age increases; older individuals tend to receive more DDS funds. For the first three age cohorts, average expenditures ranges between \\$1,400 to \\$10,000. Average expenditures in the oldest two cohorts, respectively, are about \\$40,000 and \\$53,500. Some of the observed variation in expenditures can be attributed to the fact that the dataset includes a wide range of ages. If the data included only individuals from one age cohort, such as the 18-21 year cohort, the distribution would be less variable, and range between \\$3,000 and \\$20,000 rather than \\$0 and \\$75,000.\n",
    "The upward trend reflects the underlying context of the data. The purpose of providing funds to developmentally disabled individuals is to help them maintain a quality of life similar to those without disabilities; as individuals age, it is expected that their financial needs will increase."
   ]
  },
  {
   "cell_type": "markdown",
   "metadata": {},
   "source": [
    "b) Do annual expenditures seem to vary by gender?"
   ]
  },
  {
   "cell_type": "markdown",
   "metadata": {},
   "source": [
    "#### Solution:"
   ]
  },
  {
   "cell_type": "code",
   "execution_count": 26,
   "metadata": {},
   "outputs": [
    {
     "data": {},
     "metadata": {},
     "output_type": "display_data"
    },
    {
     "data": {
      "image/png": "[encoded data removed]",
      "text/plain": [
       "plot without title"
      ]
     },
     "metadata": {},
     "output_type": "display_data"
    }
   ],
   "source": [
    "ggplot(data=dds.discr,aes(x=gender, y=expenditures))+\n",
    "    geom_boxplot(fill = \"#4271AE\", colour = \"#1F3552\", alpha = 0.7)"
   ]
  },
  {
   "cell_type": "code",
   "execution_count": 41,
   "metadata": {},
   "outputs": [
    {
     "data": {
      "text/html": [
       "<table>\n",
       "<thead><tr><th scope=col>gender</th><th scope=col>min</th><th scope=col>max</th><th scope=col>q1</th><th scope=col>q3</th><th scope=col>mean</th><th scope=col>median</th></tr></thead>\n",
       "<tbody>\n",
       "\t<tr><td>Female  </td><td>222     </td><td>75098   </td><td>2872.5  </td><td>39487.5 </td><td>18129.61</td><td>6400    </td></tr>\n",
       "\t<tr><td>Male    </td><td>386     </td><td>68890   </td><td>2954.0  </td><td>37201.0 </td><td>18001.20</td><td>7219    </td></tr>\n",
       "</tbody>\n",
       "</table>\n"
      ],
      "text/latex": [
       "\\begin{tabular}{r|lllllll}\n",
       " gender & min & max & q1 & q3 & mean & median\\\\\n",
       "\\hline\n",
       "\t Female   & 222      & 75098    & 2872.5   & 39487.5  & 18129.61 & 6400    \\\\\n",
       "\t Male     & 386      & 68890    & 2954.0   & 37201.0  & 18001.20 & 7219    \\\\\n",
       "\\end{tabular}\n"
      ],
      "text/markdown": [
       "\n",
       "gender | min | max | q1 | q3 | mean | median | \n",
       "|---|---|\n",
       "| Female   | 222      | 75098    | 2872.5   | 39487.5  | 18129.61 | 6400     | \n",
       "| Male     | 386      | 68890    | 2954.0   | 37201.0  | 18001.20 | 7219     | \n",
       "\n",
       "\n"
      ],
      "text/plain": [
       "  gender min max   q1     q3      mean     median\n",
       "1 Female 222 75098 2872.5 39487.5 18129.61 6400  \n",
       "2 Male   386 68890 2954.0 37201.0 18001.20 7219  "
      ]
     },
     "metadata": {},
     "output_type": "display_data"
    }
   ],
   "source": [
    "dds.discr %>% \n",
    "    group_by(gender) %>%\n",
    "    summarize(min=min(expenditures), max=max(expenditures), q1=quantile(expenditures,p=.25), q3=quantile(expenditures,p=.75),\n",
    "             mean=mean(expenditures),median=median(expenditures))"
   ]
  },
  {
   "cell_type": "markdown",
   "metadata": {},
   "source": [
    "No, the distribution of expenditures within males and females is very similar; both are right skewed, with approximately equal median and interquartile range."
   ]
  },
  {
   "cell_type": "markdown",
   "metadata": {},
   "source": [
    "c) How does the distribution of expenditures vary by ethnic group? Does there seem to be a difference in the amount of funding that a person receives, on average, between different ethnicities?\n",
    "\n"
   ]
  },
  {
   "cell_type": "markdown",
   "metadata": {},
   "source": [
    "#### Solution:"
   ]
  },
  {
   "cell_type": "code",
   "execution_count": 39,
   "metadata": {},
   "outputs": [
    {
     "data": {},
     "metadata": {},
     "output_type": "display_data"
    },
    {
     "data": {
      "image/png": "[encoded data removed]",
      "text/plain": [
       "plot without title"
      ]
     },
     "metadata": {},
     "output_type": "display_data"
    }
   ],
   "source": [
    "ggplot(data=dds.discr,aes(x=ethnicity, y=expenditures))+\n",
    "    geom_boxplot(fill = \"#4271AE\", colour = \"#1F3552\", alpha = 0.7)"
   ]
  },
  {
   "cell_type": "code",
   "execution_count": 40,
   "metadata": {},
   "outputs": [
    {
     "data": {
      "text/html": [
       "<table>\n",
       "<thead><tr><th scope=col>ethnicity</th><th scope=col>min</th><th scope=col>max</th><th scope=col>q1</th><th scope=col>q3</th><th scope=col>mean</th><th scope=col>median</th></tr></thead>\n",
       "<tbody>\n",
       "\t<tr><td>American Indian   </td><td> 3726             </td><td>58392             </td><td>22085.25          </td><td>56170.50          </td><td>36438.250         </td><td>41817.5           </td></tr>\n",
       "\t<tr><td>Asian             </td><td>  374             </td><td>75098             </td><td> 3382.00          </td><td>34274.00          </td><td>18392.372         </td><td> 9369.0           </td></tr>\n",
       "\t<tr><td>Black             </td><td>  240             </td><td>60808             </td><td> 3870.00          </td><td>41857.00          </td><td>20884.593         </td><td> 8687.0           </td></tr>\n",
       "\t<tr><td>Hispanic          </td><td>  222             </td><td>65581             </td><td> 2331.25          </td><td>10292.50          </td><td>11065.569         </td><td> 3952.0           </td></tr>\n",
       "\t<tr><td>Multi Race        </td><td>  669             </td><td>38619             </td><td> 1689.75          </td><td> 3749.50          </td><td> 4456.731         </td><td> 2622.0           </td></tr>\n",
       "\t<tr><td>Native Hawaiian   </td><td>37479             </td><td>50141             </td><td>39103.00          </td><td>45434.00          </td><td>42782.333         </td><td>40727.0           </td></tr>\n",
       "\t<tr><td>Other             </td><td> 2018             </td><td> 4615             </td><td> 2667.25          </td><td> 3965.75          </td><td> 3316.500         </td><td> 3316.5           </td></tr>\n",
       "\t<tr><td>White not Hispanic</td><td>  340             </td><td>68890             </td><td> 3977.00          </td><td>43134.00          </td><td>24697.549         </td><td>15718.0           </td></tr>\n",
       "</tbody>\n",
       "</table>\n"
      ],
      "text/latex": [
       "\\begin{tabular}{r|lllllll}\n",
       " ethnicity & min & max & q1 & q3 & mean & median\\\\\n",
       "\\hline\n",
       "\t American Indian    &  3726              & 58392              & 22085.25           & 56170.50           & 36438.250          & 41817.5           \\\\\n",
       "\t Asian              &   374              & 75098              &  3382.00           & 34274.00           & 18392.372          &  9369.0           \\\\\n",
       "\t Black              &   240              & 60808              &  3870.00           & 41857.00           & 20884.593          &  8687.0           \\\\\n",
       "\t Hispanic           &   222              & 65581              &  2331.25           & 10292.50           & 11065.569          &  3952.0           \\\\\n",
       "\t Multi Race         &   669              & 38619              &  1689.75           &  3749.50           &  4456.731          &  2622.0           \\\\\n",
       "\t Native Hawaiian    & 37479              & 50141              & 39103.00           & 45434.00           & 42782.333          & 40727.0           \\\\\n",
       "\t Other              &  2018              &  4615              &  2667.25           &  3965.75           &  3316.500          &  3316.5           \\\\\n",
       "\t White not Hispanic &   340              & 68890              &  3977.00           & 43134.00           & 24697.549          & 15718.0           \\\\\n",
       "\\end{tabular}\n"
      ],
      "text/markdown": [
       "\n",
       "ethnicity | min | max | q1 | q3 | mean | median | \n",
       "|---|---|---|---|---|---|---|---|\n",
       "| American Indian    |  3726              | 58392              | 22085.25           | 56170.50           | 36438.250          | 41817.5            | \n",
       "| Asian              |   374              | 75098              |  3382.00           | 34274.00           | 18392.372          |  9369.0            | \n",
       "| Black              |   240              | 60808              |  3870.00           | 41857.00           | 20884.593          |  8687.0            | \n",
       "| Hispanic           |   222              | 65581              |  2331.25           | 10292.50           | 11065.569          |  3952.0            | \n",
       "| Multi Race         |   669              | 38619              |  1689.75           |  3749.50           |  4456.731          |  2622.0            | \n",
       "| Native Hawaiian    | 37479              | 50141              | 39103.00           | 45434.00           | 42782.333          | 40727.0            | \n",
       "| Other              |  2018              |  4615              |  2667.25           |  3965.75           |  3316.500          |  3316.5            | \n",
       "| White not Hispanic |   340              | 68890              |  3977.00           | 43134.00           | 24697.549          | 15718.0            | \n",
       "\n",
       "\n"
      ],
      "text/plain": [
       "  ethnicity          min   max   q1       q3       mean      median \n",
       "1 American Indian     3726 58392 22085.25 56170.50 36438.250 41817.5\n",
       "2 Asian                374 75098  3382.00 34274.00 18392.372  9369.0\n",
       "3 Black                240 60808  3870.00 41857.00 20884.593  8687.0\n",
       "4 Hispanic             222 65581  2331.25 10292.50 11065.569  3952.0\n",
       "5 Multi Race           669 38619  1689.75  3749.50  4456.731  2622.0\n",
       "6 Native Hawaiian    37479 50141 39103.00 45434.00 42782.333 40727.0\n",
       "7 Other               2018  4615  2667.25  3965.75  3316.500  3316.5\n",
       "8 White not Hispanic   340 68890  3977.00 43134.00 24697.549 15718.0"
      ]
     },
     "metadata": {},
     "output_type": "display_data"
    }
   ],
   "source": [
    "dds.discr %>% \n",
    "    group_by(ethnicity) %>%\n",
    "    summarize(min=min(expenditures), max=max(expenditures), q1=quantile(expenditures,p=.25), q3=quantile(expenditures,p=.75),\n",
    "             mean=mean(expenditures),median=median(expenditures))"
   ]
  },
  {
   "cell_type": "markdown",
   "metadata": {},
   "source": [
    "The distribution of expenditures is quite different between ethnic groups. For example, there is very little variation in expenditures within the Multi Race, Native Hawaiian, and Other groups; in other groups, such as the White not Hispanic group, there is a greater range in expenditures. Additionally, there seems to be a difference in the amount of funding that a person receives, on average, between different ethnicities. The median amount of annual support received for individuals in the American Indian and Native Hawaiian groups is about \\$40,000, versus medians of approximately \\$10,000 for Asian and Black consumers."
   ]
  },
  {
   "cell_type": "markdown",
   "metadata": {},
   "source": [
    "#### Problem 3: A closer look \n",
    "\n",
    "As seen in Problem 1c), two of the ethnic groups, Hispanic and White non-Hispanic, comprise the majority of the data; some ethnic groups represent less than 10% of the observations. For ethnic groups with relatively small sample sizes, it is possible that the observed samples are not representative of the larger populations. The rest of this analysis will focus on comparing how `expenditures` varies between the two largest ethnic groups.\n",
    "\n",
    "a) Compare the distribution of `expenditures` between Hispanic and White non-Hispanic consumers, graphically and numerically. Do Hispanic consumers, on average, seem to receive less financial support from the California DDS than a White non-Hispanic consumer?"
   ]
  },
  {
   "cell_type": "markdown",
   "metadata": {},
   "source": [
    "#### Solution:"
   ]
  },
  {
   "cell_type": "code",
   "execution_count": 73,
   "metadata": {},
   "outputs": [
    {
     "data": {
      "text/html": [
       "<table>\n",
       "<thead><tr><th scope=col>id</th><th scope=col>age.cohort</th><th scope=col>age</th><th scope=col>gender</th><th scope=col>expenditures</th><th scope=col>ethnicity</th></tr></thead>\n",
       "<tbody>\n",
       "\t<tr><td>10210             </td><td>13-17             </td><td>17                </td><td>Female            </td><td> 2113             </td><td>White not Hispanic</td></tr>\n",
       "\t<tr><td>10409             </td><td>22-50             </td><td>37                </td><td>Male              </td><td>41924             </td><td>White not Hispanic</td></tr>\n",
       "\t<tr><td>10486             </td><td>0-5               </td><td> 3                </td><td>Male              </td><td> 1454             </td><td>Hispanic          </td></tr>\n",
       "\t<tr><td>10538             </td><td>18-21             </td><td>19                </td><td>Female            </td><td> 6400             </td><td>Hispanic          </td></tr>\n",
       "\t<tr><td>10568             </td><td>13-17             </td><td>13                </td><td>Male              </td><td> 4412             </td><td>White not Hispanic</td></tr>\n",
       "\t<tr><td>10690             </td><td>13-17             </td><td>15                </td><td>Female            </td><td> 4566             </td><td>Hispanic          </td></tr>\n",
       "</tbody>\n",
       "</table>\n"
      ],
      "text/latex": [
       "\\begin{tabular}{r|llllll}\n",
       " id & age.cohort & age & gender & expenditures & ethnicity\\\\\n",
       "\\hline\n",
       "\t 10210              & 13-17              & 17                 & Female             &  2113              & White not Hispanic\\\\\n",
       "\t 10409              & 22-50              & 37                 & Male               & 41924              & White not Hispanic\\\\\n",
       "\t 10486              & 0-5                &  3                 & Male               &  1454              & Hispanic          \\\\\n",
       "\t 10538              & 18-21              & 19                 & Female             &  6400              & Hispanic          \\\\\n",
       "\t 10568              & 13-17              & 13                 & Male               &  4412              & White not Hispanic\\\\\n",
       "\t 10690              & 13-17              & 15                 & Female             &  4566              & Hispanic          \\\\\n",
       "\\end{tabular}\n"
      ],
      "text/markdown": [
       "\n",
       "id | age.cohort | age | gender | expenditures | ethnicity | \n",
       "|---|---|---|---|---|---|\n",
       "| 10210              | 13-17              | 17                 | Female             |  2113              | White not Hispanic | \n",
       "| 10409              | 22-50              | 37                 | Male               | 41924              | White not Hispanic | \n",
       "| 10486              | 0-5                |  3                 | Male               |  1454              | Hispanic           | \n",
       "| 10538              | 18-21              | 19                 | Female             |  6400              | Hispanic           | \n",
       "| 10568              | 13-17              | 13                 | Male               |  4412              | White not Hispanic | \n",
       "| 10690              | 13-17              | 15                 | Female             |  4566              | Hispanic           | \n",
       "\n",
       "\n"
      ],
      "text/plain": [
       "  id    age.cohort age gender expenditures ethnicity         \n",
       "1 10210 13-17      17  Female  2113        White not Hispanic\n",
       "2 10409 22-50      37  Male   41924        White not Hispanic\n",
       "3 10486 0-5         3  Male    1454        Hispanic          \n",
       "4 10538 18-21      19  Female  6400        Hispanic          \n",
       "5 10568 13-17      13  Male    4412        White not Hispanic\n",
       "6 10690 13-17      15  Female  4566        Hispanic          "
      ]
     },
     "metadata": {},
     "output_type": "display_data"
    }
   ],
   "source": [
    "dds.discr.sub = filter(dds.discr, ethnicity %in% c(\"White not Hispanic\",\"Hispanic\"))\n",
    "head(dds.discr.sub)"
   ]
  },
  {
   "cell_type": "code",
   "execution_count": 74,
   "metadata": {},
   "outputs": [
    {
     "data": {},
     "metadata": {},
     "output_type": "display_data"
    },
    {
     "data": {
      "image/png": "[encoded data removed]",
      "text/plain": [
       "plot without title"
      ]
     },
     "metadata": {},
     "output_type": "display_data"
    }
   ],
   "source": [
    "ggplot(data=dds.discr.sub,aes(x=ethnicity, y=expenditures))+\n",
    "    geom_boxplot(fill = \"#4271AE\", colour = \"#1F3552\", alpha = 0.7)"
   ]
  },
  {
   "cell_type": "code",
   "execution_count": 75,
   "metadata": {},
   "outputs": [
    {
     "data": {
      "text/html": [
       "<table>\n",
       "<thead><tr><th scope=col>ethnicity</th><th scope=col>min</th><th scope=col>max</th><th scope=col>q1</th><th scope=col>q3</th><th scope=col>mean</th><th scope=col>median</th></tr></thead>\n",
       "<tbody>\n",
       "\t<tr><td>Hispanic          </td><td>222               </td><td>65581             </td><td>2331.25           </td><td>10292.5           </td><td>11065.57          </td><td> 3952             </td></tr>\n",
       "\t<tr><td>White not Hispanic</td><td>340               </td><td>68890             </td><td>3977.00           </td><td>43134.0           </td><td>24697.55          </td><td>15718             </td></tr>\n",
       "</tbody>\n",
       "</table>\n"
      ],
      "text/latex": [
       "\\begin{tabular}{r|lllllll}\n",
       " ethnicity & min & max & q1 & q3 & mean & median\\\\\n",
       "\\hline\n",
       "\t Hispanic           & 222                & 65581              & 2331.25            & 10292.5            & 11065.57           &  3952             \\\\\n",
       "\t White not Hispanic & 340                & 68890              & 3977.00            & 43134.0            & 24697.55           & 15718             \\\\\n",
       "\\end{tabular}\n"
      ],
      "text/markdown": [
       "\n",
       "ethnicity | min | max | q1 | q3 | mean | median | \n",
       "|---|---|\n",
       "| Hispanic           | 222                | 65581              | 2331.25            | 10292.5            | 11065.57           |  3952              | \n",
       "| White not Hispanic | 340                | 68890              | 3977.00            | 43134.0            | 24697.55           | 15718              | \n",
       "\n",
       "\n"
      ],
      "text/plain": [
       "  ethnicity          min max   q1      q3      mean     median\n",
       "1 Hispanic           222 65581 2331.25 10292.5 11065.57  3952 \n",
       "2 White not Hispanic 340 68890 3977.00 43134.0 24697.55 15718 "
      ]
     },
     "metadata": {},
     "output_type": "display_data"
    }
   ],
   "source": [
    "dds.discr.sub %>% \n",
    "    group_by(ethnicity) %>%\n",
    "    summarize(min=min(expenditures), max=max(expenditures), q1=quantile(expenditures,p=.25), q3=quantile(expenditures,p=.75),\n",
    "             mean=mean(expenditures),median=median(expenditures))"
   ]
  },
  {
   "cell_type": "markdown",
   "metadata": {},
   "source": [
    "Most Hispanic consumers receive between \\$0 to \\$20,000 from the California DDS; individuals receiving amounts higher than this are upper outliers. However, for White non-Hispanic consumers, median expenditures is at \\$15,718, and the middle 50% of consumers receive between \\$4,000 and \\$43,000. The mean expenditures for Hispanic consumers is \\$11,066, while the mean expenditures for White non-Hispanic consumers is over twice as high at \\$24,698. On average, a Hispanic consumer receives less financial support from the California DDS than a White non-Hispanic consumer."
   ]
  },
  {
   "cell_type": "markdown",
   "metadata": {},
   "source": [
    "b) Recall that expenditures is strongly associated with age - older individuals tend to receive more financial support. Is there also an association between age and ethnicity, for these two ethnic groups? Examine the distribution of age within each group and describe your findings.\n",
    "\n",
    "Note that when using data to investigate a question, it is important to explore not only how explanatory variables are related to the response variable(s), but also how explanatory variables influence each other."
   ]
  },
  {
   "cell_type": "markdown",
   "metadata": {},
   "source": [
    "#### Solution:"
   ]
  },
  {
   "cell_type": "code",
   "execution_count": 76,
   "metadata": {},
   "outputs": [
    {
     "data": {},
     "metadata": {},
     "output_type": "display_data"
    },
    {
     "data": {
      "image/png": "[encoded data removed]",
      "text/plain": [
       "plot without title"
      ]
     },
     "metadata": {},
     "output_type": "display_data"
    }
   ],
   "source": [
    "ggplot(data=dds.discr.sub,aes(age.cohort,fill=ethnicity)) +\n",
    "    geom_bar(alpha=.6,position=\"dodge\")"
   ]
  },
  {
   "cell_type": "code",
   "execution_count": 77,
   "metadata": {},
   "outputs": [
    {
     "data": {
      "text/html": [
       "<table>\n",
       "<thead><tr><th scope=col>age.cohort</th><th scope=col>Hispanic</th><th scope=col>White not Hispanic</th></tr></thead>\n",
       "<tbody>\n",
       "\t<tr><td>0-5  </td><td> 44  </td><td> 20  </td></tr>\n",
       "\t<tr><td>6-12 </td><td> 91  </td><td> 46  </td></tr>\n",
       "\t<tr><td>13-17</td><td>103  </td><td> 67  </td></tr>\n",
       "\t<tr><td>18-21</td><td> 78  </td><td> 69  </td></tr>\n",
       "\t<tr><td>22-50</td><td> 43  </td><td>133  </td></tr>\n",
       "\t<tr><td>51+  </td><td> 17  </td><td> 66  </td></tr>\n",
       "</tbody>\n",
       "</table>\n"
      ],
      "text/latex": [
       "\\begin{tabular}{r|lll}\n",
       " age.cohort & Hispanic & White not Hispanic\\\\\n",
       "\\hline\n",
       "\t 0-5   &  44   &  20  \\\\\n",
       "\t 6-12  &  91   &  46  \\\\\n",
       "\t 13-17 & 103   &  67  \\\\\n",
       "\t 18-21 &  78   &  69  \\\\\n",
       "\t 22-50 &  43   & 133  \\\\\n",
       "\t 51+   &  17   &  66  \\\\\n",
       "\\end{tabular}\n"
      ],
      "text/markdown": [
       "\n",
       "age.cohort | Hispanic | White not Hispanic | \n",
       "|---|---|---|---|---|---|\n",
       "| 0-5   |  44   |  20   | \n",
       "| 6-12  |  91   |  46   | \n",
       "| 13-17 | 103   |  67   | \n",
       "| 18-21 |  78   |  69   | \n",
       "| 22-50 |  43   | 133   | \n",
       "| 51+   |  17   |  66   | \n",
       "\n",
       "\n"
      ],
      "text/plain": [
       "  age.cohort Hispanic White not Hispanic\n",
       "1 0-5         44       20               \n",
       "2 6-12        91       46               \n",
       "3 13-17      103       67               \n",
       "4 18-21       78       69               \n",
       "5 22-50       43      133               \n",
       "6 51+         17       66               "
      ]
     },
     "metadata": {},
     "output_type": "display_data"
    }
   ],
   "source": [
    "require(tidyr)\n",
    "dds.discr.sub %>%\n",
    "    count(age.cohort,ethnicity) %>%\n",
    "    spread(key=ethnicity,value=n)"
   ]
  },
  {
   "cell_type": "markdown",
   "metadata": {},
   "source": [
    "Hispanics tend to be younger, with most Hispanic consumers falling into the 6-12, 13-17, and 18-21 age cohorts. In contrast, White non-Hispanics tend to be older; most consumers in this ethnic group are in the 22-50 age cohort, and relatively more White non-Hispanic consumers are in the 51+ age cohort as compared to Hispanics."
   ]
  },
  {
   "cell_type": "markdown",
   "metadata": {},
   "source": [
    "#### Problem 4: Confounding\n",
    "\n",
    "Recall that a confounding variable is a variable that is associated with the response variable and the exploratory variable under consideration; confounding was initially introduced in the context of sunscreen use and the incidence of skin cancer, where sun exposure is a confounder. In this setting, age is a confounder for the relationship between `expenditures` and `ethnicity`. Just as it would be incorrect to claim that sunscreen causes skin cancer, it is essential here to recognize that there is more to the story than the apparent association between `expenditures` and `ethnicity`.\n",
    "\n",
    "a) For a closer look at the relationship between age, ethnicity, and expenditures, compare how average `expenditures` differs by ethnicity within each age cohort. If age is indeed the primary source of the observed variation in expenditures, then there should be little difference in average `expenditures` between individuals in different ethnic groups but the same age cohort. Is this the case? Describe your findings.\n",
    "\n"
   ]
  },
  {
   "cell_type": "markdown",
   "metadata": {},
   "source": [
    "#### Solution:"
   ]
  },
  {
   "cell_type": "code",
   "execution_count": 78,
   "metadata": {},
   "outputs": [
    {
     "data": {
      "text/html": [
       "<table>\n",
       "<thead><tr><th scope=col>ethnicity</th><th scope=col>age.cohort</th><th scope=col>mean</th></tr></thead>\n",
       "<tbody>\n",
       "\t<tr><td>Hispanic          </td><td>0-5               </td><td> 1393.205         </td></tr>\n",
       "\t<tr><td>Hispanic          </td><td>6-12              </td><td> 2312.187         </td></tr>\n",
       "\t<tr><td>Hispanic          </td><td>13-17             </td><td> 3955.282         </td></tr>\n",
       "\t<tr><td>Hispanic          </td><td>18-21             </td><td> 9959.846         </td></tr>\n",
       "\t<tr><td>Hispanic          </td><td>22-50             </td><td>40924.116         </td></tr>\n",
       "\t<tr><td>Hispanic          </td><td>51+               </td><td>55585.000         </td></tr>\n",
       "\t<tr><td>White not Hispanic</td><td>0-5               </td><td> 1366.900         </td></tr>\n",
       "\t<tr><td>White not Hispanic</td><td>6-12              </td><td> 2052.261         </td></tr>\n",
       "\t<tr><td>White not Hispanic</td><td>13-17             </td><td> 3904.358         </td></tr>\n",
       "\t<tr><td>White not Hispanic</td><td>18-21             </td><td>10133.058         </td></tr>\n",
       "\t<tr><td>White not Hispanic</td><td>22-50             </td><td>40187.624         </td></tr>\n",
       "\t<tr><td>White not Hispanic</td><td>51+               </td><td>52670.424         </td></tr>\n",
       "</tbody>\n",
       "</table>\n"
      ],
      "text/latex": [
       "\\begin{tabular}{r|lll}\n",
       " ethnicity & age.cohort & mean\\\\\n",
       "\\hline\n",
       "\t Hispanic           & 0-5                &  1393.205         \\\\\n",
       "\t Hispanic           & 6-12               &  2312.187         \\\\\n",
       "\t Hispanic           & 13-17              &  3955.282         \\\\\n",
       "\t Hispanic           & 18-21              &  9959.846         \\\\\n",
       "\t Hispanic           & 22-50              & 40924.116         \\\\\n",
       "\t Hispanic           & 51+                & 55585.000         \\\\\n",
       "\t White not Hispanic & 0-5                &  1366.900         \\\\\n",
       "\t White not Hispanic & 6-12               &  2052.261         \\\\\n",
       "\t White not Hispanic & 13-17              &  3904.358         \\\\\n",
       "\t White not Hispanic & 18-21              & 10133.058         \\\\\n",
       "\t White not Hispanic & 22-50              & 40187.624         \\\\\n",
       "\t White not Hispanic & 51+                & 52670.424         \\\\\n",
       "\\end{tabular}\n"
      ],
      "text/markdown": [
       "\n",
       "ethnicity | age.cohort | mean | \n",
       "|---|---|---|---|---|---|---|---|---|---|---|---|\n",
       "| Hispanic           | 0-5                |  1393.205          | \n",
       "| Hispanic           | 6-12               |  2312.187          | \n",
       "| Hispanic           | 13-17              |  3955.282          | \n",
       "| Hispanic           | 18-21              |  9959.846          | \n",
       "| Hispanic           | 22-50              | 40924.116          | \n",
       "| Hispanic           | 51+                | 55585.000          | \n",
       "| White not Hispanic | 0-5                |  1366.900          | \n",
       "| White not Hispanic | 6-12               |  2052.261          | \n",
       "| White not Hispanic | 13-17              |  3904.358          | \n",
       "| White not Hispanic | 18-21              | 10133.058          | \n",
       "| White not Hispanic | 22-50              | 40187.624          | \n",
       "| White not Hispanic | 51+                | 52670.424          | \n",
       "\n",
       "\n"
      ],
      "text/plain": [
       "   ethnicity          age.cohort mean     \n",
       "1  Hispanic           0-5         1393.205\n",
       "2  Hispanic           6-12        2312.187\n",
       "3  Hispanic           13-17       3955.282\n",
       "4  Hispanic           18-21       9959.846\n",
       "5  Hispanic           22-50      40924.116\n",
       "6  Hispanic           51+        55585.000\n",
       "7  White not Hispanic 0-5         1366.900\n",
       "8  White not Hispanic 6-12        2052.261\n",
       "9  White not Hispanic 13-17       3904.358\n",
       "10 White not Hispanic 18-21      10133.058\n",
       "11 White not Hispanic 22-50      40187.624\n",
       "12 White not Hispanic 51+        52670.424"
      ]
     },
     "metadata": {},
     "output_type": "display_data"
    }
   ],
   "source": [
    "dds.discr.sub %>% \n",
    "    group_by(ethnicity,age.cohort) %>%\n",
    "    summarize(mean=mean(expenditures))"
   ]
  },
  {
   "cell_type": "markdown",
   "metadata": {},
   "source": [
    "When expenditures is compared within age cohorts, there are not large differences between mean expenditures for White non-Hispanics versus Hispanics. Comparing individuals of similar ages reveals that the association between ethnicity and expenditures is not nearly as strong as it seemed from the initial comparison of overall averages."
   ]
  },
  {
   "cell_type": "markdown",
   "metadata": {},
   "source": [
    "b) Based on this exploratory analysis, does there seem to be evidence of ethnic discrimination in the amount of financial support provided by the California DDS? Summarize your findings in language accessible to a non-statistician."
   ]
  },
  {
   "cell_type": "markdown",
   "metadata": {},
   "source": [
    "#### Solution:\n",
    "\n",
    "There does not seem to be evidence of ethnic discrimination. Although the average annual expenditures is lower for Hispanics than for White non-Hispanics, this is due to the difference in age distributions between the two ethnic groups. The population of Hispanic consumers is relatively young compared to the population of White non-Hispanic consumers, and the amount of expenditures for younger consumers tends to be lower than for older consumers. When individuals of similar ages are compared, there are not large differences in the average amount of financial support provided to a Hispanic consumer versus a White non-Hispanic consumer.\n"
   ]
  },
  {
   "cell_type": "markdown",
   "metadata": {},
   "source": [
    "#### BONUS (Extra Credit) Problem: Simpsons' Paradox\n",
    "\n",
    "Identifying confounding variables is essential for understanding data. Confounders are often context-specific; for example, age is not necessarily a confounder for the relationship between ethnicity and expenditures in a different population. Additionally, it is rarely immediately obvious which variables in a dataset are confounders; looking for confounding variables is an integral part of exploring a dataset.\n",
    "\n",
    "These data represent an extreme example of confounding known as **Simpson's paradox**, in which an association observed in several groups may disappear or reverse direction once the groups are combined. In other words, an association between two variables *X* and *Y* may disappear or reverse direction once data are partitioned into subpopulations based on a third variable *Z*, the confounding variable.\n",
    "\n",
    "Mean `expenditures` is higher for Hispanics than White non-Hispanics in all age cohorts except one. Yet, once all the data are aggregated, the average expenditures for White non-Hispanics is over twice as large as the average for Hispanics. This paradox can be explored from a mathematical perspective by using weighted averages, where the average expenditure for each cohort is weighted by the proportion of the population in that cohort.\n",
    "\n",
    "Calculate the overall weighted average expenditures for Hispanics and for White non-Hispanics, using the proportions of individuals in each age cohort (Problem 3d) and the average expenditures for each Cohort (Problem 4a). How does the weighting lead to overall average expenditures for White non-Hispanics to be higher than for Hispanics?"
   ]
  },
  {
   "cell_type": "markdown",
   "metadata": {
    "slideshow": {
     "slide_type": "fragment"
    }
   },
   "source": [
    "#### Solution:"
   ]
  },
  {
   "cell_type": "code",
   "execution_count": 93,
   "metadata": {},
   "outputs": [
    {
     "data": {
      "text/html": [
       "<table>\n",
       "<thead><tr><th scope=col>age.cohort</th><th scope=col>n</th><th scope=col>mean</th><th scope=col>freq</th></tr></thead>\n",
       "<tbody>\n",
       "\t<tr><td>0-5       </td><td> 44       </td><td> 1393.205 </td><td>0.11702128</td></tr>\n",
       "\t<tr><td>6-12      </td><td> 91       </td><td> 2312.187 </td><td>0.24202128</td></tr>\n",
       "\t<tr><td>13-17     </td><td>103       </td><td> 3955.282 </td><td>0.27393617</td></tr>\n",
       "\t<tr><td>18-21     </td><td> 78       </td><td> 9959.846 </td><td>0.20744681</td></tr>\n",
       "\t<tr><td>22-50     </td><td> 43       </td><td>40924.116 </td><td>0.11436170</td></tr>\n",
       "\t<tr><td>51+       </td><td> 17       </td><td>55585.000 </td><td>0.04521277</td></tr>\n",
       "</tbody>\n",
       "</table>\n"
      ],
      "text/latex": [
       "\\begin{tabular}{r|llll}\n",
       " age.cohort & n & mean & freq\\\\\n",
       "\\hline\n",
       "\t 0-5        &  44        &  1393.205  & 0.11702128\\\\\n",
       "\t 6-12       &  91        &  2312.187  & 0.24202128\\\\\n",
       "\t 13-17      & 103        &  3955.282  & 0.27393617\\\\\n",
       "\t 18-21      &  78        &  9959.846  & 0.20744681\\\\\n",
       "\t 22-50      &  43        & 40924.116  & 0.11436170\\\\\n",
       "\t 51+        &  17        & 55585.000  & 0.04521277\\\\\n",
       "\\end{tabular}\n"
      ],
      "text/markdown": [
       "\n",
       "age.cohort | n | mean | freq | \n",
       "|---|---|---|---|---|---|\n",
       "| 0-5        |  44        |  1393.205  | 0.11702128 | \n",
       "| 6-12       |  91        |  2312.187  | 0.24202128 | \n",
       "| 13-17      | 103        |  3955.282  | 0.27393617 | \n",
       "| 18-21      |  78        |  9959.846  | 0.20744681 | \n",
       "| 22-50      |  43        | 40924.116  | 0.11436170 | \n",
       "| 51+        |  17        | 55585.000  | 0.04521277 | \n",
       "\n",
       "\n"
      ],
      "text/plain": [
       "  age.cohort n   mean      freq      \n",
       "1 0-5         44  1393.205 0.11702128\n",
       "2 6-12        91  2312.187 0.24202128\n",
       "3 13-17      103  3955.282 0.27393617\n",
       "4 18-21       78  9959.846 0.20744681\n",
       "5 22-50       43 40924.116 0.11436170\n",
       "6 51+         17 55585.000 0.04521277"
      ]
     },
     "metadata": {},
     "output_type": "display_data"
    }
   ],
   "source": [
    "dds.summary.Hisp = dds.discr.sub %>%\n",
    "      filter(ethnicity==\"Hispanic\") %>%\n",
    "      group_by(age.cohort) %>%\n",
    "      summarise (n = n(),mean=mean(expenditures)) %>%\n",
    "      mutate(freq = n / sum(n)) %>%\n",
    "      mutate(mean=mean)\n",
    "\n",
    "dds.summary.Hisp"
   ]
  },
  {
   "cell_type": "code",
   "execution_count": 95,
   "metadata": {},
   "outputs": [
    {
     "data": {
      "text/html": [
       "<table>\n",
       "<thead><tr><th scope=col>age.cohort</th><th scope=col>n</th><th scope=col>mean</th><th scope=col>freq</th><th scope=col>weighted.mean</th></tr></thead>\n",
       "<tbody>\n",
       "\t<tr><td>0-5       </td><td> 44       </td><td> 1393.205 </td><td>0.11702128</td><td> 163.0346 </td></tr>\n",
       "\t<tr><td>6-12      </td><td> 91       </td><td> 2312.187 </td><td>0.24202128</td><td> 559.5984 </td></tr>\n",
       "\t<tr><td>13-17     </td><td>103       </td><td> 3955.282 </td><td>0.27393617</td><td>1083.4947 </td></tr>\n",
       "\t<tr><td>18-21     </td><td> 78       </td><td> 9959.846 </td><td>0.20744681</td><td>2066.1383 </td></tr>\n",
       "\t<tr><td>22-50     </td><td> 43       </td><td>40924.116 </td><td>0.11436170</td><td>4680.1516 </td></tr>\n",
       "\t<tr><td>51+       </td><td> 17       </td><td>55585.000 </td><td>0.04521277</td><td>2513.1516 </td></tr>\n",
       "</tbody>\n",
       "</table>\n"
      ],
      "text/latex": [
       "\\begin{tabular}{r|lllll}\n",
       " age.cohort & n & mean & freq & weighted.mean\\\\\n",
       "\\hline\n",
       "\t 0-5        &  44        &  1393.205  & 0.11702128 &  163.0346 \\\\\n",
       "\t 6-12       &  91        &  2312.187  & 0.24202128 &  559.5984 \\\\\n",
       "\t 13-17      & 103        &  3955.282  & 0.27393617 & 1083.4947 \\\\\n",
       "\t 18-21      &  78        &  9959.846  & 0.20744681 & 2066.1383 \\\\\n",
       "\t 22-50      &  43        & 40924.116  & 0.11436170 & 4680.1516 \\\\\n",
       "\t 51+        &  17        & 55585.000  & 0.04521277 & 2513.1516 \\\\\n",
       "\\end{tabular}\n"
      ],
      "text/markdown": [
       "\n",
       "age.cohort | n | mean | freq | weighted.mean | \n",
       "|---|---|---|---|---|---|\n",
       "| 0-5        |  44        |  1393.205  | 0.11702128 |  163.0346  | \n",
       "| 6-12       |  91        |  2312.187  | 0.24202128 |  559.5984  | \n",
       "| 13-17      | 103        |  3955.282  | 0.27393617 | 1083.4947  | \n",
       "| 18-21      |  78        |  9959.846  | 0.20744681 | 2066.1383  | \n",
       "| 22-50      |  43        | 40924.116  | 0.11436170 | 4680.1516  | \n",
       "| 51+        |  17        | 55585.000  | 0.04521277 | 2513.1516  | \n",
       "\n",
       "\n"
      ],
      "text/plain": [
       "  age.cohort n   mean      freq       weighted.mean\n",
       "1 0-5         44  1393.205 0.11702128  163.0346    \n",
       "2 6-12        91  2312.187 0.24202128  559.5984    \n",
       "3 13-17      103  3955.282 0.27393617 1083.4947    \n",
       "4 18-21       78  9959.846 0.20744681 2066.1383    \n",
       "5 22-50       43 40924.116 0.11436170 4680.1516    \n",
       "6 51+         17 55585.000 0.04521277 2513.1516    "
      ]
     },
     "metadata": {},
     "output_type": "display_data"
    },
    {
     "data": {
      "text/html": [
       "<table>\n",
       "<thead><tr><th scope=col>sum</th></tr></thead>\n",
       "<tbody>\n",
       "\t<tr><td>11065.57</td></tr>\n",
       "</tbody>\n",
       "</table>\n"
      ],
      "text/latex": [
       "\\begin{tabular}{r|l}\n",
       " sum\\\\\n",
       "\\hline\n",
       "\t 11065.57\\\\\n",
       "\\end{tabular}\n"
      ],
      "text/markdown": [
       "\n",
       "sum | \n",
       "|---|\n",
       "| 11065.57 | \n",
       "\n",
       "\n"
      ],
      "text/plain": [
       "  sum     \n",
       "1 11065.57"
      ]
     },
     "metadata": {},
     "output_type": "display_data"
    }
   ],
   "source": [
    "dds.summary.Hisp %>%\n",
    "    mutate(weighted.mean = mean*freq) \n",
    "\n",
    "dds.summary.Hisp %>%\n",
    "    mutate(weighted.mean = mean*freq) %>% \n",
    "    summarise(sum = sum(weighted.mean))"
   ]
  },
  {
   "cell_type": "code",
   "execution_count": 96,
   "metadata": {},
   "outputs": [
    {
     "data": {
      "text/html": [
       "<table>\n",
       "<thead><tr><th scope=col>age.cohort</th><th scope=col>n</th><th scope=col>mean</th><th scope=col>freq</th></tr></thead>\n",
       "<tbody>\n",
       "\t<tr><td>0-5       </td><td> 20       </td><td> 1366.900 </td><td>0.04987531</td></tr>\n",
       "\t<tr><td>6-12      </td><td> 46       </td><td> 2052.261 </td><td>0.11471322</td></tr>\n",
       "\t<tr><td>13-17     </td><td> 67       </td><td> 3904.358 </td><td>0.16708229</td></tr>\n",
       "\t<tr><td>18-21     </td><td> 69       </td><td>10133.058 </td><td>0.17206983</td></tr>\n",
       "\t<tr><td>22-50     </td><td>133       </td><td>40187.624 </td><td>0.33167082</td></tr>\n",
       "\t<tr><td>51+       </td><td> 66       </td><td>52670.424 </td><td>0.16458853</td></tr>\n",
       "</tbody>\n",
       "</table>\n"
      ],
      "text/latex": [
       "\\begin{tabular}{r|llll}\n",
       " age.cohort & n & mean & freq\\\\\n",
       "\\hline\n",
       "\t 0-5        &  20        &  1366.900  & 0.04987531\\\\\n",
       "\t 6-12       &  46        &  2052.261  & 0.11471322\\\\\n",
       "\t 13-17      &  67        &  3904.358  & 0.16708229\\\\\n",
       "\t 18-21      &  69        & 10133.058  & 0.17206983\\\\\n",
       "\t 22-50      & 133        & 40187.624  & 0.33167082\\\\\n",
       "\t 51+        &  66        & 52670.424  & 0.16458853\\\\\n",
       "\\end{tabular}\n"
      ],
      "text/markdown": [
       "\n",
       "age.cohort | n | mean | freq | \n",
       "|---|---|---|---|---|---|\n",
       "| 0-5        |  20        |  1366.900  | 0.04987531 | \n",
       "| 6-12       |  46        |  2052.261  | 0.11471322 | \n",
       "| 13-17      |  67        |  3904.358  | 0.16708229 | \n",
       "| 18-21      |  69        | 10133.058  | 0.17206983 | \n",
       "| 22-50      | 133        | 40187.624  | 0.33167082 | \n",
       "| 51+        |  66        | 52670.424  | 0.16458853 | \n",
       "\n",
       "\n"
      ],
      "text/plain": [
       "  age.cohort n   mean      freq      \n",
       "1 0-5         20  1366.900 0.04987531\n",
       "2 6-12        46  2052.261 0.11471322\n",
       "3 13-17       67  3904.358 0.16708229\n",
       "4 18-21       69 10133.058 0.17206983\n",
       "5 22-50      133 40187.624 0.33167082\n",
       "6 51+         66 52670.424 0.16458853"
      ]
     },
     "metadata": {},
     "output_type": "display_data"
    }
   ],
   "source": [
    "dds.summary.White = dds.discr.sub %>%\n",
    "      filter(ethnicity==\"White not Hispanic\") %>%\n",
    "      group_by(age.cohort) %>%\n",
    "      summarise (n = n(),mean=mean(expenditures)) %>%\n",
    "      mutate(freq = n / sum(n)) %>%\n",
    "      mutate(mean=mean)\n",
    "\n",
    "dds.summary.White"
   ]
  },
  {
   "cell_type": "code",
   "execution_count": 97,
   "metadata": {},
   "outputs": [
    {
     "data": {
      "text/html": [
       "<table>\n",
       "<thead><tr><th scope=col>age.cohort</th><th scope=col>n</th><th scope=col>mean</th><th scope=col>freq</th><th scope=col>weighted.mean</th></tr></thead>\n",
       "<tbody>\n",
       "\t<tr><td>0-5        </td><td> 20        </td><td> 1366.900  </td><td>0.04987531 </td><td>   68.17456</td></tr>\n",
       "\t<tr><td>6-12       </td><td> 46        </td><td> 2052.261  </td><td>0.11471322 </td><td>  235.42145</td></tr>\n",
       "\t<tr><td>13-17      </td><td> 67        </td><td> 3904.358  </td><td>0.16708229 </td><td>  652.34913</td></tr>\n",
       "\t<tr><td>18-21      </td><td> 69        </td><td>10133.058  </td><td>0.17206983 </td><td> 1743.59352</td></tr>\n",
       "\t<tr><td>22-50      </td><td>133        </td><td>40187.624  </td><td>0.33167082 </td><td>13329.06234</td></tr>\n",
       "\t<tr><td>51+        </td><td> 66        </td><td>52670.424  </td><td>0.16458853 </td><td> 8668.94763</td></tr>\n",
       "</tbody>\n",
       "</table>\n"
      ],
      "text/latex": [
       "\\begin{tabular}{r|lllll}\n",
       " age.cohort & n & mean & freq & weighted.mean\\\\\n",
       "\\hline\n",
       "\t 0-5         &  20         &  1366.900   & 0.04987531  &    68.17456\\\\\n",
       "\t 6-12        &  46         &  2052.261   & 0.11471322  &   235.42145\\\\\n",
       "\t 13-17       &  67         &  3904.358   & 0.16708229  &   652.34913\\\\\n",
       "\t 18-21       &  69         & 10133.058   & 0.17206983  &  1743.59352\\\\\n",
       "\t 22-50       & 133         & 40187.624   & 0.33167082  & 13329.06234\\\\\n",
       "\t 51+         &  66         & 52670.424   & 0.16458853  &  8668.94763\\\\\n",
       "\\end{tabular}\n"
      ],
      "text/markdown": [
       "\n",
       "age.cohort | n | mean | freq | weighted.mean | \n",
       "|---|---|---|---|---|---|\n",
       "| 0-5         |  20         |  1366.900   | 0.04987531  |    68.17456 | \n",
       "| 6-12        |  46         |  2052.261   | 0.11471322  |   235.42145 | \n",
       "| 13-17       |  67         |  3904.358   | 0.16708229  |   652.34913 | \n",
       "| 18-21       |  69         | 10133.058   | 0.17206983  |  1743.59352 | \n",
       "| 22-50       | 133         | 40187.624   | 0.33167082  | 13329.06234 | \n",
       "| 51+         |  66         | 52670.424   | 0.16458853  |  8668.94763 | \n",
       "\n",
       "\n"
      ],
      "text/plain": [
       "  age.cohort n   mean      freq       weighted.mean\n",
       "1 0-5         20  1366.900 0.04987531    68.17456  \n",
       "2 6-12        46  2052.261 0.11471322   235.42145  \n",
       "3 13-17       67  3904.358 0.16708229   652.34913  \n",
       "4 18-21       69 10133.058 0.17206983  1743.59352  \n",
       "5 22-50      133 40187.624 0.33167082 13329.06234  \n",
       "6 51+         66 52670.424 0.16458853  8668.94763  "
      ]
     },
     "metadata": {},
     "output_type": "display_data"
    },
    {
     "data": {
      "text/html": [
       "<table>\n",
       "<thead><tr><th scope=col>sum</th></tr></thead>\n",
       "<tbody>\n",
       "\t<tr><td>24697.55</td></tr>\n",
       "</tbody>\n",
       "</table>\n"
      ],
      "text/latex": [
       "\\begin{tabular}{r|l}\n",
       " sum\\\\\n",
       "\\hline\n",
       "\t 24697.55\\\\\n",
       "\\end{tabular}\n"
      ],
      "text/markdown": [
       "\n",
       "sum | \n",
       "|---|\n",
       "| 24697.55 | \n",
       "\n",
       "\n"
      ],
      "text/plain": [
       "  sum     \n",
       "1 24697.55"
      ]
     },
     "metadata": {},
     "output_type": "display_data"
    }
   ],
   "source": [
    "dds.summary.White %>%\n",
    "    mutate(weighted.mean = mean*freq)\n",
    "\n",
    "dds.summary.White %>%\n",
    "    mutate(weighted.mean = mean*freq) %>% \n",
    "    summarise(sum = sum(weighted.mean))"
   ]
  },
  {
   "cell_type": "markdown",
   "metadata": {},
   "source": [
    "The weights for the youngest four cohorts, which have lower expenditures, are higher for the Hispanic population than the White non-Hispanic population; additionally, the weights for the oldest two cohorts, which have higher expenditures, are higher for the White non-Hispanic population. This leads to overall average expenditures for the White non-Hispanics to be higher than for Hispanics."
   ]
  }
 ],
 "metadata": {
  "kernelspec": {
   "display_name": "R",
   "language": "R",
   "name": "ir"
  },
  "language_info": {
   "codemirror_mode": "r",
   "file_extension": ".r",
   "mimetype": "text/x-r-source",
   "name": "R",
   "pygments_lexer": "r",
   "version": "3.4.3"
  }
 },
 "nbformat": 4,
 "nbformat_minor": 2
}
