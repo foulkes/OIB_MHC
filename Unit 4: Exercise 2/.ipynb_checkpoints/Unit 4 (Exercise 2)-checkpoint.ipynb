{
 "cells": [
  {
   "cell_type": "markdown",
   "metadata": {},
   "source": [
    "In the first exercise of Unit 4 (Sampling from a Population), the goal was to compare point estimates of mean weight, $\\overline{x}_{weight}$, to the population parameter, $\\mu_{weight}$. In this exercise, instead of calculating point estimates from samples, we will calculate interval estimates, i.e. **confidence intervals**. A confidence interval gives a plausible range of values for a parameter and is centered at the point estimate. \n",
    "\n",
    "**Goal:** Observe the effect of sampling by treating the 13,572 individuals in `yrbss` as our target population, and drawing random samples. How do interval estimates of mean weight, $(\\overline{x}_{weight} - m, \\text{ } \\overline{x}_{weight} + m)$, calculated from random samples compare to the population parameter, $\\mu_{weight}$?\n",
    "\n",
    "\n",
    "The following information about the YRBSS data is copied from the previous exercise...\n",
    "\n",
    "This exercise uses data from the Youth Risk Factor Behavior Surveillance System (YRBSS), a yearly survey conducted by the US Centers for Disease Control to measure health-related activity in high-school aged youth. The dataset \\texttt{yrbss} in the OIBioStat package contains responses from the 13,572 participants in 2013 for a subset of the variables included in the complete survey data. \n",
    "\n",
    "\n",
    "Variables in the dataset include:\n",
    "\n",
    "  - age: age in years\n",
    "\n",
    "  - gender: gender of participant, recorded as either female or male\n",
    "  \n",
    "  - grade: grade in high school (9-12)\n",
    "  \n",
    "  - height: height, in meters (1 m = 3.28 ft)\n",
    "  \n",
    "  - weight: weight, in kilograms (1 kg = 2.2 lbs)\n",
    "  \n",
    "  - helmet.12m: frequency that the student wore a helmet while biking in the last 12 months, either always, most of time, sometimes, rarely, never, or did not ride\n",
    "  \n",
    "  - physically.active.7d: number of days physically active for 60+ minutes in the last 7 days\n",
    "  \n",
    "  - strength.training.7d: number of days of strength training in the last 7 days\n",
    "\n",
    "  \n",
    "The CDC used the responses from the 13,572 students to estimate the health behaviors of the target population: the 21.2 million high school aged students in the US in 2013. \n"
   ]
  },
  {
   "cell_type": "markdown",
   "metadata": {},
   "source": [
    "Recall from the previous excersice, we can take a random sample of size 10 from `yrbss' as follows:"
   ]
  },
  {
   "cell_type": "code",
   "execution_count": 2,
   "metadata": {},
   "outputs": [
    {
     "data": {
      "text/html": [
       "<table>\n",
       "<thead><tr><th></th><th scope=col>age</th><th scope=col>gender</th><th scope=col>grade</th><th scope=col>hispanic</th><th scope=col>race</th><th scope=col>height</th><th scope=col>weight</th><th scope=col>helmet.12m</th><th scope=col>text.while.driving.30d</th><th scope=col>physically.active.7d</th><th scope=col>hours.tv.per.school.day</th><th scope=col>strength.training.7d</th><th scope=col>school.night.hours.sleep</th></tr></thead>\n",
       "<tbody>\n",
       "\t<tr><th scope=row>7516</th><td>15                                                               </td><td>female                                                           </td><td>9                                                                </td><td><span style=white-space:pre-wrap>not     </span>                 </td><td><span style=white-space:pre-wrap>White                    </span></td><td>1.70                                                             </td><td>65.77                                                            </td><td><span style=white-space:pre-wrap>never       </span>             </td><td><span style=white-space:pre-wrap>0            </span>            </td><td>2                                                                </td><td><span style=white-space:pre-wrap>&lt;1          </span>          </td><td>0                                                                </td><td>8                                                                </td></tr>\n",
       "\t<tr><th scope=row>10731</th><td>16                       </td><td>female                   </td><td>11                       </td><td>hispanic                 </td><td>NA                       </td><td>1.57                     </td><td>60.78                    </td><td>never                    </td><td>NA                       </td><td>5                        </td><td>do not watch             </td><td>5                        </td><td>6                        </td></tr>\n",
       "\t<tr><th scope=row>3541</th><td>17                                                               </td><td>female                                                           </td><td>10                                                               </td><td><span style=white-space:pre-wrap>not     </span>                 </td><td><span style=white-space:pre-wrap>White                    </span></td><td>1.65                                                             </td><td>72.58                                                            </td><td>did not ride                                                     </td><td>did not drive                                                    </td><td>0                                                                </td><td><span style=white-space:pre-wrap>NA          </span>             </td><td>0                                                                </td><td>&lt;5                                                            </td></tr>\n",
       "\t<tr><th scope=row>11356</th><td>16                       </td><td>female                   </td><td>11                       </td><td>hispanic                 </td><td>Asian                    </td><td>1.70                     </td><td>66.68                    </td><td>never                    </td><td>NA                       </td><td>1                        </td><td>3                        </td><td>3                        </td><td>6                        </td></tr>\n",
       "\t<tr><th scope=row>11849</th><td>17                       </td><td>female                   </td><td>12                       </td><td>not                      </td><td>White                    </td><td>1.68                     </td><td>46.27                    </td><td>sometimes                </td><td>1-2                      </td><td>7                        </td><td>2                        </td><td>7                        </td><td>NA                       </td></tr>\n",
       "\t<tr><th scope=row>6411</th><td>17                       </td><td>female                   </td><td>12                       </td><td>not                      </td><td>NA                       </td><td>1.52                     </td><td>68.04                    </td><td>never                    </td><td>30                       </td><td>0                        </td><td>5+                       </td><td>0                        </td><td>7                        </td></tr>\n",
       "\t<tr><th scope=row>10405</th><td>17                                                     </td><td>female                                                 </td><td>11                                                     </td><td><span style=white-space:pre-wrap>not     </span>       </td><td>Black or African American                              </td><td>1.75                                                   </td><td>93.90                                                  </td><td>did not ride                                           </td><td>did not drive                                          </td><td>0                                                      </td><td><span style=white-space:pre-wrap>&lt;1          </span></td><td>0                                                      </td><td>6                                                      </td></tr>\n",
       "\t<tr><th scope=row>11864</th><td>18                       </td><td>male                     </td><td>12                       </td><td>not                      </td><td>White                    </td><td>1.47                     </td><td>63.50                    </td><td>never                    </td><td>20-29                    </td><td>7                        </td><td>2                        </td><td>5                        </td><td>6                        </td></tr>\n",
       "\t<tr><th scope=row>3664</th><td>18                       </td><td>male                     </td><td>12                       </td><td>not                      </td><td>White                    </td><td>1.70                     </td><td>75.75                    </td><td>did not ride             </td><td>0                        </td><td>0                        </td><td>1                        </td><td>2                        </td><td>6                        </td></tr>\n",
       "\t<tr><th scope=row>2881</th><td>14                       </td><td>female                   </td><td>9                        </td><td>not                      </td><td>White                    </td><td>1.68                     </td><td>68.04                    </td><td>never                    </td><td>0                        </td><td>4                        </td><td>2                        </td><td>5                        </td><td>8                        </td></tr>\n",
       "</tbody>\n",
       "</table>\n"
      ],
      "text/latex": [
       "\\begin{tabular}{r|lllllllllllll}\n",
       "  & age & gender & grade & hispanic & race & height & weight & helmet.12m & text.while.driving.30d & physically.active.7d & hours.tv.per.school.day & strength.training.7d & school.night.hours.sleep\\\\\n",
       "\\hline\n",
       "\t7516 & 15                        & female                    & 9                         & not                       & White                     & 1.70                      & 65.77                     & never                     & 0                         & 2                         & <1                        & 0                         & 8                        \\\\\n",
       "\t10731 & 16                        & female                    & 11                        & hispanic                  & NA                        & 1.57                      & 60.78                     & never                     & NA                        & 5                         & do not watch              & 5                         & 6                        \\\\\n",
       "\t3541 & 17                        & female                    & 10                        & not                       & White                     & 1.65                      & 72.58                     & did not ride              & did not drive             & 0                         & NA                        & 0                         & <5                       \\\\\n",
       "\t11356 & 16                        & female                    & 11                        & hispanic                  & Asian                     & 1.70                      & 66.68                     & never                     & NA                        & 1                         & 3                         & 3                         & 6                        \\\\\n",
       "\t11849 & 17                        & female                    & 12                        & not                       & White                     & 1.68                      & 46.27                     & sometimes                 & 1-2                       & 7                         & 2                         & 7                         & NA                       \\\\\n",
       "\t6411 & 17                        & female                    & 12                        & not                       & NA                        & 1.52                      & 68.04                     & never                     & 30                        & 0                         & 5+                        & 0                         & 7                        \\\\\n",
       "\t10405 & 17                        & female                    & 11                        & not                       & Black or African American & 1.75                      & 93.90                     & did not ride              & did not drive             & 0                         & <1                        & 0                         & 6                        \\\\\n",
       "\t11864 & 18                        & male                      & 12                        & not                       & White                     & 1.47                      & 63.50                     & never                     & 20-29                     & 7                         & 2                         & 5                         & 6                        \\\\\n",
       "\t3664 & 18                        & male                      & 12                        & not                       & White                     & 1.70                      & 75.75                     & did not ride              & 0                         & 0                         & 1                         & 2                         & 6                        \\\\\n",
       "\t2881 & 14                        & female                    & 9                         & not                       & White                     & 1.68                      & 68.04                     & never                     & 0                         & 4                         & 2                         & 5                         & 8                        \\\\\n",
       "\\end{tabular}\n"
      ],
      "text/markdown": [
       "\n",
       "| <!--/--> | age | gender | grade | hispanic | race | height | weight | helmet.12m | text.while.driving.30d | physically.active.7d | hours.tv.per.school.day | strength.training.7d | school.night.hours.sleep | \n",
       "|---|---|---|---|---|---|---|---|---|---|\n",
       "| 7516 | 15                        | female                    | 9                         | not                       | White                     | 1.70                      | 65.77                     | never                     | 0                         | 2                         | <1                        | 0                         | 8                         | \n",
       "| 10731 | 16                        | female                    | 11                        | hispanic                  | NA                        | 1.57                      | 60.78                     | never                     | NA                        | 5                         | do not watch              | 5                         | 6                         | \n",
       "| 3541 | 17                        | female                    | 10                        | not                       | White                     | 1.65                      | 72.58                     | did not ride              | did not drive             | 0                         | NA                        | 0                         | <5                        | \n",
       "| 11356 | 16                        | female                    | 11                        | hispanic                  | Asian                     | 1.70                      | 66.68                     | never                     | NA                        | 1                         | 3                         | 3                         | 6                         | \n",
       "| 11849 | 17                        | female                    | 12                        | not                       | White                     | 1.68                      | 46.27                     | sometimes                 | 1-2                       | 7                         | 2                         | 7                         | NA                        | \n",
       "| 6411 | 17                        | female                    | 12                        | not                       | NA                        | 1.52                      | 68.04                     | never                     | 30                        | 0                         | 5+                        | 0                         | 7                         | \n",
       "| 10405 | 17                        | female                    | 11                        | not                       | Black or African American | 1.75                      | 93.90                     | did not ride              | did not drive             | 0                         | <1                        | 0                         | 6                         | \n",
       "| 11864 | 18                        | male                      | 12                        | not                       | White                     | 1.47                      | 63.50                     | never                     | 20-29                     | 7                         | 2                         | 5                         | 6                         | \n",
       "| 3664 | 18                        | male                      | 12                        | not                       | White                     | 1.70                      | 75.75                     | did not ride              | 0                         | 0                         | 1                         | 2                         | 6                         | \n",
       "| 2881 | 14                        | female                    | 9                         | not                       | White                     | 1.68                      | 68.04                     | never                     | 0                         | 4                         | 2                         | 5                         | 8                         | \n",
       "\n",
       "\n"
      ],
      "text/plain": [
       "      age gender grade hispanic race                      height weight\n",
       "7516  15  female 9     not      White                     1.70   65.77 \n",
       "10731 16  female 11    hispanic NA                        1.57   60.78 \n",
       "3541  17  female 10    not      White                     1.65   72.58 \n",
       "11356 16  female 11    hispanic Asian                     1.70   66.68 \n",
       "11849 17  female 12    not      White                     1.68   46.27 \n",
       "6411  17  female 12    not      NA                        1.52   68.04 \n",
       "10405 17  female 11    not      Black or African American 1.75   93.90 \n",
       "11864 18  male   12    not      White                     1.47   63.50 \n",
       "3664  18  male   12    not      White                     1.70   75.75 \n",
       "2881  14  female 9     not      White                     1.68   68.04 \n",
       "      helmet.12m   text.while.driving.30d physically.active.7d\n",
       "7516  never        0                      2                   \n",
       "10731 never        NA                     5                   \n",
       "3541  did not ride did not drive          0                   \n",
       "11356 never        NA                     1                   \n",
       "11849 sometimes    1-2                    7                   \n",
       "6411  never        30                     0                   \n",
       "10405 did not ride did not drive          0                   \n",
       "11864 never        20-29                  7                   \n",
       "3664  did not ride 0                      0                   \n",
       "2881  never        0                      4                   \n",
       "      hours.tv.per.school.day strength.training.7d school.night.hours.sleep\n",
       "7516  <1                      0                    8                       \n",
       "10731 do not watch            5                    6                       \n",
       "3541  NA                      0                    <5                      \n",
       "11356 3                       3                    6                       \n",
       "11849 2                       7                    NA                      \n",
       "6411  5+                      0                    7                       \n",
       "10405 <1                      0                    6                       \n",
       "11864 2                       5                    6                       \n",
       "3664  1                       2                    6                       \n",
       "2881  2                       5                    8                       "
      ]
     },
     "metadata": {},
     "output_type": "display_data"
    }
   ],
   "source": [
    "require(oibiostat)\n",
    "data(yrbss)\n",
    "require(dplyr)\n",
    "set.seed(5011) \n",
    "yrbss.sample = sample_n(yrbss, size=10)\n",
    "yrbss.sample"
   ]
  },
  {
   "cell_type": "markdown",
   "metadata": {},
   "source": [
    "#### Problem 1:\n",
    "\n",
    "A confidence interval is calculated from four quantities: the sample mean $\\overline{x}$, the sample standard deviation $s$, the sample size $n$, and $t^{\\star}$.\n",
    "\n",
    "a) Calculate $\\overline{x}_{weight}$ and $s_{weight}$, the mean and standard deviation of weight in the sample. \n"
   ]
  },
  {
   "cell_type": "markdown",
   "metadata": {},
   "source": [
    "  b) For a 95% confidence interval, $t^{\\star}$ is the point on a $t$ distribution with $n - 1$ degrees of freedom that has area 0.975 to the left. Calculate the value of $t^\\star$ for a 95% confidence interval that has degrees of freedom $10 - 1 = 9$. \n",
    "\n"
   ]
  },
  {
   "cell_type": "markdown",
   "metadata": {},
   "source": [
    "c) Calculate a 95% confidence interval for the true mean weight and interpret this interval.\n",
    "\n",
    "$$\\left( \\overline{x} - \\dfrac{s}{\\sqrt{n}} t^{\\star}, \\text{ } \\overline{x} + \\dfrac{s}{\\sqrt{n}} t^{\\star} \\right)$$\n"
   ]
  },
  {
   "cell_type": "markdown",
   "metadata": {},
   "source": [
    "#### Problem 2:\n",
    "\n",
    "In general, for a confidence interval of $(1 - \\alpha)(100)\\%$, $t^{\\star}$ is the point on a $t$ distribution with $n - 1$ degrees of freedom that has area $1 - (\\alpha / 2)$ to the left. For a 95% confidence interval, $\\alpha = 0.05$; $t^\\star$ is the point on a $t$ distribution with area $1 - (0.05/2) = 0.975$ to the left.\n",
    "\n",
    "a) Calculate a 90% confidence interval based on the sample weights."
   ]
  },
  {
   "cell_type": "markdown",
   "metadata": {},
   "source": [
    "b) Calculate a 99% confidence interval based on the sample weights."
   ]
  },
  {
   "cell_type": "markdown",
   "metadata": {},
   "source": [
    "c) Compare the 95% confidence interval calculated in part a) to the 90% and 99% confidence intervals. Describe the relationship between confidence level and the width of the interval. "
   ]
  },
  {
   "cell_type": "markdown",
   "metadata": {},
   "source": [
    "d) Which the intervals calculated (90%, 95%, 99%) do you find to be the most informative as an estimate of the mean weight of high-school age students in the US? Explain your answer."
   ]
  },
  {
   "cell_type": "markdown",
   "metadata": {},
   "source": [
    "#### Problem 3: \n",
    "\n",
    "The `t.test()` command can be used to calculate confidence intervals in `R`. For example, the command to calculate a 95% confidence interval for `age` is:"
   ]
  },
  {
   "cell_type": "code",
   "execution_count": null,
   "metadata": {},
   "outputs": [],
   "source": [
    "t.test(yrbss.sample$age, na.rm = TRUE, conf.level = 0.95)$conf.int\n",
    "\n",
    "# OR using dplyr\n",
    "yrbss.sample %>%\n",
    "    summarize(lower=t.test(age, na.rm = TRUE, conf.level = 0.95)$conf.int[1], \n",
    "              upper=t.test(age, na.rm = TRUE, conf.level = 0.95)$conf.int[2])"
   ]
  },
  {
   "cell_type": "markdown",
   "metadata": {},
   "source": [
    "a) Calculate a 95% confidence interval for weight using `t.test()`.\n"
   ]
  },
  {
   "cell_type": "markdown",
   "metadata": {},
   "source": [
    "b) Examine the effect of larger sample sizes on the confidence interval by re-running the code for sample sizes of 25, 100, and 1000. Use the last four digits of your ID in the `set.seed()` function. Describe your observations."
   ]
  },
  {
   "cell_type": "markdown",
   "metadata": {},
   "source": [
    "#### Problem 4:\n",
    "\n",
    "The method illustrated for computing an $x$% confidence interval will produce an interval that, on average, contains the true population mean $x$ times out of 100. \n",
    "\n",
    "a) Calculate the population mean weight, $\\mu_{weight}$ for `yrbss`.\n"
   ]
  },
  {
   "cell_type": "markdown",
   "metadata": {},
   "source": [
    "b) Does the 95% confidence interval you calculated in part b) of Question 3 for sample size 100 contain $\\mu_{weight}$?"
   ]
  },
  {
   "cell_type": "markdown",
   "metadata": {},
   "source": [
    "c) Draw your 95% confidence interval from part b) of Question 3 on the board."
   ]
  },
  {
   "cell_type": "markdown",
   "metadata": {},
   "source": [
    "#### Problem 5: "
   ]
  },
  {
   "cell_type": "markdown",
   "metadata": {},
   "source": [
    "Run the following code chunk to take 1,000 random samples of size 100 from `yrbss.complete`. For each sample, the code calculates mean weight for participants in the sample and stores the value in `sample.means`. The code also calculates the margin of error $m$ according to the defined `conf.level`, and stores it in `m`. The variable `contains.mu` records `TRUE` if the interval contains $\\mu_{weight}$ and `FALSE` otherwise."
   ]
  },
  {
   "cell_type": "code",
   "execution_count": null,
   "metadata": {},
   "outputs": [],
   "source": [
    "require(mosaic)\n",
    "\n",
    "#set parameters\n",
    "sample.size = 100\n",
    "replicates = 1000\n",
    "conf.level = 0.95\n",
    "\n",
    "#set seed\n",
    "set.seed(2018)\n",
    "\n",
    "#calculate sample means and margin of errors\n",
    "confInt = do(replicates)*{\n",
    "  yrbss.sample = sample_n(yrbss, size=sample.size)\n",
    "  \n",
    "  sample.df = sample.size - 1\n",
    "  t.star = qt(1 - (1 - conf.level)/2, df = sample.df)\n",
    "  \n",
    "  sample.means = mean(yrbss.sample$weight,na.rm=TRUE)\n",
    "  m = t.star * (sd(yrbss.sample$weight,na.rm=TRUE) / sqrt(sample.size))\n",
    "    \n",
    "  c(ci.lb = sample.means - m, ci.ub = sample.means + m)\n",
    "}\n",
    "\n",
    "head(confInt)\n",
    "\n",
    "#does the confidence interval contain mu?\n",
    "mu = mean(yrbss$weight,na.rm=TRUE)\n",
    "contains.mu = (confInt$ci.lb < mu) & (confInt$ci.ub > mu) \n",
    "table(contains.mu)"
   ]
  },
  {
   "cell_type": "markdown",
   "metadata": {},
   "source": [
    "a) How many intervals contained the population mean $\\mu_{weight}$? "
   ]
  },
  {
   "cell_type": "markdown",
   "metadata": {},
   "source": [
    "b) What happens when `conf.level` is changed? Test out 0.90 and 0.99."
   ]
  },
  {
   "cell_type": "markdown",
   "metadata": {},
   "source": [
    "c) From what you have observed in this exercise about the relationship between an interval estimate for the mean ($\\overline{x} \\pm m$) and the population mean ($\\mu$), evaluate the following statement:\n",
    "  \n",
    "*\"The 95% confidence interval as calculated from the 13,572 sampled high school students in the 2013 YRBSS survey is (67.61, 68.20) kg. It is possible to definitively conclude that the interval contains the mean weight of the 21.2 million high school aged students in the US in 2013.\"*"
   ]
  }
 ],
 "metadata": {
  "kernelspec": {
   "display_name": "R",
   "language": "R",
   "name": "ir"
  },
  "language_info": {
   "codemirror_mode": "r",
   "file_extension": ".r",
   "mimetype": "text/x-r-source",
   "name": "R",
   "pygments_lexer": "r",
   "version": "3.4.3"
  }
 },
 "nbformat": 4,
 "nbformat_minor": 2
}
