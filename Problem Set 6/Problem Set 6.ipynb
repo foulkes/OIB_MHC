{
 "cells": [
  {
   "cell_type": "markdown",
   "metadata": {},
   "source": [
    "## <span style=\"color:darkblue\"> Problem Set 6: Hypothesis Testing\n",
    "\n",
    "Stat140-02: Introduction to the Ideas and Applications of Statistics \n",
    "\n",
    "Due: Friday, April 6 @11am"
   ]
  },
  {
   "cell_type": "markdown",
   "metadata": {},
   "source": [
    "**Problem set policies:** Please provide concise, clear answers for each question. Note that only writing the result of a calculation (e.g., \"SD = 3.3\") without explanation is not sufficient. For problems involving `R`, include the code in your solution, along with any plots.\n",
    "\t\t\n",
    "Each problem set is due by 11:00am on the due date; please submit your problem set via gyrd\n",
    "\t\t\n",
    "*You are encouraged to discuss problems with other students (and, of course, with the course head and the TAs), but you must write your final answer in your own words. Solutions prepared \"in committee\" are not acceptable. If you do collaborate with classmates on a problem, please list your collaborators on your solution.*\n"
   ]
  },
  {
   "cell_type": "markdown",
   "metadata": {},
   "source": [
    "#### Problem 1.\n",
    "\n",
    "The typical weight of a baby at birth for the US population is 3,250 grams. Suppose an investigator takes a random sample of 50 birth weights from several teaching hospitals located in an inner-city neighborhood. The birth weights are stored in `birth_weights.Rdata` and can be loaded into R using the `load()` function. \n",
    "\n",
    "The investigator suspects that the birth weights of babies in these teaching hospitals is larger than 3,250 grams, because of obesity prevalence in mothers giving birth at these hospitals. Overweight and obese women have higher risk of preterm birth. The results of this analysis will inform whether an educational program for pregnant women that promotes exercise and healthy eating should be started at the neighborhood community center.\n",
    "\n",
    "Carry out a formal hypothesis test to test the null hypothesis that mean birth weight for babies in these teaching hospitals is equal to 3,250 grams. Justify your choice of alternative hypothesis, in addition to your choice of $\\alpha$. \n"
   ]
  },
  {
   "cell_type": "code",
   "execution_count": null,
   "metadata": {},
   "outputs": [],
   "source": [
    "load(\"birth_weights.Rdata\")"
   ]
  },
  {
   "cell_type": "markdown",
   "metadata": {},
   "source": [
    "#### Problem 2:\n",
    "\n",
    "In each of the following scenarios, determine whether the data are paired or independent.\n",
    "\n",
    "a) Does salary differ by gender for full professors at American universities? Draw a random sample of 50 female full professors and 50 male full professors, and compare their salaries.\n",
    "\n",
    "b) Does Vitamin E increase artery thickness? Measure artery thickness for a group of patients before they start taking Vitamin E regularly for two years. Compare initial artery thickness to artery thickness at the end of the study.\n",
    "\n",
    "c) Is a Mediterranean diet effective for weight loss? Compare the weights of individuals before and after going on the diet regimen.\n",
    "\n",
    "d) Do Intel's stock and Southwest Airlines' stock have similar rates of return? Take a random sample of 60 days, and compare Intel's and Southwest's stock on those days.\n",
    "\n"
   ]
  },
  {
   "cell_type": "markdown",
   "metadata": {},
   "source": [
    "#### Problem 3.\n",
    "\n",
    "(FB $7^{th}$ ed. 8.41-8.44, Pulmonary Disease) A possible important environmental determinant of lung function in children is amount of cigarette smoking in the home. Suppose this question is studied by selecting two groups: Group 1 consists of 23 nonsmoking children 5-9 years of age with two parents who smoke, and have mean forced expiratory volume (FEV) of 2.1 L and a standard deviation of 0.7 L; group 2 consists of 20 nonsmoking children of comparable age, with two parents who do not smoke, and have mean FEV of 2.3 L and a standard deviation of 0.4 L.\n",
    "\n",
    "  a) Do the children of two parents who smoke have mean FEV different from the children of two parents who do not smoke? Conduct a hypothesis test. Use the min($n_1 - 1$, $n_2 - 1$) approximation for the degrees of freedom.\n",
    "  \n",
    "  b) Summarize your findings in language that someone who has not taken a statistics course would understand.\n"
   ]
  },
  {
   "cell_type": "markdown",
   "metadata": {},
   "source": [
    "#### Problem 4:\n",
    "\n",
    "In recent years, widespread outbreaks of avian influenza have posed a global threat to both poultry production and human health. One strategy being explored by researchers involves developing chickens that are genetically resistant to infection. In 2011, a team of investigators reported in \\textit{Science} that they had successfully generated transgenic chickens expressing a short-hairpin RNA that interferes with virus propagation. As a part of assessing whether the genetic modification might be hazardous to the health of the chickens, hatch weights between transgenic (`tg`) and non-transgenic (`non.tg`) birds were collected; the data are in `gm.chicks.Rdata`. (Data from Lyall J, et al. Suppression of avian influenza transmission in genetically modified chickens. Science 2011; 331; 223-226.) Determine whether the data suggests that there is a difference in hatch weights between transgenic and non-transgenic chickens. \n",
    "\n"
   ]
  },
  {
   "cell_type": "code",
   "execution_count": null,
   "metadata": {},
   "outputs": [],
   "source": [
    "load(\"gm_chicks.Rdata\")\n",
    "head(gm.chicks)"
   ]
  },
  {
   "cell_type": "markdown",
   "metadata": {},
   "source": [
    "#### Problem 5:\n",
    "\n",
    "In vertebrates, sweet and savory (\"umami\") tastes are sensed by receptors termed T1Rs. Most vertebrates have three T1Rs, with T1R2 and T1R3 receptors working together to detect sugars (carbohydrates) and artificial sweeteners, while the T1R1-T1R3 heterodimer mediates umami taste. However, even though birds lack T1R2 genes, several avian species display high behavioral affinity for nectar or sweet fruit. Receptor expression studies in hummingbirds revealed that the ancestral umami receptor (T1R1-T1R3) has been repurposed to detect sugars. (Baldwin, et al. Evolution of sweet taste perception in hummingbirds by transformation of the ancestral umami receptor. Science 2014; 345: 929-933.)\n",
    "\n",
    "Researchers investigated whether T1R1-T1R3 function would dictate hummingbird taste behavior. In a series of field tests, hummingbirds were presented simultaneously with two filled containers, one containing test stimuli and a second containing sucrose. The test stimuli included aspartame, erythritol, water, and sucrose. Data on how long a hummingbird drank from a particular container for a given trial, measured in seconds, is in the file `hummingbirds.Rdata`. Variable names ending in `1` correspond to the test stimuli, while names ending in `2` correspond to sucrose. For example, in the first field test comparing aspartame and sucrose, a hummingbird drank from the aspartame container for 0.54 seconds and from the sucrose container for 3.21 seconds.\n",
    "\n",
    "Do the data suggest that T1R1-T1R3 plays a role in hummingbird taste behavior?\n",
    "\n",
    "Conduct hypothesis tests at the 0.05 significance level for each set of trials: aspartame versus sucrose, erythritol versus sucrose, water versus sucrose, and sucrose versus sucrose.  Aspartame is an artificial sweetener that tastes sweet to humans, but is not detected by hummingbird T1R1-T1R3, while erythritol is an artificial sweetener that is known to activate T1R1-T1R3. Specify the null and alternative hypotheses for each test, run the tests, and then write a conclusion summarizing and interpreting your results, referencing numerical results (such as $p$-values) where appropriate. "
   ]
  },
  {
   "cell_type": "code",
   "execution_count": null,
   "metadata": {},
   "outputs": [],
   "source": [
    "load(\"hummingbirds.Rdata\")\n",
    "head(hummingbirds)"
   ]
  }
 ],
 "metadata": {
  "kernelspec": {
   "display_name": "R",
   "language": "R",
   "name": "ir"
  },
  "language_info": {
   "codemirror_mode": "r",
   "file_extension": ".r",
   "mimetype": "text/x-r-source",
   "name": "R",
   "pygments_lexer": "r",
   "version": "3.4.3"
  }
 },
 "nbformat": 4,
 "nbformat_minor": 2
}
