{
 "cells": [
  {
   "cell_type": "markdown",
   "metadata": {},
   "source": [
    "### Unit 3 - In-class exercise\n",
    "\n",
    "#### Clinical Trial Simulation\n",
    "\n",
    "Suppose that a clinical trial to test a new drug will be conducted on 8 patients, in which the probability of a good response to the drug is thought to be 0.15. The following code tabulates and graphs the distribution of the number of good responses based on 1,000 replicates of the trial for 8 patients."
   ]
  },
  {
   "cell_type": "code",
   "execution_count": null,
   "metadata": {},
   "outputs": [],
   "source": [
    "#load necessary packaages\n",
    "require(mosaic)\n",
    "require(dplyr)\n",
    "require(ggplot2)\n",
    "\n",
    "#set the parameters\n",
    "number.patients = 8\n",
    "response.prob = 0.15\n",
    "number.replicates = 1000\n",
    "\n",
    "#set the seed\n",
    "set.seed(2018)\n",
    "\n",
    "#run the simulation\n",
    "number.responses.replicate <- do(number.replicates)*{\n",
    "    number.responses = sample(c(0,1), size = number.patients, replace = TRUE,\n",
    "             prob = c(1 - response.prob, response.prob))\n",
    "    data.frame(response.counts=sum(number.responses))\n",
    "}\n",
    "\n",
    "#create a table of response counts\n",
    "number.responses.replicate %>%\n",
    "    count(response.counts)\n",
    "\n",
    "#plot the response counts\n",
    "ggplot(data=number.responses.replicate,aes(response.counts)) +\n",
    "    geom_bar(alpha=.4)"
   ]
  },
  {
   "cell_type": "markdown",
   "metadata": {},
   "source": [
    "a) Run the code. From the barplot, describe the distribution."
   ]
  },
  {
   "cell_type": "markdown",
   "metadata": {},
   "source": [
    "b) Based on the results of the simulation, estimate the probability that 0 patients respond well to the new drug."
   ]
  },
  {
   "cell_type": "markdown",
   "metadata": {},
   "source": [
    "c) Based on the results of the simulation, construct a probability distribution for the random variable $X$, the number of patients who respond well to the experimental drug.\n"
   ]
  },
  {
   "cell_type": "markdown",
   "metadata": {},
   "source": [
    "d) What value(s) for response probability would produce a left-skewed distribution? what value(s) would produce a symmetric distribution?\n"
   ]
  },
  {
   "cell_type": "markdown",
   "metadata": {},
   "source": [
    "e) Calculate $E(X)$, where $X$ is the number of patients who respond well to the experimental drug."
   ]
  },
  {
   "cell_type": "markdown",
   "metadata": {},
   "source": [
    "f) Calculate $SD(X)$, where $X$ is the number of patients who respond well to the experimental drug. It is sufficient to write the answer in an unsimplified form where only simple arithmetic is necessary to reach the final value."
   ]
  }
 ],
 "metadata": {
  "kernelspec": {
   "display_name": "R",
   "language": "R",
   "name": "ir"
  },
  "language_info": {
   "codemirror_mode": "r",
   "file_extension": ".r",
   "mimetype": "text/x-r-source",
   "name": "R",
   "pygments_lexer": "r",
   "version": "3.4.3"
  }
 },
 "nbformat": 4,
 "nbformat_minor": 2
}
