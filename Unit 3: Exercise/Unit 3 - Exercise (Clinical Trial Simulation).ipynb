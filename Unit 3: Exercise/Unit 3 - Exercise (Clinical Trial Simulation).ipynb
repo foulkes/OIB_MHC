{
 "cells": [
  {
   "cell_type": "markdown",
   "metadata": {},
   "source": [
    "### Unit 3 - In-class exercise\n",
    "\n",
    "#### Clinical Trial Simulation\n",
    "\n",
    "Suppose that a clinical trial to test a new drug will be conducted on 8 patients, in which the probability of a good response to the drug is thought to be 0.15. The following code tabulates and graphs the distribution of the number of good responses based on 1,000 replicates of the trial for 8 patients."
   ]
  },
  {
   "cell_type": "code",
   "execution_count": 7,
   "metadata": {},
   "outputs": [
    {
     "data": {
      "text/html": [
       "<table>\n",
       "<thead><tr><th scope=col>response.counts</th><th scope=col>n</th></tr></thead>\n",
       "<tbody>\n",
       "\t<tr><td>0  </td><td>  2</td></tr>\n",
       "\t<tr><td>1  </td><td> 30</td></tr>\n",
       "\t<tr><td>2  </td><td>100</td></tr>\n",
       "\t<tr><td>3  </td><td>207</td></tr>\n",
       "\t<tr><td>4  </td><td>272</td></tr>\n",
       "\t<tr><td>5  </td><td>234</td></tr>\n",
       "\t<tr><td>6  </td><td>121</td></tr>\n",
       "\t<tr><td>7  </td><td> 30</td></tr>\n",
       "\t<tr><td>8  </td><td>  4</td></tr>\n",
       "</tbody>\n",
       "</table>\n"
      ],
      "text/latex": [
       "\\begin{tabular}{r|ll}\n",
       " response.counts & n\\\\\n",
       "\\hline\n",
       "\t 0   &   2\\\\\n",
       "\t 1   &  30\\\\\n",
       "\t 2   & 100\\\\\n",
       "\t 3   & 207\\\\\n",
       "\t 4   & 272\\\\\n",
       "\t 5   & 234\\\\\n",
       "\t 6   & 121\\\\\n",
       "\t 7   &  30\\\\\n",
       "\t 8   &   4\\\\\n",
       "\\end{tabular}\n"
      ],
      "text/markdown": [
       "\n",
       "response.counts | n | \n",
       "|---|---|---|---|---|---|---|---|---|\n",
       "| 0   |   2 | \n",
       "| 1   |  30 | \n",
       "| 2   | 100 | \n",
       "| 3   | 207 | \n",
       "| 4   | 272 | \n",
       "| 5   | 234 | \n",
       "| 6   | 121 | \n",
       "| 7   |  30 | \n",
       "| 8   |   4 | \n",
       "\n",
       "\n"
      ],
      "text/plain": [
       "  response.counts n  \n",
       "1 0                 2\n",
       "2 1                30\n",
       "3 2               100\n",
       "4 3               207\n",
       "5 4               272\n",
       "6 5               234\n",
       "7 6               121\n",
       "8 7                30\n",
       "9 8                 4"
      ]
     },
     "metadata": {},
     "output_type": "display_data"
    },
    {
     "data": {},
     "metadata": {},
     "output_type": "display_data"
    },
    {
     "data": {
      "image/png": "[encoded data removed]",
      "text/plain": [
       "plot without title"
      ]
     },
     "metadata": {},
     "output_type": "display_data"
    }
   ],
   "source": [
    "#load necessary packaages\n",
    "require(mosaic)\n",
    "require(dplyr)\n",
    "require(ggplot2)\n",
    "\n",
    "#set the parameters\n",
    "number.patients = 8\n",
    "response.prob = 0.5\n",
    "number.replicates = 1000\n",
    "\n",
    "#set the seed\n",
    "set.seed(2018)\n",
    "\n",
    "#run the simulation\n",
    "number.responses.replicate <- do(number.replicates)*{\n",
    "    number.responses = sample(c(0,1), size = number.patients, replace = TRUE,\n",
    "             prob = c(1 - response.prob, response.prob))\n",
    "    data.frame(response.counts=sum(number.responses))\n",
    "}\n",
    "\n",
    "#create a table of response counts\n",
    "number.responses.replicate %>%\n",
    "    count(response.counts)\n",
    "\n",
    "#plot the response counts\n",
    "ggplot(data=number.responses.replicate,aes(response.counts)) +\n",
    "    geom_bar(alpha=.4)"
   ]
  },
  {
   "cell_type": "markdown",
   "metadata": {},
   "source": [
    "a) Run the code. From the barplot, describe the distribution."
   ]
  },
  {
   "cell_type": "markdown",
   "metadata": {},
   "source": [
    "b) Based on the results of the simulation, estimate the probability that 0 patients respond well to the new drug."
   ]
  },
  {
   "cell_type": "code",
   "execution_count": 4,
   "metadata": {},
   "outputs": [
    {
     "data": {
      "text/html": [
       "0.264"
      ],
      "text/latex": [
       "0.264"
      ],
      "text/markdown": [
       "0.264"
      ],
      "text/plain": [
       "[1] 0.264"
      ]
     },
     "metadata": {},
     "output_type": "display_data"
    }
   ],
   "source": [
    "264/1000"
   ]
  },
  {
   "cell_type": "markdown",
   "metadata": {},
   "source": [
    "c) Based on the results of the simulation, construct a probability distribution for the random variable $X$, the number of patients who respond well to the experimental drug.\n"
   ]
  },
  {
   "cell_type": "code",
   "execution_count": 5,
   "metadata": {},
   "outputs": [
    {
     "data": {
      "text/html": [
       "<table>\n",
       "<thead><tr><th scope=col>response.counts</th><th scope=col>n</th><th scope=col>freq</th></tr></thead>\n",
       "<tbody>\n",
       "\t<tr><td>0    </td><td>264  </td><td>0.264</td></tr>\n",
       "\t<tr><td>1    </td><td>410  </td><td>0.410</td></tr>\n",
       "\t<tr><td>2    </td><td>247  </td><td>0.247</td></tr>\n",
       "\t<tr><td>3    </td><td> 66  </td><td>0.066</td></tr>\n",
       "\t<tr><td>4    </td><td> 12  </td><td>0.012</td></tr>\n",
       "\t<tr><td>5    </td><td>  1  </td><td>0.001</td></tr>\n",
       "</tbody>\n",
       "</table>\n"
      ],
      "text/latex": [
       "\\begin{tabular}{r|lll}\n",
       " response.counts & n & freq\\\\\n",
       "\\hline\n",
       "\t 0     & 264   & 0.264\\\\\n",
       "\t 1     & 410   & 0.410\\\\\n",
       "\t 2     & 247   & 0.247\\\\\n",
       "\t 3     &  66   & 0.066\\\\\n",
       "\t 4     &  12   & 0.012\\\\\n",
       "\t 5     &   1   & 0.001\\\\\n",
       "\\end{tabular}\n"
      ],
      "text/markdown": [
       "\n",
       "response.counts | n | freq | \n",
       "|---|---|---|---|---|---|\n",
       "| 0     | 264   | 0.264 | \n",
       "| 1     | 410   | 0.410 | \n",
       "| 2     | 247   | 0.247 | \n",
       "| 3     |  66   | 0.066 | \n",
       "| 4     |  12   | 0.012 | \n",
       "| 5     |   1   | 0.001 | \n",
       "\n",
       "\n"
      ],
      "text/plain": [
       "  response.counts n   freq \n",
       "1 0               264 0.264\n",
       "2 1               410 0.410\n",
       "3 2               247 0.247\n",
       "4 3                66 0.066\n",
       "5 4                12 0.012\n",
       "6 5                 1 0.001"
      ]
     },
     "metadata": {},
     "output_type": "display_data"
    }
   ],
   "source": [
    "number.responses.replicate %>%\n",
    "    group_by(response.counts) %>%\n",
    "    summarize(n=n()) %>%\n",
    "    mutate(freq=n/sum(n))"
   ]
  },
  {
   "cell_type": "markdown",
   "metadata": {},
   "source": [
    "d) What value(s) for response probability would produce a left-skewed distribution? what value(s) would produce a symmetric distribution?\n"
   ]
  },
  {
   "cell_type": "markdown",
   "metadata": {},
   "source": [
    "e) Calculate $E(X)$, where $X$ is the number of patients who respond well to the experimental drug."
   ]
  },
  {
   "cell_type": "markdown",
   "metadata": {},
   "source": [
    "f) Calculate $SD(X)$, where $X$ is the number of patients who respond well to the experimental drug. It is sufficient to write the answer in an unsimplified form where only simple arithmetic is necessary to reach the final value."
   ]
  }
 ],
 "metadata": {
  "kernelspec": {
   "display_name": "R",
   "language": "R",
   "name": "ir"
  },
  "language_info": {
   "codemirror_mode": "r",
   "file_extension": ".r",
   "mimetype": "text/x-r-source",
   "name": "R",
   "pygments_lexer": "r",
   "version": "3.4.3"
  }
 },
 "nbformat": 4,
 "nbformat_minor": 2
}
