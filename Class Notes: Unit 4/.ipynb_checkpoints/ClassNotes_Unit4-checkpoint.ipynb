{
 "cells": [
  {
   "cell_type": "markdown",
   "metadata": {},
   "source": [
    "## <span style=\"color:darkblue\"> Class Notes: Unit 4 (Introduction to Inference)\n",
    "\n",
    "*The content of this notebook is based on modified materials from Open Intro Biostatistics (OIBiostat)*\n"
   ]
  },
  {
   "cell_type": "markdown",
   "metadata": {},
   "source": [
    "### Goal of this material\n",
    "\n",
    "Inference uses the concepts of probability and the tools of data analysis to\n",
    "\n",
    "- draw inferences about populations via samples taken from a population\n",
    "\n",
    "- estimate the uncertainty (or level of confidence) associated with the inference\n",
    "\n",
    "Principles of inference will be illustrated in the setting of \n",
    "\n",
    "- estimating the average (mean) for a characteristic of a well-defined population\n",
    "\n",
    "- drawing conclusions about that characteristic\n",
    "\n",
    "Material drawn from Chapter 4, *OI Biostat*, sections 4.1 - 4.3.\n"
   ]
  },
  {
   "cell_type": "markdown",
   "metadata": {},
   "source": [
    "----\n",
    "#### <span style=\"color:darkblue\"> A. Populations, samples and sampling variability\n",
    "\n",
    "**Youth Risk Factor Behavior Surveillance System (YRBSS)**\n",
    "\n",
    "The YRBSS is a survey conducted by the US CDC to measure health-related activity in high school aged youth.\n",
    "\n",
    "- 2.6 million high school students participated between 1991 and 2013 in more than 1,100 separate surveys.\n",
    "\n",
    "- Dataset *yrbss* in the package OIBioStat contains responses from the 13,583 participants in 2013.\n",
    "\n",
    "- 13 variables and 13,583 rows (cases, or participants)\n",
    "\n",
    "(Table 4.1 in *OI Biostat*)"
   ]
  },
  {
   "cell_type": "code",
   "execution_count": 1,
   "metadata": {},
   "outputs": [
    {
     "data": {
      "text/html": [
       "<table>\n",
       "<thead><tr><th scope=col>age</th><th scope=col>gender</th><th scope=col>grade</th><th scope=col>hispanic</th><th scope=col>race</th><th scope=col>height</th><th scope=col>weight</th><th scope=col>helmet.12m</th><th scope=col>text.while.driving.30d</th><th scope=col>physically.active.7d</th><th scope=col>hours.tv.per.school.day</th><th scope=col>strength.training.7d</th><th scope=col>school.night.hours.sleep</th></tr></thead>\n",
       "<tbody>\n",
       "\t<tr><td>14                                       </td><td>female                                   </td><td>9                                        </td><td>not                                      </td><td>Black or African American                </td><td>  NA                                     </td><td>   NA                                    </td><td>never                                    </td><td>0                                        </td><td>4                                        </td><td>5+                                       </td><td>0                                        </td><td>8                                        </td></tr>\n",
       "\t<tr><td>14                                       </td><td>female                                   </td><td>9                                        </td><td>not                                      </td><td>Black or African American                </td><td>  NA                                     </td><td>   NA                                    </td><td>never                                    </td><td>NA                                       </td><td>2                                        </td><td>5+                                       </td><td>0                                        </td><td>6                                        </td></tr>\n",
       "\t<tr><td>15                                                   </td><td>female                                               </td><td>9                                                    </td><td>hispanic                                             </td><td>Native Hawaiian or Other Pacific Islander            </td><td>1.73                                                 </td><td>84.37                                                </td><td><span style=white-space:pre-wrap>never       </span> </td><td><span style=white-space:pre-wrap>30           </span></td><td>7                                                    </td><td>5+                                                   </td><td>0                                                    </td><td>&lt;5                                                </td></tr>\n",
       "\t<tr><td>15                                       </td><td>female                                   </td><td>9                                        </td><td>not                                      </td><td>Black or African American                </td><td>1.60                                     </td><td>55.79                                    </td><td>never                                    </td><td>0                                        </td><td>0                                        </td><td>2                                        </td><td>0                                        </td><td>6                                        </td></tr>\n",
       "\t<tr><td>15                                       </td><td>female                                   </td><td>9                                        </td><td>not                                      </td><td>Black or African American                </td><td>1.50                                     </td><td>46.72                                    </td><td>did not ride                             </td><td>did not drive                            </td><td>2                                        </td><td>3                                        </td><td>1                                        </td><td>9                                        </td></tr>\n",
       "\t<tr><td>15                                       </td><td>female                                   </td><td>9                                        </td><td>not                                      </td><td>Black or African American                </td><td>1.57                                     </td><td>67.13                                    </td><td>did not ride                             </td><td>did not drive                            </td><td>1                                        </td><td>5+                                       </td><td>0                                        </td><td>8                                        </td></tr>\n",
       "</tbody>\n",
       "</table>\n"
      ],
      "text/latex": [
       "\\begin{tabular}{r|lllllllllllll}\n",
       " age & gender & grade & hispanic & race & height & weight & helmet.12m & text.while.driving.30d & physically.active.7d & hours.tv.per.school.day & strength.training.7d & school.night.hours.sleep\\\\\n",
       "\\hline\n",
       "\t 14                                        & female                                    & 9                                         & not                                       & Black or African American                 &   NA                                      &    NA                                     & never                                     & 0                                         & 4                                         & 5+                                        & 0                                         & 8                                        \\\\\n",
       "\t 14                                        & female                                    & 9                                         & not                                       & Black or African American                 &   NA                                      &    NA                                     & never                                     & NA                                        & 2                                         & 5+                                        & 0                                         & 6                                        \\\\\n",
       "\t 15                                        & female                                    & 9                                         & hispanic                                  & Native Hawaiian or Other Pacific Islander & 1.73                                      & 84.37                                     & never                                     & 30                                        & 7                                         & 5+                                        & 0                                         & <5                                       \\\\\n",
       "\t 15                                        & female                                    & 9                                         & not                                       & Black or African American                 & 1.60                                      & 55.79                                     & never                                     & 0                                         & 0                                         & 2                                         & 0                                         & 6                                        \\\\\n",
       "\t 15                                        & female                                    & 9                                         & not                                       & Black or African American                 & 1.50                                      & 46.72                                     & did not ride                              & did not drive                             & 2                                         & 3                                         & 1                                         & 9                                        \\\\\n",
       "\t 15                                        & female                                    & 9                                         & not                                       & Black or African American                 & 1.57                                      & 67.13                                     & did not ride                              & did not drive                             & 1                                         & 5+                                        & 0                                         & 8                                        \\\\\n",
       "\\end{tabular}\n"
      ],
      "text/markdown": [
       "\n",
       "age | gender | grade | hispanic | race | height | weight | helmet.12m | text.while.driving.30d | physically.active.7d | hours.tv.per.school.day | strength.training.7d | school.night.hours.sleep | \n",
       "|---|---|---|---|---|---|\n",
       "| 14                                        | female                                    | 9                                         | not                                       | Black or African American                 |   NA                                      |    NA                                     | never                                     | 0                                         | 4                                         | 5+                                        | 0                                         | 8                                         | \n",
       "| 14                                        | female                                    | 9                                         | not                                       | Black or African American                 |   NA                                      |    NA                                     | never                                     | NA                                        | 2                                         | 5+                                        | 0                                         | 6                                         | \n",
       "| 15                                        | female                                    | 9                                         | hispanic                                  | Native Hawaiian or Other Pacific Islander | 1.73                                      | 84.37                                     | never                                     | 30                                        | 7                                         | 5+                                        | 0                                         | <5                                        | \n",
       "| 15                                        | female                                    | 9                                         | not                                       | Black or African American                 | 1.60                                      | 55.79                                     | never                                     | 0                                         | 0                                         | 2                                         | 0                                         | 6                                         | \n",
       "| 15                                        | female                                    | 9                                         | not                                       | Black or African American                 | 1.50                                      | 46.72                                     | did not ride                              | did not drive                             | 2                                         | 3                                         | 1                                         | 9                                         | \n",
       "| 15                                        | female                                    | 9                                         | not                                       | Black or African American                 | 1.57                                      | 67.13                                     | did not ride                              | did not drive                             | 1                                         | 5+                                        | 0                                         | 8                                         | \n",
       "\n",
       "\n"
      ],
      "text/plain": [
       "  age gender grade hispanic race                                      height\n",
       "1 14  female 9     not      Black or African American                   NA  \n",
       "2 14  female 9     not      Black or African American                   NA  \n",
       "3 15  female 9     hispanic Native Hawaiian or Other Pacific Islander 1.73  \n",
       "4 15  female 9     not      Black or African American                 1.60  \n",
       "5 15  female 9     not      Black or African American                 1.50  \n",
       "6 15  female 9     not      Black or African American                 1.57  \n",
       "  weight helmet.12m   text.while.driving.30d physically.active.7d\n",
       "1    NA  never        0                      4                   \n",
       "2    NA  never        NA                     2                   \n",
       "3 84.37  never        30                     7                   \n",
       "4 55.79  never        0                      0                   \n",
       "5 46.72  did not ride did not drive          2                   \n",
       "6 67.13  did not ride did not drive          1                   \n",
       "  hours.tv.per.school.day strength.training.7d school.night.hours.sleep\n",
       "1 5+                      0                    8                       \n",
       "2 5+                      0                    6                       \n",
       "3 5+                      0                    <5                      \n",
       "4 2                       0                    6                       \n",
       "5 3                       1                    9                       \n",
       "6 5+                      0                    8                       "
      ]
     },
     "metadata": {},
     "output_type": "display_data"
    },
    {
     "name": "stdout",
     "output_type": "stream",
     "text": [
      "'data.frame':\t13583 obs. of  13 variables:\n",
      " $ age                     : int  14 14 15 15 15 15 15 14 15 15 ...\n",
      " $ gender                  : chr  \"female\" \"female\" \"female\" \"female\" ...\n",
      " $ grade                   : chr  \"9\" \"9\" \"9\" \"9\" ...\n",
      " $ hispanic                : chr  \"not\" \"not\" \"hispanic\" \"not\" ...\n",
      " $ race                    : chr  \"Black or African American\" \"Black or African American\" \"Native Hawaiian or Other Pacific Islander\" \"Black or African American\" ...\n",
      " $ height                  : num  NA NA 1.73 1.6 1.5 1.57 1.65 1.88 1.75 1.37 ...\n",
      " $ weight                  : num  NA NA 84.4 55.8 46.7 ...\n",
      " $ helmet.12m              : chr  \"never\" \"never\" \"never\" \"never\" ...\n",
      " $ text.while.driving.30d  : chr  \"0\" NA \"30\" \"0\" ...\n",
      " $ physically.active.7d    : int  4 2 7 0 2 1 4 4 5 0 ...\n",
      " $ hours.tv.per.school.day : chr  \"5+\" \"5+\" \"5+\" \"2\" ...\n",
      " $ strength.training.7d    : int  0 0 0 0 1 0 2 0 3 0 ...\n",
      " $ school.night.hours.sleep: chr  \"8\" \"6\" \"<5\" \"6\" ...\n"
     ]
    }
   ],
   "source": [
    "#require(oibiostat)\n",
    "#data(yrbss)\n",
    "load(\"yrbss.rda\")\n",
    "head(yrbss)\n",
    "str(yrbss)"
   ]
  },
  {
   "cell_type": "markdown",
   "metadata": {},
   "source": [
    "Some of the variables:\n",
    "\n",
    "| Variable name | Description |\n",
    "|--|--|\n",
    "|age | Age of the student. |\n",
    "| gender |  Sex of the student. | \n",
    "| grade |  Grade in high school | \n",
    "| height |  Height, in meters. There are 3.28 feet in a meter. | \n",
    "| weight |  Weight, in kilograms (2.2 pounds per kilogram). | \n",
    "| helmet |  Frequency that the student wore a helmet while biking in the last 12~months. | \n",
    "| active |  Number of days physically active for 60+ minutes in the last 7 days.| \n",
    "| liftinge |  Number of days of strength training (e.g. lifting weights) in the last 7 days. | "
   ]
  },
  {
   "cell_type": "markdown",
   "metadata": {},
   "source": [
    "#### Population parameters and point estimates\n",
    "\n",
    "The CDC used the responses of 13,572 students to estimate the health behaviors of the *target population*: \n",
    "\n",
    " - 21.2 million high school aged students in the US in 2013.\n",
    "\n",
    "The average weight among the 21.2 million youth is an example of a <span style=\"color:violet\">**population parameter**.\n",
    "\n",
    "  - The symbol $\\mu$ is used to denote a population mean.\n",
    "  \n",
    "  - For a variable such as weight, it might be written $\\mu_{\\text{weight}}$.\n",
    "\n",
    "The average weight in a sample, such as the 13,572 students in YRBSS, is a <span style=\"color:violet\">**point estimate** <span style=\"color:black\">of a population parameter.\n",
    "\n",
    "  - The symbol $\\overline{x}$ is used to denote a sample mean.\n",
    "\n",
    "  - Average weight in a sample can be written as by $\\overline{x}_{\\text{weight}}$.\n"
   ]
  },
  {
   "cell_type": "markdown",
   "metadata": {},
   "source": [
    "Estimating the population average weight from the sample of 13,572 participants is an example of <span style=\"color:violet\">**statistical inference**<span style=\"color:black\">.\n",
    "\n",
    "In nearly all studies, there is one target population and one sample.\n",
    "\n",
    "In a different random sample of the same size from the same population,  \n",
    "\n",
    "  - Different participants would be chosen\n",
    "\n",
    "  - Numerical values of point estimates could be different\n",
    "      \n",
    "The variability of an estimate such as a mean from sample to sample is called <span style=\"color:violet\">**sampling variability**.\n",
    "\n",
    "Understanding the mathematical properties of sampling makes it possible to incorporate the effect of sampling variability"
   ]
  },
  {
   "cell_type": "markdown",
   "metadata": {},
   "source": [
    "#### An example of sampling from a population\n",
    "\n",
    "We can observe the effect of sampling in an artificial setting.\n",
    "\n",
    "- Suppose that the 13,572 individuals in the dataset *yrbss* is our target population.\n",
    "\n",
    "    - Use mean `weight` in *yrbss* as the population parameter, $\\mu_{weight}$.\n",
    "    \n",
    "- We can sample from *yrbrss* and calculate point estimates of the population parameter.\n",
    "\n",
    "    - In other words, calculate $\\overline{x}_{weight}$ from the samples.\n",
    "    \n",
    "- Typically, the exact values of population parameters are unknown. (Hence, the need for inference...) This artificial setting allows us to compare $\\overline{x}$ and $\\mu$. \n"
   ]
  },
  {
   "cell_type": "code",
   "execution_count": 4,
   "metadata": {},
   "outputs": [
    {
     "data": {
      "text/html": [
       "<table>\n",
       "<thead><tr><th scope=col>mean</th><th scope=col>sd</th></tr></thead>\n",
       "<tbody>\n",
       "\t<tr><td>68.131  </td><td>12.03221</td></tr>\n",
       "</tbody>\n",
       "</table>\n"
      ],
      "text/latex": [
       "\\begin{tabular}{r|ll}\n",
       " mean & sd\\\\\n",
       "\\hline\n",
       "\t 68.131   & 12.03221\\\\\n",
       "\\end{tabular}\n"
      ],
      "text/markdown": [
       "\n",
       "mean | sd | \n",
       "|---|\n",
       "| 68.131   | 12.03221 | \n",
       "\n",
       "\n"
      ],
      "text/plain": [
       "  mean   sd      \n",
       "1 68.131 12.03221"
      ]
     },
     "metadata": {},
     "output_type": "display_data"
    },
    {
     "data": {
      "text/html": [
       "<table>\n",
       "<thead><tr><th scope=col>mean</th><th scope=col>sd</th></tr></thead>\n",
       "<tbody>\n",
       "\t<tr><td>67.9065 </td><td>16.89821</td></tr>\n",
       "</tbody>\n",
       "</table>\n"
      ],
      "text/latex": [
       "\\begin{tabular}{r|ll}\n",
       " mean & sd\\\\\n",
       "\\hline\n",
       "\t 67.9065  & 16.89821\\\\\n",
       "\\end{tabular}\n"
      ],
      "text/markdown": [
       "\n",
       "mean | sd | \n",
       "|---|\n",
       "| 67.9065  | 16.89821 | \n",
       "\n",
       "\n"
      ],
      "text/plain": [
       "  mean    sd      \n",
       "1 67.9065 16.89821"
      ]
     },
     "metadata": {},
     "output_type": "display_data"
    }
   ],
   "source": [
    "require(dplyr)\n",
    "#obtain random sample\n",
    "set.seed(5011) \n",
    "yrbss.sample = sample_n(yrbss, size=10)\n",
    "\n",
    "#calculate point estimates from sampled rows\n",
    "yrbss.sample %>%\n",
    "    summarize(mean=mean(weight,na.rm=TRUE),sd=sd(weight, na.rm = TRUE))\n",
    "\n",
    "#calculate population mean\n",
    "yrbss %>%\n",
    "    summarize(mean=mean(weight,na.rm=TRUE),sd=sd(weight, na.rm = TRUE))"
   ]
  },
  {
   "cell_type": "markdown",
   "metadata": {},
   "source": [
    "----\n",
    "#### In-class exercise 1"
   ]
  },
  {
   "cell_type": "markdown",
   "metadata": {},
   "source": [
    "----\n",
    "#### <span style=\"color:darkblue\"> B. Confidece Intervals\n",
    "    \n",
    "A <span style=\"color:violet\">**confidence interval** <span style=\"color:black\"> provides an estimate for a population parameter along with a margin of error that gives a plausible range of values for the population parameter.\n",
    "\n",
    "When estimating a population mean $\\mu$ of a variable $X$, a confidence interval for $\\mu$ has the general form\n",
    "\n",
    "$$(\\overline{x} -m, \\ \\overline{x} + m) = \\overline{x} \\pm m, $$\n",
    "where $m$ is the margin of error. \n",
    "\n",
    "To calculate $m$, we use what is known about the *sampling variability* of $\\overline{x}$.\n",
    "\n",
    "We need a bit of notation first, and a new distribution...\n"
   ]
  },
  {
   "cell_type": "markdown",
   "metadata": {},
   "source": [
    "#### Some useful notation\n",
    "\n",
    "-  $\\mu$: unknown population mean.\n",
    "\n",
    "-  $\\sigma$: unknown population standard deviation.\n",
    "\n",
    "-  $n$: the number of observations in a sample drawn from the population.\n",
    "\n",
    "-  $\\overline{x}$: sample mean from a sample taken from the population.\n",
    "\n",
    "-  $s$: calculated sample standard deviation from the same sample used to calculate $\\overline{x}$.  \n"
   ]
  },
  {
   "cell_type": "markdown",
   "metadata": {},
   "source": [
    "#### The *t* distribution\n",
    "\n",
    "The <span style=\"color:violet\">*t* **distribution**<span style=\"color:black\"> is a symmetric distribution, with center (mean and median) 0\n",
    "\n",
    "It is very close to the normal distribution, but has one additional parameter\n",
    "\n",
    "-  *df* called <span style=\"color:violet\">**degrees of freedom**.\n",
    "\n",
    "-  When *df* is large, the $t$ and normal distributions are virtually identical\n",
    "\n",
    "-  The role of *df* will become clear soon.\n"
   ]
  },
  {
   "cell_type": "markdown",
   "metadata": {},
   "source": [
    "This figure shows *t* distributions for 1, 3, 8, and 30 *df*.\n",
    "\n",
    "<img style=\"float: left\", src=\"t_density.png\">\n"
   ]
  },
  {
   "cell_type": "markdown",
   "metadata": {},
   "source": [
    "#### A 95% confidence interval\n",
    "\n",
    "A 95% <span style=\"color:violet\">**confidence interval**<span style=\"color:black\"> for a population mean $\\mu$ based on a single sample with average $\\overline{x}$ is\n",
    "\n",
    "$$(\\overline{x} - \\frac{s}{\\sqrt{n}}t^*,\\overline{x} + \\frac{s}{\\sqrt{n}}t^*)$$\n",
    "\n",
    "or\n",
    "\n",
    "$$ \\overline{x} \\pm \\frac{s}{\\sqrt{n}}t^*,$$\n",
    "\n",
    "where $t^*$ is the point on a $t$ distribution, $n-1$ *df*, with 0.025 area to its right.\n",
    "\n"
   ]
  },
  {
   "cell_type": "markdown",
   "metadata": {},
   "source": [
    "#### The $t$ distribution (with 7 degrees of freedom)\n",
    "\n",
    "<img style=\"float: left\", src=\"tTailsStat102.png\">\n"
   ]
  },
  {
   "cell_type": "markdown",
   "metadata": {},
   "source": [
    "The `R` function `qt(p,df)` gives the value of the $t$ point, *df* degrees of freedom, with \n",
    "\n",
    "- area $p$ to the left, area $1-p$ to the right."
   ]
  },
  {
   "cell_type": "code",
   "execution_count": 3,
   "metadata": {},
   "outputs": [
    {
     "data": {
      "text/html": [
       "2.2621571627982"
      ],
      "text/latex": [
       "2.2621571627982"
      ],
      "text/markdown": [
       "2.2621571627982"
      ],
      "text/plain": [
       "[1] 2.262157"
      ]
     },
     "metadata": {},
     "output_type": "display_data"
    }
   ],
   "source": [
    "qt(0.975, df=9)"
   ]
  },
  {
   "cell_type": "markdown",
   "metadata": {},
   "source": [
    "#### Calculating a confidence interval by hand\n",
    "\n",
    "The confidence interval for weight:\n",
    "\n",
    "$$ \\overline{x} \\pm \\frac{s}{\\sqrt{n}}t^*,$$\n",
    "\n",
    "$$ 68.131 \\pm \\frac{12.03}{\\sqrt{10}}(2.262157) $$\n",
    "\n",
    "(59.52 kg, 76.74 kg) after simplification\n",
    "\n"
   ]
  },
  {
   "cell_type": "markdown",
   "metadata": {},
   "source": [
    "----\n",
    "#### In class exercise 2\n",
    "----"
   ]
  },
  {
   "cell_type": "markdown",
   "metadata": {},
   "source": [
    "#### The standard error for $\\overline{x}$  \n",
    "\n",
    "*Theoretical result*\n",
    "\n",
    "If $\\overline{x}$ could be observed in repeated sampling, its standard deviation would be approximately\n",
    "\n",
    "$$\\text{sd}_{\\overline{x}} = \\sigma/\\sqrt{n}$$\n",
    "\n",
    "The variability of a sample mean decreases as sample size increases.\n",
    "\n",
    "The formula for $\\text{sd}_{\\overline{x}}$ characterizes that behavior more precisely.\n",
    "\n",
    "The term $s/\\sqrt{n}$ is called the <span style=\"color:violet\">**standard error** <span style=\"color:black\"> of $\\overline{x}$.\n",
    "\n"
   ]
  },
  {
   "cell_type": "markdown",
   "metadata": {},
   "source": [
    "#### The confidence level and confidence coefficient\n",
    "\n",
    "The confidence level interpretation:\n",
    "\n",
    "- The method illustrated for computing a confidence interval estimate with confidence level 0.95 will produce an interval that will (on average) contain the true population mean 95 times out of 100.\n",
    "\n",
    "- 5 out of 100 will be incorrect, but, of course, a data analyst does not know whether a particular interval contains the population mean.\n",
    "\n",
    "What happens when the confidence level is changed? Changing the confidene level changes the confidence coefficient.\n",
    "\n",
    "  - Larger confidence coefficients produce wider intervals.\n",
    "  \n",
    "  - Smaller confidence coefficients produce smaller intervals.\n",
    "  \n",
    "Example: for a 99% confidence interval, $t^\\star$ will be the point that has area 0.01/2 = 0.005 area to its right, in a $t$-distribution with $n-1$ df.\n"
   ]
  },
  {
   "cell_type": "code",
   "execution_count": 4,
   "metadata": {},
   "outputs": [
    {
     "data": {
      "text/html": [
       "3.24983554159213"
      ],
      "text/latex": [
       "3.24983554159213"
      ],
      "text/markdown": [
       "3.24983554159213"
      ],
      "text/plain": [
       "[1] 3.249836"
      ]
     },
     "metadata": {},
     "output_type": "display_data"
    },
    {
     "data": {
      "text/html": [
       "2.2621571627982"
      ],
      "text/latex": [
       "2.2621571627982"
      ],
      "text/markdown": [
       "2.2621571627982"
      ],
      "text/plain": [
       "[1] 2.262157"
      ]
     },
     "metadata": {},
     "output_type": "display_data"
    }
   ],
   "source": [
    "#t star for 99% confidence interval\n",
    "qt(0.995, df=9)\n",
    "\n",
    "#t star for 95% confidence interval\n",
    "qt(0.975, df=9)"
   ]
  },
  {
   "cell_type": "markdown",
   "metadata": {},
   "source": [
    "#### Hidden assumptions\n",
    "\n",
    "1. The data used to calculate the confidence interval are from a random sample taken from the target population.\n",
    "\n",
    "2. While the population mean from the target population is not known, the target population is well-defined. \n",
    "\n",
    "    Both conditions are true in this classroom example of sampling from `yrbss`, but may be difficult to verify in practice. These conditions are discussed in detail in Section 4.1, *OI Biostat*\n",
    "\n",
    "3.  If $\\overline{x}$ could be observed in many random samples of size $n$ from a population with mean $\\mu$, the distribution of \n",
    "$$  \\frac{\\overline{x} - \\mu} {s/\\sqrt{n}}$$\n",
    "has (approximately) a *t* distribution with $df = n-1$.\n",
    "\n",
    "    This last condition is explored in more detail in Section 4.2.2, *OI Biostat* "
   ]
  },
  {
   "cell_type": "markdown",
   "metadata": {},
   "source": [
    "----\n",
    "#### <span style=\"color:darkblue\"> C. Hypothesis Testing\n",
    "    \n",
    "*Introduction to hypothesis testing*\n",
    "\n",
    "<span style=\"color:orange\">Scientific question: Do adult americans tend to be overweight?  \n",
    "\n",
    "First step: Overweight, according to what standard?\n",
    "\n",
    "Body mass index (BMI) is an approximate scale used to estimate body fat, adjusting for height and weight.\n",
    "  \n",
    "  - When weight is measured in kg and height in meters, \n",
    "    $$ \\frac{\\text{weight}}{\\text{height}{^2}}$$\n",
    "\n",
    "  - When weight is measured in lbs and height in inches,      \n",
    "    $$\\left(\\frac{\\text{weight}}{\\text{height}{^2}}\\right)(703)$$\n",
    "\n",
    "WHO standards for BMI\n",
    "\n",
    "| Category | BMI range|\n",
    "| -- | -- |\n",
    "| Underweight | $<18.50$| \n",
    "| Normal (healthy weight) |  18.5-24.99| \n",
    "| Overweight |  $\\geq 25$| \n",
    "| Obese |  $\\geq30$| \n"
   ]
  },
  {
   "cell_type": "markdown",
   "metadata": {},
   "source": [
    "The National Health and Nutrition Examination Survey (NHANES) is also conducted by the CDC.\n",
    "\n",
    "Purpose: to assess the health and nutritional status of adults and children in the United States. We will consider a random subset of the original 10,000 observations data. Our subset includes 135 adults age 21 and older and is contained in `nhanes_samp_adult.Rdata`\n",
    "   \n",
    "We will treat `nhanes.samp.adult` as our sample and think of the 10,000 observations in the `NHANES` dataset as the population."
   ]
  },
  {
   "cell_type": "code",
   "execution_count": 6,
   "metadata": {},
   "outputs": [
    {
     "data": {
      "text/html": [
       "<ol class=list-inline>\n",
       "\t<li>10000</li>\n",
       "\t<li>76</li>\n",
       "</ol>\n"
      ],
      "text/latex": [
       "\\begin{enumerate*}\n",
       "\\item 10000\n",
       "\\item 76\n",
       "\\end{enumerate*}\n"
      ],
      "text/markdown": [
       "1. 10000\n",
       "2. 76\n",
       "\n",
       "\n"
      ],
      "text/plain": [
       "[1] 10000    76"
      ]
     },
     "metadata": {},
     "output_type": "display_data"
    }
   ],
   "source": [
    "require(NHANES)\n",
    "head(NHANES)"
   ]
  },
  {
   "cell_type": "code",
   "execution_count": 21,
   "metadata": {},
   "outputs": [
    {
     "data": {
      "text/html": [
       "<table>\n",
       "<thead><tr><th scope=col>ID</th><th scope=col>SurveyYr</th><th scope=col>Gender</th><th scope=col>Age</th><th scope=col>AgeDecade</th><th scope=col>AgeMonths</th><th scope=col>Race1</th><th scope=col>Race3</th><th scope=col>Education</th><th scope=col>MaritalStatus</th><th scope=col>⋯</th><th scope=col>RegularMarij</th><th scope=col>AgeRegMarij</th><th scope=col>HardDrugs</th><th scope=col>SexEver</th><th scope=col>SexAge</th><th scope=col>SexNumPartnLife</th><th scope=col>SexNumPartYear</th><th scope=col>SameSex</th><th scope=col>SexOrientation</th><th scope=col>PregnantNow</th></tr></thead>\n",
       "<tbody>\n",
       "\t<tr><td>63147         </td><td>2011_12       </td><td>male          </td><td>41            </td><td> 40-49        </td><td> NA           </td><td>White         </td><td>White         </td><td>Some College  </td><td>Married       </td><td>⋯             </td><td>No            </td><td>NA            </td><td>Yes           </td><td>Yes           </td><td>15            </td><td>50            </td><td> 1            </td><td>No            </td><td>Heterosexual  </td><td>NA            </td></tr>\n",
       "\t<tr><td>57165         </td><td>2009_10       </td><td>male          </td><td>48            </td><td> 40-49        </td><td>586           </td><td>Black         </td><td>NA            </td><td>High School   </td><td>Married       </td><td>⋯             </td><td>Yes           </td><td>17            </td><td>No            </td><td>Yes           </td><td>17            </td><td>81            </td><td>10            </td><td>No            </td><td>Heterosexual  </td><td>NA            </td></tr>\n",
       "\t<tr><td>69465         </td><td>2011_12       </td><td>female        </td><td>50            </td><td> 50-59        </td><td> NA           </td><td>White         </td><td>White         </td><td>College Grad  </td><td>Divorced      </td><td>⋯             </td><td>No            </td><td>NA            </td><td>No            </td><td>Yes           </td><td>17            </td><td> 4            </td><td> 1            </td><td>No            </td><td>Heterosexual  </td><td>NA            </td></tr>\n",
       "\t<tr><td>57313         </td><td>2009_10       </td><td>female        </td><td>74            </td><td> 70+          </td><td>889           </td><td>White         </td><td>NA            </td><td>College Grad  </td><td>Widowed       </td><td>⋯             </td><td>NA            </td><td>NA            </td><td>NA            </td><td>NA            </td><td>NA            </td><td>NA            </td><td>NA            </td><td>NA            </td><td>NA            </td><td>NA            </td></tr>\n",
       "\t<tr><td>56047         </td><td>2009_10       </td><td>female        </td><td>27            </td><td> 20-29        </td><td>329           </td><td>White         </td><td>NA            </td><td>9 - 11th Grade</td><td>NeverMarried  </td><td>⋯             </td><td>Yes           </td><td>16            </td><td>No            </td><td>Yes           </td><td>13            </td><td>10            </td><td> 3            </td><td>No            </td><td>Heterosexual  </td><td>No            </td></tr>\n",
       "\t<tr><td>57056         </td><td>2009_10       </td><td>male          </td><td>26            </td><td> 20-29        </td><td>316           </td><td>Mexican       </td><td>NA            </td><td>High School   </td><td>NeverMarried  </td><td>⋯             </td><td>Yes           </td><td>14            </td><td>Yes           </td><td>Yes           </td><td>15            </td><td> 8            </td><td> 1            </td><td>No            </td><td>Heterosexual  </td><td>NA            </td></tr>\n",
       "</tbody>\n",
       "</table>\n"
      ],
      "text/latex": [
       "\\begin{tabular}{r|llllllllllllllllllllllllllllllllllllllllllllllllllllllllllllllllllllllllllll}\n",
       " ID & SurveyYr & Gender & Age & AgeDecade & AgeMonths & Race1 & Race3 & Education & MaritalStatus & ⋯ & RegularMarij & AgeRegMarij & HardDrugs & SexEver & SexAge & SexNumPartnLife & SexNumPartYear & SameSex & SexOrientation & PregnantNow\\\\\n",
       "\\hline\n",
       "\t 63147          & 2011\\_12      & male           & 41             &  40-49         &  NA            & White          & White          & Some College   & Married        & ⋯              & No             & NA             & Yes            & Yes            & 15             & 50             &  1             & No             & Heterosexual   & NA            \\\\\n",
       "\t 57165          & 2009\\_10      & male           & 48             &  40-49         & 586            & Black          & NA             & High School    & Married        & ⋯              & Yes            & 17             & No             & Yes            & 17             & 81             & 10             & No             & Heterosexual   & NA            \\\\\n",
       "\t 69465          & 2011\\_12      & female         & 50             &  50-59         &  NA            & White          & White          & College Grad   & Divorced       & ⋯              & No             & NA             & No             & Yes            & 17             &  4             &  1             & No             & Heterosexual   & NA            \\\\\n",
       "\t 57313          & 2009\\_10      & female         & 74             &  70+           & 889            & White          & NA             & College Grad   & Widowed        & ⋯              & NA             & NA             & NA             & NA             & NA             & NA             & NA             & NA             & NA             & NA            \\\\\n",
       "\t 56047          & 2009\\_10      & female         & 27             &  20-29         & 329            & White          & NA             & 9 - 11th Grade & NeverMarried   & ⋯              & Yes            & 16             & No             & Yes            & 13             & 10             &  3             & No             & Heterosexual   & No            \\\\\n",
       "\t 57056          & 2009\\_10      & male           & 26             &  20-29         & 316            & Mexican        & NA             & High School    & NeverMarried   & ⋯              & Yes            & 14             & Yes            & Yes            & 15             &  8             &  1             & No             & Heterosexual   & NA            \\\\\n",
       "\\end{tabular}\n"
      ],
      "text/markdown": [
       "\n",
       "ID | SurveyYr | Gender | Age | AgeDecade | AgeMonths | Race1 | Race3 | Education | MaritalStatus | ⋯ | RegularMarij | AgeRegMarij | HardDrugs | SexEver | SexAge | SexNumPartnLife | SexNumPartYear | SameSex | SexOrientation | PregnantNow | \n",
       "|---|---|---|---|---|---|\n",
       "| 63147          | 2011_12        | male           | 41             |  40-49         |  NA            | White          | White          | Some College   | Married        | ⋯              | No             | NA             | Yes            | Yes            | 15             | 50             |  1             | No             | Heterosexual   | NA             | \n",
       "| 57165          | 2009_10        | male           | 48             |  40-49         | 586            | Black          | NA             | High School    | Married        | ⋯              | Yes            | 17             | No             | Yes            | 17             | 81             | 10             | No             | Heterosexual   | NA             | \n",
       "| 69465          | 2011_12        | female         | 50             |  50-59         |  NA            | White          | White          | College Grad   | Divorced       | ⋯              | No             | NA             | No             | Yes            | 17             |  4             |  1             | No             | Heterosexual   | NA             | \n",
       "| 57313          | 2009_10        | female         | 74             |  70+           | 889            | White          | NA             | College Grad   | Widowed        | ⋯              | NA             | NA             | NA             | NA             | NA             | NA             | NA             | NA             | NA             | NA             | \n",
       "| 56047          | 2009_10        | female         | 27             |  20-29         | 329            | White          | NA             | 9 - 11th Grade | NeverMarried   | ⋯              | Yes            | 16             | No             | Yes            | 13             | 10             |  3             | No             | Heterosexual   | No             | \n",
       "| 57056          | 2009_10        | male           | 26             |  20-29         | 316            | Mexican        | NA             | High School    | NeverMarried   | ⋯              | Yes            | 14             | Yes            | Yes            | 15             |  8             |  1             | No             | Heterosexual   | NA             | \n",
       "\n",
       "\n"
      ],
      "text/plain": [
       "  ID    SurveyYr Gender Age AgeDecade AgeMonths Race1   Race3 Education     \n",
       "1 63147 2011_12  male   41   40-49     NA       White   White Some College  \n",
       "2 57165 2009_10  male   48   40-49    586       Black   NA    High School   \n",
       "3 69465 2011_12  female 50   50-59     NA       White   White College Grad  \n",
       "4 57313 2009_10  female 74   70+      889       White   NA    College Grad  \n",
       "5 56047 2009_10  female 27   20-29    329       White   NA    9 - 11th Grade\n",
       "6 57056 2009_10  male   26   20-29    316       Mexican NA    High School   \n",
       "  MaritalStatus ⋯ RegularMarij AgeRegMarij HardDrugs SexEver SexAge\n",
       "1 Married       ⋯ No           NA          Yes       Yes     15    \n",
       "2 Married       ⋯ Yes          17          No        Yes     17    \n",
       "3 Divorced      ⋯ No           NA          No        Yes     17    \n",
       "4 Widowed       ⋯ NA           NA          NA        NA      NA    \n",
       "5 NeverMarried  ⋯ Yes          16          No        Yes     13    \n",
       "6 NeverMarried  ⋯ Yes          14          Yes       Yes     15    \n",
       "  SexNumPartnLife SexNumPartYear SameSex SexOrientation PregnantNow\n",
       "1 50               1             No      Heterosexual   NA         \n",
       "2 81              10             No      Heterosexual   NA         \n",
       "3  4               1             No      Heterosexual   NA         \n",
       "4 NA              NA             NA      NA             NA         \n",
       "5 10               3             No      Heterosexual   No         \n",
       "6  8               1             No      Heterosexual   NA         "
      ]
     },
     "metadata": {},
     "output_type": "display_data"
    }
   ],
   "source": [
    "load(\"nhanes_samp_adult.Rdata\")\n",
    "head(nhanes.samp.adult)"
   ]
  },
  {
   "cell_type": "code",
   "execution_count": 24,
   "metadata": {},
   "outputs": [
    {
     "data": {
      "text/html": [
       "<table>\n",
       "<thead><tr><th scope=col>mean</th><th scope=col>sd</th></tr></thead>\n",
       "<tbody>\n",
       "\t<tr><td>29.09956</td><td>7.552866</td></tr>\n",
       "</tbody>\n",
       "</table>\n"
      ],
      "text/latex": [
       "\\begin{tabular}{r|ll}\n",
       " mean & sd\\\\\n",
       "\\hline\n",
       "\t 29.09956 & 7.552866\\\\\n",
       "\\end{tabular}\n"
      ],
      "text/markdown": [
       "\n",
       "mean | sd | \n",
       "|---|\n",
       "| 29.09956 | 7.552866 | \n",
       "\n",
       "\n"
      ],
      "text/plain": [
       "  mean     sd      \n",
       "1 29.09956 7.552866"
      ]
     },
     "metadata": {},
     "output_type": "display_data"
    },
    {
     "data": {},
     "metadata": {},
     "output_type": "display_data"
    },
    {
     "data": {
      "image/png": "[encoded data removed]",
      "text/plain": [
       "plot without title"
      ]
     },
     "metadata": {},
     "output_type": "display_data"
    }
   ],
   "source": [
    "require(dplyr)\n",
    "require(ggplot2)\n",
    "\n",
    "nhanes.samp.adult %>%\n",
    "    summarize(mean=mean(BMI),sd=sd(BMI))\n",
    "ggplot(data=nhanes.samp.adult,aes(x=\"\", y=BMI))+\n",
    "    geom_boxplot(fill = \"#4271AE\", colour = \"#1F3552\", alpha = 0.7)"
   ]
  },
  {
   "cell_type": "markdown",
   "metadata": {},
   "source": [
    "#### Two approaches to answering our scientific question\n",
    "\n",
    "1. Calculate a confidence interval for population mean BMI in NHANES.\n",
    "\n",
    "2. Use the formal logic of hypothesis testing."
   ]
  },
  {
   "cell_type": "markdown",
   "metadata": {},
   "source": [
    "Approach 1 (confidence interval):"
   ]
  },
  {
   "cell_type": "code",
   "execution_count": 28,
   "metadata": {},
   "outputs": [
    {
     "data": {
      "text/html": [
       "<table>\n",
       "<thead><tr><th scope=col>mean</th><th scope=col>sd</th><th scope=col>n</th><th scope=col>se</th><th scope=col>lower.ci</th><th scope=col>upper.ci</th></tr></thead>\n",
       "<tbody>\n",
       "\t<tr><td>29.09956 </td><td>7.552866 </td><td>135      </td><td>0.6500472</td><td>27.81388 </td><td>30.38524 </td></tr>\n",
       "</tbody>\n",
       "</table>\n"
      ],
      "text/latex": [
       "\\begin{tabular}{r|llllll}\n",
       " mean & sd & n & se & lower.ci & upper.ci\\\\\n",
       "\\hline\n",
       "\t 29.09956  & 7.552866  & 135       & 0.6500472 & 27.81388  & 30.38524 \\\\\n",
       "\\end{tabular}\n"
      ],
      "text/markdown": [
       "\n",
       "mean | sd | n | se | lower.ci | upper.ci | \n",
       "|---|\n",
       "| 29.09956  | 7.552866  | 135       | 0.6500472 | 27.81388  | 30.38524  | \n",
       "\n",
       "\n"
      ],
      "text/plain": [
       "  mean     sd       n   se        lower.ci upper.ci\n",
       "1 29.09956 7.552866 135 0.6500472 27.81388 30.38524"
      ]
     },
     "metadata": {},
     "output_type": "display_data"
    }
   ],
   "source": [
    "nhanes.samp.adult %>%\n",
    "  summarise(mean = mean(BMI),\n",
    "            sd = sd(BMI),\n",
    "            n = n()) %>%\n",
    "  mutate(se = sd / sqrt(n),\n",
    "         lower.ci = mean - qt(1 - (0.05 / 2), n - 1) * se,\n",
    "         upper.ci = mean + qt(1 - (0.05 / 2), n - 1) * se)"
   ]
  },
  {
   "cell_type": "markdown",
   "metadata": {},
   "source": [
    "Confidence interval suggests that population average BMI is well outside the normal range.\n"
   ]
  },
  {
   "cell_type": "markdown",
   "metadata": {},
   "source": [
    "<span style=\"color:darkblue\">Approach 2 (formal hypothesis testing):\n",
    "\n",
    "Idea: \n",
    "\n",
    "Observations come from one of two population (probability) distributions:\n",
    "\n",
    "- Either a usual distribution that has been true in the past, or\n",
    "\n",
    "- Potentially new distribution induced by an intervention or a changing condition. \n",
    "\n",
    "Conclude that observations come from usual distribution unless the value of a summary statistic (e.g., sample mean) would be considered extreme (and hence unlikely) under the usual distribution.\n"
   ]
  },
  {
   "cell_type": "markdown",
   "metadata": {},
   "source": [
    "Steps in hypothesis testing. \n",
    "\n",
    "1. Formulate null and alternative hypotheses\n",
    "\n",
    "2. Specify a significance level, $\\alpha$\n",
    "\n",
    "3. Calculate a test statistic\n",
    "\n",
    "4. Calculate a $p$-value\n",
    "\n",
    "5. State a conclusion in the context of the original problem"
   ]
  },
  {
   "cell_type": "markdown",
   "metadata": {},
   "source": [
    "#### 1.  Null and alternative hypotheses\n",
    "\n",
    "The <span style=\"color:violet\">**null hypothesis** ($H_0$)<span style=\"color:black\"> posits a distribution for the population that (usually) reflects no change from the past.  \n",
    "\n",
    "- $H_0$ is often a claim to be tested.\n",
    "\n",
    "The <span style=\"color:violet\">**alternative hypothesis** ($H_A$)<span style=\"color:black\"> claims a real difference between the distribution of the observed data and the null-hypothesized distribution.\n",
    "\n",
    "- $H_A$ is an alternative claim under consideration and is often represented by a range of possible parameter values.\n",
    "\n",
    "Several possible choices for $H_0$ and $H_A$.  Let's choose\n",
    "\n",
    "- $H_0: \\mu_{\\text{bmi}} = 21.7 = \\mu_0$, the midpoint of the normal range, and \n",
    "\n",
    "- $H_A: \\mu_{\\text{bmi}} > 21.7$\n",
    "\n",
    "This form of $H_A$ is called a one-sided alternative.\n",
    "   \n",
    "- $H_A: \\mu_{\\text{bmi}} \\neq 21.7$ would be a two-sided alternative\n",
    "\n",
    "The choice of one- or two-sided alternative is context-dependent.\n",
    "\n",
    "#### 2. Specifying a significance level $\\alpha$\n",
    "\n",
    "The <span style=\"color:violet\">**significance level** $\\alpha$<span style=\"color:black\"> is the acceptable error probability of the test.\n",
    "\n",
    "  - The error probability is the probability of concluding the alternative hypothesis is true when it is *not* true.\n",
    "\n",
    "  - This error is called a Type I error, and $\\alpha$ is the probability of a Type I error.\n",
    "\n",
    "Typically, $\\alpha$ is taken to be $0.05$, $0.01$, or some other small value.\n",
    "\n",
    "$\\alpha$ plays the same role as the error probability in confidence intervals, and is a measure of uncertainty.\n",
    "\n",
    "#### 3. Calculate a test statistic\n",
    "\n",
    "The <span style=\"color:violet\">**test statistic**<span style=\"color:black\"> measures the difference between the observed data and what is expected if the null hypothesis is true.\n",
    "\n",
    "The test statistic answers the question: <span style=\"color:orange\">how many standard deviations from the hypothesized value is the observed sample value?*\n",
    "\n",
    "When testing hypotheses about a mean, the test statistic will always be: \n",
    "\n",
    "$$T = \\frac{\\overline{X} - \\mu_0}{s/\\sqrt{n}}$$\n",
    "\n",
    "The $T$ statistic will have a $t$-distribution  with $n - 1$ degrees of freedom. \n",
    "\n",
    "#### 4. Calculate a $p$-value\n",
    "\n",
    "Calculate the <span style=\"color:violet\">**$p$-value**<span style=\"color:black\"> of the observed result and compare it to the pre-set significance level $\\alpha$. The $p$-value stands for probability-value.\n",
    "\n",
    "The $p$-value answers the question:\n",
    "\n",
    "What is the probability that we would observe a result as far (or farther) from the expected result as the observed sample mean, if the null hypothesis is true?\n",
    "\n",
    "  - The <span style=\"color:violet\"> expected result<span style=\"color:black\"> is the mean of the null hypothesis distribution.\n",
    "\n",
    "  - The <span style=\"color:violet\">sample value<span style=\"color:black\"> is the sample mean.\n",
    "\n",
    "The smaller the $p$-value, the stronger the evidence against the null hypothesis.\n",
    "\n",
    "  - If the $p$-value is as small or smaller than $\\alpha$, we *reject* the null hypothesis. The result is statistically significant at level $\\alpha$.\n",
    "  \n",
    "  - If the $p$-value is larger than $\\alpha$, we *fail to reject* the null hypothesis. The result is not statistically significant at level $\\alpha$. In other words, the evidence does not contradict the null hypothesis.\n",
    "\n",
    "A subtle but important point: not rejecting $H_0$ is not the same as proving that $H_0$ is true.  We simply do not have extreme evidence that it is not true!\n",
    "\n",
    "#### 5. Draw a conclusion\n",
    "\n",
    "State the conclusion in the context of the original problem, using the language and units of that problem.\n"
   ]
  },
  {
   "cell_type": "markdown",
   "metadata": {},
   "source": [
    "The calculation of the *p*-value depends on whether the alternative hypothesis is two or one-sided.  \n",
    "\n",
    "For a two-sided alternative, $\\mu \\neq \\mu_0$, the p-value is the total area from both tails of the *t* distribution that are beyond the absolute value of the observed statistic.\n",
    "\n",
    "<img style=\"float: left\", src=\"pValueTwoSided.png\">"
   ]
  },
  {
   "cell_type": "markdown",
   "metadata": {},
   "source": [
    "#### Two-sided tests and confidence intervals\n",
    "\n",
    "Direct relationship:  if a 95% confidence interval for a population mean does not contain a hypothesized value $\\mu_0$, then:\n",
    "\n",
    "- the data contradict the the null hypothesis $H_0: \\mu = \\mu_0$ at significance level $\\alpha = 0.05$\n",
    "\n",
    "- the implied two-sided alternative hypothesis is $H_A: \\mu \\neq \\mu_0$ \n"
   ]
  },
  {
   "cell_type": "markdown",
   "metadata": {},
   "source": [
    "----\n",
    "#### In-class exercise 3\n",
    "----"
   ]
  }
 ],
 "metadata": {
  "kernelspec": {
   "display_name": "R",
   "language": "R",
   "name": "ir"
  },
  "language_info": {
   "codemirror_mode": "r",
   "file_extension": ".r",
   "mimetype": "text/x-r-source",
   "name": "R",
   "pygments_lexer": "r",
   "version": "3.4.3"
  }
 },
 "nbformat": 4,
 "nbformat_minor": 2
}
