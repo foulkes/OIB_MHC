{
 "cells": [
  {
   "cell_type": "markdown",
   "metadata": {},
   "source": [
    "Let's repeat the coin-flipping exercise you did by hand in class using R.  We will use the following packages in this lab:"
   ]
  },
  {
   "cell_type": "code",
   "execution_count": null,
   "metadata": {},
   "outputs": [],
   "source": [
    "library(ggplot2)\n",
    "library(mosaic)"
   ]
  },
  {
   "cell_type": "markdown",
   "metadata": {},
   "source": [
    "The command to flip a coin in R is called `rbinom` (we will see why it has this name in a few days).  The following command flips a coin 5 times and counts the number of heads; try it out:"
   ]
  },
  {
   "cell_type": "code",
   "execution_count": null,
   "metadata": {},
   "outputs": [],
   "source": [
    "rbinom(n = 1, size = 5, prob = 0.5)"
   ]
  },
  {
   "cell_type": "markdown",
   "metadata": {},
   "source": [
    "Just as in the Capture-Recapture lab, we can repeat this simulation process 1000 times as follows:"
   ]
  },
  {
   "cell_type": "code",
   "execution_count": null,
   "metadata": {},
   "outputs": [],
   "source": [
    "simulation_results <- do(1000) * {\n",
    "  data.frame(num_correct = rbinom(n = 1, size = 5, prob = 0.5))\n",
    "}\n",
    "simulation_results"
   ]
  },
  {
   "cell_type": "markdown",
   "metadata": {},
   "source": [
    "#### 1. Make a histogram of the `num_correct` variable in the `simulation_results` data frame.\n",
    "\n",
    "Use a `binwidth = 1` argument to the `geom_histogram` function."
   ]
  },
  {
   "cell_type": "code",
   "execution_count": null,
   "metadata": {},
   "outputs": [],
   "source": []
  },
  {
   "cell_type": "markdown",
   "metadata": {},
   "source": [
    "#### 2. Use the `tally` function to count how many of the simulated repetitions of the experiment resulted in a `num_correct` of 0, 1, 2, 3, 4, or 5 correct guesses."
   ]
  },
  {
   "cell_type": "code",
   "execution_count": null,
   "metadata": {},
   "outputs": [],
   "source": []
  },
  {
   "cell_type": "markdown",
   "metadata": {},
   "source": [
    "The rest of the lab will be done by hand on the print-out (using the output from R above, so don't close this yet)."
   ]
  }
 ],
 "metadata": {
  "kernelspec": {
   "display_name": "R",
   "language": "R",
   "name": "ir"
  },
  "language_info": {
   "codemirror_mode": "r",
   "file_extension": ".r",
   "mimetype": "text/x-r-source",
   "name": "R",
   "pygments_lexer": "r",
   "version": "3.4.3"
  }
 },
 "nbformat": 4,
 "nbformat_minor": 2
}
