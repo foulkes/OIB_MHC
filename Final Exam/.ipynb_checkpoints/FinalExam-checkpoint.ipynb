{
 "cells": [
  {
   "cell_type": "markdown",
   "metadata": {},
   "source": [
    "## <span style=\"color:darkblue\"> Final Exam\n",
    "\n",
    "Stat140-02: Introduction to the Ideas and Applications of Statistics \n",
    "\n",
    "Due: Monday, May 7 @12pm\n",
    "\n",
    "*Under no circumstancs should a student discuss the content of this exam with other students or the TAs. All students are expected to follow the Honor Code: “I will honor myself, my fellow students, and Mount Holyoke College by acting responsibly, honestly, and respectfully in both my words and deeds.” Students are encouraged to speak with the instructor if unclear about what constitutes an Honor Code violation. Violations of the Honor Code may result in failure of this course.* "
   ]
  },
  {
   "cell_type": "markdown",
   "metadata": {},
   "source": [
    "#### NAME: "
   ]
  },
  {
   "cell_type": "markdown",
   "metadata": {},
   "source": [
    "**Problem 1 (30 points)**\n",
    "\n",
    "In chronic diseases such as multiple sclerosis, medications are approved for sale after the US Food and Drug Administration evaluates both the effectiveness of the medication in delaying the progression of the disease and the extent to which the medication provides symptom relief. An earlier study showed that two treatments (labeled $A$ and $B$) were equally effective in delaying the progression of disease. This problem examines simulated data from a study comparing how well the treatments relieve disease symptoms.  \n",
    "\n",
    "A total of 410 participants were randomly assigned to one of the two treatments. The effect of disease symptoms on daily living  was assessed by responses to the EuroQol 5D-5L (EQ-5D-5L), a questionnaire widely used to study health-related quality of life; higher scores are indicative of better quality of life. The EQ-5D-5L was administered to each participant before the start of treatment and again after 6 months of treatment.  Investigators planned to compare the mean change in the EQ-5D-5L score between the two groups in order to assess whether the extent of symptom relief differs by treatment.\n",
    "\n",
    "The data from the study are contained in the file `quality_of_life.Rdata`.  The dataset `quality.of.life` contains the following variables:\n",
    "\n",
    "  - `treatment.group`: The treatment to which the participant was assigned, coded \\texttt{A} or \\texttt{B}.\n",
    "\n",
    "  - `pre.treatment.score`: The EQ-5D-5L score just before treatment started.\n",
    "\n",
    "  - `post.treatment.score`: The EQ-5D-5L score after 6 months of treatment.\n",
    "\n",
    "Do the data from this study provide definitive evidence that the two treatments are different in their ability to offer symptom relief?  \n",
    "\n",
    "  a) Outline a plan for analyzing the data. Specify how the variables in the dataset will be used, in addition to any variables that might be created. Clearly indicate which methods will be used in the analysis. If a hypothesis test will be conducted, state the null and alternative hypotheses and use significance level $\\alpha = 0.05$.\n",
    "\n",
    "  b) Conduct the analysis and summarize the numerical results. Be sure to provide an answer to the original question in the context of the data."
   ]
  },
  {
   "cell_type": "code",
   "execution_count": 1,
   "metadata": {},
   "outputs": [
    {
     "data": {
      "text/html": [
       "<table>\n",
       "<thead><tr><th scope=col>treatment.group</th><th scope=col>pre.treatment.score</th><th scope=col>post.treatment.score</th></tr></thead>\n",
       "<tbody>\n",
       "\t<tr><td>B   </td><td>70.7</td><td>64.0</td></tr>\n",
       "\t<tr><td>A   </td><td>60.8</td><td>67.7</td></tr>\n",
       "\t<tr><td>A   </td><td>67.5</td><td>64.9</td></tr>\n",
       "\t<tr><td>B   </td><td>53.7</td><td>54.1</td></tr>\n",
       "\t<tr><td>B   </td><td>48.8</td><td>53.6</td></tr>\n",
       "\t<tr><td>A   </td><td>50.2</td><td>49.5</td></tr>\n",
       "</tbody>\n",
       "</table>\n"
      ],
      "text/latex": [
       "\\begin{tabular}{r|lll}\n",
       " treatment.group & pre.treatment.score & post.treatment.score\\\\\n",
       "\\hline\n",
       "\t B    & 70.7 & 64.0\\\\\n",
       "\t A    & 60.8 & 67.7\\\\\n",
       "\t A    & 67.5 & 64.9\\\\\n",
       "\t B    & 53.7 & 54.1\\\\\n",
       "\t B    & 48.8 & 53.6\\\\\n",
       "\t A    & 50.2 & 49.5\\\\\n",
       "\\end{tabular}\n"
      ],
      "text/markdown": [
       "\n",
       "treatment.group | pre.treatment.score | post.treatment.score | \n",
       "|---|---|---|---|---|---|\n",
       "| B    | 70.7 | 64.0 | \n",
       "| A    | 60.8 | 67.7 | \n",
       "| A    | 67.5 | 64.9 | \n",
       "| B    | 53.7 | 54.1 | \n",
       "| B    | 48.8 | 53.6 | \n",
       "| A    | 50.2 | 49.5 | \n",
       "\n",
       "\n"
      ],
      "text/plain": [
       "  treatment.group pre.treatment.score post.treatment.score\n",
       "1 B               70.7                64.0                \n",
       "2 A               60.8                67.7                \n",
       "3 A               67.5                64.9                \n",
       "4 B               53.7                54.1                \n",
       "5 B               48.8                53.6                \n",
       "6 A               50.2                49.5                "
      ]
     },
     "metadata": {},
     "output_type": "display_data"
    }
   ],
   "source": [
    "load(\"quality_of_life.Rdata\")\n",
    "head(quality.of.life)"
   ]
  },
  {
   "cell_type": "markdown",
   "metadata": {},
   "source": [
    "#### Problem 2 (40 points)\n",
    "\n",
    "In class we have talked about using the BRFSS data to address the question \"Do men and women think differently about their body weight?\". In this problem we further explore this question.\n",
    "\n",
    "  a) Draw a random sample of size 300 from the data, using 2017 in the `set.seed()` function. Name the sample `brfss.samp`.\n",
    "    \n",
    "  b) Fit a linear model to predict desired weight from actual weight and assess whether actual weight is a significant predictor of desired weight.\n",
    "  \n",
    "  c) Fit a linear model to predict desired weight from actual weight and sex. Compare this model to the one fitted in part b); state which model is preferable, and explain your reasoning.\n",
    "  \n",
    "  d) Investigate whether the association of desired weight with actual weight is different for males versus females.\n",
    "  \n",
    "- Create a plot that shows the regression line for desired weight versus actual weight in males and the regression line for desired weight versus actual weight in females.\n",
    "  \n",
    "- Create a model that includes actual weight, sex, and the interaction between actual weight and sex. Write the model equation.\n",
    "  \n",
    "- Write the prediction equation for males and and the prediction equation for females. \n",
    "      \n",
    "- Is there statistically significant evidence of an interaction between actual weight and sex? Explain your answer.\n",
    "      \n",
    "      \n"
   ]
  },
  {
   "cell_type": "code",
   "execution_count": 2,
   "metadata": {},
   "outputs": [
    {
     "data": {
      "text/html": [
       "<table>\n",
       "<thead><tr><th></th><th scope=col>x.state</th><th scope=col>age</th><th scope=col>weight</th><th scope=col>wtdesire</th><th scope=col>height</th><th scope=col>htf</th><th scope=col>hti</th><th scope=col>sex</th><th scope=col>sex.factor</th><th scope=col>height.total</th><th scope=col>bmi</th></tr></thead>\n",
       "<tbody>\n",
       "\t<tr><th scope=row>106107</th><td>31      </td><td>60      </td><td>200     </td><td>150     </td><td>508     </td><td>5       </td><td> 8      </td><td>1       </td><td>Female  </td><td>68      </td><td>30.40657</td></tr>\n",
       "\t<tr><th scope=row>91707</th><td>27      </td><td>25      </td><td>145     </td><td>125     </td><td>506     </td><td>5       </td><td> 6      </td><td>1       </td><td>Female  </td><td>66      </td><td>23.40106</td></tr>\n",
       "\t<tr><th scope=row>144918</th><td>45      </td><td>40      </td><td>180     </td><td>170     </td><td>511     </td><td>5       </td><td>11      </td><td>0       </td><td>Male    </td><td>71      </td><td>25.10216</td></tr>\n",
       "\t<tr><th scope=row>100346</th><td>29      </td><td>53      </td><td>210     </td><td>175     </td><td>511     </td><td>5       </td><td>11      </td><td>0       </td><td>Male    </td><td>71      </td><td>29.28586</td></tr>\n",
       "\t<tr><th scope=row>15880</th><td> 8      </td><td>80      </td><td>170     </td><td>170     </td><td>504     </td><td>5       </td><td> 4      </td><td>1       </td><td>Female  </td><td>64      </td><td>29.17725</td></tr>\n",
       "\t<tr><th scope=row>78461</th><td>24      </td><td>71      </td><td>108     </td><td>108     </td><td>501     </td><td>5       </td><td> 1      </td><td>1       </td><td>Female  </td><td>61      </td><td>20.40419</td></tr>\n",
       "</tbody>\n",
       "</table>\n"
      ],
      "text/latex": [
       "\\begin{tabular}{r|lllllllllll}\n",
       "  & x.state & age & weight & wtdesire & height & htf & hti & sex & sex.factor & height.total & bmi\\\\\n",
       "\\hline\n",
       "\t106107 & 31       & 60       & 200      & 150      & 508      & 5        &  8       & 1        & Female   & 68       & 30.40657\\\\\n",
       "\t91707 & 27       & 25       & 145      & 125      & 506      & 5        &  6       & 1        & Female   & 66       & 23.40106\\\\\n",
       "\t144918 & 45       & 40       & 180      & 170      & 511      & 5        & 11       & 0        & Male     & 71       & 25.10216\\\\\n",
       "\t100346 & 29       & 53       & 210      & 175      & 511      & 5        & 11       & 0        & Male     & 71       & 29.28586\\\\\n",
       "\t15880 &  8       & 80       & 170      & 170      & 504      & 5        &  4       & 1        & Female   & 64       & 29.17725\\\\\n",
       "\t78461 & 24       & 71       & 108      & 108      & 501      & 5        &  1       & 1        & Female   & 61       & 20.40419\\\\\n",
       "\\end{tabular}\n"
      ],
      "text/markdown": [
       "\n",
       "| <!--/--> | x.state | age | weight | wtdesire | height | htf | hti | sex | sex.factor | height.total | bmi | \n",
       "|---|---|---|---|---|---|\n",
       "| 106107 | 31       | 60       | 200      | 150      | 508      | 5        |  8       | 1        | Female   | 68       | 30.40657 | \n",
       "| 91707 | 27       | 25       | 145      | 125      | 506      | 5        |  6       | 1        | Female   | 66       | 23.40106 | \n",
       "| 144918 | 45       | 40       | 180      | 170      | 511      | 5        | 11       | 0        | Male     | 71       | 25.10216 | \n",
       "| 100346 | 29       | 53       | 210      | 175      | 511      | 5        | 11       | 0        | Male     | 71       | 29.28586 | \n",
       "| 15880 |  8       | 80       | 170      | 170      | 504      | 5        |  4       | 1        | Female   | 64       | 29.17725 | \n",
       "| 78461 | 24       | 71       | 108      | 108      | 501      | 5        |  1       | 1        | Female   | 61       | 20.40419 | \n",
       "\n",
       "\n"
      ],
      "text/plain": [
       "       x.state age weight wtdesire height htf hti sex sex.factor height.total\n",
       "106107 31      60  200    150      508    5    8  1   Female     68          \n",
       "91707  27      25  145    125      506    5    6  1   Female     66          \n",
       "144918 45      40  180    170      511    5   11  0   Male       71          \n",
       "100346 29      53  210    175      511    5   11  0   Male       71          \n",
       "15880   8      80  170    170      504    5    4  1   Female     64          \n",
       "78461  24      71  108    108      501    5    1  1   Female     61          \n",
       "       bmi     \n",
       "106107 30.40657\n",
       "91707  23.40106\n",
       "144918 25.10216\n",
       "100346 29.28586\n",
       "15880  29.17725\n",
       "78461  20.40419"
      ]
     },
     "metadata": {},
     "output_type": "display_data"
    }
   ],
   "source": [
    "load(\"BRFSS.Rdata\")\n",
    "head(BRFSS)"
   ]
  },
  {
   "cell_type": "markdown",
   "metadata": {},
   "source": [
    "#### Problem 3 (30 points)\n",
    "\n",
    "Habitat fragmentation refers to the process by which a habitat in a large contiguous space is divided into smaller, more isolated pieces; human activities such as agricultural development can result in habitat fragmentation. Smaller patches of habitat are only able to support limited populations of organisms, which reduces genetic diversity and overall population fitness.\n",
    "\n",
    "You have taken a post-doctoral fellowship with a research team that studies the abundance of forest birds in an area in Australia. Counting birds is a difficult, time-consuming process. The research team is interested in whether bird abundance can be reliably predicted from the measured features of a patch, and have collected data on bird abundance and various patch characteristics (area, altitude, distance to nearest patch, grazing intensity). \n",
    "\n",
    "You have agreed to be responsible for building a prediction model based on these data.\n",
    "\n",
    "The file `forest_birds.Rdata` contains a simplified version of data from a study of 56 forest patches in Australia. The variables in `forest.birds` are:\n",
    "\n",
    "  - `abundance`:  Average number of forest birds observed in the patch, as calculated from several independent 20-minute counting sessions. \n",
    "\n",
    "  - `log.area`: Natural log of the area of the patch. Areas were originally measured in hectares; 1 hectare is 10,000 square meters and approximately 2.47 acres.\n",
    "\n",
    "  - `log.distance`: Natural log of the distance to the nearest patch, originally measured in kilometers.\n",
    "\n",
    "  - `altitude`: altitude of the patch, measured in meters.\n",
    "\n",
    "  - `grazing.intensity`: a score indicating the extent of livestock grazing. The categories are: light (`1`), less than average (`2`), average (`3`), moderately heavy (`4`), heavy (`5`).\n",
    "\n",
    "In your report for the research team, present a model for predicting forest bird abundance. Briefly explain the work done to develop the model and evaluate the model's strengths and weaknesses. The team has also requested that you make a prediction for a patch that has the following features: area 10 hectares, altitude 150 meters, distance to nearest patch 200 km, and moderately heavy grazing intensity. Use only the information necessary to make a prediction from your model."
   ]
  },
  {
   "cell_type": "code",
   "execution_count": 3,
   "metadata": {},
   "outputs": [
    {
     "data": {
      "text/html": [
       "<table>\n",
       "<thead><tr><th scope=col>abundance</th><th scope=col>grazing.intensity</th><th scope=col>log.area</th><th scope=col>log.distance</th><th scope=col>altitude</th></tr></thead>\n",
       "<tbody>\n",
       "\t<tr><td> 5.3      </td><td>2         </td><td>-2.3025851</td><td>3.663562  </td><td>160       </td></tr>\n",
       "\t<tr><td> 2.0      </td><td>5         </td><td>-0.6931472</td><td>5.455321  </td><td> 60       </td></tr>\n",
       "\t<tr><td> 1.5      </td><td>5         </td><td>-0.6931472</td><td>4.644391  </td><td>140       </td></tr>\n",
       "\t<tr><td>17.1      </td><td>3         </td><td> 0.0000000</td><td>4.189655  </td><td>160       </td></tr>\n",
       "\t<tr><td>13.8      </td><td>5         </td><td> 0.0000000</td><td>5.505332  </td><td>140       </td></tr>\n",
       "\t<tr><td>14.1      </td><td>3         </td><td> 0.0000000</td><td>5.455321  </td><td>130       </td></tr>\n",
       "</tbody>\n",
       "</table>\n"
      ],
      "text/latex": [
       "\\begin{tabular}{r|lllll}\n",
       " abundance & grazing.intensity & log.area & log.distance & altitude\\\\\n",
       "\\hline\n",
       "\t  5.3       & 2          & -2.3025851 & 3.663562   & 160       \\\\\n",
       "\t  2.0       & 5          & -0.6931472 & 5.455321   &  60       \\\\\n",
       "\t  1.5       & 5          & -0.6931472 & 4.644391   & 140       \\\\\n",
       "\t 17.1       & 3          &  0.0000000 & 4.189655   & 160       \\\\\n",
       "\t 13.8       & 5          &  0.0000000 & 5.505332   & 140       \\\\\n",
       "\t 14.1       & 3          &  0.0000000 & 5.455321   & 130       \\\\\n",
       "\\end{tabular}\n"
      ],
      "text/markdown": [
       "\n",
       "abundance | grazing.intensity | log.area | log.distance | altitude | \n",
       "|---|---|---|---|---|---|\n",
       "|  5.3       | 2          | -2.3025851 | 3.663562   | 160        | \n",
       "|  2.0       | 5          | -0.6931472 | 5.455321   |  60        | \n",
       "|  1.5       | 5          | -0.6931472 | 4.644391   | 140        | \n",
       "| 17.1       | 3          |  0.0000000 | 4.189655   | 160        | \n",
       "| 13.8       | 5          |  0.0000000 | 5.505332   | 140        | \n",
       "| 14.1       | 3          |  0.0000000 | 5.455321   | 130        | \n",
       "\n",
       "\n"
      ],
      "text/plain": [
       "  abundance grazing.intensity log.area   log.distance altitude\n",
       "1  5.3      2                 -2.3025851 3.663562     160     \n",
       "2  2.0      5                 -0.6931472 5.455321      60     \n",
       "3  1.5      5                 -0.6931472 4.644391     140     \n",
       "4 17.1      3                  0.0000000 4.189655     160     \n",
       "5 13.8      5                  0.0000000 5.505332     140     \n",
       "6 14.1      3                  0.0000000 5.455321     130     "
      ]
     },
     "metadata": {},
     "output_type": "display_data"
    }
   ],
   "source": [
    "load(\"forest_birds.Rdata\")\n",
    "head(forest.birds)"
   ]
  },
  {
   "cell_type": "code",
   "execution_count": 4,
   "metadata": {},
   "outputs": [
    {
     "data": {
      "text/html": [
       "<table>\n",
       "<thead><tr><th scope=col>abundance</th><th scope=col>grazing.intensity</th><th scope=col>log.area</th><th scope=col>log.distance</th><th scope=col>altitude</th><th scope=col>grazing.factor</th></tr></thead>\n",
       "<tbody>\n",
       "\t<tr><td> 5.3             </td><td>2                </td><td>-2.3025851       </td><td>3.663562         </td><td>160              </td><td>less than average</td></tr>\n",
       "\t<tr><td> 2.0             </td><td>5                </td><td>-0.6931472       </td><td>5.455321         </td><td> 60              </td><td>heavy            </td></tr>\n",
       "\t<tr><td> 1.5             </td><td>5                </td><td>-0.6931472       </td><td>4.644391         </td><td>140              </td><td>heavy            </td></tr>\n",
       "\t<tr><td>17.1             </td><td>3                </td><td> 0.0000000       </td><td>4.189655         </td><td>160              </td><td>average          </td></tr>\n",
       "\t<tr><td>13.8             </td><td>5                </td><td> 0.0000000       </td><td>5.505332         </td><td>140              </td><td>heavy            </td></tr>\n",
       "\t<tr><td>14.1             </td><td>3                </td><td> 0.0000000       </td><td>5.455321         </td><td>130              </td><td>average          </td></tr>\n",
       "</tbody>\n",
       "</table>\n"
      ],
      "text/latex": [
       "\\begin{tabular}{r|llllll}\n",
       " abundance & grazing.intensity & log.area & log.distance & altitude & grazing.factor\\\\\n",
       "\\hline\n",
       "\t  5.3              & 2                 & -2.3025851        & 3.663562          & 160               & less than average\\\\\n",
       "\t  2.0              & 5                 & -0.6931472        & 5.455321          &  60               & heavy            \\\\\n",
       "\t  1.5              & 5                 & -0.6931472        & 4.644391          & 140               & heavy            \\\\\n",
       "\t 17.1              & 3                 &  0.0000000        & 4.189655          & 160               & average          \\\\\n",
       "\t 13.8              & 5                 &  0.0000000        & 5.505332          & 140               & heavy            \\\\\n",
       "\t 14.1              & 3                 &  0.0000000        & 5.455321          & 130               & average          \\\\\n",
       "\\end{tabular}\n"
      ],
      "text/markdown": [
       "\n",
       "abundance | grazing.intensity | log.area | log.distance | altitude | grazing.factor | \n",
       "|---|---|---|---|---|---|\n",
       "|  5.3              | 2                 | -2.3025851        | 3.663562          | 160               | less than average | \n",
       "|  2.0              | 5                 | -0.6931472        | 5.455321          |  60               | heavy             | \n",
       "|  1.5              | 5                 | -0.6931472        | 4.644391          | 140               | heavy             | \n",
       "| 17.1              | 3                 |  0.0000000        | 4.189655          | 160               | average           | \n",
       "| 13.8              | 5                 |  0.0000000        | 5.505332          | 140               | heavy             | \n",
       "| 14.1              | 3                 |  0.0000000        | 5.455321          | 130               | average           | \n",
       "\n",
       "\n"
      ],
      "text/plain": [
       "  abundance grazing.intensity log.area   log.distance altitude\n",
       "1  5.3      2                 -2.3025851 3.663562     160     \n",
       "2  2.0      5                 -0.6931472 5.455321      60     \n",
       "3  1.5      5                 -0.6931472 4.644391     140     \n",
       "4 17.1      3                  0.0000000 4.189655     160     \n",
       "5 13.8      5                  0.0000000 5.505332     140     \n",
       "6 14.1      3                  0.0000000 5.455321     130     \n",
       "  grazing.factor   \n",
       "1 less than average\n",
       "2 heavy            \n",
       "3 heavy            \n",
       "4 average          \n",
       "5 heavy            \n",
       "6 average          "
      ]
     },
     "metadata": {},
     "output_type": "display_data"
    }
   ],
   "source": [
    "forest.birds$grazing.factor = factor(forest.birds$grazing.intensity, \n",
    "                                     levels = c(1, 2, 3, 4, 5),\n",
    "                                     labels = c(\"light\", \"less than average\",\n",
    "                                                \"average\", \"moderately heavy\",\n",
    "                                                \"heavy\"))\n",
    "head(forest.birds)"
   ]
  }
 ],
 "metadata": {
  "kernelspec": {
   "display_name": "R",
   "language": "R",
   "name": "ir"
  },
  "language_info": {
   "codemirror_mode": "r",
   "file_extension": ".r",
   "mimetype": "text/x-r-source",
   "name": "R",
   "pygments_lexer": "r",
   "version": "3.4.3"
  }
 },
 "nbformat": 4,
 "nbformat_minor": 2
}
