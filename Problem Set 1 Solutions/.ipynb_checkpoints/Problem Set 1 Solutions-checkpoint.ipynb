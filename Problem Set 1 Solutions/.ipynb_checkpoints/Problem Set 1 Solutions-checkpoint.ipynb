{
 "cells": [
  {
   "cell_type": "markdown",
   "metadata": {},
   "source": [
    "## <span style=\"color:darkblue\"> Problem Set 1: Introduction to Data\n",
    "\n",
    "Stat140-02: Introduction to the Ideas and Applications of Statistics \n",
    "\n",
    "Due: Friday, Feb 9 @11am"
   ]
  },
  {
   "cell_type": "markdown",
   "metadata": {},
   "source": [
    "**Problem set policies:** Please provide concise, clear answers for each question. Note that only writing the result of a calculation (e.g., \"SD = 3.3\") without explanation is not sufficient. For problems involving `R`, include the code in your solution, along with any plots.\n",
    "\t\t\n",
    "Each problem set is due by 11:00am on the due date; please submit your problem set via gyrd\n",
    "\t\t\n",
    "*You are encouraged to discuss problems with other students (and, of course, with the course head and the TAs), but you must write your final answer in your own words. Solutions prepared \"in committee\" are not acceptable. If you do collaborate with classmates on a problem, please list your collaborators on your solution.*"
   ]
  },
  {
   "cell_type": "markdown",
   "metadata": {},
   "source": [
    "#### Problem 1\n",
    "The adolescentFertility dataset includes data on the number of children born to women aged 15-19 from 189 countries around the world for the years 1997, 2000, 2002, 2005, and 2006. The data are defined such that the values for the annual adolescent fertility rates represent the number of live births among women aged 15-19 per 1,000 women members of the population of that age.\n",
    "\n",
    "For the years 2000-2006, the adolescent fertility rate for Iraq is coded `NA`, or missing. When calculating a mean or standard deviation in `R` for a variable `x` which has missing data, add `na.rm=TRUE` to the argument to perform the calculations without the missing observations, e.g. `mean(x, na.rm=TRUE)` and `sd(x, na.rm=TRUE).`\n",
    "\n",
    "Below is the code that you will need to use to load the data:"
   ]
  },
  {
   "cell_type": "code",
   "execution_count": 1,
   "metadata": {},
   "outputs": [
    {
     "data": {
      "text/html": [
       "<table>\n",
       "<thead><tr><th scope=col>Country</th><th scope=col>fert_1997</th><th scope=col>fert_2000</th><th scope=col>fert_2002</th><th scope=col>fert_2005</th><th scope=col>fert_2006</th></tr></thead>\n",
       "<tbody>\n",
       "\t<tr><td>Albania  </td><td> 15.742  </td><td> 15.6448 </td><td> 15.580  </td><td> 15.5944 </td><td> 15.5992 </td></tr>\n",
       "\t<tr><td>Algeria  </td><td> 11.771  </td><td>  9.8312 </td><td>  8.538  </td><td>  7.8192 </td><td>  7.5796 </td></tr>\n",
       "\t<tr><td>Angola   </td><td>145.314  </td><td>143.8236 </td><td>142.830  </td><td>139.6416 </td><td>138.5788 </td></tr>\n",
       "\t<tr><td>Argentina</td><td> 69.800  </td><td> 64.3400 </td><td> 60.700  </td><td> 58.4200 </td><td> 57.6600 </td></tr>\n",
       "\t<tr><td>Armenia  </td><td> 52.955  </td><td> 39.7106 </td><td> 30.881  </td><td> 30.0746 </td><td> 29.8058 </td></tr>\n",
       "\t<tr><td>Aruba    </td><td> 35.063  </td><td> 31.1534 </td><td> 28.547  </td><td> 24.8828 </td><td> 23.6614 </td></tr>\n",
       "</tbody>\n",
       "</table>\n"
      ],
      "text/latex": [
       "\\begin{tabular}{r|llllll}\n",
       " Country & fert\\_1997 & fert\\_2000 & fert\\_2002 & fert\\_2005 & fert\\_2006\\\\\n",
       "\\hline\n",
       "\t Albania   &  15.742   &  15.6448  &  15.580   &  15.5944  &  15.5992 \\\\\n",
       "\t Algeria   &  11.771   &   9.8312  &   8.538   &   7.8192  &   7.5796 \\\\\n",
       "\t Angola    & 145.314   & 143.8236  & 142.830   & 139.6416  & 138.5788 \\\\\n",
       "\t Argentina &  69.800   &  64.3400  &  60.700   &  58.4200  &  57.6600 \\\\\n",
       "\t Armenia   &  52.955   &  39.7106  &  30.881   &  30.0746  &  29.8058 \\\\\n",
       "\t Aruba     &  35.063   &  31.1534  &  28.547   &  24.8828  &  23.6614 \\\\\n",
       "\\end{tabular}\n"
      ],
      "text/markdown": [
       "\n",
       "Country | fert_1997 | fert_2000 | fert_2002 | fert_2005 | fert_2006 | \n",
       "|---|---|---|---|---|---|\n",
       "| Albania   |  15.742   |  15.6448  |  15.580   |  15.5944  |  15.5992  | \n",
       "| Algeria   |  11.771   |   9.8312  |   8.538   |   7.8192  |   7.5796  | \n",
       "| Angola    | 145.314   | 143.8236  | 142.830   | 139.6416  | 138.5788  | \n",
       "| Argentina |  69.800   |  64.3400  |  60.700   |  58.4200  |  57.6600  | \n",
       "| Armenia   |  52.955   |  39.7106  |  30.881   |  30.0746  |  29.8058  | \n",
       "| Aruba     |  35.063   |  31.1534  |  28.547   |  24.8828  |  23.6614  | \n",
       "\n",
       "\n"
      ],
      "text/plain": [
       "  Country   fert_1997 fert_2000 fert_2002 fert_2005 fert_2006\n",
       "1 Albania    15.742    15.6448   15.580    15.5944   15.5992 \n",
       "2 Algeria    11.771     9.8312    8.538     7.8192    7.5796 \n",
       "3 Angola    145.314   143.8236  142.830   139.6416  138.5788 \n",
       "4 Argentina  69.800    64.3400   60.700    58.4200   57.6600 \n",
       "5 Armenia    52.955    39.7106   30.881    30.0746   29.8058 \n",
       "6 Aruba      35.063    31.1534   28.547    24.8828   23.6614 "
      ]
     },
     "metadata": {},
     "output_type": "display_data"
    }
   ],
   "source": [
    "adolescentFertility = read.csv(\"https://www.mtholyoke.edu/courses/afoulkes/ClassData/adolescentFertility.csv\")\n",
    "head(adolescentFertility)"
   ]
  },
  {
   "cell_type": "markdown",
   "metadata": {},
   "source": [
    "a) Based on numerical summaries, describe the distribution of adolescent fertility in 2006 (`fert_2006`). "
   ]
  },
  {
   "cell_type": "markdown",
   "metadata": {},
   "source": [
    "**Soution:**"
   ]
  },
  {
   "cell_type": "code",
   "execution_count": 2,
   "metadata": {},
   "outputs": [
    {
     "name": "stderr",
     "output_type": "stream",
     "text": [
      "Loading required package: dplyr\n",
      "\n",
      "Attaching package: ‘dplyr’\n",
      "\n",
      "The following objects are masked from ‘package:stats’:\n",
      "\n",
      "    filter, lag\n",
      "\n",
      "The following objects are masked from ‘package:base’:\n",
      "\n",
      "    intersect, setdiff, setequal, union\n",
      "\n"
     ]
    },
    {
     "data": {
      "text/html": [
       "<table>\n",
       "<thead><tr><th scope=col>min</th><th scope=col>max</th><th scope=col>q1</th><th scope=col>q3</th><th scope=col>mean</th><th scope=col>median</th><th scope=col>sd</th></tr></thead>\n",
       "<tbody>\n",
       "\t<tr><td>1.4534  </td><td>223.8336</td><td>17.8759 </td><td>75.7267 </td><td>53.58395</td><td>40.0682 </td><td>46.97848</td></tr>\n",
       "</tbody>\n",
       "</table>\n"
      ],
      "text/latex": [
       "\\begin{tabular}{r|lllllll}\n",
       " min & max & q1 & q3 & mean & median & sd\\\\\n",
       "\\hline\n",
       "\t 1.4534   & 223.8336 & 17.8759  & 75.7267  & 53.58395 & 40.0682  & 46.97848\\\\\n",
       "\\end{tabular}\n"
      ],
      "text/markdown": [
       "\n",
       "min | max | q1 | q3 | mean | median | sd | \n",
       "|---|\n",
       "| 1.4534   | 223.8336 | 17.8759  | 75.7267  | 53.58395 | 40.0682  | 46.97848 | \n",
       "\n",
       "\n"
      ],
      "text/plain": [
       "  min    max      q1      q3      mean     median  sd      \n",
       "1 1.4534 223.8336 17.8759 75.7267 53.58395 40.0682 46.97848"
      ]
     },
     "metadata": {},
     "output_type": "display_data"
    }
   ],
   "source": [
    "require(dplyr)\n",
    "adolescentFertility %>% \n",
    "    summarize(min=min(fert_2006,na.rm=TRUE), max=max(fert_2006,na.rm=TRUE), \n",
    "              q1=quantile(fert_2006,p=.25,na.rm=TRUE), q3=quantile(fert_2006,p=.75,na.rm=TRUE),\n",
    "              mean=mean(fert_2006,na.rm=TRUE),median=median(fert_2006,na.rm=TRUE),\n",
    "              sd=sd(fert_2006,na.rm=TRUE))"
   ]
  },
  {
   "cell_type": "markdown",
   "metadata": {},
   "source": [
    "The average adolescent fertility rate in 2006 across all countries represented is 53.58 live births per 1,000 adolescent women aged 15-19 in the population; the corresponding standard deviation is 46.98. The minimum across all countries is 1.45 while the maximum is 223.83. $50\\%$ of countries have a fertility rate that exceeded 40.07 in 2006. The middle $50\\%$ of fertility rates are between 17.88 and 75.72 live births per 1,000 adolescent women. The mean fertility rate is larger than than the median suggesting that the distribution is rightward skewed with some large extreme values."
   ]
  },
  {
   "cell_type": "markdown",
   "metadata": {},
   "source": [
    "b) What is the ${75}^{th}$ percentile of the distribution of adolescent fertility in 2006? Write a sentence explaining the ${75}^{th}$ percentile in the context of this data."
   ]
  },
  {
   "cell_type": "markdown",
   "metadata": {},
   "source": [
    "**Solution:**\n",
    "\n",
    "The $75^{th}$ percentile of the distribution of adolescent fertility in 2006 is 75.73, which suggest that an estimated $25\\%$ of countries had an adolescent fertility rate of greater than 75.73 live births per 1,000 adolescent women in 2006."
   ]
  },
  {
   "cell_type": "markdown",
   "metadata": {},
   "source": [
    "c) Why might those observations for Iraq be missing between 2000 and 2006? Would the summaries in part (a) have been affected very much if the values had been available?"
   ]
  },
  {
   "cell_type": "markdown",
   "metadata": {},
   "source": [
    "**Solution:**\n",
    "\n",
    "It is likely that the observations are missing due to the Iraq War and general instability in the region during this time period. It is unlikely that the numerical summaries would have been affected very much, even if the values were extreme; the median and IQR are robust estimates, and the dataset is relatively large, with data from 188 other countries."
   ]
  },
  {
   "cell_type": "markdown",
   "metadata": {},
   "source": [
    "d) Create side-by-side boxplots of the fertility rates for each of the five years in the dataset. What pattern do you see? Be sure to state the results in the context of the data.\n",
    "\n",
    "In order to create the side by side boxplots using `ggplot()` as done in class, you will need to first `gather()` the $2-6$ columns to make a new *long* data set as follows, and then apply `ggplot()` to this new data set (`adolescentFertilityLong`). "
   ]
  },
  {
   "cell_type": "code",
   "execution_count": 3,
   "metadata": {},
   "outputs": [
    {
     "name": "stderr",
     "output_type": "stream",
     "text": [
      "Loading required package: tidyr\n"
     ]
    }
   ],
   "source": [
    "require(tidyr)\n",
    "adolescentFertilityLong = gather(adolescentFertility,\"fert\",\"n\",2:6)"
   ]
  },
  {
   "cell_type": "markdown",
   "metadata": {},
   "source": [
    "**Solution:**"
   ]
  },
  {
   "cell_type": "code",
   "execution_count": 4,
   "metadata": {},
   "outputs": [
    {
     "name": "stderr",
     "output_type": "stream",
     "text": [
      "Loading required package: ggplot2\n",
      "Warning message:\n",
      "“Removed 4 rows containing non-finite values (stat_boxplot).”"
     ]
    },
    {
     "data": {},
     "metadata": {},
     "output_type": "display_data"
    },
    {
     "data": {
      "image/png": "[encoded data removed]",
      "text/plain": [
       "plot without title"
      ]
     },
     "metadata": {},
     "output_type": "display_data"
    }
   ],
   "source": [
    "require(ggplot2)\n",
    "ggplot(data=adolescentFertilityLong,aes(x=fert, y=n))+\n",
    "    geom_boxplot(fill = \"#4271AE\", colour = \"#1F3552\", alpha = 0.7)"
   ]
  },
  {
   "cell_type": "markdown",
   "metadata": {},
   "source": [
    "The median adolescent fertility rate across all countries decreases each measured year. The 75th percentile appears to decrease more over these years than the 25th percentile, suggesting the IQR decreases each year. The largest adolescent fertility rate is constant between the three years 1997, 2000 and 2002 while it decreases slightly in 2005 and 2006. "
   ]
  },
  {
   "cell_type": "markdown",
   "metadata": {},
   "source": [
    "## Problem 2\n",
    "\n",
    "In a 2003 study examining weight and body image concerns among young Korean women, researchers administered a questionnaire to 264 female college students in Seoul, South Korea [1]. The survey was designed to assess excessive concern with weight and dieting, consisting of questions such as \"If I gain a pound, I worry that I will keep gaining \"[2].\n",
    "\n",
    "Questionnaires were given numerical scores on the Drive for Thinness Scale. Roughly speaking, a score of 15 is typical of Western women with eating disorders, but unusually high (${90}^{th}$) percentile for other Western women. The data can be loaded into R using the code below.\n",
    "\n",
    "[1] Ryu HH, et al. Factors associated with weight concerns and unhealthy eating patterns among young Korean females. *Eating Disorders* 2003; **11**: 129-141.\n",
    "[2] Garner DM, et al. Development and validation of a multidimensional eating disorder inventory for anorexia nervosa and bulimia. *International Journal of Eating Disorders* 1983; **2**: 15-34.\n"
   ]
  },
  {
   "cell_type": "code",
   "execution_count": 5,
   "metadata": {},
   "outputs": [
    {
     "data": {
      "text/html": [
       "<table>\n",
       "<thead><tr><th scope=col>ID</th><th scope=col>dtscore</th></tr></thead>\n",
       "<tbody>\n",
       "\t<tr><td>1 </td><td> 9</td></tr>\n",
       "\t<tr><td>2 </td><td>12</td></tr>\n",
       "\t<tr><td>3 </td><td> 2</td></tr>\n",
       "\t<tr><td>4 </td><td> 9</td></tr>\n",
       "\t<tr><td>5 </td><td> 5</td></tr>\n",
       "\t<tr><td>6 </td><td> 6</td></tr>\n",
       "</tbody>\n",
       "</table>\n"
      ],
      "text/latex": [
       "\\begin{tabular}{r|ll}\n",
       " ID & dtscore\\\\\n",
       "\\hline\n",
       "\t 1  &  9\\\\\n",
       "\t 2  & 12\\\\\n",
       "\t 3  &  2\\\\\n",
       "\t 4  &  9\\\\\n",
       "\t 5  &  5\\\\\n",
       "\t 6  &  6\\\\\n",
       "\\end{tabular}\n"
      ],
      "text/markdown": [
       "\n",
       "ID | dtscore | \n",
       "|---|---|---|---|---|---|\n",
       "| 1  |  9 | \n",
       "| 2  | 12 | \n",
       "| 3  |  2 | \n",
       "| 4  |  9 | \n",
       "| 5  |  5 | \n",
       "| 6  |  6 | \n",
       "\n",
       "\n"
      ],
      "text/plain": [
       "  ID dtscore\n",
       "1 1   9     \n",
       "2 2  12     \n",
       "3 3   2     \n",
       "4 4   9     \n",
       "5 5   5     \n",
       "6 6   6     "
      ]
     },
     "metadata": {},
     "output_type": "display_data"
    }
   ],
   "source": [
    "SeoulBodyImage = read.csv(\"https://www.mtholyoke.edu/courses/afoulkes/ClassData/SeoulBodyImage.csv\")\n",
    "head(SeoulBodyImage)"
   ]
  },
  {
   "cell_type": "markdown",
   "metadata": {},
   "source": [
    "Graph the data and describe the shape, center, and spread of the scores for these Korean students. Are there any outliers? Calculate numerical summaries for the data and describe which values best summarize the data. Present the written component of your solution in a concise paragraph, referencing specific numerical values when appropriate."
   ]
  },
  {
   "cell_type": "markdown",
   "metadata": {},
   "source": [
    "**Solution:**"
   ]
  },
  {
   "cell_type": "code",
   "execution_count": 6,
   "metadata": {},
   "outputs": [
    {
     "data": {},
     "metadata": {},
     "output_type": "display_data"
    },
    {
     "data": {
      "image/png": "[encoded data removed]",
      "text/plain": [
       "plot without title"
      ]
     },
     "metadata": {},
     "output_type": "display_data"
    }
   ],
   "source": [
    "ggplot(data=SeoulBodyImage,aes(x=\"\", y=dtscore))+\n",
    "    geom_boxplot(fill = \"#4271AE\", colour = \"#1F3552\", alpha = 0.7)"
   ]
  },
  {
   "cell_type": "code",
   "execution_count": 7,
   "metadata": {},
   "outputs": [
    {
     "data": {},
     "metadata": {},
     "output_type": "display_data"
    },
    {
     "data": {
      "image/png": "[encoded data removed]",
      "text/plain": [
       "plot without title"
      ]
     },
     "metadata": {},
     "output_type": "display_data"
    }
   ],
   "source": [
    "ggplot(data=SeoulBodyImage,aes(dtscore)) +\n",
    "    geom_histogram(binwidth = 2,fill=\"blue\",alpha=.2)"
   ]
  },
  {
   "cell_type": "code",
   "execution_count": 8,
   "metadata": {},
   "outputs": [
    {
     "data": {
      "text/html": [
       "<table>\n",
       "<thead><tr><th scope=col>min</th><th scope=col>max</th><th scope=col>q1</th><th scope=col>q3</th><th scope=col>mean</th><th scope=col>median</th><th scope=col>sd</th></tr></thead>\n",
       "<tbody>\n",
       "\t<tr><td>0       </td><td>18      </td><td>2       </td><td>9       </td><td>5.962121</td><td>5       </td><td>4.634808</td></tr>\n",
       "</tbody>\n",
       "</table>\n"
      ],
      "text/latex": [
       "\\begin{tabular}{r|lllllll}\n",
       " min & max & q1 & q3 & mean & median & sd\\\\\n",
       "\\hline\n",
       "\t 0        & 18       & 2        & 9        & 5.962121 & 5        & 4.634808\\\\\n",
       "\\end{tabular}\n"
      ],
      "text/markdown": [
       "\n",
       "min | max | q1 | q3 | mean | median | sd | \n",
       "|---|\n",
       "| 0        | 18       | 2        | 9        | 5.962121 | 5        | 4.634808 | \n",
       "\n",
       "\n"
      ],
      "text/plain": [
       "  min max q1 q3 mean     median sd      \n",
       "1 0   18  2  9  5.962121 5      4.634808"
      ]
     },
     "metadata": {},
     "output_type": "display_data"
    }
   ],
   "source": [
    "SeoulBodyImage %>% \n",
    "    summarize(min=min(dtscore,na.rm=TRUE), max=max(dtscore,na.rm=TRUE), \n",
    "              q1=quantile(dtscore,p=.25,na.rm=TRUE), q3=quantile(dtscore,p=.75,na.rm=TRUE),\n",
    "              mean=mean(dtscore,na.rm=TRUE),median=median(dtscore,na.rm=TRUE),\n",
    "              sd=sd(dtscore,na.rm=TRUE))"
   ]
  },
  {
   "cell_type": "markdown",
   "metadata": {},
   "source": [
    "As shown by both plots, the scores for excessive concern about weight and dieting among Korean college students are right-skewed, and the data are fairly spread out, with a range of 18. The boxplot indicates that there are no outliers. Since the data are skewed, the median and IQR will provide a better summary of the data than the mean and SD. The median is 5 which indicates that $50\\%$ of scores are less than 5, and the IQR is 7 (Q3 - Q1 = 9-2 = 7), indicating that $50\\%$ of college students surveyed are within the seven point range from 2 to 9."
   ]
  },
  {
   "cell_type": "markdown",
   "metadata": {},
   "source": [
    "#### Problem 3\n",
    "\n",
    "Suppose that you are interested in determining whether a relationship exists between the fluoride content in a public water supply and the dental caries experience of children using this water. The water data (loaded into R below) contains the data from a study examining 7,257 children in 21 cities from the Flanders region in Belgium.\n",
    "\n",
    "The fluoride content of the public water supply in each city, measured in parts per million (ppm), is saved under the variable name `fluoride`; the number of dental caries per 100 children examined is saved under the name `caries`. The total dental caries number is obtained by summing the numbers of filled teeth, teeth with untreated dental caries, teeth requiring extraction, and missing teeth."
   ]
  },
  {
   "cell_type": "code",
   "execution_count": 9,
   "metadata": {},
   "outputs": [
    {
     "data": {
      "text/html": [
       "<table>\n",
       "<thead><tr><th scope=col>city</th><th scope=col>fluoride</th><th scope=col>caries</th></tr></thead>\n",
       "<tbody>\n",
       "\t<tr><td>1   </td><td>0.0 </td><td> 810</td></tr>\n",
       "\t<tr><td>2   </td><td>0.0 </td><td> 673</td></tr>\n",
       "\t<tr><td>3   </td><td>0.0 </td><td> 722</td></tr>\n",
       "\t<tr><td>4   </td><td>0.1 </td><td> 706</td></tr>\n",
       "\t<tr><td>5   </td><td>0.1 </td><td> 823</td></tr>\n",
       "\t<tr><td>6   </td><td>0.1 </td><td>1037</td></tr>\n",
       "</tbody>\n",
       "</table>\n"
      ],
      "text/latex": [
       "\\begin{tabular}{r|lll}\n",
       " city & fluoride & caries\\\\\n",
       "\\hline\n",
       "\t 1    & 0.0  &  810\\\\\n",
       "\t 2    & 0.0  &  673\\\\\n",
       "\t 3    & 0.0  &  722\\\\\n",
       "\t 4    & 0.1  &  706\\\\\n",
       "\t 5    & 0.1  &  823\\\\\n",
       "\t 6    & 0.1  & 1037\\\\\n",
       "\\end{tabular}\n"
      ],
      "text/markdown": [
       "\n",
       "city | fluoride | caries | \n",
       "|---|---|---|---|---|---|\n",
       "| 1    | 0.0  |  810 | \n",
       "| 2    | 0.0  |  673 | \n",
       "| 3    | 0.0  |  722 | \n",
       "| 4    | 0.1  |  706 | \n",
       "| 5    | 0.1  |  823 | \n",
       "| 6    | 0.1  | 1037 | \n",
       "\n",
       "\n"
      ],
      "text/plain": [
       "  city fluoride caries\n",
       "1 1    0.0       810  \n",
       "2 2    0.0       673  \n",
       "3 3    0.0       722  \n",
       "4 4    0.1       706  \n",
       "5 5    0.1       823  \n",
       "6 6    0.1      1037  "
      ]
     },
     "metadata": {},
     "output_type": "display_data"
    }
   ],
   "source": [
    "water = read.csv(\"https://www.mtholyoke.edu/courses/afoulkes/ClassData/water.csv\")\n",
    "head(water)"
   ]
  },
  {
   "cell_type": "markdown",
   "metadata": {},
   "source": [
    "a) Construct a two-way scatterplot for these data, with `fluoride` as the $x$-variable and `caries` as the $y$-variable. "
   ]
  },
  {
   "cell_type": "markdown",
   "metadata": {},
   "source": [
    "**Solution:**"
   ]
  },
  {
   "cell_type": "code",
   "execution_count": 10,
   "metadata": {},
   "outputs": [
    {
     "data": {},
     "metadata": {},
     "output_type": "display_data"
    },
    {
     "data": {
      "image/png": "[encoded data removed]",
      "text/plain": [
       "plot without title"
      ]
     },
     "metadata": {},
     "output_type": "display_data"
    }
   ],
   "source": [
    "ggplot(data=water,aes(x=fluoride, y=caries))+\n",
    "    geom_point(alpha = 0.4)"
   ]
  },
  {
   "cell_type": "markdown",
   "metadata": {},
   "source": [
    "b) Do `fluoride` and `caries` appear to be positively or negatively associated? Explain your answer."
   ]
  },
  {
   "cell_type": "markdown",
   "metadata": {},
   "source": [
    "**Solution:**\n",
    "\n",
    "The two variables, fluoride and caries, seem to be negatively associated, because the number of caries decreases as fluoride levels increase."
   ]
  },
  {
   "cell_type": "markdown",
   "metadata": {},
   "source": [
    "c) Later in the course, we will study methods for fitting a straight line to data. If you were to add a straight line to the plot that you think best fits the data, what would be its $x$-intercept and $y$-intercept? Based on the appearance of the plot, do you think that a straight line would be a reasonable way to represent these data?"
   ]
  },
  {
   "cell_type": "markdown",
   "metadata": {},
   "source": [
    "**Solution:**\n",
    "\n",
    "Any reasonable answers for the x-intercept and y-intercept are acceptable, e.g. an x-intercept of (1.8, 0) and y-intercept of (0, 800). A straight line does not seem to be a good fit for the data. At low and high levels of fluoride, the data points are above the line; for intermediate levels, they are below the line. This suggests a non-linear association. In particular, it seems like a curve could fit the data much better."
   ]
  },
  {
   "cell_type": "markdown",
   "metadata": {},
   "source": [
    "### Problem 4\n",
    "\n",
    "Does smoking have the same association with cardiovascular disease in women as it does in men? Epidemiologists typically use data from observational studies to investigate possible causes of disease. \n",
    "\n",
    "With the stenosis dataset (loaded into R below), you will be able to examine the association between smoking status, the presence of aortic stenosis, and sex. Aortic stenosis is a narrowing or stricture of the aorta that impedes blood flow to the body.\n",
    "\n",
    "The dataset contains three variables, for 215 study participants:\n",
    "\n",
    "- **disease**: coded 1 if stenosis is present, 0 if it is absent.\n",
    "- **smoke**: coded 1 if the participant is a current or former smoker, 0 if the participant has never smoked.\n",
    "- **sex**: coded 1 for males, 0 for females."
   ]
  },
  {
   "cell_type": "code",
   "execution_count": 11,
   "metadata": {},
   "outputs": [
    {
     "data": {
      "text/html": [
       "<table>\n",
       "<thead><tr><th scope=col>ID</th><th scope=col>smoke</th><th scope=col>disease</th><th scope=col>sex</th></tr></thead>\n",
       "<tbody>\n",
       "\t<tr><td>1</td><td>1</td><td>1</td><td>1</td></tr>\n",
       "\t<tr><td>2</td><td>1</td><td>1</td><td>1</td></tr>\n",
       "\t<tr><td>3</td><td>1</td><td>1</td><td>1</td></tr>\n",
       "\t<tr><td>4</td><td>1</td><td>1</td><td>1</td></tr>\n",
       "\t<tr><td>5</td><td>1</td><td>1</td><td>1</td></tr>\n",
       "\t<tr><td>6</td><td>1</td><td>1</td><td>1</td></tr>\n",
       "</tbody>\n",
       "</table>\n"
      ],
      "text/latex": [
       "\\begin{tabular}{r|llll}\n",
       " ID & smoke & disease & sex\\\\\n",
       "\\hline\n",
       "\t 1 & 1 & 1 & 1\\\\\n",
       "\t 2 & 1 & 1 & 1\\\\\n",
       "\t 3 & 1 & 1 & 1\\\\\n",
       "\t 4 & 1 & 1 & 1\\\\\n",
       "\t 5 & 1 & 1 & 1\\\\\n",
       "\t 6 & 1 & 1 & 1\\\\\n",
       "\\end{tabular}\n"
      ],
      "text/markdown": [
       "\n",
       "ID | smoke | disease | sex | \n",
       "|---|---|---|---|---|---|\n",
       "| 1 | 1 | 1 | 1 | \n",
       "| 2 | 1 | 1 | 1 | \n",
       "| 3 | 1 | 1 | 1 | \n",
       "| 4 | 1 | 1 | 1 | \n",
       "| 5 | 1 | 1 | 1 | \n",
       "| 6 | 1 | 1 | 1 | \n",
       "\n",
       "\n"
      ],
      "text/plain": [
       "  ID smoke disease sex\n",
       "1 1  1     1       1  \n",
       "2 2  1     1       1  \n",
       "3 3  1     1       1  \n",
       "4 4  1     1       1  \n",
       "5 5  1     1       1  \n",
       "6 6  1     1       1  "
      ]
     },
     "metadata": {},
     "output_type": "display_data"
    }
   ],
   "source": [
    "stenosis = read.csv(\"https://www.mtholyoke.edu/courses/afoulkes/ClassData/stenosis.csv\")\n",
    "head(stenosis)"
   ]
  },
  {
   "cell_type": "markdown",
   "metadata": {},
   "source": [
    "a) Construct a two-way table, with `smoke` as the row variable and `disease` as the column variable. What percentage of the 215 participants were both smokers and had aortic stenosis? This percentage is one component of the *joint distribution* of smoking and stenosis; what are the other three numbers of the joint distribution?"
   ]
  },
  {
   "cell_type": "markdown",
   "metadata": {},
   "source": [
    "**Solution:**"
   ]
  },
  {
   "cell_type": "code",
   "execution_count": 12,
   "metadata": {},
   "outputs": [
    {
     "data": {
      "text/html": [
       "<table>\n",
       "<thead><tr><th scope=col>smoke</th><th scope=col>0</th><th scope=col>1</th></tr></thead>\n",
       "<tbody>\n",
       "\t<tr><td>0 </td><td>67</td><td>54</td></tr>\n",
       "\t<tr><td>1 </td><td>43</td><td>51</td></tr>\n",
       "</tbody>\n",
       "</table>\n"
      ],
      "text/latex": [
       "\\begin{tabular}{r|lll}\n",
       " smoke & 0 & 1\\\\\n",
       "\\hline\n",
       "\t 0  & 67 & 54\\\\\n",
       "\t 1  & 43 & 51\\\\\n",
       "\\end{tabular}\n"
      ],
      "text/markdown": [
       "\n",
       "smoke | 0 | 1 | \n",
       "|---|---|\n",
       "| 0  | 67 | 54 | \n",
       "| 1  | 43 | 51 | \n",
       "\n",
       "\n"
      ],
      "text/plain": [
       "  smoke 0  1 \n",
       "1 0     67 54\n",
       "2 1     43 51"
      ]
     },
     "metadata": {},
     "output_type": "display_data"
    }
   ],
   "source": [
    "require(tidyr)\n",
    "stenosis %>%\n",
    "    count(smoke,disease) %>%\n",
    "    spread(key=disease,value=n)"
   ]
  },
  {
   "cell_type": "markdown",
   "metadata": {},
   "source": [
    "The total number of participants is $67+54+43+51 = 215$.  The percentage of participants that were both smokers and had aortic stenosis is 51/215 = 23.7%. The other three numbers are 67/215 = 31.1% (non-smoker, no stenosis), 54/215 = 25.1% (non-smoker, stenosis), and 43/215 = 20.0% (smoker, no stenosis)."
   ]
  },
  {
   "cell_type": "markdown",
   "metadata": {},
   "source": [
    "b) Among the smokers, what proportion have aortic stenosis? This number is a component of the conditional distribution of stenosis for the two categories of smokers. What proportion of non-smokers have aortic stenosis? \n"
   ]
  },
  {
   "cell_type": "markdown",
   "metadata": {},
   "source": [
    "**Solution:**\n",
    "\n",
    "Among the 94 smokers, 54.3% have aortic stenosis (51/94). Among the 121 non-smokers, 44.6% have aortic stenosis (54/121)."
   ]
  },
  {
   "cell_type": "markdown",
   "metadata": {},
   "source": [
    "c) Repeat part (b) for males and females separately. To do this, first subset the data to create two datasets: one with only males, and one with only females. Are there any differences by sex in the proportion of smokers who suffer from aortic stenosis?"
   ]
  },
  {
   "cell_type": "markdown",
   "metadata": {},
   "source": [
    "**Solution:**"
   ]
  },
  {
   "cell_type": "code",
   "execution_count": 13,
   "metadata": {},
   "outputs": [
    {
     "data": {
      "text/html": [
       "<table>\n",
       "<thead><tr><th scope=col>smoke</th><th scope=col>0</th><th scope=col>1</th></tr></thead>\n",
       "<tbody>\n",
       "\t<tr><td>0 </td><td>20</td><td>25</td></tr>\n",
       "\t<tr><td>1 </td><td>24</td><td>37</td></tr>\n",
       "</tbody>\n",
       "</table>\n"
      ],
      "text/latex": [
       "\\begin{tabular}{r|lll}\n",
       " smoke & 0 & 1\\\\\n",
       "\\hline\n",
       "\t 0  & 20 & 25\\\\\n",
       "\t 1  & 24 & 37\\\\\n",
       "\\end{tabular}\n"
      ],
      "text/markdown": [
       "\n",
       "smoke | 0 | 1 | \n",
       "|---|---|\n",
       "| 0  | 20 | 25 | \n",
       "| 1  | 24 | 37 | \n",
       "\n",
       "\n"
      ],
      "text/plain": [
       "  smoke 0  1 \n",
       "1 0     20 25\n",
       "2 1     24 37"
      ]
     },
     "metadata": {},
     "output_type": "display_data"
    }
   ],
   "source": [
    "stenosisMale = filter(stenosis,sex==1)\n",
    "stenosisMale %>%\n",
    "    count(smoke,disease) %>%\n",
    "    spread(key=disease,value=n)"
   ]
  },
  {
   "cell_type": "code",
   "execution_count": 14,
   "metadata": {},
   "outputs": [
    {
     "data": {
      "text/html": [
       "<table>\n",
       "<thead><tr><th scope=col>smoke</th><th scope=col>0</th><th scope=col>1</th></tr></thead>\n",
       "<tbody>\n",
       "\t<tr><td>0 </td><td>47</td><td>29</td></tr>\n",
       "\t<tr><td>1 </td><td>19</td><td>14</td></tr>\n",
       "</tbody>\n",
       "</table>\n"
      ],
      "text/latex": [
       "\\begin{tabular}{r|lll}\n",
       " smoke & 0 & 1\\\\\n",
       "\\hline\n",
       "\t 0  & 47 & 29\\\\\n",
       "\t 1  & 19 & 14\\\\\n",
       "\\end{tabular}\n"
      ],
      "text/markdown": [
       "\n",
       "smoke | 0 | 1 | \n",
       "|---|---|\n",
       "| 0  | 47 | 29 | \n",
       "| 1  | 19 | 14 | \n",
       "\n",
       "\n"
      ],
      "text/plain": [
       "  smoke 0  1 \n",
       "1 0     47 29\n",
       "2 1     19 14"
      ]
     },
     "metadata": {},
     "output_type": "display_data"
    }
   ],
   "source": [
    "stenosisFemale = filter(stenosis,sex==0)\n",
    "stenosisFemale %>%\n",
    "    count(smoke,disease) %>%\n",
    "    spread(key=disease,value=n)"
   ]
  },
  {
   "cell_type": "markdown",
   "metadata": {},
   "source": [
    "Among male smokers, 60.7% have stenosis (37/61). Among male non-smokers, 55.6% have stenosis (25/45). Among female smokers, 42.4% have stenosis (14/33). Among female non-smokers, 38.2% have stenosis (29/76).\n",
    "\n",
    "For both males and females, the percentage of smokers with stenosis is greater than the percentage of non-smokers with stenosis. However, the percentage of male smokers with stenosis is higher than the percentage of females with the disease. (This is also true for non-smokers.)"
   ]
  },
  {
   "cell_type": "markdown",
   "metadata": {},
   "source": [
    "d) Epidemiologists sometimes use a statistic called relative risk. In this context, relative risk is the ratio of the proportion of smokers with stenosis to the proportion of non-smokers with stenosis. Relative risks greater than 1 indicate that smokers are at a higher risk for aortic stenosis than non-smokers, because, among smokers, a higher proportion of them will suffer from stenosis than the proportion among non-smokers.\n",
    "\t\n",
    "The interpretation of relative risk is a bit subtle. Suppose, for example, that among men with high cholesterol, 30% develop heart disease, while among men with low cholesterol, 24% develop heart disease. The relative risk of heart disease, comparing high versus low cholesterol, is 0.30/0.24 = 1.25. Epidemiologists would say that high cholesterol is associated with a 25% increase in the probability of heart disease. Relative risks of 1.2 or higher are generally considered cause for alarm.\n",
    "\t\n",
    "Ignoring sex, calculate the relative risk for the 215 participants, comparing smokers to non-smokers. Repeat the calculation for males and females separately. The three relative risks (overall, within males, within females) show an interesting pattern -- what is it?"
   ]
  },
  {
   "cell_type": "markdown",
   "metadata": {},
   "source": [
    "**Solution:**\n",
    "\n",
    "The overall relative risk is .543/.446 = 1.22. The relative risk for males is .607/.556 = 1.09. The relative risk for females is .424/.382 = 1.11. The interesting point about this pattern is that the relative risk in the whole study population is higher than in either of the subgroups defined by sex.\n",
    "\n",
    "This is an example of Simpson’s paradox, in which the existence of a confounding variable (in this case, sex) influences the association of the observed explanatory variable (smoking) on the response variable (disease). We did not ask you to explain the reason for the pattern, as the reason is not so easily put into plain language.\n",
    "\n",
    "The most direct explanation of Simpson’s paradox in this case is that, first, more males tend to suffer from aortic stenosis than women – the male proportions with stenosis are higher in both smokers and non-smokers than women. \n",
    "\n",
    "Secondly, males tend to smoke more than women (57.5% of males versus 30.2% of females). When males and females are included in a single table, the males in the sample increase both the number of smokers and the number of subjects with stenosis, increasing the apparent relative risk of stenosis among smokers.\n",
    "\n",
    "It is important to note that smoking increases the risk of stenosis overall, and for males and females separately. Some people might feel, however, that a 9-11% increase in relative risk is acceptable, while a 22% increase is not!"
   ]
  }
 ],
 "metadata": {
  "kernelspec": {
   "display_name": "R",
   "language": "R",
   "name": "ir"
  },
  "language_info": {
   "codemirror_mode": "r",
   "file_extension": ".r",
   "mimetype": "text/x-r-source",
   "name": "R",
   "pygments_lexer": "r",
   "version": "3.4.3"
  }
 },
 "nbformat": 4,
 "nbformat_minor": 2
}
