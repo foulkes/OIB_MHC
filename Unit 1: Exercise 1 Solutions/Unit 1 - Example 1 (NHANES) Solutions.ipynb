{
 "cells": [
  {
   "cell_type": "markdown",
   "metadata": {},
   "source": [
    "#### Unit 1 - Example 1 (NHANES)"
   ]
  },
  {
   "cell_type": "markdown",
   "metadata": {},
   "source": [
    "The National Health and Nutrition Examination Survey (NHANES) is a survey conducted annually by the US National Center for Health Statistics (NCHS). While the original data uses a survey design that oversamples certain subpopulations, the data have been reweighted to undo oversampling effects and can be treated as if it were a simple random sample from the American population.\n",
    "\n",
    "The following questions will be explored with the NHANES data:\n",
    "\n",
    "- At what age do Americans seem to reach full adult height?\n",
    "\n",
    "- What proportion of Americans age 25 or older have a college degree?\n",
    "\n",
    "- What is the relationship between education level and income?\n",
    "\n",
    "- How much more likely is it that someone \\textit{not} physically active has diabetes, compared to someone who is active?"
   ]
  },
  {
   "cell_type": "markdown",
   "metadata": {},
   "source": [
    "The reweighted NHANES data are available from the NHANES package. To view the complete list of study variables and their descriptions, access the NHANES documentation page with \\texttt{?NHANES}.\n",
    "\n",
    "For convenience, descriptions of the variables used in this lab exercise are included below.\n",
    "\n",
    "`Age`: age in years at screening. Subjects 80 years or older were recorded as 80 years of age.\n",
    "\n",
    "`Education`: highest educational level of study participant, reported for participants aged 20 years or older. Recorded as either `8th Grade`, `9 - 11th Grade`, `High School`, `Some College`, or `College Grad`.\n",
    "\n",
    "`Poverty`: a ratio of family income to poverty guidelines. Smaller numbers indicate more poverty; i.e., a number below 1 indicates income below the poverty level.\n",
    "\n",
    "`Weight`: weight, measured in kilograms.\n",
    "\n",
    "`Height`: standing height, measured in centimeters.\n",
    "\n",
    "`Diabetes`: `Yes` if the participant was told by a health professional that they have diabetes, `No` otherwise.\n",
    "\n",
    "`PhysActive`: coded `Yes` if the participant does moderate or vigorous-intensity sports, fitness, or recreational activities; `No` otherwise. Reported for participants 12 years or older."
   ]
  },
  {
   "cell_type": "markdown",
   "metadata": {},
   "source": [
    "We load and print the first six rows of the data as follows as follows:"
   ]
  },
  {
   "cell_type": "code",
   "execution_count": 1,
   "metadata": {},
   "outputs": [
    {
     "name": "stderr",
     "output_type": "stream",
     "text": [
      "Loading required package: NHANES\n"
     ]
    },
    {
     "data": {
      "text/html": [
       "<table>\n",
       "<thead><tr><th scope=col>ID</th><th scope=col>SurveyYr</th><th scope=col>Gender</th><th scope=col>Age</th><th scope=col>AgeDecade</th><th scope=col>AgeMonths</th><th scope=col>Race1</th><th scope=col>Race3</th><th scope=col>Education</th><th scope=col>MaritalStatus</th><th scope=col>⋯</th><th scope=col>RegularMarij</th><th scope=col>AgeRegMarij</th><th scope=col>HardDrugs</th><th scope=col>SexEver</th><th scope=col>SexAge</th><th scope=col>SexNumPartnLife</th><th scope=col>SexNumPartYear</th><th scope=col>SameSex</th><th scope=col>SexOrientation</th><th scope=col>PregnantNow</th></tr></thead>\n",
       "<tbody>\n",
       "\t<tr><td>51624       </td><td>2009_10     </td><td>male        </td><td>34          </td><td> 30-39      </td><td>409         </td><td>White       </td><td>NA          </td><td>High School </td><td>Married     </td><td>⋯           </td><td>No          </td><td>NA          </td><td>Yes         </td><td>Yes         </td><td>16          </td><td> 8          </td><td> 1          </td><td>No          </td><td>Heterosexual</td><td>NA          </td></tr>\n",
       "\t<tr><td>51624       </td><td>2009_10     </td><td>male        </td><td>34          </td><td> 30-39      </td><td>409         </td><td>White       </td><td>NA          </td><td>High School </td><td>Married     </td><td>⋯           </td><td>No          </td><td>NA          </td><td>Yes         </td><td>Yes         </td><td>16          </td><td> 8          </td><td> 1          </td><td>No          </td><td>Heterosexual</td><td>NA          </td></tr>\n",
       "\t<tr><td>51624       </td><td>2009_10     </td><td>male        </td><td>34          </td><td> 30-39      </td><td>409         </td><td>White       </td><td>NA          </td><td>High School </td><td>Married     </td><td>⋯           </td><td>No          </td><td>NA          </td><td>Yes         </td><td>Yes         </td><td>16          </td><td> 8          </td><td> 1          </td><td>No          </td><td>Heterosexual</td><td>NA          </td></tr>\n",
       "\t<tr><td>51625       </td><td>2009_10     </td><td>male        </td><td> 4          </td><td> 0-9        </td><td> 49         </td><td>Other       </td><td>NA          </td><td>NA          </td><td>NA          </td><td>⋯           </td><td>NA          </td><td>NA          </td><td>NA          </td><td>NA          </td><td>NA          </td><td>NA          </td><td>NA          </td><td>NA          </td><td>NA          </td><td>NA          </td></tr>\n",
       "\t<tr><td>51630       </td><td>2009_10     </td><td>female      </td><td>49          </td><td> 40-49      </td><td>596         </td><td>White       </td><td>NA          </td><td>Some College</td><td>LivePartner </td><td>⋯           </td><td>No          </td><td>NA          </td><td>Yes         </td><td>Yes         </td><td>12          </td><td>10          </td><td> 1          </td><td>Yes         </td><td>Heterosexual</td><td>NA          </td></tr>\n",
       "\t<tr><td>51638       </td><td>2009_10     </td><td>male        </td><td> 9          </td><td> 0-9        </td><td>115         </td><td>White       </td><td>NA          </td><td>NA          </td><td>NA          </td><td>⋯           </td><td>NA          </td><td>NA          </td><td>NA          </td><td>NA          </td><td>NA          </td><td>NA          </td><td>NA          </td><td>NA          </td><td>NA          </td><td>NA          </td></tr>\n",
       "</tbody>\n",
       "</table>\n"
      ],
      "text/latex": [
       "\\begin{tabular}{r|llllllllllllllllllllllllllllllllllllllllllllllllllllllllllllllllllllllllllll}\n",
       " ID & SurveyYr & Gender & Age & AgeDecade & AgeMonths & Race1 & Race3 & Education & MaritalStatus & ⋯ & RegularMarij & AgeRegMarij & HardDrugs & SexEver & SexAge & SexNumPartnLife & SexNumPartYear & SameSex & SexOrientation & PregnantNow\\\\\n",
       "\\hline\n",
       "\t 51624        & 2009\\_10    & male         & 34           &  30-39       & 409          & White        & NA           & High School  & Married      & ⋯            & No           & NA           & Yes          & Yes          & 16           &  8           &  1           & No           & Heterosexual & NA          \\\\\n",
       "\t 51624        & 2009\\_10    & male         & 34           &  30-39       & 409          & White        & NA           & High School  & Married      & ⋯            & No           & NA           & Yes          & Yes          & 16           &  8           &  1           & No           & Heterosexual & NA          \\\\\n",
       "\t 51624        & 2009\\_10    & male         & 34           &  30-39       & 409          & White        & NA           & High School  & Married      & ⋯            & No           & NA           & Yes          & Yes          & 16           &  8           &  1           & No           & Heterosexual & NA          \\\\\n",
       "\t 51625        & 2009\\_10    & male         &  4           &  0-9         &  49          & Other        & NA           & NA           & NA           & ⋯            & NA           & NA           & NA           & NA           & NA           & NA           & NA           & NA           & NA           & NA          \\\\\n",
       "\t 51630        & 2009\\_10    & female       & 49           &  40-49       & 596          & White        & NA           & Some College & LivePartner  & ⋯            & No           & NA           & Yes          & Yes          & 12           & 10           &  1           & Yes          & Heterosexual & NA          \\\\\n",
       "\t 51638        & 2009\\_10    & male         &  9           &  0-9         & 115          & White        & NA           & NA           & NA           & ⋯            & NA           & NA           & NA           & NA           & NA           & NA           & NA           & NA           & NA           & NA          \\\\\n",
       "\\end{tabular}\n"
      ],
      "text/markdown": [
       "\n",
       "ID | SurveyYr | Gender | Age | AgeDecade | AgeMonths | Race1 | Race3 | Education | MaritalStatus | ⋯ | RegularMarij | AgeRegMarij | HardDrugs | SexEver | SexAge | SexNumPartnLife | SexNumPartYear | SameSex | SexOrientation | PregnantNow | \n",
       "|---|---|---|---|---|---|\n",
       "| 51624        | 2009_10      | male         | 34           |  30-39       | 409          | White        | NA           | High School  | Married      | ⋯            | No           | NA           | Yes          | Yes          | 16           |  8           |  1           | No           | Heterosexual | NA           | \n",
       "| 51624        | 2009_10      | male         | 34           |  30-39       | 409          | White        | NA           | High School  | Married      | ⋯            | No           | NA           | Yes          | Yes          | 16           |  8           |  1           | No           | Heterosexual | NA           | \n",
       "| 51624        | 2009_10      | male         | 34           |  30-39       | 409          | White        | NA           | High School  | Married      | ⋯            | No           | NA           | Yes          | Yes          | 16           |  8           |  1           | No           | Heterosexual | NA           | \n",
       "| 51625        | 2009_10      | male         |  4           |  0-9         |  49          | Other        | NA           | NA           | NA           | ⋯            | NA           | NA           | NA           | NA           | NA           | NA           | NA           | NA           | NA           | NA           | \n",
       "| 51630        | 2009_10      | female       | 49           |  40-49       | 596          | White        | NA           | Some College | LivePartner  | ⋯            | No           | NA           | Yes          | Yes          | 12           | 10           |  1           | Yes          | Heterosexual | NA           | \n",
       "| 51638        | 2009_10      | male         |  9           |  0-9         | 115          | White        | NA           | NA           | NA           | ⋯            | NA           | NA           | NA           | NA           | NA           | NA           | NA           | NA           | NA           | NA           | \n",
       "\n",
       "\n"
      ],
      "text/plain": [
       "  ID    SurveyYr Gender Age AgeDecade AgeMonths Race1 Race3 Education   \n",
       "1 51624 2009_10  male   34   30-39    409       White NA    High School \n",
       "2 51624 2009_10  male   34   30-39    409       White NA    High School \n",
       "3 51624 2009_10  male   34   30-39    409       White NA    High School \n",
       "4 51625 2009_10  male    4   0-9       49       Other NA    NA          \n",
       "5 51630 2009_10  female 49   40-49    596       White NA    Some College\n",
       "6 51638 2009_10  male    9   0-9      115       White NA    NA          \n",
       "  MaritalStatus ⋯ RegularMarij AgeRegMarij HardDrugs SexEver SexAge\n",
       "1 Married       ⋯ No           NA          Yes       Yes     16    \n",
       "2 Married       ⋯ No           NA          Yes       Yes     16    \n",
       "3 Married       ⋯ No           NA          Yes       Yes     16    \n",
       "4 NA            ⋯ NA           NA          NA        NA      NA    \n",
       "5 LivePartner   ⋯ No           NA          Yes       Yes     12    \n",
       "6 NA            ⋯ NA           NA          NA        NA      NA    \n",
       "  SexNumPartnLife SexNumPartYear SameSex SexOrientation PregnantNow\n",
       "1  8               1             No      Heterosexual   NA         \n",
       "2  8               1             No      Heterosexual   NA         \n",
       "3  8               1             No      Heterosexual   NA         \n",
       "4 NA              NA             NA      NA             NA         \n",
       "5 10               1             Yes     Heterosexual   NA         \n",
       "6 NA              NA             NA      NA             NA         "
      ]
     },
     "metadata": {},
     "output_type": "display_data"
    }
   ],
   "source": [
    "require(NHANES)\n",
    "head(NHANES)"
   ]
  },
  {
   "cell_type": "markdown",
   "metadata": {},
   "source": [
    "Remember to load packages that you might need for this example!"
   ]
  },
  {
   "cell_type": "code",
   "execution_count": 2,
   "metadata": {},
   "outputs": [
    {
     "name": "stderr",
     "output_type": "stream",
     "text": [
      "Loading required package: dplyr\n",
      "\n",
      "Attaching package: ‘dplyr’\n",
      "\n",
      "The following objects are masked from ‘package:stats’:\n",
      "\n",
      "    filter, lag\n",
      "\n",
      "The following objects are masked from ‘package:base’:\n",
      "\n",
      "    intersect, setdiff, setequal, union\n",
      "\n",
      "Loading required package: ggplot2\n"
     ]
    }
   ],
   "source": [
    "require(dplyr)\n",
    "require(ggplot2)"
   ]
  },
  {
   "cell_type": "markdown",
   "metadata": {},
   "source": [
    "#### Question 1.\n",
    "\n",
    "a) Describe in words the distribution of ages for the study participants."
   ]
  },
  {
   "cell_type": "markdown",
   "metadata": {},
   "source": [
    "#### Solution:\n",
    "\n",
    "In order to describe the distribution, we consider both numerical and visual summaries."
   ]
  },
  {
   "cell_type": "code",
   "execution_count": 3,
   "metadata": {},
   "outputs": [
    {
     "data": {
      "text/html": [
       "<table>\n",
       "<thead><tr><th scope=col>mean(Age)</th></tr></thead>\n",
       "<tbody>\n",
       "\t<tr><td>36.7421</td></tr>\n",
       "</tbody>\n",
       "</table>\n"
      ],
      "text/latex": [
       "\\begin{tabular}{r|l}\n",
       " mean(Age)\\\\\n",
       "\\hline\n",
       "\t 36.7421\\\\\n",
       "\\end{tabular}\n"
      ],
      "text/markdown": [
       "\n",
       "mean(Age) | \n",
       "|---|\n",
       "| 36.7421 | \n",
       "\n",
       "\n"
      ],
      "text/plain": [
       "  mean(Age)\n",
       "1 36.7421  "
      ]
     },
     "metadata": {},
     "output_type": "display_data"
    },
    {
     "data": {
      "text/html": [
       "<table>\n",
       "<thead><tr><th scope=col>median(Age)</th></tr></thead>\n",
       "<tbody>\n",
       "\t<tr><td>36</td></tr>\n",
       "</tbody>\n",
       "</table>\n"
      ],
      "text/latex": [
       "\\begin{tabular}{r|l}\n",
       " median(Age)\\\\\n",
       "\\hline\n",
       "\t 36\\\\\n",
       "\\end{tabular}\n"
      ],
      "text/markdown": [
       "\n",
       "median(Age) | \n",
       "|---|\n",
       "| 36 | \n",
       "\n",
       "\n"
      ],
      "text/plain": [
       "  median(Age)\n",
       "1 36         "
      ]
     },
     "metadata": {},
     "output_type": "display_data"
    },
    {
     "data": {
      "text/html": [
       "<table>\n",
       "<thead><tr><th scope=col>sd(Age)</th></tr></thead>\n",
       "<tbody>\n",
       "\t<tr><td>22.39757</td></tr>\n",
       "</tbody>\n",
       "</table>\n"
      ],
      "text/latex": [
       "\\begin{tabular}{r|l}\n",
       " sd(Age)\\\\\n",
       "\\hline\n",
       "\t 22.39757\\\\\n",
       "\\end{tabular}\n"
      ],
      "text/markdown": [
       "\n",
       "sd(Age) | \n",
       "|---|\n",
       "| 22.39757 | \n",
       "\n",
       "\n"
      ],
      "text/plain": [
       "  sd(Age) \n",
       "1 22.39757"
      ]
     },
     "metadata": {},
     "output_type": "display_data"
    }
   ],
   "source": [
    "#str(NHANES)\n",
    "summarize(NHANES, mean(Age))\n",
    "summarize(NHANES,median(Age))\n",
    "summarize(NHANES,sd(Age))"
   ]
  },
  {
   "cell_type": "code",
   "execution_count": 4,
   "metadata": {},
   "outputs": [
    {
     "data": {
      "text/html": [
       "<table>\n",
       "<thead><tr><th scope=col>min</th><th scope=col>max</th><th scope=col>q1</th><th scope=col>q3</th></tr></thead>\n",
       "<tbody>\n",
       "\t<tr><td>0 </td><td>80</td><td>17</td><td>54</td></tr>\n",
       "</tbody>\n",
       "</table>\n"
      ],
      "text/latex": [
       "\\begin{tabular}{r|llll}\n",
       " min & max & q1 & q3\\\\\n",
       "\\hline\n",
       "\t 0  & 80 & 17 & 54\\\\\n",
       "\\end{tabular}\n"
      ],
      "text/markdown": [
       "\n",
       "min | max | q1 | q3 | \n",
       "|---|\n",
       "| 0  | 80 | 17 | 54 | \n",
       "\n",
       "\n"
      ],
      "text/plain": [
       "  min max q1 q3\n",
       "1 0   80  17 54"
      ]
     },
     "metadata": {},
     "output_type": "display_data"
    }
   ],
   "source": [
    "NHANES %>% \n",
    "    summarize(min=min(Age), \n",
    "              max=max(Age), \n",
    "              q1=quantile(Age,p=.25), \n",
    "              q3=quantile(Age,p=.75))"
   ]
  },
  {
   "cell_type": "code",
   "execution_count": 5,
   "metadata": {},
   "outputs": [
    {
     "data": {},
     "metadata": {},
     "output_type": "display_data"
    },
    {
     "data": {
      "image/png": "[encoded data removed]",
      "text/plain": [
       "plot without title"
      ]
     },
     "metadata": {},
     "output_type": "display_data"
    }
   ],
   "source": [
    "ggplot(data=NHANES,aes(Age)) +\n",
    "    geom_histogram(binwidth = 5,fill=I(\"blue\"),alpha=I(.2))"
   ]
  },
  {
   "cell_type": "code",
   "execution_count": 6,
   "metadata": {},
   "outputs": [
    {
     "data": {},
     "metadata": {},
     "output_type": "display_data"
    },
    {
     "data": {
      "image/png": "[encoded data removed]",
      "text/plain": [
       "plot without title"
      ]
     },
     "metadata": {},
     "output_type": "display_data"
    }
   ],
   "source": [
    "ggplot(data=NHANES,aes(x=\"\", y=Age))+\n",
    "    geom_boxplot(fill = \"#4271AE\", colour = \"#1F3552\", alpha = 0.7)"
   ]
  },
  {
   "cell_type": "markdown",
   "metadata": {},
   "source": [
    "The distribution of ages is relatively symmetric. 50% of the respondents are below age 36, while the middle 50% of respondents are between ages 17 and 54. Note that the true maximum respondent age is not 80; subjects 80 years or older were recorded as 80 years of age."
   ]
  },
  {
   "cell_type": "markdown",
   "metadata": {},
   "source": [
    "b) Using numerical and graphical summaries, describe the distribution of heights among study participants in terms of inches. Note that 1 centimeter is approximately 0.39 inches."
   ]
  },
  {
   "cell_type": "markdown",
   "metadata": {},
   "source": [
    "#### Solution:\n",
    "\n",
    "The first step is to create a new height variable in inches, which we call `HeightInches`:"
   ]
  },
  {
   "cell_type": "code",
   "execution_count": 7,
   "metadata": {},
   "outputs": [],
   "source": [
    "NHANES = NHANES %>%\n",
    "    mutate(HeightInches = 0.39*Height)"
   ]
  },
  {
   "cell_type": "code",
   "execution_count": 8,
   "metadata": {},
   "outputs": [
    {
     "data": {
      "text/html": [
       "<table>\n",
       "<thead><tr><th scope=col>min</th><th scope=col>max</th><th scope=col>mean</th><th scope=col>median</th><th scope=col>sd</th><th scope=col>q1</th><th scope=col>q3</th></tr></thead>\n",
       "<tbody>\n",
       "\t<tr><td>32.604  </td><td>78.156  </td><td>63.13236</td><td>64.74   </td><td>7.872761</td><td>61.152  </td><td>68.055  </td></tr>\n",
       "</tbody>\n",
       "</table>\n"
      ],
      "text/latex": [
       "\\begin{tabular}{r|lllllll}\n",
       " min & max & mean & median & sd & q1 & q3\\\\\n",
       "\\hline\n",
       "\t 32.604   & 78.156   & 63.13236 & 64.74    & 7.872761 & 61.152   & 68.055  \\\\\n",
       "\\end{tabular}\n"
      ],
      "text/markdown": [
       "\n",
       "min | max | mean | median | sd | q1 | q3 | \n",
       "|---|\n",
       "| 32.604   | 78.156   | 63.13236 | 64.74    | 7.872761 | 61.152   | 68.055   | \n",
       "\n",
       "\n"
      ],
      "text/plain": [
       "  min    max    mean     median sd       q1     q3    \n",
       "1 32.604 78.156 63.13236 64.74  7.872761 61.152 68.055"
      ]
     },
     "metadata": {},
     "output_type": "display_data"
    }
   ],
   "source": [
    "NHANES %>% \n",
    "    summarize(min=min(HeightInches,na.rm=\"TRUE\"), \n",
    "              max=max(HeightInches,na.rm=\"TRUE\"), \n",
    "              mean=mean(HeightInches,na.rm=\"TRUE\"),\n",
    "              median=median(HeightInches,na.rm=\"TRUE\"),\n",
    "              sd=sd(HeightInches,na.rm=\"TRUE\"),\n",
    "              q1=quantile(HeightInches,p=.25,na.rm=\"TRUE\"), \n",
    "              q3=quantile(HeightInches,p=.75,na.rm=\"TRUE\"))"
   ]
  },
  {
   "cell_type": "code",
   "execution_count": 9,
   "metadata": {},
   "outputs": [
    {
     "name": "stderr",
     "output_type": "stream",
     "text": [
      "Warning message:\n",
      "“Removed 353 rows containing non-finite values (stat_bin).”"
     ]
    },
    {
     "data": {},
     "metadata": {},
     "output_type": "display_data"
    },
    {
     "data": {
      "image/png": "[encoded data removed]",
      "text/plain": [
       "plot without title"
      ]
     },
     "metadata": {},
     "output_type": "display_data"
    }
   ],
   "source": [
    "ggplot(data=NHANES,aes(HeightInches)) +\n",
    "    geom_histogram(binwidth = 5,fill=I(\"blue\"),alpha=I(.2))"
   ]
  },
  {
   "cell_type": "code",
   "execution_count": 10,
   "metadata": {},
   "outputs": [
    {
     "name": "stderr",
     "output_type": "stream",
     "text": [
      "Warning message:\n",
      "“Removed 353 rows containing non-finite values (stat_boxplot).”"
     ]
    },
    {
     "data": {},
     "metadata": {},
     "output_type": "display_data"
    },
    {
     "data": {
      "image/png": "[encoded data removed]",
      "text/plain": [
       "plot without title"
      ]
     },
     "metadata": {},
     "output_type": "display_data"
    }
   ],
   "source": [
    "ggplot(data=NHANES,aes(x=\"\", y=HeightInches))+\n",
    "    geom_boxplot(fill = \"#4271AE\", colour = \"#1F3552\", alpha = 0.7)"
   ]
  },
  {
   "cell_type": "markdown",
   "metadata": {},
   "source": [
    "The distribution of heights among study participants is highly left skewed; there are many more individuals with high values for height than there are for lower values. The median height is about 65 inches (~5.5 feet) and the IQR is 7 inches. $50\\%$ of the study participants have an observed height between 61 and 68 inches. The boxplot indicates the left skewed distribution as a series of dots on the lower end of the plot."
   ]
  },
  {
   "cell_type": "markdown",
   "metadata": {},
   "source": [
    "c) Use the following code to draw a random sample of 200 participants from the entire dataset. Using the random sample, `nhanes.samp`, investigate at which age people generally reach their adult height. Is it possible to do the same for weight; why or why not?"
   ]
  },
  {
   "cell_type": "code",
   "execution_count": 11,
   "metadata": {},
   "outputs": [],
   "source": [
    "set.seed(5011)\n",
    "nhanes.samp <- sample_n(NHANES, 200, replace = FALSE)"
   ]
  },
  {
   "cell_type": "markdown",
   "metadata": {},
   "source": [
    "#### Solution:\n",
    "\n",
    "To answer this question, we begin by visualizing the relationship between age and height using a scatterplot:"
   ]
  },
  {
   "cell_type": "code",
   "execution_count": 12,
   "metadata": {},
   "outputs": [
    {
     "name": "stderr",
     "output_type": "stream",
     "text": [
      "Warning message:\n",
      "“Removed 10 rows containing missing values (geom_point).”"
     ]
    },
    {
     "data": {},
     "metadata": {},
     "output_type": "display_data"
    },
    {
     "data": {
      "image/png": "[encoded data removed]",
      "text/plain": [
       "plot without title"
      ]
     },
     "metadata": {},
     "output_type": "display_data"
    }
   ],
   "source": [
    "ggplot(data=nhanes.samp,aes(x=Age, y=Height))+\n",
    "    geom_point(alpha = 0.4) "
   ]
  },
  {
   "cell_type": "markdown",
   "metadata": {},
   "source": [
    "The scatterplot shows that people generally reach their adult height around age 20. It is not possible to do the same for weight, since unlike height, weight can fluctuate throughout adulthood, as seen in the scatterplot for age and weight:"
   ]
  },
  {
   "cell_type": "code",
   "execution_count": 13,
   "metadata": {},
   "outputs": [
    {
     "name": "stderr",
     "output_type": "stream",
     "text": [
      "Warning message:\n",
      "“Removed 2 rows containing missing values (geom_point).”"
     ]
    },
    {
     "data": {},
     "metadata": {},
     "output_type": "display_data"
    },
    {
     "data": {
      "image/png": "[encoded data removed]",
      "text/plain": [
       "plot without title"
      ]
     },
     "metadata": {},
     "output_type": "display_data"
    }
   ],
   "source": [
    "ggplot(data=nhanes.samp,aes(x=Age, y=Weight))+\n",
    "    geom_point(alpha = 0.4) "
   ]
  },
  {
   "cell_type": "markdown",
   "metadata": {},
   "source": [
    "#### Question 2.\n",
    "\n",
    "a) Calculate the median and interquartile range of the distribution of the variable `Poverty`. Write a sentence explaining the median in the context of these data.\n",
    "\n"
   ]
  },
  {
   "cell_type": "markdown",
   "metadata": {},
   "source": [
    "#### Solution:"
   ]
  },
  {
   "cell_type": "code",
   "execution_count": 14,
   "metadata": {},
   "outputs": [
    {
     "data": {
      "text/html": [
       "<table>\n",
       "<thead><tr><th scope=col>median</th><th scope=col>IQR</th></tr></thead>\n",
       "<tbody>\n",
       "\t<tr><td>2.7 </td><td>3.47</td></tr>\n",
       "</tbody>\n",
       "</table>\n"
      ],
      "text/latex": [
       "\\begin{tabular}{r|ll}\n",
       " median & IQR\\\\\n",
       "\\hline\n",
       "\t 2.7  & 3.47\\\\\n",
       "\\end{tabular}\n"
      ],
      "text/markdown": [
       "\n",
       "median | IQR | \n",
       "|---|\n",
       "| 2.7  | 3.47 | \n",
       "\n",
       "\n"
      ],
      "text/plain": [
       "  median IQR \n",
       "1 2.7    3.47"
      ]
     },
     "metadata": {},
     "output_type": "display_data"
    }
   ],
   "source": [
    "NHANES %>% \n",
    "    summarize(median=median(Poverty,na.rm=\"TRUE\"),\n",
    "              IQR=quantile(Poverty,p=.75,na.rm=\"TRUE\")-quantile(Poverty,p=.25,na.rm=\"TRUE\"))"
   ]
  },
  {
   "cell_type": "markdown",
   "metadata": {},
   "source": [
    "The median income level is 2.7 times the poverty level, and the IQR is 3.47. The median indicates that 50% of surveyed individiuals have a poverty ratio above 2.7, and 50% have a poverty ratio above 2.7."
   ]
  },
  {
   "cell_type": "markdown",
   "metadata": {},
   "source": [
    "b) Compare the distribution of `Poverty` across each group in `Education` among adults (defined as individuals 25 years of age or older). Describe any trends or interesting observations."
   ]
  },
  {
   "cell_type": "markdown",
   "metadata": {},
   "source": [
    "#### Solution:\n",
    "\n",
    "The first step is to filter the data to only include individuals 25 years of age or older:"
   ]
  },
  {
   "cell_type": "code",
   "execution_count": 15,
   "metadata": {},
   "outputs": [
    {
     "data": {
      "text/html": [
       "<table>\n",
       "<thead><tr><th scope=col>ID</th><th scope=col>SurveyYr</th><th scope=col>Gender</th><th scope=col>Age</th><th scope=col>AgeDecade</th><th scope=col>AgeMonths</th><th scope=col>Race1</th><th scope=col>Race3</th><th scope=col>Education</th><th scope=col>MaritalStatus</th><th scope=col>⋯</th><th scope=col>AgeRegMarij</th><th scope=col>HardDrugs</th><th scope=col>SexEver</th><th scope=col>SexAge</th><th scope=col>SexNumPartnLife</th><th scope=col>SexNumPartYear</th><th scope=col>SameSex</th><th scope=col>SexOrientation</th><th scope=col>PregnantNow</th><th scope=col>HeightInches</th></tr></thead>\n",
       "<tbody>\n",
       "\t<tr><td>51624       </td><td>2009_10     </td><td>male        </td><td>34          </td><td> 30-39      </td><td>409         </td><td>White       </td><td>NA          </td><td>High School </td><td>Married     </td><td>⋯           </td><td>NA          </td><td>Yes         </td><td>Yes         </td><td>16          </td><td> 8          </td><td>1           </td><td>No          </td><td>Heterosexual</td><td>NA          </td><td>64.233      </td></tr>\n",
       "\t<tr><td>51624       </td><td>2009_10     </td><td>male        </td><td>34          </td><td> 30-39      </td><td>409         </td><td>White       </td><td>NA          </td><td>High School </td><td>Married     </td><td>⋯           </td><td>NA          </td><td>Yes         </td><td>Yes         </td><td>16          </td><td> 8          </td><td>1           </td><td>No          </td><td>Heterosexual</td><td>NA          </td><td>64.233      </td></tr>\n",
       "\t<tr><td>51624       </td><td>2009_10     </td><td>male        </td><td>34          </td><td> 30-39      </td><td>409         </td><td>White       </td><td>NA          </td><td>High School </td><td>Married     </td><td>⋯           </td><td>NA          </td><td>Yes         </td><td>Yes         </td><td>16          </td><td> 8          </td><td>1           </td><td>No          </td><td>Heterosexual</td><td>NA          </td><td>64.233      </td></tr>\n",
       "\t<tr><td>51630       </td><td>2009_10     </td><td>female      </td><td>49          </td><td> 40-49      </td><td>596         </td><td>White       </td><td>NA          </td><td>Some College</td><td>LivePartner </td><td>⋯           </td><td>NA          </td><td>Yes         </td><td>Yes         </td><td>12          </td><td>10          </td><td>1           </td><td>Yes         </td><td>Heterosexual</td><td>NA          </td><td>65.676      </td></tr>\n",
       "\t<tr><td>51647       </td><td>2009_10     </td><td>female      </td><td>45          </td><td> 40-49      </td><td>541         </td><td>White       </td><td>NA          </td><td>College Grad</td><td>Married     </td><td>⋯           </td><td>NA          </td><td>No          </td><td>Yes         </td><td>13          </td><td>20          </td><td>0           </td><td>Yes         </td><td>Bisexual    </td><td>NA          </td><td>65.013      </td></tr>\n",
       "\t<tr><td>51647       </td><td>2009_10     </td><td>female      </td><td>45          </td><td> 40-49      </td><td>541         </td><td>White       </td><td>NA          </td><td>College Grad</td><td>Married     </td><td>⋯           </td><td>NA          </td><td>No          </td><td>Yes         </td><td>13          </td><td>20          </td><td>0           </td><td>Yes         </td><td>Bisexual    </td><td>NA          </td><td>65.013      </td></tr>\n",
       "</tbody>\n",
       "</table>\n"
      ],
      "text/latex": [
       "\\begin{tabular}{r|lllllllllllllllllllllllllllllllllllllllllllllllllllllllllllllllllllllllllllll}\n",
       " ID & SurveyYr & Gender & Age & AgeDecade & AgeMonths & Race1 & Race3 & Education & MaritalStatus & ⋯ & AgeRegMarij & HardDrugs & SexEver & SexAge & SexNumPartnLife & SexNumPartYear & SameSex & SexOrientation & PregnantNow & HeightInches\\\\\n",
       "\\hline\n",
       "\t 51624        & 2009\\_10    & male         & 34           &  30-39       & 409          & White        & NA           & High School  & Married      & ⋯            & NA           & Yes          & Yes          & 16           &  8           & 1            & No           & Heterosexual & NA           & 64.233      \\\\\n",
       "\t 51624        & 2009\\_10    & male         & 34           &  30-39       & 409          & White        & NA           & High School  & Married      & ⋯            & NA           & Yes          & Yes          & 16           &  8           & 1            & No           & Heterosexual & NA           & 64.233      \\\\\n",
       "\t 51624        & 2009\\_10    & male         & 34           &  30-39       & 409          & White        & NA           & High School  & Married      & ⋯            & NA           & Yes          & Yes          & 16           &  8           & 1            & No           & Heterosexual & NA           & 64.233      \\\\\n",
       "\t 51630        & 2009\\_10    & female       & 49           &  40-49       & 596          & White        & NA           & Some College & LivePartner  & ⋯            & NA           & Yes          & Yes          & 12           & 10           & 1            & Yes          & Heterosexual & NA           & 65.676      \\\\\n",
       "\t 51647        & 2009\\_10    & female       & 45           &  40-49       & 541          & White        & NA           & College Grad & Married      & ⋯            & NA           & No           & Yes          & 13           & 20           & 0            & Yes          & Bisexual     & NA           & 65.013      \\\\\n",
       "\t 51647        & 2009\\_10    & female       & 45           &  40-49       & 541          & White        & NA           & College Grad & Married      & ⋯            & NA           & No           & Yes          & 13           & 20           & 0            & Yes          & Bisexual     & NA           & 65.013      \\\\\n",
       "\\end{tabular}\n"
      ],
      "text/markdown": [
       "\n",
       "ID | SurveyYr | Gender | Age | AgeDecade | AgeMonths | Race1 | Race3 | Education | MaritalStatus | ⋯ | AgeRegMarij | HardDrugs | SexEver | SexAge | SexNumPartnLife | SexNumPartYear | SameSex | SexOrientation | PregnantNow | HeightInches | \n",
       "|---|---|---|---|---|---|\n",
       "| 51624        | 2009_10      | male         | 34           |  30-39       | 409          | White        | NA           | High School  | Married      | ⋯            | NA           | Yes          | Yes          | 16           |  8           | 1            | No           | Heterosexual | NA           | 64.233       | \n",
       "| 51624        | 2009_10      | male         | 34           |  30-39       | 409          | White        | NA           | High School  | Married      | ⋯            | NA           | Yes          | Yes          | 16           |  8           | 1            | No           | Heterosexual | NA           | 64.233       | \n",
       "| 51624        | 2009_10      | male         | 34           |  30-39       | 409          | White        | NA           | High School  | Married      | ⋯            | NA           | Yes          | Yes          | 16           |  8           | 1            | No           | Heterosexual | NA           | 64.233       | \n",
       "| 51630        | 2009_10      | female       | 49           |  40-49       | 596          | White        | NA           | Some College | LivePartner  | ⋯            | NA           | Yes          | Yes          | 12           | 10           | 1            | Yes          | Heterosexual | NA           | 65.676       | \n",
       "| 51647        | 2009_10      | female       | 45           |  40-49       | 541          | White        | NA           | College Grad | Married      | ⋯            | NA           | No           | Yes          | 13           | 20           | 0            | Yes          | Bisexual     | NA           | 65.013       | \n",
       "| 51647        | 2009_10      | female       | 45           |  40-49       | 541          | White        | NA           | College Grad | Married      | ⋯            | NA           | No           | Yes          | 13           | 20           | 0            | Yes          | Bisexual     | NA           | 65.013       | \n",
       "\n",
       "\n"
      ],
      "text/plain": [
       "  ID    SurveyYr Gender Age AgeDecade AgeMonths Race1 Race3 Education   \n",
       "1 51624 2009_10  male   34   30-39    409       White NA    High School \n",
       "2 51624 2009_10  male   34   30-39    409       White NA    High School \n",
       "3 51624 2009_10  male   34   30-39    409       White NA    High School \n",
       "4 51630 2009_10  female 49   40-49    596       White NA    Some College\n",
       "5 51647 2009_10  female 45   40-49    541       White NA    College Grad\n",
       "6 51647 2009_10  female 45   40-49    541       White NA    College Grad\n",
       "  MaritalStatus ⋯ AgeRegMarij HardDrugs SexEver SexAge SexNumPartnLife\n",
       "1 Married       ⋯ NA          Yes       Yes     16      8             \n",
       "2 Married       ⋯ NA          Yes       Yes     16      8             \n",
       "3 Married       ⋯ NA          Yes       Yes     16      8             \n",
       "4 LivePartner   ⋯ NA          Yes       Yes     12     10             \n",
       "5 Married       ⋯ NA          No        Yes     13     20             \n",
       "6 Married       ⋯ NA          No        Yes     13     20             \n",
       "  SexNumPartYear SameSex SexOrientation PregnantNow HeightInches\n",
       "1 1              No      Heterosexual   NA          64.233      \n",
       "2 1              No      Heterosexual   NA          64.233      \n",
       "3 1              No      Heterosexual   NA          64.233      \n",
       "4 1              Yes     Heterosexual   NA          65.676      \n",
       "5 0              Yes     Bisexual       NA          65.013      \n",
       "6 0              Yes     Bisexual       NA          65.013      "
      ]
     },
     "metadata": {},
     "output_type": "display_data"
    }
   ],
   "source": [
    "adults = filter(NHANES, Age >= 25)\n",
    "head(adults)"
   ]
  },
  {
   "cell_type": "code",
   "execution_count": 16,
   "metadata": {},
   "outputs": [
    {
     "name": "stderr",
     "output_type": "stream",
     "text": [
      "Warning message:\n",
      "“Removed 490 rows containing non-finite values (stat_boxplot).”"
     ]
    },
    {
     "data": {},
     "metadata": {},
     "output_type": "display_data"
    },
    {
     "data": {
      "image/png": "[encoded data removed]",
      "text/plain": [
       "plot without title"
      ]
     },
     "metadata": {},
     "output_type": "display_data"
    }
   ],
   "source": [
    "ggplot(data=adults,aes(x=Education, y=Poverty))+\n",
    "    geom_boxplot(fill = \"#4271AE\", colour = \"#1F3552\", alpha = 0.7)"
   ]
  },
  {
   "cell_type": "markdown",
   "metadata": {},
   "source": [
    "The median level of poverty increases as the highest level of education completed increases. While individuals who only completed 8th grade have median poverty around 1.1, individuals who have college degrees have median poverty at 5. The data also show that some individuals who only completed 8th grade are relatively wealthy, while some individuals with college degrees have incomes below the poverty level."
   ]
  },
  {
   "cell_type": "markdown",
   "metadata": {},
   "source": [
    "#### Question 3.\n",
    "\n",
    "a) What proportion of Americans at least 25 years of age are college graduates?"
   ]
  },
  {
   "cell_type": "markdown",
   "metadata": {},
   "source": [
    "#### Solution:\n",
    "\n",
    "First we determine the total number of adults in our sample to be 6571:"
   ]
  },
  {
   "cell_type": "code",
   "execution_count": 17,
   "metadata": {},
   "outputs": [
    {
     "data": {
      "text/html": [
       "<ol class=list-inline>\n",
       "\t<li>6571</li>\n",
       "\t<li>77</li>\n",
       "</ol>\n"
      ],
      "text/latex": [
       "\\begin{enumerate*}\n",
       "\\item 6571\n",
       "\\item 77\n",
       "\\end{enumerate*}\n"
      ],
      "text/markdown": [
       "1. 6571\n",
       "2. 77\n",
       "\n",
       "\n"
      ],
      "text/plain": [
       "[1] 6571   77"
      ]
     },
     "metadata": {},
     "output_type": "display_data"
    }
   ],
   "source": [
    "dim(adults)"
   ]
  },
  {
   "cell_type": "markdown",
   "metadata": {},
   "source": [
    "The number of these individuals who are college graduates is 2016:"
   ]
  },
  {
   "cell_type": "code",
   "execution_count": 18,
   "metadata": {},
   "outputs": [
    {
     "data": {
      "text/html": [
       "<table>\n",
       "<thead><tr><th scope=col>Education</th><th scope=col>n</th></tr></thead>\n",
       "<tbody>\n",
       "\t<tr><td>8th Grade     </td><td> 435          </td></tr>\n",
       "\t<tr><td>9 - 11th Grade</td><td> 814          </td></tr>\n",
       "\t<tr><td>High School   </td><td>1345          </td></tr>\n",
       "\t<tr><td>Some College  </td><td>1951          </td></tr>\n",
       "\t<tr><td>College Grad  </td><td>2016          </td></tr>\n",
       "\t<tr><td>NA            </td><td>  10          </td></tr>\n",
       "</tbody>\n",
       "</table>\n"
      ],
      "text/latex": [
       "\\begin{tabular}{r|ll}\n",
       " Education & n\\\\\n",
       "\\hline\n",
       "\t 8th Grade      &  435          \\\\\n",
       "\t 9 - 11th Grade &  814          \\\\\n",
       "\t High School    & 1345          \\\\\n",
       "\t Some College   & 1951          \\\\\n",
       "\t College Grad   & 2016          \\\\\n",
       "\t NA             &   10          \\\\\n",
       "\\end{tabular}\n"
      ],
      "text/markdown": [
       "\n",
       "Education | n | \n",
       "|---|---|---|---|---|---|\n",
       "| 8th Grade      |  435           | \n",
       "| 9 - 11th Grade |  814           | \n",
       "| High School    | 1345           | \n",
       "| Some College   | 1951           | \n",
       "| College Grad   | 2016           | \n",
       "| NA             |   10           | \n",
       "\n",
       "\n"
      ],
      "text/plain": [
       "  Education      n   \n",
       "1 8th Grade       435\n",
       "2 9 - 11th Grade  814\n",
       "3 High School    1345\n",
       "4 Some College   1951\n",
       "5 College Grad   2016\n",
       "6 NA               10"
      ]
     },
     "metadata": {},
     "output_type": "display_data"
    }
   ],
   "source": [
    "adults %>% \n",
    "    count(Education)"
   ]
  },
  {
   "cell_type": "markdown",
   "metadata": {},
   "source": [
    "Therefore the proportion of adults who are college graduates is $2016/6571 = 30.7\\%$.  Note that this assumes that the distribution of education levels among those individuals who are missing this value (`NA`) is the same as the distribtuion of education levels among those individuals for whom we observe their education levels."
   ]
  },
  {
   "cell_type": "code",
   "execution_count": 19,
   "metadata": {},
   "outputs": [
    {
     "data": {
      "text/html": [
       "0.306802617562015"
      ],
      "text/latex": [
       "0.306802617562015"
      ],
      "text/markdown": [
       "0.306802617562015"
      ],
      "text/plain": [
       "[1] 0.3068026"
      ]
     },
     "metadata": {},
     "output_type": "display_data"
    }
   ],
   "source": [
    "2016/6571"
   ]
  },
  {
   "cell_type": "markdown",
   "metadata": {},
   "source": [
    "b) What proportion of Americans with a high school degree are college graduates?"
   ]
  },
  {
   "cell_type": "markdown",
   "metadata": {},
   "source": [
    "#### Solution:\n",
    "\n",
    "Assuming that all students in college have a high school degree, the proportion of Americans with a high school degree that are college graduates is 0.380:"
   ]
  },
  {
   "cell_type": "code",
   "execution_count": 20,
   "metadata": {},
   "outputs": [
    {
     "data": {
      "text/html": [
       "0.379518072289157"
      ],
      "text/latex": [
       "0.379518072289157"
      ],
      "text/markdown": [
       "0.379518072289157"
      ],
      "text/plain": [
       "[1] 0.3795181"
      ]
     },
     "metadata": {},
     "output_type": "display_data"
    }
   ],
   "source": [
    "2016/(2016+1951+1345)"
   ]
  },
  {
   "cell_type": "markdown",
   "metadata": {},
   "source": [
    "#### Question 4.\n",
    "\n",
    "a) Construct a two-way table, with `PhysActive` as the row variable and `Diabetes` as the column variable. Among participants who are not physically active, what proportion have diabetes? What proportion of physically active participants have diabetes?"
   ]
  },
  {
   "cell_type": "markdown",
   "metadata": {},
   "source": [
    "#### Solution:\n",
    "\n",
    "The first step is to create a 2 by 2 table to determine the counts:"
   ]
  },
  {
   "cell_type": "code",
   "execution_count": 21,
   "metadata": {},
   "outputs": [
    {
     "name": "stderr",
     "output_type": "stream",
     "text": [
      "Loading required package: tidyr\n"
     ]
    },
    {
     "data": {
      "text/html": [
       "<table>\n",
       "<thead><tr><th scope=col>PhysActive</th><th scope=col>No</th><th scope=col>Yes</th><th scope=col>&lt;NA&gt;</th></tr></thead>\n",
       "<tbody>\n",
       "\t<tr><td>No  </td><td>3203</td><td>472 </td><td>  2 </td></tr>\n",
       "\t<tr><td>Yes </td><td>4361</td><td>285 </td><td>  3 </td></tr>\n",
       "\t<tr><td>NA  </td><td>1534</td><td>  3 </td><td>137 </td></tr>\n",
       "</tbody>\n",
       "</table>\n"
      ],
      "text/latex": [
       "\\begin{tabular}{r|llll}\n",
       " PhysActive & No & Yes & <NA>\\\\\n",
       "\\hline\n",
       "\t No   & 3203 & 472  &   2 \\\\\n",
       "\t Yes  & 4361 & 285  &   3 \\\\\n",
       "\t NA   & 1534 &   3  & 137 \\\\\n",
       "\\end{tabular}\n"
      ],
      "text/markdown": [
       "\n",
       "PhysActive | No | Yes | <NA> | \n",
       "|---|---|---|\n",
       "| No   | 3203 | 472  |   2  | \n",
       "| Yes  | 4361 | 285  |   3  | \n",
       "| NA   | 1534 |   3  | 137  | \n",
       "\n",
       "\n"
      ],
      "text/plain": [
       "  PhysActive No   Yes <NA>\n",
       "1 No         3203 472   2 \n",
       "2 Yes        4361 285   3 \n",
       "3 NA         1534   3 137 "
      ]
     },
     "metadata": {},
     "output_type": "display_data"
    }
   ],
   "source": [
    "require(tidyr)\n",
    "NHANES %>%\n",
    "    count(PhysActive,Diabetes) %>%\n",
    "    spread(key=Diabetes,value=n)"
   ]
  },
  {
   "cell_type": "markdown",
   "metadata": {},
   "source": [
    "Next we calculat the proportions:"
   ]
  },
  {
   "cell_type": "code",
   "execution_count": 22,
   "metadata": {},
   "outputs": [
    {
     "data": {
      "text/html": [
       "0.12843537414966"
      ],
      "text/latex": [
       "0.12843537414966"
      ],
      "text/markdown": [
       "0.12843537414966"
      ],
      "text/plain": [
       "[1] 0.1284354"
      ]
     },
     "metadata": {},
     "output_type": "display_data"
    },
    {
     "data": {
      "text/html": [
       "0.0613430908308222"
      ],
      "text/latex": [
       "0.0613430908308222"
      ],
      "text/markdown": [
       "0.0613430908308222"
      ],
      "text/plain": [
       "[1] 0.06134309"
      ]
     },
     "metadata": {},
     "output_type": "display_data"
    }
   ],
   "source": [
    "NonActiveDIAB = 472/(3203+472)\n",
    "ActiveDIAB = 285/(4361+285)\n",
    "NonActiveDIAB\n",
    "ActiveDIAB"
   ]
  },
  {
   "cell_type": "markdown",
   "metadata": {},
   "source": [
    "Among participants who are not physically active, 0.3 have diabetes while 0.06 of participants who are physically active have diabetes."
   ]
  },
  {
   "cell_type": "markdown",
   "metadata": {},
   "source": [
    "b) In this context, relative risk is the ratio of the proportion of participants who have diabetes among those who are not physically active to the proportion of participants with diabetes among those physically active. Relative risks greater than 1 indicate that people who are not physically active seem to be at a higher risk for diabetes than physically active people. Calculate the relative risk of diabetes for the participants.\n",
    "\n",
    "From these calculations, is it possible to conclude that being physically active reduces one's chance of becoming diabetic?"
   ]
  },
  {
   "cell_type": "markdown",
   "metadata": {},
   "source": [
    "#### Solution:\n",
    "\n",
    "The relative risk can be calculated using the variable created in part (a):"
   ]
  },
  {
   "cell_type": "code",
   "execution_count": 23,
   "metadata": {},
   "outputs": [
    {
     "data": {
      "text/html": [
       "2.09372192385726"
      ],
      "text/latex": [
       "2.09372192385726"
      ],
      "text/markdown": [
       "2.09372192385726"
      ],
      "text/plain": [
       "[1] 2.093722"
      ]
     },
     "metadata": {},
     "output_type": "display_data"
    }
   ],
   "source": [
    "rrDIAB = NonActiveDIAB/ActiveDIAB\n",
    "rrDIAB"
   ]
  },
  {
   "cell_type": "markdown",
   "metadata": {},
   "source": [
    "The relative risk of diabetes is 2.09. From these data, individuals who are not physically active are twice as likely as those who are physically active to have diabetes. However, this is not sufficient to make a causal claim about the relationship between physical activity and diabetes incidence."
   ]
  }
 ],
 "metadata": {
  "kernelspec": {
   "display_name": "R",
   "language": "R",
   "name": "ir"
  },
  "language_info": {
   "codemirror_mode": "r",
   "file_extension": ".r",
   "mimetype": "text/x-r-source",
   "name": "R",
   "pygments_lexer": "r",
   "version": "3.4.3"
  }
 },
 "nbformat": 4,
 "nbformat_minor": 2
}
