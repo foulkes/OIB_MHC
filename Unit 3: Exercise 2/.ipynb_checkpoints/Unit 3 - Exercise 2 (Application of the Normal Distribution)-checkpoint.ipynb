{
 "cells": [
  {
   "cell_type": "markdown",
   "metadata": {},
   "source": [
    "### Unit 3 - In-class exercises (Application of the Normal Distribution)\n"
   ]
  },
  {
   "cell_type": "markdown",
   "metadata": {},
   "source": [
    "#### Exercise 1 (Age at Childbirth):\n",
    "\n",
    "In the last decade, the average age of a mother at childbirth is 26.4 years, with standard deviation 5.8 years. The distribution of age at childbirth is approximately normal.\n",
    "\n",
    "  "
   ]
  },
  {
   "cell_type": "markdown",
   "metadata": {},
   "source": [
    "a) What age at childbirth puts a woman in the upper 2.5% of the age distribution? In other words, what is the 97.5 percentile of this age distribution?"
   ]
  },
  {
   "cell_type": "markdown",
   "metadata": {},
   "source": [
    "  b) What proportion of women who give birth are 21 years of age or older?\n"
   ]
  },
  {
   "cell_type": "markdown",
   "metadata": {},
   "source": [
    "#### Exercise 2 (Mild Hypertension):\n",
    "\n",
    "Suppose a mild hypertensive is defined as a person whose diastolic blood pressure (DBP) is between 90 and 100 mm Hg, inclusive. Assume that in the population of 35-44 year old men, mean DBP is 80 mm Hg, with variance 144. What is the probability that a randomly selected male from this population is a mild hypertensive?\n"
   ]
  },
  {
   "cell_type": "markdown",
   "metadata": {},
   "source": [
    "#### Exercise 3 (Normal Heights) :\n",
    "\n",
    "The distribution of height in a population is typically modeled with the normal distribution. Let $X$ represent the height of an American female and $Y$ represent the height of an American male: $X \\sim$ N($\\mu _{x} = 63.8$ in, $\\sigma_{x} = 2.5$ in), $Y \\sim$ N($\\mu_{y} = 69.2$ in, $\\sigma_{y} = 2.8$ in).\n",
    "\n"
   ]
  },
  {
   "cell_type": "markdown",
   "metadata": {},
   "source": [
    "a) What is the probability that a random American male is at most 68 inches tall?\n",
    "    "
   ]
  },
  {
   "cell_type": "markdown",
   "metadata": {},
   "source": [
    "b) How tall would a person have to be in order to be taller than 90% of the male US population?"
   ]
  },
  {
   "cell_type": "markdown",
   "metadata": {},
   "source": [
    "c) The mean and standard deviation of US female and male heights can be converted to meters using formulas in \\textit{OI Biostat} 2.3. $X \\sim$ N($\\mu _{x} = 1.62$ m, $\\sigma_{x} = 0.0635$ m), $Y \\sim$ N($\\mu_{y} = 1.76$ m, $\\sigma_{y} = 0.0711$ m).\n",
    "    \n",
    "The retired Chinese basketball player Yao Ming was the tallest active player in the NBA at the time of his final season, at 2.29 m. What proportion of the US population is as tall as Yao Ming (or taller)? Assume that half the population are male and half are female.\n",
    " "
   ]
  },
  {
   "cell_type": "markdown",
   "metadata": {},
   "source": [
    "#### Exercise 4 (Hypertension):\n",
    "\n",
    "People are classified as hypertensive if their systolic blood pressure (SBP) is higher than a specified level for their age group. For ages 1-14, SBP has a mean of 105.0 and standard deviation 5.0, with hypertension level 115.0.  For ages 15-44, SBP has a mean of 125.0 and standard deviation 10.0, with hypertension level 140.0. Assume SBP is normally distributed.\n",
    "\n",
    "(Problem from Rosner, **Fundamentals of Biostatistics**, 7$^{th}$ edition, pp. 138-139)"
   ]
  },
  {
   "cell_type": "markdown",
   "metadata": {},
   "source": [
    "a) What proportion of 1- to 14-year-olds are hypertensive?"
   ]
  },
  {
   "cell_type": "markdown",
   "metadata": {},
   "source": [
    "b) What proportion of 15- to 44-year-olds are hypertensive?"
   ]
  }
 ],
 "metadata": {
  "kernelspec": {
   "display_name": "R",
   "language": "R",
   "name": "ir"
  },
  "language_info": {
   "codemirror_mode": "r",
   "file_extension": ".r",
   "mimetype": "text/x-r-source",
   "name": "R",
   "pygments_lexer": "r",
   "version": "3.4.3"
  }
 },
 "nbformat": 4,
 "nbformat_minor": 2
}
