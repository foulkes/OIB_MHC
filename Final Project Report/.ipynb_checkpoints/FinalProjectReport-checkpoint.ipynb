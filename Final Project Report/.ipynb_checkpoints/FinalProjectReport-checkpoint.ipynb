{
 "cells": [
  {
   "cell_type": "markdown",
   "metadata": {},
   "source": [
    "## Introduction to the Ideas and Applications of Statistics (stat140)\n",
    "\n",
    "## <span style=\"color:darkblue\"> Final Project \n",
    "    \n",
    "    \n",
    "### Timeline:\n",
    "\n",
    "- Reports due Wednesday April 25 @11am\n",
    "- In-class presentations April 23-27\n",
    "\n",
    "\n",
    "### Goal:\n",
    "The aim of this final project is to **tell a story** using a data set of your choosing and the tools and concepts we have learned this semester. (Some examples are provided below).\n",
    "\n",
    "### Project Report:\n",
    "\n",
    "The project report should include the following:\n",
    "1. **Authors**: (this will be the same as the project proposal)\n",
    "\n",
    "2. **Summary**: A paragraph summarizing the scientific question, the primary anaylsis approach and the main findings.\n",
    "\n",
    "3. **Data**: (revised as needed from project proposal)\n",
    "\n",
    "4. **Methods**: (revised as needed from project proposal)\n",
    "\n",
    "5. **Results**: Provide numerical and graphical summaries of the variables in your analysis. Describe the important features of the summaries in the context of the data; include the 'R' code and output in the notebook. In words, summarize the numerical results of any tests performed, any confidence intervals calculated, and/or any linear models fitted. \n",
    "    - *Choose summaries.* A good starting point for analyzing data is to look at the distribution to identify center and spread; remember that median and IQR are robust measures, and are more reliable for skewed distributions.\n",
    "    - *Identify outliers.* Remember to mention outliers and interpret them in context; e.g. Are there many people who want to lose an unusually large amount of weight?\n",
    "    - *Describe summaries.* The description should not simply be a list of observations; provide context for the reader and highlight which aspects of the summaries are informative. For example, saying that \"The data suggest most people are only interested in changing their weight by a small magnitude (ex. under 20 pounds), with few people expressing the desire to drastically change their weight\" is more meaningful than simply stating \"The distribution is right-skewed.\"\n",
    "    - *State results: tests.* State the results of tests including a comparison of p to alpha and a statement about rejecting or failing to reject the null.\n",
    "    - *State results: models.*  For regression models, this would include the model equation and whether any coefficients were significantly different from 0. The $R^2$ would also be reported here.\n",
    "\n",
    "6. **Conclusions**: Present your conclusions, interpreting the results of the analysis in the context of the original question. \n",
    "    - *Interpret results.* Interpretation essentially means translating the raw output of the tests/models and framing them in the context of the original question. As you explain the results of tests/models, evaluate whether or not the results seem to make sense. If you observe a significant association, make a reasonable conjecture as to why the trend has meaning; for example, if a regression with discrepancy between actual and desired weight as the response and age as the predictor shows a (significantly) negative slope, it would be reasonable to say that the data suggests that as people age, they seem to be less dissatisfied with their weight.\n",
    "    \n",
    "    - *Develop Conclusions.* Go a bit further than a typical conclusion for the fifth step in hypothesis testing, since the main question was further removed from the variables being tested. A complete conclusion connects the results of the analysis back to the question. There is an important distinction between what the results of a hypothesis test can tell you and what you can conclude from the results. For example, suppose that there is evidence to support a statistically significant difference between men and women for the discrepancy between actual and desired weight, with women on average having a desired weight further from their actual weight. It does not automatically follow that this test result means men and women think differently about their weight -- it may be perfectly valid to conclude that men and women think similarly about their weight if both sexes are interested in losing weight.\n",
    "    \n",
    "### Checklist:\n",
    "\n",
    "Be sure to include each of the following in your final reports (including interpretations):\n",
    "\n",
    "1. Numerical and graphical summaries of variables.\n",
    "2. At least one confidence interval for a population mean or difference in two means.\n",
    "3. At least one t-test (one sample or two sample) comparing two population means.\n",
    "4. At least one multiple regression model that includes: (a) one or more categorical predictor variable(s) and (b) an interaction term. \n",
    "5. A discussion of missing data and potential sampling bias (in the Conclusions)."
   ]
  }
 ],
 "metadata": {
  "kernelspec": {
   "display_name": "R",
   "language": "R",
   "name": "ir"
  },
  "language_info": {
   "codemirror_mode": "r",
   "file_extension": ".r",
   "mimetype": "text/x-r-source",
   "name": "R",
   "pygments_lexer": "r",
   "version": "3.4.3"
  }
 },
 "nbformat": 4,
 "nbformat_minor": 2
}
