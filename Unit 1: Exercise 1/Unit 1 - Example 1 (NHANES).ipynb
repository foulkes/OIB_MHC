{
 "cells": [
  {
   "cell_type": "markdown",
   "metadata": {},
   "source": [
    "#### Unit 1 - Example 1 (NHANES)"
   ]
  },
  {
   "cell_type": "markdown",
   "metadata": {},
   "source": [
    "The National Health and Nutrition Examination Survey (NHANES) is a survey conducted annually by the US National Center for Health Statistics (NCHS). While the original data uses a survey design that oversamples certain subpopulations, the data have been reweighted to undo oversampling effects and can be treated as if it were a simple random sample from the American population.\n",
    "\n",
    "The following questions will be explored with the NHANES data:\n",
    "\n",
    "- At what age do Americans seem to reach full adult height?\n",
    "\n",
    "- What proportion of Americans age 25 or older have a college degree?\n",
    "\n",
    "- What is the relationship between education level and income?\n",
    "\n",
    "- How much more likely is it that someone \\textit{not} physically active has diabetes, compared to someone who is active?"
   ]
  },
  {
   "cell_type": "markdown",
   "metadata": {},
   "source": [
    "The reweighted NHANES data are available from the NHANES package. To view the complete list of study variables and their descriptions, access the NHANES documentation page with \\texttt{?NHANES}.\n",
    "\n",
    "For convenience, descriptions of the variables used in this lab exercise are included below.\n",
    "\n",
    "`Age`: age in years at screening. Subjects 80 years or older were recorded as 80 years of age.\n",
    "\n",
    "`Education`: highest educational level of study participant, reported for participants aged 20 years or older. Recorded as either `8th Grade`, `9 - 11th Grade`, `High School`, `Some College`, or `College Grad`.\n",
    "\n",
    "`Poverty`: a ratio of family income to poverty guidelines. Smaller numbers indicate more poverty; i.e., a number below 1 indicates income below the poverty level.\n",
    "\n",
    "`Weight`: weight, measured in kilograms.\n",
    "\n",
    "`Height`: standing height, measured in centimeters.\n",
    "\n",
    "`Diabetes`: `Yes` if the participant was told by a health professional that they have diabetes, `No` otherwise.\n",
    "\n",
    "`PhysActive`: coded `Yes` if the participant does moderate or vigorous-intensity sports, fitness, or recreational activities; `No` otherwise. Reported for participants 12 years or older."
   ]
  },
  {
   "cell_type": "markdown",
   "metadata": {},
   "source": [
    "We load and print the first six rows of the data as follows as follows:"
   ]
  },
  {
   "cell_type": "code",
   "execution_count": null,
   "metadata": {},
   "outputs": [],
   "source": [
    "require(NHANES)\n",
    "head(NHANES)"
   ]
  },
  {
   "cell_type": "markdown",
   "metadata": {},
   "source": [
    "Remember to load packages that you might need for this example!"
   ]
  },
  {
   "cell_type": "code",
   "execution_count": null,
   "metadata": {},
   "outputs": [],
   "source": [
    "require(dplyr)\n",
    "require(ggplot2)"
   ]
  },
  {
   "cell_type": "markdown",
   "metadata": {},
   "source": [
    "#### Question 1.\n",
    "\n",
    "a) Describe in words the distribution of ages for the study participants."
   ]
  },
  {
   "cell_type": "markdown",
   "metadata": {},
   "source": [
    "b) Using numerical and graphical summaries, describe the distribution of heights among study participants in terms of inches. Note that 1 centimeter is approximately 0.39 inches."
   ]
  },
  {
   "cell_type": "markdown",
   "metadata": {},
   "source": [
    "c) Use the following code to draw a random sample of 200 participants from the entire dataset. Using the random sample, `nhanes.samp`, investigate at which age people generally reach their adult height. Is it possible to do the same for weight; why or why not?"
   ]
  },
  {
   "cell_type": "code",
   "execution_count": null,
   "metadata": {},
   "outputs": [],
   "source": [
    "set.seed(5011)\n",
    "nhanes.samp <- sample_n(NHANES, 200, replace = FALSE)"
   ]
  },
  {
   "cell_type": "markdown",
   "metadata": {},
   "source": [
    "#### Question 2.\n",
    "\n",
    "a) Calculate the median and interquartile range of the distribution of the variable `Poverty`. Write a sentence explaining the median in the context of these data.\n",
    "\n"
   ]
  },
  {
   "cell_type": "markdown",
   "metadata": {},
   "source": [
    "b) Compare the distribution of `Poverty` across each group in `Education` among adults (defined as individuals 25 years of age or older). Describe any trends or interesting observations."
   ]
  },
  {
   "cell_type": "markdown",
   "metadata": {},
   "source": [
    "#### Question 3.\n",
    "\n",
    "a) What proportion of Americans at least 25 years of age are college graduates?"
   ]
  },
  {
   "cell_type": "markdown",
   "metadata": {},
   "source": [
    "b) What proportion of Americans with a high school degree are college graduates?"
   ]
  },
  {
   "cell_type": "markdown",
   "metadata": {},
   "source": [
    "#### Question 4.\n",
    "\n",
    "a) Construct a two-way table, with `PhysActive` as the row variable and `Diabetes` as the column variable. Among participants who are not physically active, what proportion have diabetes? What proportion of physically active participants have diabetes?"
   ]
  },
  {
   "cell_type": "markdown",
   "metadata": {},
   "source": [
    "b) In this context, relative risk is the ratio of the proportion of participants who have diabetes among those who are not physically active to the proportion of participants with diabetes among those physically active. Relative risks greater than 1 indicate that people who are not physically active seem to be at a higher risk for diabetes than physically active people. Calculate the relative risk of diabetes for the participants.\n",
    "\n",
    "From these calculations, is it possible to conclude that being physically active reduces one's chance of becoming diabetic?"
   ]
  }
 ],
 "metadata": {
  "kernelspec": {
   "display_name": "R",
   "language": "R",
   "name": "ir"
  },
  "language_info": {
   "codemirror_mode": "r",
   "file_extension": ".r",
   "mimetype": "text/x-r-source",
   "name": "R",
   "pygments_lexer": "r",
   "version": "3.4.3"
  }
 },
 "nbformat": 4,
 "nbformat_minor": 2
}
