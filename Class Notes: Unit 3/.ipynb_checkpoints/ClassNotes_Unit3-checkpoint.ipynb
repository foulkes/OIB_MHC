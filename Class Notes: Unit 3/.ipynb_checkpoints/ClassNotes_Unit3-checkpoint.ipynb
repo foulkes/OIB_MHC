{
 "cells": [
  {
   "cell_type": "markdown",
   "metadata": {},
   "source": [
    "## <span style=\"color:darkblue\"> Class Notes: Unit 3 (Random variables and distributions)\n",
    "\n",
    "*The content of this notebook is based on modified materials from Open Intro Biostatistics (OIBiostat)*\n"
   ]
  },
  {
   "cell_type": "markdown",
   "metadata": {},
   "source": [
    "----\n",
    "#### <span style=\"color:darkblue\">  A. Discrete random variables and their probability distribution\n",
    "\n",
    "A <span style=\"color:violet\">*probability distribution*<span style=\"color:black\"> is a table (often shown as a graph) of all disjoint outcomes and their associated probabilities.  \n",
    "\n",
    "Counting the number of *heads, X* in 4 tosses of a fair coin:\n",
    "\n",
    "<img style=\"float: center\", src=\"prob_4tosses.png\">\n",
    "\n",
    "\n",
    "If the variable $X$ records the number of heads, then $X$ is a random variable and the graph show its distribution."
   ]
  },
  {
   "cell_type": "markdown",
   "metadata": {},
   "source": [
    "A <span style=\"color:violet\">*random variable*<span style=\"color:black\"> assigns numerical values to the outcome of a random phenomenon, and is usually written with a capital letter such as $X$, $Y$, or $Z$. \n",
    "\n",
    "A <span style=\"color:violet\">*discrete random variable*<span style=\"color:black\"> takes on a finite number of values.\n",
    "\n",
    "Suppose $X$ is the number of heads in *3* tosses of a coin, instead of 4.\n",
    "\n",
    "\n",
    "<img style=\"float: center\", src=\"coinToss.png\">"
   ]
  },
  {
   "cell_type": "markdown",
   "metadata": {},
   "source": [
    "#### Distribution of discrete random variables\n",
    "\n",
    "The distribution of a discrete random variable is the collection of its values and the probabilities asssociated with those values.\n",
    "\n",
    "Usually recorded in a table and/or in a graph.\n",
    "\n",
    "|i|1|2|3|4|Total| \n",
    "|:--------:|--|--|--|--|:---------:| \n",
    "|$x_i$ | 0 | 1| 2 | 3 |  --| \n",
    "| $P(X = x_i)$ |  1/8|  3/8 |  3/8 |  1/8 |  8/8 = 1.00| \n",
    "\n",
    "\n",
    "**Bar graph showing a distribution**\n",
    "\n",
    "<img style=\"float: center\", src=\"barPlotCoinTossing.png\">"
   ]
  },
  {
   "cell_type": "markdown",
   "metadata": {},
   "source": [
    "#### Expectation of a random variable (Definition in OI Biostat, 2.3.2)\n",
    "\n",
    "If  the $X$ has outcomes $x_1$, ..., $x_k$ with probabilities $P(X=x_1)$, ..., $P(X=x_k)$, the <span style=\"color:violet\">*expected value*<span style=\"color:black\"> of $X$ is the sum of each outcome multiplied by its corresponding probability:\n",
    "\\begin{align}\n",
    "E(X) \t&= x_1 P(X=x_1) + \\cdots + x_k P(X=x_k) \\notag \\\\\n",
    "\t&= \\sum_{i=1}^{k}x_iP(X=x_i) \\notag\n",
    "\\end{align}\n",
    "The Greek letter $\\mu$ may be used in place of the notation $E(X)$ and is sometimes written $\\mu_X$.\n"
   ]
  },
  {
   "cell_type": "markdown",
   "metadata": {},
   "source": [
    "*Simple example:*\n",
    "\n",
    "Let $X$ be the number of heads in 3 tosses of a coin. Then\n",
    "\n",
    "\\begin{align*}\n",
    "E(X) &= 0P(X=0) + 1P(X=1) + 2P(X=2) + 3P(X = 3)  \\\\\n",
    "\t&= (0)(1/8) + (1)(3/8) + (2)(3/8) + (3)(1/8)  \\\\\n",
    "\t&= 12/8  \\\\\n",
    "\t&= 1.5 \n",
    "\\end{align*}\n"
   ]
  },
  {
   "cell_type": "markdown",
   "metadata": {},
   "source": [
    "#### Variance and SD of a random variable (OI Biostat 2.3.3)\n",
    "\n",
    "If $X$ takes on outcomes $x_1$, ..., $x_k$ with probabilities $P(X=x_1)$, ..., $P(X=x_k)$ and expected value $\\mu=E(X)$, then the <span style=\"color:violet\">*variance*<span style=\"color:black\"> of $X$, denoted by $\\text{Var}(X)$ or the symbol $\\sigma^2$, is\n",
    "\\begin{align}\n",
    "\\sigma^2 &= (x_1-\\mu)^2 P(X=x_1) + \\cdots \\notag \\\\\n",
    "\t& \\qquad\\quad\\cdots+ (x_k-\\mu)^2 P(X=x_k) \\notag \\\\\n",
    "\t&= \\sum_{j=1}^{k} (x_j - \\mu)^2 P(X=x_j) \\notag\n",
    "\\end{align}\n",
    "The <span style=\"color:violet\">*standard deviation (sd)*<span style=\"color:black\"> of $X$, labeled $\\sigma$, is the square root of the variance.  It is sometimes written $\\sigma_X$.\n"
   ]
  },
  {
   "cell_type": "markdown",
   "metadata": {},
   "source": [
    "*Example continued:* \n",
    "\n",
    "Let $X$ be the number of heads in 3 tosses of a coin. Then\n",
    "\n",
    "\\begin{align}\n",
    "    \\sigma_X^2 &= (x_1-\\mu)^2P(X=x_1) + \\cdots + (x_4-\\mu)^2 P(X=x_4) \\notag \\\\\n",
    "    \t&= (0- 1.5)^2(1/8) + (1 - 1.5)^2 (3/8) + (2 -1.5)^2 (3/8) + (3-1.5)^2 (1/8) \\notag  \\\\\n",
    "        &= 3/4 = 0.75. \\notag\n",
    "    \\end{align}\n",
    "    \n",
    "The standard deviation is $\\sqrt{3/4} = \\sqrt{3}/2 = 0.866$.  \n"
   ]
  },
  {
   "cell_type": "markdown",
   "metadata": {},
   "source": [
    "----\n",
    "#### Unit 3 In-class Exercise \n",
    "----"
   ]
  },
  {
   "cell_type": "markdown",
   "metadata": {},
   "source": [
    "----\n",
    "#### <span style=\"color:darkblue\"> B. Continuous Random variables and the normal distribution\n",
    "\n",
    "- Concept of <span style=\"color:violet\">*continuous distribution*<span style=\"color:black\">: the distribution for a variable that can take on all values in a specified range.\n",
    "\n",
    "- The <span style=\"color:violet\">*normal distribution*<span style=\"color:black\">, perhaps the most important continuous distribution in statistics.  \n"
   ]
  },
  {
   "cell_type": "markdown",
   "metadata": {},
   "source": [
    "#### Probabilities for continuous distributions\n",
    "\n",
    "Two important features of continuous distributions\n",
    "\n",
    "-  The total area under the density curve is 1\n",
    "\n",
    "-  The probability that a variable has a value within a specified interval is the area under the curve over that interval\n",
    "\n",
    "<img style=\"float: center\", src=\"fdicHeightContDistFilled.png\">\n"
   ]
  },
  {
   "cell_type": "markdown",
   "metadata": {},
   "source": [
    "#### Features of the normal distribution\n",
    "\n",
    "\n",
    "- 68% of the data are within 1 SD of the mean\n",
    "\n",
    "- 95% of the data are within 2 SDs of the mean\n",
    "\n",
    "- 99.7% of the data are within 3 SDs of the mean\n",
    "\n",
    "<img style=\"float: center\", src=\"A6895997.png\">"
   ]
  },
  {
   "cell_type": "markdown",
   "metadata": {},
   "source": [
    "#### A normal example\n",
    "\n",
    "The distribution of test scores on the SAT and the ACT are both nearly normal. \n",
    "\n",
    "Suppose that one student scores an 1800 on the SAT (Student A) and another student scores a 24 on the ACT (Student B). Which student performed better?\n",
    "\n",
    "<img style=\"float: center\", src=\"satActNormals.png\">\n"
   ]
  },
  {
   "cell_type": "markdown",
   "metadata": {},
   "source": [
    "\n",
    "- SAT scores are $N(1500, 300)$. ACT scores are $N(21,5)$.\n",
    "\n",
    "\n",
    "- $x_A$ represents the score of Student A; $x_B$ represents the score of Student B.  \n",
    "\n",
    "\n",
    "$$Z_{A} = \\frac{x_{A} - \\mu_{SAT}}{\\sigma_{SAT}} = \\frac{1800-1500}{300} = 1$$\n",
    "\n",
    "\n",
    "$$Z_{B} = \\frac{x_{B} - \\mu_{ACT}}{\\sigma_{ACT}} = \\frac{24 - 21}{5} = 0.6$$\n"
   ]
  },
  {
   "cell_type": "markdown",
   "metadata": {},
   "source": [
    "#### Calculating normal probabilities (example 1)\n",
    "\n",
    "What is the percentile rank for a student who scores an 1800 on the SAT for a year in which the scores are $N(1500, 300)$?\n",
    "\n",
    "a) Calculate a $Z$-score. If $X$ is a normal random variable with mean $\\mu$ and standard deviation $\\sigma$, \n",
    "\n",
    "$$\n",
    "Z = \\frac{X - \\mu}{\\sigma} \n",
    "$$ \n",
    "is a standard normal (mean $\\mu = 0$, standard deviation $\\sigma =1$). \n",
    "\n",
    "b) Calculate the normal probability. \n",
    "\n",
    "- `pnorm(z)` calculates the area (i.e., probability) to the left of $z$"
   ]
  },
  {
   "cell_type": "code",
   "execution_count": 1,
   "metadata": {},
   "outputs": [
    {
     "data": {
      "text/html": [
       "0.841344746068543"
      ],
      "text/latex": [
       "0.841344746068543"
      ],
      "text/markdown": [
       "0.841344746068543"
      ],
      "text/plain": [
       "[1] 0.8413447"
      ]
     },
     "metadata": {},
     "output_type": "display_data"
    }
   ],
   "source": [
    "pnorm(1)"
   ]
  },
  {
   "cell_type": "markdown",
   "metadata": {},
   "source": [
    "#### Calculating normal probabilities (example 2)\n",
    "\n",
    "What score on the SAT would put a student in the 99$^{th}$ percentile?\n",
    "\n",
    "a) Identify the $Z$-value. `qnorm(p)` calculates the value $z$ such that for a standard normal variable $Z$, $p = P(Z \\leq z)$."
   ]
  },
  {
   "cell_type": "code",
   "execution_count": 2,
   "metadata": {},
   "outputs": [
    {
     "data": {
      "text/html": [
       "2.32634787404084"
      ],
      "text/latex": [
       "2.32634787404084"
      ],
      "text/markdown": [
       "2.32634787404084"
      ],
      "text/plain": [
       "[1] 2.326348"
      ]
     },
     "metadata": {},
     "output_type": "display_data"
    }
   ],
   "source": [
    "qnorm(0.99)"
   ]
  },
  {
   "cell_type": "markdown",
   "metadata": {},
   "source": [
    "b) Calculate the score, $X$. If $Z$ is standard Normal distribution, \n",
    "$$\n",
    "X = \\sigma Z + \\mu\n",
    "$$\n",
    "\n",
    "is Normal with mean $\\mu$ and standard deviation $\\sigma$.\n",
    "\n",
    "\\begin{align*}\n",
    "X =& \\sigma Z + \\mu \\\\\n",
    "=& 300(2.33) + 1500 \\\\\n",
    "=& 2199\n",
    "\\end{align*}\n",
    "\n"
   ]
  }
 ],
 "metadata": {
  "kernelspec": {
   "display_name": "R",
   "language": "R",
   "name": "ir"
  },
  "language_info": {
   "codemirror_mode": "r",
   "file_extension": ".r",
   "mimetype": "text/x-r-source",
   "name": "R",
   "pygments_lexer": "r",
   "version": "3.4.3"
  }
 },
 "nbformat": 4,
 "nbformat_minor": 2
}
